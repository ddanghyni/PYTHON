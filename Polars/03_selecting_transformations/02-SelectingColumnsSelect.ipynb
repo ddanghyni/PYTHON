{
 "cells": [
  {
   "cell_type": "markdown",
   "id": "b06a7473-8d52-4c0d-b469-37add3272a53",
   "metadata": {},
   "source": [
    "# Selecting columns 2: using `select` and expressions\n",
    "By the end of this lecture you will be able to:\n",
    "- select a column or columns with `select`\n",
    "- transform a column while selecting it\n",
    "- select a column in lazy mode\n",
    "\n",
    "Selecting columns with expressions is key to performant analysis as:\n",
    "- this approach works in lazy mode\n",
    "- when we select and transform multiple columns Polars will run these selections in paralell\n",
    "\n",
    "We introduce the range of methods we can use to select columns with an expression in this lecture."
   ]
  },
  {
   "cell_type": "code",
   "id": "9fd758ec-0727-4c1e-87ae-04fd47b267b6",
   "metadata": {
    "tags": [],
    "ExecuteTime": {
     "end_time": "2025-03-31T01:52:10.703172Z",
     "start_time": "2025-03-31T01:52:10.663417Z"
    }
   },
   "source": [
    "import polars as pl"
   ],
   "outputs": [],
   "execution_count": 1
  },
  {
   "cell_type": "code",
   "id": "43c1d48b-a1cc-4374-bfd5-83817c491923",
   "metadata": {
    "tags": [],
    "ExecuteTime": {
     "end_time": "2025-03-31T01:52:10.818308Z",
     "start_time": "2025-03-31T01:52:10.816571Z"
    }
   },
   "source": [
    "csv_file = \"../data/titanic.csv\""
   ],
   "outputs": [],
   "execution_count": 2
  },
  {
   "cell_type": "code",
   "id": "23ec4b89-5819-4654-a3c8-d43a7a7b31fd",
   "metadata": {
    "tags": [],
    "ExecuteTime": {
     "end_time": "2025-03-31T01:52:11.442859Z",
     "start_time": "2025-03-31T01:52:11.427882Z"
    }
   },
   "source": [
    "df = pl.read_csv(csv_file)\n",
    "df.head(3)"
   ],
   "outputs": [
    {
     "data": {
      "text/plain": [
       "shape: (3, 12)\n",
       "┌─────────────┬──────────┬────────┬───────────────────┬───┬───────────┬─────────┬───────┬──────────┐\n",
       "│ PassengerId ┆ Survived ┆ Pclass ┆ Name              ┆ … ┆ Ticket    ┆ Fare    ┆ Cabin ┆ Embarked │\n",
       "│ ---         ┆ ---      ┆ ---    ┆ ---               ┆   ┆ ---       ┆ ---     ┆ ---   ┆ ---      │\n",
       "│ i64         ┆ i64      ┆ i64    ┆ str               ┆   ┆ str       ┆ f64     ┆ str   ┆ str      │\n",
       "╞═════════════╪══════════╪════════╪═══════════════════╪═══╪═══════════╪═════════╪═══════╪══════════╡\n",
       "│ 1           ┆ 0        ┆ 3      ┆ Braund, Mr. Owen  ┆ … ┆ A/5 21171 ┆ 7.25    ┆ null  ┆ S        │\n",
       "│             ┆          ┆        ┆ Harris            ┆   ┆           ┆         ┆       ┆          │\n",
       "│ 2           ┆ 1        ┆ 1      ┆ Cumings, Mrs.     ┆ … ┆ PC 17599  ┆ 71.2833 ┆ C85   ┆ C        │\n",
       "│             ┆          ┆        ┆ John Bradley (Fl… ┆   ┆           ┆         ┆       ┆          │\n",
       "│ 3           ┆ 1        ┆ 3      ┆ Heikkinen, Miss.  ┆ … ┆ STON/O2.  ┆ 7.925   ┆ null  ┆ S        │\n",
       "│             ┆          ┆        ┆ Laina             ┆   ┆ 3101282   ┆         ┆       ┆          │\n",
       "└─────────────┴──────────┴────────┴───────────────────┴───┴───────────┴─────────┴───────┴──────────┘"
      ],
      "text/html": [
       "<div><style>\n",
       ".dataframe > thead > tr,\n",
       ".dataframe > tbody > tr {\n",
       "  text-align: right;\n",
       "  white-space: pre-wrap;\n",
       "}\n",
       "</style>\n",
       "<small>shape: (3, 12)</small><table border=\"1\" class=\"dataframe\"><thead><tr><th>PassengerId</th><th>Survived</th><th>Pclass</th><th>Name</th><th>Sex</th><th>Age</th><th>SibSp</th><th>Parch</th><th>Ticket</th><th>Fare</th><th>Cabin</th><th>Embarked</th></tr><tr><td>i64</td><td>i64</td><td>i64</td><td>str</td><td>str</td><td>f64</td><td>i64</td><td>i64</td><td>str</td><td>f64</td><td>str</td><td>str</td></tr></thead><tbody><tr><td>1</td><td>0</td><td>3</td><td>&quot;Braund, Mr. Owen Harris&quot;</td><td>&quot;male&quot;</td><td>22.0</td><td>1</td><td>0</td><td>&quot;A/5 21171&quot;</td><td>7.25</td><td>null</td><td>&quot;S&quot;</td></tr><tr><td>2</td><td>1</td><td>1</td><td>&quot;Cumings, Mrs. John Bradley (Fl…</td><td>&quot;female&quot;</td><td>38.0</td><td>1</td><td>0</td><td>&quot;PC 17599&quot;</td><td>71.2833</td><td>&quot;C85&quot;</td><td>&quot;C&quot;</td></tr><tr><td>3</td><td>1</td><td>3</td><td>&quot;Heikkinen, Miss. Laina&quot;</td><td>&quot;female&quot;</td><td>26.0</td><td>0</td><td>0</td><td>&quot;STON/O2. 3101282&quot;</td><td>7.925</td><td>null</td><td>&quot;S&quot;</td></tr></tbody></table></div>"
      ]
     },
     "execution_count": 3,
     "metadata": {},
     "output_type": "execute_result"
    }
   ],
   "execution_count": 3
  },
  {
   "cell_type": "markdown",
   "id": "c7ee8c91-cfd2-42a4-8c15-cc0e6a2215f7",
   "metadata": {},
   "source": [
    "## Selecting a single column with a string\n",
    "\n",
    "We can choose a column with a string in the `select` method"
   ]
  },
  {
   "metadata": {
    "ExecuteTime": {
     "end_time": "2025-03-31T01:45:11.895581Z",
     "start_time": "2025-03-31T01:45:11.893449Z"
    }
   },
   "cell_type": "code",
   "source": [
    "(\n",
    "    df\n",
    "    .select('Age', 'Survived')\n",
    "    .head(3)\n",
    ")"
   ],
   "id": "40477099ac8fe332",
   "outputs": [
    {
     "data": {
      "text/plain": [
       "shape: (3, 2)\n",
       "┌──────┬──────────┐\n",
       "│ Age  ┆ Survived │\n",
       "│ ---  ┆ ---      │\n",
       "│ f64  ┆ i64      │\n",
       "╞══════╪══════════╡\n",
       "│ 22.0 ┆ 0        │\n",
       "│ 38.0 ┆ 1        │\n",
       "│ 26.0 ┆ 1        │\n",
       "└──────┴──────────┘"
      ],
      "text/html": [
       "<div><style>\n",
       ".dataframe > thead > tr,\n",
       ".dataframe > tbody > tr {\n",
       "  text-align: right;\n",
       "  white-space: pre-wrap;\n",
       "}\n",
       "</style>\n",
       "<small>shape: (3, 2)</small><table border=\"1\" class=\"dataframe\"><thead><tr><th>Age</th><th>Survived</th></tr><tr><td>f64</td><td>i64</td></tr></thead><tbody><tr><td>22.0</td><td>0</td></tr><tr><td>38.0</td><td>1</td></tr><tr><td>26.0</td><td>1</td></tr></tbody></table></div>"
      ]
     },
     "execution_count": 6,
     "metadata": {},
     "output_type": "execute_result"
    }
   ],
   "execution_count": 6
  },
  {
   "cell_type": "markdown",
   "id": "7db8249f-f94e-4df1-9499-c3a65ce8fae4",
   "metadata": {},
   "source": [
    "Note that the output of `select` is always a `DataFrame` rather than a `Series` even if just one column is selected.\n",
    "\n",
    "We can use `to_series` if we want a `Series`"
   ]
  },
  {
   "cell_type": "code",
   "id": "cd98da7a-c935-42b0-a636-1cf2126c9be0",
   "metadata": {
    "tags": [],
    "ExecuteTime": {
     "end_time": "2025-03-31T01:45:37.806101Z",
     "start_time": "2025-03-31T01:45:37.803842Z"
    }
   },
   "source": [
    "(\n",
    "    df\n",
    "    .select('Age')\n",
    "    .to_series()\n",
    "    .head(3)\n",
    ")"
   ],
   "outputs": [
    {
     "data": {
      "text/plain": [
       "shape: (3,)\n",
       "Series: 'Age' [f64]\n",
       "[\n",
       "\t22.0\n",
       "\t38.0\n",
       "\t26.0\n",
       "]"
      ],
      "text/html": [
       "<div><style>\n",
       ".dataframe > thead > tr,\n",
       ".dataframe > tbody > tr {\n",
       "  text-align: right;\n",
       "  white-space: pre-wrap;\n",
       "}\n",
       "</style>\n",
       "<small>shape: (3,)</small><table border=\"1\" class=\"dataframe\"><thead><tr><th>Age</th></tr><tr><td>f64</td></tr></thead><tbody><tr><td>22.0</td></tr><tr><td>38.0</td></tr><tr><td>26.0</td></tr></tbody></table></div>"
      ]
     },
     "execution_count": 9,
     "metadata": {},
     "output_type": "execute_result"
    }
   ],
   "execution_count": 9
  },
  {
   "cell_type": "markdown",
   "id": "fc5463aa-8688-4940-b730-b243b7ebcf4f",
   "metadata": {},
   "source": [
    "### Selecting multiple columns\n",
    "\n",
    "We can select multiple columns with comma-separated strings"
   ]
  },
  {
   "cell_type": "code",
   "execution_count": null,
   "id": "ff9cce04-385e-49c8-8aa5-8a7a2f0e83a3",
   "metadata": {
    "tags": []
   },
   "outputs": [],
   "source": [
    "(\n",
    "    df\n",
    "    .select(\n",
    "        'Survived','Age'\n",
    "    )\n",
    "    .head(3)\n",
    ")"
   ]
  },
  {
   "cell_type": "markdown",
   "id": "31645f89-a8c9-4321-829f-375b9937448a",
   "metadata": {},
   "source": [
    "Or we can pass a list of column names to `select`"
   ]
  },
  {
   "cell_type": "code",
   "execution_count": null,
   "id": "ada2519b-2869-4ac1-991d-fc78849f9f38",
   "metadata": {
    "tags": []
   },
   "outputs": [],
   "source": [
    "(\n",
    "    df\n",
    "    .select(\n",
    "        ['Survived','Age']\n",
    "    )\n",
    "    .head(3)\n",
    ")"
   ]
  },
  {
   "cell_type": "markdown",
   "id": "69ad6126-5f26-48af-ba4f-9369b87bcc56",
   "metadata": {},
   "source": [
    "There is no performance difference between using comma-separated column names or a list of column names."
   ]
  },
  {
   "cell_type": "markdown",
   "id": "c57752da-a1df-4b29-852f-e6cd8ff49f67",
   "metadata": {},
   "source": [
    "## Differences between using `select` and `[]`\n",
    "\n",
    "- `[]` indexing can only be used in eager mode, but **`select` can also be used in lazy mode**\n",
    "- expressions in `select` can be **optimised** in lazy mode by the query optimiser\n",
    "- multiple expressions in `select` can be run in *parallel*\n",
    "\n",
    "Get in the habit of using `select` as your default"
   ]
  },
  {
   "cell_type": "markdown",
   "id": "040099aa-a68d-48b9-885a-60f811315a4c",
   "metadata": {},
   "source": [
    "## Selecting columns with an expression\n",
    "\n",
    "We can select a column with an expression in the `select` method"
   ]
  },
  {
   "cell_type": "code",
   "id": "087f185a-a348-470a-9440-35c0a3350d58",
   "metadata": {
    "tags": [],
    "ExecuteTime": {
     "end_time": "2025-03-31T01:46:06.846061Z",
     "start_time": "2025-03-31T01:46:06.843420Z"
    }
   },
   "source": [
    "(\n",
    "    df\n",
    "    .select(\n",
    "        pl.col('Age', 'Survived')\n",
    "    )\n",
    "    .head(3)\n",
    ")"
   ],
   "outputs": [
    {
     "data": {
      "text/plain": [
       "shape: (3, 2)\n",
       "┌──────┬──────────┐\n",
       "│ Age  ┆ Survived │\n",
       "│ ---  ┆ ---      │\n",
       "│ f64  ┆ i64      │\n",
       "╞══════╪══════════╡\n",
       "│ 22.0 ┆ 0        │\n",
       "│ 38.0 ┆ 1        │\n",
       "│ 26.0 ┆ 1        │\n",
       "└──────┴──────────┘"
      ],
      "text/html": [
       "<div><style>\n",
       ".dataframe > thead > tr,\n",
       ".dataframe > tbody > tr {\n",
       "  text-align: right;\n",
       "  white-space: pre-wrap;\n",
       "}\n",
       "</style>\n",
       "<small>shape: (3, 2)</small><table border=\"1\" class=\"dataframe\"><thead><tr><th>Age</th><th>Survived</th></tr><tr><td>f64</td><td>i64</td></tr></thead><tbody><tr><td>22.0</td><td>0</td></tr><tr><td>38.0</td><td>1</td></tr><tr><td>26.0</td><td>1</td></tr></tbody></table></div>"
      ]
     },
     "execution_count": 10,
     "metadata": {},
     "output_type": "execute_result"
    }
   ],
   "execution_count": 10
  },
  {
   "cell_type": "markdown",
   "id": "58f5a243-65c7-4164-bd58-fe3abf41bfe8",
   "metadata": {},
   "source": [
    "In practice when we pass a string instead of an expression (as above) polars uses that string to create an expression internally."
   ]
  },
  {
   "cell_type": "markdown",
   "id": "be9923ea-8410-4f04-aa62-bdd865b0156c",
   "metadata": {},
   "source": [
    "## Selecting and transforming a column with an expression\n",
    "We can apply a transformation to a column before we output it.\n",
    "\n",
    "In this example we use the `round` expression to round the values of the `Fare` column"
   ]
  },
  {
   "cell_type": "code",
   "execution_count": null,
   "id": "c8ee3aa2-c2d9-4dc5-85da-9d3f419ebd68",
   "metadata": {
    "tags": []
   },
   "outputs": [],
   "source": [
    "(\n",
    "    df\n",
    "    .select(\n",
    "        pl.col('Fare').round(0)\n",
    "    )\n",
    "    .head(3)\n",
    ")"
   ]
  },
  {
   "metadata": {
    "ExecuteTime": {
     "end_time": "2025-03-31T01:48:01.667284Z",
     "start_time": "2025-03-31T01:48:01.654466Z"
    }
   },
   "cell_type": "code",
   "source": [
    "(\n",
    "    df\n",
    "    .select(\n",
    "        pl.col('Fare').round(0).alias('roundedFare')\n",
    "    )\n",
    "    .head(3)\n",
    ")"
   ],
   "id": "16c475c287530e48",
   "outputs": [
    {
     "data": {
      "text/plain": [
       "shape: (3, 1)\n",
       "┌─────────────┐\n",
       "│ roundedFare │\n",
       "│ ---         │\n",
       "│ f64         │\n",
       "╞═════════════╡\n",
       "│ 7.0         │\n",
       "│ 71.0        │\n",
       "│ 8.0         │\n",
       "└─────────────┘"
      ],
      "text/html": [
       "<div><style>\n",
       ".dataframe > thead > tr,\n",
       ".dataframe > tbody > tr {\n",
       "  text-align: right;\n",
       "  white-space: pre-wrap;\n",
       "}\n",
       "</style>\n",
       "<small>shape: (3, 1)</small><table border=\"1\" class=\"dataframe\"><thead><tr><th>roundedFare</th></tr><tr><td>f64</td></tr></thead><tbody><tr><td>7.0</td></tr><tr><td>71.0</td></tr><tr><td>8.0</td></tr></tbody></table></div>"
      ]
     },
     "execution_count": 11,
     "metadata": {},
     "output_type": "execute_result"
    }
   ],
   "execution_count": 11
  },
  {
   "cell_type": "markdown",
   "id": "57b25bfb-853a-4845-8786-bd9a5c33ecca",
   "metadata": {},
   "source": [
    "We will see many more examples where we use expressions to transform data as we go through the course."
   ]
  },
  {
   "cell_type": "markdown",
   "id": "e7c2106f-d021-4bed-8b84-d41cafef0fa3",
   "metadata": {},
   "source": [
    "### Selecting multiple columns with a list of expressions\n",
    "\n",
    "We can also pass multiple expressions seperated by commas or in a `list`. \n",
    "\n",
    "In this case we use the `alias` expression to change the name of one column in the output"
   ]
  },
  {
   "cell_type": "code",
   "execution_count": null,
   "id": "c7a3c61c-d875-4a52-8609-6a7eeb50f64b",
   "metadata": {
    "tags": []
   },
   "outputs": [],
   "source": [
    "(\n",
    "    df\n",
    "    .select(\n",
    "        pl.col('Fare'),\n",
    "        pl.col('Fare').round(0).alias('roundedFare')\n",
    "    )\n",
    "    .head(3)\n",
    ")"
   ]
  },
  {
   "cell_type": "markdown",
   "id": "d2fa6106-a93c-4bbf-8ecb-3d27784cd2ce",
   "metadata": {},
   "source": [
    "Recall that when you have multiple expressions Polars runs them in parallel."
   ]
  },
  {
   "cell_type": "markdown",
   "id": "b7bf5c91-90f5-4282-b218-1d74dbff59b1",
   "metadata": {},
   "source": [
    "## Returning a single value\n",
    "If you have a `DataFrame` with a single value - that is a `DataFrame` with shape `[1,1]` you can\n",
    "return that value with square brackets or the `item` method"
   ]
  },
  {
   "cell_type": "code",
   "id": "d9aad62d-1371-4d89-a87c-7ce4c2e14f7e",
   "metadata": {
    "tags": [],
    "ExecuteTime": {
     "end_time": "2025-03-31T01:52:25.452718Z",
     "start_time": "2025-03-31T01:52:25.447713Z"
    }
   },
   "source": [
    "(\n",
    "    pl.read_csv(csv_file)\n",
    "    .select(\n",
    "        pl.col('Name').first()\n",
    "    )\n",
    "    .item()\n",
    ")"
   ],
   "outputs": [
    {
     "data": {
      "text/plain": [
       "'Braund, Mr. Owen Harris'"
      ]
     },
     "execution_count": 4,
     "metadata": {},
     "output_type": "execute_result"
    }
   ],
   "execution_count": 4
  },
  {
   "metadata": {
    "ExecuteTime": {
     "end_time": "2025-03-31T01:54:27.039912Z",
     "start_time": "2025-03-31T01:54:27.035232Z"
    }
   },
   "cell_type": "code",
   "source": [
    "(\n",
    "    pl.read_csv(csv_file)\n",
    "    .select(\n",
    "        pl.col('Name')\n",
    "    )\n",
    "    .to_series()\n",
    "    .to_list()\n",
    ")\n"
   ],
   "id": "3756faa0515a9a2e",
   "outputs": [
    {
     "data": {
      "text/plain": [
       "['Braund, Mr. Owen Harris',\n",
       " 'Cumings, Mrs. John Bradley (Florence Briggs Thayer)',\n",
       " 'Heikkinen, Miss. Laina',\n",
       " 'Futrelle, Mrs. Jacques Heath (Lily May Peel)',\n",
       " 'Allen, Mr. William Henry',\n",
       " 'Moran, Mr. James',\n",
       " 'McCarthy, Mr. Timothy J',\n",
       " 'Palsson, Master. Gosta Leonard',\n",
       " 'Johnson, Mrs. Oscar W (Elisabeth Vilhelmina Berg)',\n",
       " 'Nasser, Mrs. Nicholas (Adele Achem)',\n",
       " 'Sandstrom, Miss. Marguerite Rut',\n",
       " 'Bonnell, Miss. Elizabeth',\n",
       " 'Saundercock, Mr. William Henry',\n",
       " 'Andersson, Mr. Anders Johan',\n",
       " 'Vestrom, Miss. Hulda Amanda Adolfina',\n",
       " 'Hewlett, Mrs. (Mary D Kingcome) ',\n",
       " 'Rice, Master. Eugene',\n",
       " 'Williams, Mr. Charles Eugene',\n",
       " 'Vander Planke, Mrs. Julius (Emelia Maria Vandemoortele)',\n",
       " 'Masselmani, Mrs. Fatima',\n",
       " 'Fynney, Mr. Joseph J',\n",
       " 'Beesley, Mr. Lawrence',\n",
       " 'McGowan, Miss. Anna \"Annie\"',\n",
       " 'Sloper, Mr. William Thompson',\n",
       " 'Palsson, Miss. Torborg Danira',\n",
       " 'Asplund, Mrs. Carl Oscar (Selma Augusta Emilia Johansson)',\n",
       " 'Emir, Mr. Farred Chehab',\n",
       " 'Fortune, Mr. Charles Alexander',\n",
       " 'O\\'Dwyer, Miss. Ellen \"Nellie\"',\n",
       " 'Todoroff, Mr. Lalio',\n",
       " 'Uruchurtu, Don. Manuel E',\n",
       " 'Spencer, Mrs. William Augustus (Marie Eugenie)',\n",
       " 'Glynn, Miss. Mary Agatha',\n",
       " 'Wheadon, Mr. Edward H',\n",
       " 'Meyer, Mr. Edgar Joseph',\n",
       " 'Holverson, Mr. Alexander Oskar',\n",
       " 'Mamee, Mr. Hanna',\n",
       " 'Cann, Mr. Ernest Charles',\n",
       " 'Vander Planke, Miss. Augusta Maria',\n",
       " 'Nicola-Yarred, Miss. Jamila',\n",
       " 'Ahlin, Mrs. Johan (Johanna Persdotter Larsson)',\n",
       " 'Turpin, Mrs. William John Robert (Dorothy Ann Wonnacott)',\n",
       " 'Kraeff, Mr. Theodor',\n",
       " 'Laroche, Miss. Simonne Marie Anne Andree',\n",
       " 'Devaney, Miss. Margaret Delia',\n",
       " 'Rogers, Mr. William John',\n",
       " 'Lennon, Mr. Denis',\n",
       " \"O'Driscoll, Miss. Bridget\",\n",
       " 'Samaan, Mr. Youssef',\n",
       " 'Arnold-Franchi, Mrs. Josef (Josefine Franchi)',\n",
       " 'Panula, Master. Juha Niilo',\n",
       " 'Nosworthy, Mr. Richard Cater',\n",
       " 'Harper, Mrs. Henry Sleeper (Myna Haxtun)',\n",
       " 'Faunthorpe, Mrs. Lizzie (Elizabeth Anne Wilkinson)',\n",
       " 'Ostby, Mr. Engelhart Cornelius',\n",
       " 'Woolner, Mr. Hugh',\n",
       " 'Rugg, Miss. Emily',\n",
       " 'Novel, Mr. Mansouer',\n",
       " 'West, Miss. Constance Mirium',\n",
       " 'Goodwin, Master. William Frederick',\n",
       " 'Sirayanian, Mr. Orsen',\n",
       " 'Icard, Miss. Amelie',\n",
       " 'Harris, Mr. Henry Birkhardt',\n",
       " 'Skoog, Master. Harald',\n",
       " 'Stewart, Mr. Albert A',\n",
       " 'Moubarek, Master. Gerios',\n",
       " 'Nye, Mrs. (Elizabeth Ramell)',\n",
       " 'Crease, Mr. Ernest James',\n",
       " 'Andersson, Miss. Erna Alexandra',\n",
       " 'Kink, Mr. Vincenz',\n",
       " 'Jenkin, Mr. Stephen Curnow',\n",
       " 'Goodwin, Miss. Lillian Amy',\n",
       " 'Hood, Mr. Ambrose Jr',\n",
       " 'Chronopoulos, Mr. Apostolos',\n",
       " 'Bing, Mr. Lee',\n",
       " 'Moen, Mr. Sigurd Hansen',\n",
       " 'Staneff, Mr. Ivan',\n",
       " 'Moutal, Mr. Rahamin Haim',\n",
       " 'Caldwell, Master. Alden Gates',\n",
       " 'Dowdell, Miss. Elizabeth',\n",
       " 'Waelens, Mr. Achille',\n",
       " 'Sheerlinck, Mr. Jan Baptist',\n",
       " 'McDermott, Miss. Brigdet Delia',\n",
       " 'Carrau, Mr. Francisco M',\n",
       " 'Ilett, Miss. Bertha',\n",
       " 'Backstrom, Mrs. Karl Alfred (Maria Mathilda Gustafsson)',\n",
       " 'Ford, Mr. William Neal',\n",
       " 'Slocovski, Mr. Selman Francis',\n",
       " 'Fortune, Miss. Mabel Helen',\n",
       " 'Celotti, Mr. Francesco',\n",
       " 'Christmann, Mr. Emil',\n",
       " 'Andreasson, Mr. Paul Edvin',\n",
       " 'Chaffee, Mr. Herbert Fuller',\n",
       " 'Dean, Mr. Bertram Frank',\n",
       " 'Coxon, Mr. Daniel',\n",
       " 'Shorney, Mr. Charles Joseph',\n",
       " 'Goldschmidt, Mr. George B',\n",
       " 'Greenfield, Mr. William Bertram',\n",
       " 'Doling, Mrs. John T (Ada Julia Bone)',\n",
       " 'Kantor, Mr. Sinai',\n",
       " 'Petranec, Miss. Matilda',\n",
       " 'Petroff, Mr. Pastcho (\"Pentcho\")',\n",
       " 'White, Mr. Richard Frasar',\n",
       " 'Johansson, Mr. Gustaf Joel',\n",
       " 'Gustafsson, Mr. Anders Vilhelm',\n",
       " 'Mionoff, Mr. Stoytcho',\n",
       " 'Salkjelsvik, Miss. Anna Kristine',\n",
       " 'Moss, Mr. Albert Johan',\n",
       " 'Rekic, Mr. Tido',\n",
       " 'Moran, Miss. Bertha',\n",
       " 'Porter, Mr. Walter Chamberlain',\n",
       " 'Zabour, Miss. Hileni',\n",
       " 'Barton, Mr. David John',\n",
       " 'Jussila, Miss. Katriina',\n",
       " 'Attalah, Miss. Malake',\n",
       " 'Pekoniemi, Mr. Edvard',\n",
       " 'Connors, Mr. Patrick',\n",
       " 'Turpin, Mr. William John Robert',\n",
       " 'Baxter, Mr. Quigg Edmond',\n",
       " 'Andersson, Miss. Ellis Anna Maria',\n",
       " 'Hickman, Mr. Stanley George',\n",
       " 'Moore, Mr. Leonard Charles',\n",
       " 'Nasser, Mr. Nicholas',\n",
       " 'Webber, Miss. Susan',\n",
       " 'White, Mr. Percival Wayland',\n",
       " 'Nicola-Yarred, Master. Elias',\n",
       " 'McMahon, Mr. Martin',\n",
       " 'Madsen, Mr. Fridtjof Arne',\n",
       " 'Peter, Miss. Anna',\n",
       " 'Ekstrom, Mr. Johan',\n",
       " 'Drazenoic, Mr. Jozef',\n",
       " 'Coelho, Mr. Domingos Fernandeo',\n",
       " 'Robins, Mrs. Alexander A (Grace Charity Laury)',\n",
       " 'Weisz, Mrs. Leopold (Mathilde Francoise Pede)',\n",
       " 'Sobey, Mr. Samuel James Hayden',\n",
       " 'Richard, Mr. Emile',\n",
       " 'Newsom, Miss. Helen Monypeny',\n",
       " 'Futrelle, Mr. Jacques Heath',\n",
       " 'Osen, Mr. Olaf Elon',\n",
       " 'Giglio, Mr. Victor',\n",
       " 'Boulos, Mrs. Joseph (Sultana)',\n",
       " 'Nysten, Miss. Anna Sofia',\n",
       " 'Hakkarainen, Mrs. Pekka Pietari (Elin Matilda Dolck)',\n",
       " 'Burke, Mr. Jeremiah',\n",
       " 'Andrew, Mr. Edgardo Samuel',\n",
       " 'Nicholls, Mr. Joseph Charles',\n",
       " 'Andersson, Mr. August Edvard (\"Wennerstrom\")',\n",
       " 'Ford, Miss. Robina Maggie \"Ruby\"',\n",
       " 'Navratil, Mr. Michel (\"Louis M Hoffman\")',\n",
       " 'Byles, Rev. Thomas Roussel Davids',\n",
       " 'Bateman, Rev. Robert James',\n",
       " 'Pears, Mrs. Thomas (Edith Wearne)',\n",
       " 'Meo, Mr. Alfonzo',\n",
       " 'van Billiard, Mr. Austin Blyler',\n",
       " 'Olsen, Mr. Ole Martin',\n",
       " 'Williams, Mr. Charles Duane',\n",
       " 'Gilnagh, Miss. Katherine \"Katie\"',\n",
       " 'Corn, Mr. Harry',\n",
       " 'Smiljanic, Mr. Mile',\n",
       " 'Sage, Master. Thomas Henry',\n",
       " 'Cribb, Mr. John Hatfield',\n",
       " 'Watt, Mrs. James (Elizabeth \"Bessie\" Inglis Milne)',\n",
       " 'Bengtsson, Mr. John Viktor',\n",
       " 'Calic, Mr. Jovo',\n",
       " 'Panula, Master. Eino Viljami',\n",
       " 'Goldsmith, Master. Frank John William \"Frankie\"',\n",
       " 'Chibnall, Mrs. (Edith Martha Bowerman)',\n",
       " 'Skoog, Mrs. William (Anna Bernhardina Karlsson)',\n",
       " 'Baumann, Mr. John D',\n",
       " 'Ling, Mr. Lee',\n",
       " 'Van der hoef, Mr. Wyckoff',\n",
       " 'Rice, Master. Arthur',\n",
       " 'Johnson, Miss. Eleanor Ileen',\n",
       " 'Sivola, Mr. Antti Wilhelm',\n",
       " 'Smith, Mr. James Clinch',\n",
       " 'Klasen, Mr. Klas Albin',\n",
       " 'Lefebre, Master. Henry Forbes',\n",
       " 'Isham, Miss. Ann Elizabeth',\n",
       " 'Hale, Mr. Reginald',\n",
       " 'Leonard, Mr. Lionel',\n",
       " 'Sage, Miss. Constance Gladys',\n",
       " 'Pernot, Mr. Rene',\n",
       " 'Asplund, Master. Clarence Gustaf Hugo',\n",
       " 'Becker, Master. Richard F',\n",
       " 'Kink-Heilmann, Miss. Luise Gretchen',\n",
       " 'Rood, Mr. Hugh Roscoe',\n",
       " 'O\\'Brien, Mrs. Thomas (Johanna \"Hannah\" Godfrey)',\n",
       " 'Romaine, Mr. Charles Hallace (\"Mr C Rolmane\")',\n",
       " 'Bourke, Mr. John',\n",
       " 'Turcin, Mr. Stjepan',\n",
       " 'Pinsky, Mrs. (Rosa)',\n",
       " 'Carbines, Mr. William',\n",
       " 'Andersen-Jensen, Miss. Carla Christine Nielsine',\n",
       " 'Navratil, Master. Michel M',\n",
       " 'Brown, Mrs. James Joseph (Margaret Tobin)',\n",
       " 'Lurette, Miss. Elise',\n",
       " 'Mernagh, Mr. Robert',\n",
       " 'Olsen, Mr. Karl Siegwart Andreas',\n",
       " 'Madigan, Miss. Margaret \"Maggie\"',\n",
       " 'Yrois, Miss. Henriette (\"Mrs Harbeck\")',\n",
       " 'Vande Walle, Mr. Nestor Cyriel',\n",
       " 'Sage, Mr. Frederick',\n",
       " 'Johanson, Mr. Jakob Alfred',\n",
       " 'Youseff, Mr. Gerious',\n",
       " 'Cohen, Mr. Gurshon \"Gus\"',\n",
       " 'Strom, Miss. Telma Matilda',\n",
       " 'Backstrom, Mr. Karl Alfred',\n",
       " 'Albimona, Mr. Nassef Cassem',\n",
       " 'Carr, Miss. Helen \"Ellen\"',\n",
       " 'Blank, Mr. Henry',\n",
       " 'Ali, Mr. Ahmed',\n",
       " 'Cameron, Miss. Clear Annie',\n",
       " 'Perkin, Mr. John Henry',\n",
       " 'Givard, Mr. Hans Kristensen',\n",
       " 'Kiernan, Mr. Philip',\n",
       " 'Newell, Miss. Madeleine',\n",
       " 'Honkanen, Miss. Eliina',\n",
       " 'Jacobsohn, Mr. Sidney Samuel',\n",
       " 'Bazzani, Miss. Albina',\n",
       " 'Harris, Mr. Walter',\n",
       " 'Sunderland, Mr. Victor Francis',\n",
       " 'Bracken, Mr. James H',\n",
       " 'Green, Mr. George Henry',\n",
       " 'Nenkoff, Mr. Christo',\n",
       " 'Hoyt, Mr. Frederick Maxfield',\n",
       " 'Berglund, Mr. Karl Ivar Sven',\n",
       " 'Mellors, Mr. William John',\n",
       " 'Lovell, Mr. John Hall (\"Henry\")',\n",
       " 'Fahlstrom, Mr. Arne Jonas',\n",
       " 'Lefebre, Miss. Mathilde',\n",
       " 'Harris, Mrs. Henry Birkhardt (Irene Wallach)',\n",
       " 'Larsson, Mr. Bengt Edvin',\n",
       " 'Sjostedt, Mr. Ernst Adolf',\n",
       " 'Asplund, Miss. Lillian Gertrud',\n",
       " 'Leyson, Mr. Robert William Norman',\n",
       " 'Harknett, Miss. Alice Phoebe',\n",
       " 'Hold, Mr. Stephen',\n",
       " 'Collyer, Miss. Marjorie \"Lottie\"',\n",
       " 'Pengelly, Mr. Frederick William',\n",
       " 'Hunt, Mr. George Henry',\n",
       " 'Zabour, Miss. Thamine',\n",
       " 'Murphy, Miss. Katherine \"Kate\"',\n",
       " 'Coleridge, Mr. Reginald Charles',\n",
       " 'Maenpaa, Mr. Matti Alexanteri',\n",
       " 'Attalah, Mr. Sleiman',\n",
       " 'Minahan, Dr. William Edward',\n",
       " 'Lindahl, Miss. Agda Thorilda Viktoria',\n",
       " 'Hamalainen, Mrs. William (Anna)',\n",
       " 'Beckwith, Mr. Richard Leonard',\n",
       " 'Carter, Rev. Ernest Courtenay',\n",
       " 'Reed, Mr. James George',\n",
       " 'Strom, Mrs. Wilhelm (Elna Matilda Persson)',\n",
       " 'Stead, Mr. William Thomas',\n",
       " 'Lobb, Mr. William Arthur',\n",
       " 'Rosblom, Mrs. Viktor (Helena Wilhelmina)',\n",
       " 'Touma, Mrs. Darwis (Hanne Youssef Razi)',\n",
       " 'Thorne, Mrs. Gertrude Maybelle',\n",
       " 'Cherry, Miss. Gladys',\n",
       " 'Ward, Miss. Anna',\n",
       " 'Parrish, Mrs. (Lutie Davis)',\n",
       " 'Smith, Mr. Thomas',\n",
       " 'Asplund, Master. Edvin Rojj Felix',\n",
       " 'Taussig, Mr. Emil',\n",
       " 'Harrison, Mr. William',\n",
       " 'Henry, Miss. Delia',\n",
       " 'Reeves, Mr. David',\n",
       " 'Panula, Mr. Ernesti Arvid',\n",
       " 'Persson, Mr. Ernst Ulrik',\n",
       " 'Graham, Mrs. William Thompson (Edith Junkins)',\n",
       " 'Bissette, Miss. Amelia',\n",
       " 'Cairns, Mr. Alexander',\n",
       " 'Tornquist, Mr. William Henry',\n",
       " 'Mellinger, Mrs. (Elizabeth Anne Maidment)',\n",
       " 'Natsch, Mr. Charles H',\n",
       " 'Healy, Miss. Hanora \"Nora\"',\n",
       " 'Andrews, Miss. Kornelia Theodosia',\n",
       " 'Lindblom, Miss. Augusta Charlotta',\n",
       " 'Parkes, Mr. Francis \"Frank\"',\n",
       " 'Rice, Master. Eric',\n",
       " 'Abbott, Mrs. Stanton (Rosa Hunt)',\n",
       " 'Duane, Mr. Frank',\n",
       " 'Olsson, Mr. Nils Johan Goransson',\n",
       " 'de Pelsmaeker, Mr. Alfons',\n",
       " 'Dorking, Mr. Edward Arthur',\n",
       " 'Smith, Mr. Richard William',\n",
       " 'Stankovic, Mr. Ivan',\n",
       " 'de Mulder, Mr. Theodore',\n",
       " 'Naidenoff, Mr. Penko',\n",
       " 'Hosono, Mr. Masabumi',\n",
       " 'Connolly, Miss. Kate',\n",
       " 'Barber, Miss. Ellen \"Nellie\"',\n",
       " 'Bishop, Mrs. Dickinson H (Helen Walton)',\n",
       " 'Levy, Mr. Rene Jacques',\n",
       " 'Haas, Miss. Aloisia',\n",
       " 'Mineff, Mr. Ivan',\n",
       " 'Lewy, Mr. Ervin G',\n",
       " 'Hanna, Mr. Mansour',\n",
       " 'Allison, Miss. Helen Loraine',\n",
       " 'Saalfeld, Mr. Adolphe',\n",
       " 'Baxter, Mrs. James (Helene DeLaudeniere Chaput)',\n",
       " 'Kelly, Miss. Anna Katherine \"Annie Kate\"',\n",
       " 'McCoy, Mr. Bernard',\n",
       " 'Johnson, Mr. William Cahoone Jr',\n",
       " 'Keane, Miss. Nora A',\n",
       " 'Williams, Mr. Howard Hugh \"Harry\"',\n",
       " 'Allison, Master. Hudson Trevor',\n",
       " 'Fleming, Miss. Margaret',\n",
       " 'Penasco y Castellana, Mrs. Victor de Satode (Maria Josefa Perez de Soto y Vallejo)',\n",
       " 'Abelson, Mr. Samuel',\n",
       " 'Francatelli, Miss. Laura Mabel',\n",
       " 'Hays, Miss. Margaret Bechstein',\n",
       " 'Ryerson, Miss. Emily Borie',\n",
       " 'Lahtinen, Mrs. William (Anna Sylfven)',\n",
       " 'Hendekovic, Mr. Ignjac',\n",
       " 'Hart, Mr. Benjamin',\n",
       " 'Nilsson, Miss. Helmina Josefina',\n",
       " 'Kantor, Mrs. Sinai (Miriam Sternin)',\n",
       " 'Moraweck, Dr. Ernest',\n",
       " 'Wick, Miss. Mary Natalie',\n",
       " 'Spedden, Mrs. Frederic Oakley (Margaretta Corning Stone)',\n",
       " 'Dennis, Mr. Samuel',\n",
       " 'Danoff, Mr. Yoto',\n",
       " 'Slayter, Miss. Hilda Mary',\n",
       " 'Caldwell, Mrs. Albert Francis (Sylvia Mae Harbaugh)',\n",
       " 'Sage, Mr. George John Jr',\n",
       " 'Young, Miss. Marie Grice',\n",
       " 'Nysveen, Mr. Johan Hansen',\n",
       " 'Ball, Mrs. (Ada E Hall)',\n",
       " 'Goldsmith, Mrs. Frank John (Emily Alice Brown)',\n",
       " 'Hippach, Miss. Jean Gertrude',\n",
       " 'McCoy, Miss. Agnes',\n",
       " 'Partner, Mr. Austen',\n",
       " 'Graham, Mr. George Edward',\n",
       " 'Vander Planke, Mr. Leo Edmondus',\n",
       " 'Frauenthal, Mrs. Henry William (Clara Heinsheimer)',\n",
       " 'Denkoff, Mr. Mitto',\n",
       " 'Pears, Mr. Thomas Clinton',\n",
       " 'Burns, Miss. Elizabeth Margaret',\n",
       " 'Dahl, Mr. Karl Edwart',\n",
       " 'Blackwell, Mr. Stephen Weart',\n",
       " 'Navratil, Master. Edmond Roger',\n",
       " 'Fortune, Miss. Alice Elizabeth',\n",
       " 'Collander, Mr. Erik Gustaf',\n",
       " 'Sedgwick, Mr. Charles Frederick Waddington',\n",
       " 'Fox, Mr. Stanley Hubert',\n",
       " 'Brown, Miss. Amelia \"Mildred\"',\n",
       " 'Smith, Miss. Marion Elsie',\n",
       " 'Davison, Mrs. Thomas Henry (Mary E Finck)',\n",
       " 'Coutts, Master. William Loch \"William\"',\n",
       " 'Dimic, Mr. Jovan',\n",
       " 'Odahl, Mr. Nils Martin',\n",
       " 'Williams-Lambert, Mr. Fletcher Fellows',\n",
       " 'Elias, Mr. Tannous',\n",
       " 'Arnold-Franchi, Mr. Josef',\n",
       " 'Yousif, Mr. Wazli',\n",
       " 'Vanden Steen, Mr. Leo Peter',\n",
       " 'Bowerman, Miss. Elsie Edith',\n",
       " 'Funk, Miss. Annie Clemmer',\n",
       " 'McGovern, Miss. Mary',\n",
       " 'Mockler, Miss. Helen Mary \"Ellie\"',\n",
       " 'Skoog, Mr. Wilhelm',\n",
       " 'del Carlo, Mr. Sebastiano',\n",
       " 'Barbara, Mrs. (Catherine David)',\n",
       " 'Asim, Mr. Adola',\n",
       " \"O'Brien, Mr. Thomas\",\n",
       " 'Adahl, Mr. Mauritz Nils Martin',\n",
       " 'Warren, Mrs. Frank Manley (Anna Sophia Atkinson)',\n",
       " 'Moussa, Mrs. (Mantoura Boulos)',\n",
       " 'Jermyn, Miss. Annie',\n",
       " 'Aubart, Mme. Leontine Pauline',\n",
       " 'Harder, Mr. George Achilles',\n",
       " 'Wiklund, Mr. Jakob Alfred',\n",
       " 'Beavan, Mr. William Thomas',\n",
       " 'Ringhini, Mr. Sante',\n",
       " 'Palsson, Miss. Stina Viola',\n",
       " 'Meyer, Mrs. Edgar Joseph (Leila Saks)',\n",
       " 'Landergren, Miss. Aurora Adelia',\n",
       " 'Widener, Mr. Harry Elkins',\n",
       " 'Betros, Mr. Tannous',\n",
       " 'Gustafsson, Mr. Karl Gideon',\n",
       " 'Bidois, Miss. Rosalie',\n",
       " 'Nakid, Miss. Maria (\"Mary\")',\n",
       " 'Tikkanen, Mr. Juho',\n",
       " 'Holverson, Mrs. Alexander Oskar (Mary Aline Towner)',\n",
       " 'Plotcharsky, Mr. Vasil',\n",
       " 'Davies, Mr. Charles Henry',\n",
       " 'Goodwin, Master. Sidney Leonard',\n",
       " 'Buss, Miss. Kate',\n",
       " 'Sadlier, Mr. Matthew',\n",
       " 'Lehmann, Miss. Bertha',\n",
       " 'Carter, Mr. William Ernest',\n",
       " 'Jansson, Mr. Carl Olof',\n",
       " 'Gustafsson, Mr. Johan Birger',\n",
       " 'Newell, Miss. Marjorie',\n",
       " 'Sandstrom, Mrs. Hjalmar (Agnes Charlotta Bengtsson)',\n",
       " 'Johansson, Mr. Erik',\n",
       " 'Olsson, Miss. Elina',\n",
       " 'McKane, Mr. Peter David',\n",
       " 'Pain, Dr. Alfred',\n",
       " 'Trout, Mrs. William H (Jessie L)',\n",
       " 'Niskanen, Mr. Juha',\n",
       " 'Adams, Mr. John',\n",
       " 'Jussila, Miss. Mari Aina',\n",
       " 'Hakkarainen, Mr. Pekka Pietari',\n",
       " 'Oreskovic, Miss. Marija',\n",
       " 'Gale, Mr. Shadrach',\n",
       " 'Widegren, Mr. Carl/Charles Peter',\n",
       " 'Richards, Master. William Rowe',\n",
       " 'Birkeland, Mr. Hans Martin Monsen',\n",
       " 'Lefebre, Miss. Ida',\n",
       " 'Sdycoff, Mr. Todor',\n",
       " 'Hart, Mr. Henry',\n",
       " 'Minahan, Miss. Daisy E',\n",
       " 'Cunningham, Mr. Alfred Fleming',\n",
       " 'Sundman, Mr. Johan Julian',\n",
       " 'Meek, Mrs. Thomas (Annie Louise Rowley)',\n",
       " 'Drew, Mrs. James Vivian (Lulu Thorne Christian)',\n",
       " 'Silven, Miss. Lyyli Karoliina',\n",
       " 'Matthews, Mr. William John',\n",
       " 'Van Impe, Miss. Catharina',\n",
       " 'Gheorgheff, Mr. Stanio',\n",
       " 'Charters, Mr. David',\n",
       " 'Zimmerman, Mr. Leo',\n",
       " 'Danbom, Mrs. Ernst Gilbert (Anna Sigrid Maria Brogren)',\n",
       " 'Rosblom, Mr. Viktor Richard',\n",
       " 'Wiseman, Mr. Phillippe',\n",
       " 'Clarke, Mrs. Charles V (Ada Maria Winfield)',\n",
       " 'Phillips, Miss. Kate Florence (\"Mrs Kate Louise Phillips Marshall\")',\n",
       " 'Flynn, Mr. James',\n",
       " 'Pickard, Mr. Berk (Berk Trembisky)',\n",
       " 'Bjornstrom-Steffansson, Mr. Mauritz Hakan',\n",
       " 'Thorneycroft, Mrs. Percival (Florence Kate White)',\n",
       " 'Louch, Mrs. Charles Alexander (Alice Adelaide Slow)',\n",
       " 'Kallio, Mr. Nikolai Erland',\n",
       " 'Silvey, Mr. William Baird',\n",
       " 'Carter, Miss. Lucile Polk',\n",
       " 'Ford, Miss. Doolina Margaret \"Daisy\"',\n",
       " 'Richards, Mrs. Sidney (Emily Hocking)',\n",
       " 'Fortune, Mr. Mark',\n",
       " 'Kvillner, Mr. Johan Henrik Johannesson',\n",
       " 'Hart, Mrs. Benjamin (Esther Ada Bloomfield)',\n",
       " 'Hampe, Mr. Leon',\n",
       " 'Petterson, Mr. Johan Emil',\n",
       " 'Reynaldo, Ms. Encarnacion',\n",
       " 'Johannesen-Bratthammer, Mr. Bernt',\n",
       " 'Dodge, Master. Washington',\n",
       " 'Mellinger, Miss. Madeleine Violet',\n",
       " 'Seward, Mr. Frederic Kimber',\n",
       " 'Baclini, Miss. Marie Catherine',\n",
       " 'Peuchen, Major. Arthur Godfrey',\n",
       " 'West, Mr. Edwy Arthur',\n",
       " 'Hagland, Mr. Ingvald Olai Olsen',\n",
       " 'Foreman, Mr. Benjamin Laventall',\n",
       " 'Goldenberg, Mr. Samuel L',\n",
       " 'Peduzzi, Mr. Joseph',\n",
       " 'Jalsevac, Mr. Ivan',\n",
       " 'Millet, Mr. Francis Davis',\n",
       " 'Kenyon, Mrs. Frederick R (Marion)',\n",
       " 'Toomey, Miss. Ellen',\n",
       " \"O'Connor, Mr. Maurice\",\n",
       " 'Anderson, Mr. Harry',\n",
       " 'Morley, Mr. William',\n",
       " 'Gee, Mr. Arthur H',\n",
       " 'Milling, Mr. Jacob Christian',\n",
       " 'Maisner, Mr. Simon',\n",
       " 'Goncalves, Mr. Manuel Estanslas',\n",
       " 'Campbell, Mr. William',\n",
       " 'Smart, Mr. John Montgomery',\n",
       " 'Scanlan, Mr. James',\n",
       " 'Baclini, Miss. Helene Barbara',\n",
       " 'Keefe, Mr. Arthur',\n",
       " 'Cacic, Mr. Luka',\n",
       " 'West, Mrs. Edwy Arthur (Ada Mary Worth)',\n",
       " 'Jerwan, Mrs. Amin S (Marie Marthe Thuillard)',\n",
       " 'Strandberg, Miss. Ida Sofia',\n",
       " 'Clifford, Mr. George Quincy',\n",
       " 'Renouf, Mr. Peter Henry',\n",
       " 'Braund, Mr. Lewis Richard',\n",
       " 'Karlsson, Mr. Nils August',\n",
       " 'Hirvonen, Miss. Hildur E',\n",
       " 'Goodwin, Master. Harold Victor',\n",
       " 'Frost, Mr. Anthony Wood \"Archie\"',\n",
       " 'Rouse, Mr. Richard Henry',\n",
       " 'Turkula, Mrs. (Hedwig)',\n",
       " 'Bishop, Mr. Dickinson H',\n",
       " 'Lefebre, Miss. Jeannie',\n",
       " 'Hoyt, Mrs. Frederick Maxfield (Jane Anne Forby)',\n",
       " 'Kent, Mr. Edward Austin',\n",
       " 'Somerton, Mr. Francis William',\n",
       " 'Coutts, Master. Eden Leslie \"Neville\"',\n",
       " 'Hagland, Mr. Konrad Mathias Reiersen',\n",
       " 'Windelov, Mr. Einar',\n",
       " 'Molson, Mr. Harry Markland',\n",
       " 'Artagaveytia, Mr. Ramon',\n",
       " 'Stanley, Mr. Edward Roland',\n",
       " 'Yousseff, Mr. Gerious',\n",
       " 'Eustis, Miss. Elizabeth Mussey',\n",
       " 'Shellard, Mr. Frederick William',\n",
       " 'Allison, Mrs. Hudson J C (Bessie Waldo Daniels)',\n",
       " 'Svensson, Mr. Olof',\n",
       " 'Calic, Mr. Petar',\n",
       " 'Canavan, Miss. Mary',\n",
       " \"O'Sullivan, Miss. Bridget Mary\",\n",
       " 'Laitinen, Miss. Kristina Sofia',\n",
       " 'Maioni, Miss. Roberta',\n",
       " 'Penasco y Castellana, Mr. Victor de Satode',\n",
       " 'Quick, Mrs. Frederick Charles (Jane Richards)',\n",
       " 'Bradley, Mr. George (\"George Arthur Brayton\")',\n",
       " 'Olsen, Mr. Henry Margido',\n",
       " 'Lang, Mr. Fang',\n",
       " 'Daly, Mr. Eugene Patrick',\n",
       " 'Webber, Mr. James',\n",
       " 'McGough, Mr. James Robert',\n",
       " 'Rothschild, Mrs. Martin (Elizabeth L. Barrett)',\n",
       " 'Coleff, Mr. Satio',\n",
       " 'Walker, Mr. William Anderson',\n",
       " 'Lemore, Mrs. (Amelia Milley)',\n",
       " 'Ryan, Mr. Patrick',\n",
       " 'Angle, Mrs. William A (Florence \"Mary\" Agnes Hughes)',\n",
       " 'Pavlovic, Mr. Stefo',\n",
       " 'Perreault, Miss. Anne',\n",
       " 'Vovk, Mr. Janko',\n",
       " 'Lahoud, Mr. Sarkis',\n",
       " 'Hippach, Mrs. Louis Albert (Ida Sophia Fischer)',\n",
       " 'Kassem, Mr. Fared',\n",
       " 'Farrell, Mr. James',\n",
       " 'Ridsdale, Miss. Lucy',\n",
       " 'Farthing, Mr. John',\n",
       " 'Salonen, Mr. Johan Werner',\n",
       " 'Hocking, Mr. Richard George',\n",
       " 'Quick, Miss. Phyllis May',\n",
       " 'Toufik, Mr. Nakli',\n",
       " 'Elias, Mr. Joseph Jr',\n",
       " 'Peter, Mrs. Catherine (Catherine Rizk)',\n",
       " 'Cacic, Miss. Marija',\n",
       " 'Hart, Miss. Eva Miriam',\n",
       " 'Butt, Major. Archibald Willingham',\n",
       " 'LeRoy, Miss. Bertha',\n",
       " 'Risien, Mr. Samuel Beard',\n",
       " 'Frolicher, Miss. Hedwig Margaritha',\n",
       " 'Crosby, Miss. Harriet R',\n",
       " 'Andersson, Miss. Ingeborg Constanzia',\n",
       " 'Andersson, Miss. Sigrid Elisabeth',\n",
       " 'Beane, Mr. Edward',\n",
       " 'Douglas, Mr. Walter Donald',\n",
       " 'Nicholson, Mr. Arthur Ernest',\n",
       " 'Beane, Mrs. Edward (Ethel Clarke)',\n",
       " 'Padro y Manent, Mr. Julian',\n",
       " 'Goldsmith, Mr. Frank John',\n",
       " 'Davies, Master. John Morgan Jr',\n",
       " 'Thayer, Mr. John Borland Jr',\n",
       " 'Sharp, Mr. Percival James R',\n",
       " \"O'Brien, Mr. Timothy\",\n",
       " 'Leeni, Mr. Fahim (\"Philip Zenni\")',\n",
       " 'Ohman, Miss. Velin',\n",
       " 'Wright, Mr. George',\n",
       " 'Duff Gordon, Lady. (Lucille Christiana Sutherland) (\"Mrs Morgan\")',\n",
       " 'Robbins, Mr. Victor',\n",
       " 'Taussig, Mrs. Emil (Tillie Mandelbaum)',\n",
       " 'de Messemaeker, Mrs. Guillaume Joseph (Emma)',\n",
       " 'Morrow, Mr. Thomas Rowan',\n",
       " 'Sivic, Mr. Husein',\n",
       " 'Norman, Mr. Robert Douglas',\n",
       " 'Simmons, Mr. John',\n",
       " 'Meanwell, Miss. (Marion Ogden)',\n",
       " 'Davies, Mr. Alfred J',\n",
       " 'Stoytcheff, Mr. Ilia',\n",
       " 'Palsson, Mrs. Nils (Alma Cornelia Berglund)',\n",
       " 'Doharr, Mr. Tannous',\n",
       " 'Jonsson, Mr. Carl',\n",
       " 'Harris, Mr. George',\n",
       " 'Appleton, Mrs. Edward Dale (Charlotte Lamson)',\n",
       " 'Flynn, Mr. John Irwin (\"Irving\")',\n",
       " 'Kelly, Miss. Mary',\n",
       " 'Rush, Mr. Alfred George John',\n",
       " 'Patchett, Mr. George',\n",
       " 'Garside, Miss. Ethel',\n",
       " 'Silvey, Mrs. William Baird (Alice Munger)',\n",
       " 'Caram, Mrs. Joseph (Maria Elias)',\n",
       " 'Jussila, Mr. Eiriik',\n",
       " 'Christy, Miss. Julie Rachel',\n",
       " 'Thayer, Mrs. John Borland (Marian Longstreth Morris)',\n",
       " 'Downton, Mr. William James',\n",
       " 'Ross, Mr. John Hugo',\n",
       " 'Paulner, Mr. Uscher',\n",
       " 'Taussig, Miss. Ruth',\n",
       " 'Jarvis, Mr. John Denzil',\n",
       " 'Frolicher-Stehli, Mr. Maxmillian',\n",
       " 'Gilinski, Mr. Eliezer',\n",
       " 'Murdlin, Mr. Joseph',\n",
       " 'Rintamaki, Mr. Matti',\n",
       " 'Stephenson, Mrs. Walter Bertram (Martha Eustis)',\n",
       " 'Elsbury, Mr. William James',\n",
       " 'Bourke, Miss. Mary',\n",
       " 'Chapman, Mr. John Henry',\n",
       " 'Van Impe, Mr. Jean Baptiste',\n",
       " 'Leitch, Miss. Jessie Wills',\n",
       " 'Johnson, Mr. Alfred',\n",
       " 'Boulos, Mr. Hanna',\n",
       " 'Duff Gordon, Sir. Cosmo Edmund (\"Mr Morgan\")',\n",
       " 'Jacobsohn, Mrs. Sidney Samuel (Amy Frances Christy)',\n",
       " 'Slabenoff, Mr. Petco',\n",
       " 'Harrington, Mr. Charles H',\n",
       " 'Torber, Mr. Ernst William',\n",
       " 'Homer, Mr. Harry (\"Mr E Haven\")',\n",
       " 'Lindell, Mr. Edvard Bengtsson',\n",
       " 'Karaic, Mr. Milan',\n",
       " 'Daniel, Mr. Robert Williams',\n",
       " 'Laroche, Mrs. Joseph (Juliette Marie Louise Lafargue)',\n",
       " 'Shutes, Miss. Elizabeth W',\n",
       " 'Andersson, Mrs. Anders Johan (Alfrida Konstantia Brogren)',\n",
       " 'Jardin, Mr. Jose Neto',\n",
       " 'Murphy, Miss. Margaret Jane',\n",
       " 'Horgan, Mr. John',\n",
       " 'Brocklebank, Mr. William Alfred',\n",
       " 'Herman, Miss. Alice',\n",
       " 'Danbom, Mr. Ernst Gilbert',\n",
       " 'Lobb, Mrs. William Arthur (Cordelia K Stanlick)',\n",
       " 'Becker, Miss. Marion Louise',\n",
       " 'Gavey, Mr. Lawrence',\n",
       " 'Yasbeck, Mr. Antoni',\n",
       " 'Kimball, Mr. Edwin Nelson Jr',\n",
       " 'Nakid, Mr. Sahid',\n",
       " 'Hansen, Mr. Henry Damsgaard',\n",
       " 'Bowen, Mr. David John \"Dai\"',\n",
       " 'Sutton, Mr. Frederick',\n",
       " 'Kirkland, Rev. Charles Leonard',\n",
       " 'Longley, Miss. Gretchen Fiske',\n",
       " 'Bostandyeff, Mr. Guentcho',\n",
       " \"O'Connell, Mr. Patrick D\",\n",
       " 'Barkworth, Mr. Algernon Henry Wilson',\n",
       " 'Lundahl, Mr. Johan Svensson',\n",
       " 'Stahelin-Maeglin, Dr. Max',\n",
       " 'Parr, Mr. William Henry Marsh',\n",
       " 'Skoog, Miss. Mabel',\n",
       " 'Davis, Miss. Mary',\n",
       " 'Leinonen, Mr. Antti Gustaf',\n",
       " 'Collyer, Mr. Harvey',\n",
       " 'Panula, Mrs. Juha (Maria Emilia Ojala)',\n",
       " 'Thorneycroft, Mr. Percival',\n",
       " 'Jensen, Mr. Hans Peder',\n",
       " 'Sagesser, Mlle. Emma',\n",
       " 'Skoog, Miss. Margit Elizabeth',\n",
       " 'Foo, Mr. Choong',\n",
       " 'Baclini, Miss. Eugenie',\n",
       " 'Harper, Mr. Henry Sleeper',\n",
       " 'Cor, Mr. Liudevit',\n",
       " 'Simonius-Blumer, Col. Oberst Alfons',\n",
       " 'Willey, Mr. Edward',\n",
       " 'Stanley, Miss. Amy Zillah Elsie',\n",
       " 'Mitkoff, Mr. Mito',\n",
       " 'Doling, Miss. Elsie',\n",
       " 'Kalvik, Mr. Johannes Halvorsen',\n",
       " 'O\\'Leary, Miss. Hanora \"Norah\"',\n",
       " 'Hegarty, Miss. Hanora \"Nora\"',\n",
       " 'Hickman, Mr. Leonard Mark',\n",
       " 'Radeff, Mr. Alexander',\n",
       " 'Bourke, Mrs. John (Catherine)',\n",
       " 'Eitemiller, Mr. George Floyd',\n",
       " 'Newell, Mr. Arthur Webster',\n",
       " 'Frauenthal, Dr. Henry William',\n",
       " 'Badt, Mr. Mohamed',\n",
       " 'Colley, Mr. Edward Pomeroy',\n",
       " 'Coleff, Mr. Peju',\n",
       " 'Lindqvist, Mr. Eino William',\n",
       " 'Hickman, Mr. Lewis',\n",
       " 'Butler, Mr. Reginald Fenton',\n",
       " 'Rommetvedt, Mr. Knud Paust',\n",
       " 'Cook, Mr. Jacob',\n",
       " 'Taylor, Mrs. Elmer Zebley (Juliet Cummins Wright)',\n",
       " 'Brown, Mrs. Thomas William Solomon (Elizabeth Catherine Ford)',\n",
       " 'Davidson, Mr. Thornton',\n",
       " 'Mitchell, Mr. Henry Michael',\n",
       " 'Wilhelms, Mr. Charles',\n",
       " 'Watson, Mr. Ennis Hastings',\n",
       " 'Edvardsson, Mr. Gustaf Hjalmar',\n",
       " 'Sawyer, Mr. Frederick Charles',\n",
       " 'Turja, Miss. Anna Sofia',\n",
       " 'Goodwin, Mrs. Frederick (Augusta Tyler)',\n",
       " 'Cardeza, Mr. Thomas Drake Martinez',\n",
       " 'Peters, Miss. Katie',\n",
       " 'Hassab, Mr. Hammad',\n",
       " 'Olsvigen, Mr. Thor Anderson',\n",
       " 'Goodwin, Mr. Charles Edward',\n",
       " 'Brown, Mr. Thomas William Solomon',\n",
       " 'Laroche, Mr. Joseph Philippe Lemercier',\n",
       " 'Panula, Mr. Jaako Arnold',\n",
       " 'Dakic, Mr. Branko',\n",
       " 'Fischer, Mr. Eberhard Thelander',\n",
       " 'Madill, Miss. Georgette Alexandra',\n",
       " 'Dick, Mr. Albert Adrian',\n",
       " 'Karun, Miss. Manca',\n",
       " 'Lam, Mr. Ali',\n",
       " 'Saad, Mr. Khalil',\n",
       " 'Weir, Col. John',\n",
       " 'Chapman, Mr. Charles Henry',\n",
       " 'Kelly, Mr. James',\n",
       " 'Mullens, Miss. Katherine \"Katie\"',\n",
       " 'Thayer, Mr. John Borland',\n",
       " 'Humblen, Mr. Adolf Mathias Nicolai Olsen',\n",
       " 'Astor, Mrs. John Jacob (Madeleine Talmadge Force)',\n",
       " 'Silverthorne, Mr. Spencer Victor',\n",
       " 'Barbara, Miss. Saiide',\n",
       " 'Gallagher, Mr. Martin',\n",
       " 'Hansen, Mr. Henrik Juul',\n",
       " 'Morley, Mr. Henry Samuel (\"Mr Henry Marshall\")',\n",
       " 'Kelly, Mrs. Florence \"Fannie\"',\n",
       " 'Calderhead, Mr. Edward Pennington',\n",
       " 'Cleaver, Miss. Alice',\n",
       " 'Moubarek, Master. Halim Gonios (\"William George\")',\n",
       " 'Mayne, Mlle. Berthe Antonine (\"Mrs de Villiers\")',\n",
       " 'Klaber, Mr. Herman',\n",
       " 'Taylor, Mr. Elmer Zebley',\n",
       " 'Larsson, Mr. August Viktor',\n",
       " 'Greenberg, Mr. Samuel',\n",
       " 'Soholt, Mr. Peter Andreas Lauritz Andersen',\n",
       " 'Endres, Miss. Caroline Louise',\n",
       " 'Troutt, Miss. Edwina Celia \"Winnie\"',\n",
       " 'McEvoy, Mr. Michael',\n",
       " 'Johnson, Mr. Malkolm Joackim',\n",
       " 'Harper, Miss. Annie Jessie \"Nina\"',\n",
       " 'Jensen, Mr. Svend Lauritz',\n",
       " 'Gillespie, Mr. William Henry',\n",
       " 'Hodges, Mr. Henry Price',\n",
       " 'Chambers, Mr. Norman Campbell',\n",
       " 'Oreskovic, Mr. Luka',\n",
       " 'Renouf, Mrs. Peter Henry (Lillian Jefferys)',\n",
       " 'Mannion, Miss. Margareth',\n",
       " 'Bryhl, Mr. Kurt Arnold Gottfrid',\n",
       " 'Ilmakangas, Miss. Pieta Sofia',\n",
       " 'Allen, Miss. Elisabeth Walton',\n",
       " 'Hassan, Mr. Houssein G N',\n",
       " 'Knight, Mr. Robert J',\n",
       " 'Berriman, Mr. William John',\n",
       " 'Troupiansky, Mr. Moses Aaron',\n",
       " 'Williams, Mr. Leslie',\n",
       " 'Ford, Mrs. Edward (Margaret Ann Watson)',\n",
       " 'Lesurer, Mr. Gustave J',\n",
       " 'Ivanoff, Mr. Kanio',\n",
       " 'Nankoff, Mr. Minko',\n",
       " 'Hawksford, Mr. Walter James',\n",
       " 'Cavendish, Mr. Tyrell William',\n",
       " 'Ryerson, Miss. Susan Parker \"Suzette\"',\n",
       " 'McNamee, Mr. Neal',\n",
       " 'Stranden, Mr. Juho',\n",
       " 'Crosby, Capt. Edward Gifford',\n",
       " 'Abbott, Mr. Rossmore Edward',\n",
       " 'Sinkkonen, Miss. Anna',\n",
       " 'Marvin, Mr. Daniel Warner',\n",
       " 'Connaghton, Mr. Michael',\n",
       " 'Wells, Miss. Joan',\n",
       " 'Moor, Master. Meier',\n",
       " 'Vande Velde, Mr. Johannes Joseph',\n",
       " 'Jonkoff, Mr. Lalio',\n",
       " 'Herman, Mrs. Samuel (Jane Laver)',\n",
       " 'Hamalainen, Master. Viljo',\n",
       " 'Carlsson, Mr. August Sigfrid',\n",
       " 'Bailey, Mr. Percy Andrew',\n",
       " 'Theobald, Mr. Thomas Leonard',\n",
       " 'Rothes, the Countess. of (Lucy Noel Martha Dyer-Edwards)',\n",
       " 'Garfirth, Mr. John',\n",
       " 'Nirva, Mr. Iisakki Antino Aijo',\n",
       " 'Barah, Mr. Hanna Assi',\n",
       " 'Carter, Mrs. William Ernest (Lucile Polk)',\n",
       " 'Eklund, Mr. Hans Linus',\n",
       " 'Hogeboom, Mrs. John C (Anna Andrews)',\n",
       " 'Brewe, Dr. Arthur Jackson',\n",
       " 'Mangan, Miss. Mary',\n",
       " 'Moran, Mr. Daniel J',\n",
       " 'Gronnestad, Mr. Daniel Danielsen',\n",
       " 'Lievens, Mr. Rene Aime',\n",
       " 'Jensen, Mr. Niels Peder',\n",
       " 'Mack, Mrs. (Mary)',\n",
       " 'Elias, Mr. Dibo',\n",
       " 'Hocking, Mrs. Elizabeth (Eliza Needs)',\n",
       " 'Myhrman, Mr. Pehr Fabian Oliver Malkolm',\n",
       " 'Tobin, Mr. Roger',\n",
       " 'Emanuel, Miss. Virginia Ethel',\n",
       " 'Kilgannon, Mr. Thomas J',\n",
       " 'Robert, Mrs. Edward Scott (Elisabeth Walton McMillan)',\n",
       " 'Ayoub, Miss. Banoura',\n",
       " 'Dick, Mrs. Albert Adrian (Vera Gillespie)',\n",
       " 'Long, Mr. Milton Clyde',\n",
       " 'Johnston, Mr. Andrew G',\n",
       " 'Ali, Mr. William',\n",
       " 'Harmer, Mr. Abraham (David Lishin)',\n",
       " 'Sjoblom, Miss. Anna Sofia',\n",
       " 'Rice, Master. George Hugh',\n",
       " 'Dean, Master. Bertram Vere',\n",
       " 'Guggenheim, Mr. Benjamin',\n",
       " 'Keane, Mr. Andrew \"Andy\"',\n",
       " 'Gaskell, Mr. Alfred',\n",
       " 'Sage, Miss. Stella Anna',\n",
       " 'Hoyt, Mr. William Fisher',\n",
       " 'Dantcheff, Mr. Ristiu',\n",
       " 'Otter, Mr. Richard',\n",
       " 'Leader, Dr. Alice (Farnham)',\n",
       " 'Osman, Mrs. Mara',\n",
       " 'Ibrahim Shawah, Mr. Yousseff',\n",
       " 'Van Impe, Mrs. Jean Baptiste (Rosalie Paula Govaert)',\n",
       " 'Ponesell, Mr. Martin',\n",
       " 'Collyer, Mrs. Harvey (Charlotte Annie Tate)',\n",
       " 'Carter, Master. William Thornton II',\n",
       " 'Thomas, Master. Assad Alexander',\n",
       " 'Hedman, Mr. Oskar Arvid',\n",
       " 'Johansson, Mr. Karl Johan',\n",
       " 'Andrews, Mr. Thomas Jr',\n",
       " 'Pettersson, Miss. Ellen Natalia',\n",
       " 'Meyer, Mr. August',\n",
       " 'Chambers, Mrs. Norman Campbell (Bertha Griggs)',\n",
       " 'Alexander, Mr. William',\n",
       " 'Lester, Mr. James',\n",
       " 'Slemen, Mr. Richard James',\n",
       " 'Andersson, Miss. Ebba Iris Alfrida',\n",
       " 'Tomlin, Mr. Ernest Portage',\n",
       " 'Fry, Mr. Richard',\n",
       " 'Heininen, Miss. Wendla Maria',\n",
       " 'Mallet, Mr. Albert',\n",
       " 'Holm, Mr. John Fredrik Alexander',\n",
       " 'Skoog, Master. Karl Thorsten',\n",
       " 'Hays, Mrs. Charles Melville (Clara Jennings Gregg)',\n",
       " 'Lulic, Mr. Nikola',\n",
       " 'Reuchlin, Jonkheer. John George',\n",
       " 'Moor, Mrs. (Beila)',\n",
       " 'Panula, Master. Urho Abraham',\n",
       " 'Flynn, Mr. John',\n",
       " 'Lam, Mr. Len',\n",
       " 'Mallet, Master. Andre',\n",
       " 'McCormack, Mr. Thomas Joseph',\n",
       " 'Stone, Mrs. George Nelson (Martha Evelyn)',\n",
       " 'Yasbeck, Mrs. Antoni (Selini Alexander)',\n",
       " 'Richards, Master. George Sibley',\n",
       " 'Saad, Mr. Amin',\n",
       " 'Augustsson, Mr. Albert',\n",
       " 'Allum, Mr. Owen George',\n",
       " 'Compton, Miss. Sara Rebecca',\n",
       " 'Pasic, Mr. Jakob',\n",
       " 'Sirota, Mr. Maurice',\n",
       " 'Chip, Mr. Chang',\n",
       " 'Marechal, Mr. Pierre',\n",
       " 'Alhomaki, Mr. Ilmari Rudolf',\n",
       " 'Mudd, Mr. Thomas Charles',\n",
       " 'Serepeca, Miss. Augusta',\n",
       " 'Lemberopolous, Mr. Peter L',\n",
       " 'Culumovic, Mr. Jeso',\n",
       " 'Abbing, Mr. Anthony',\n",
       " 'Sage, Mr. Douglas Bullen',\n",
       " 'Markoff, Mr. Marin',\n",
       " 'Harper, Rev. John',\n",
       " 'Goldenberg, Mrs. Samuel L (Edwiga Grabowska)',\n",
       " 'Andersson, Master. Sigvard Harald Elias',\n",
       " 'Svensson, Mr. Johan',\n",
       " 'Boulos, Miss. Nourelain',\n",
       " 'Lines, Miss. Mary Conover',\n",
       " 'Carter, Mrs. Ernest Courtenay (Lilian Hughes)',\n",
       " 'Aks, Mrs. Sam (Leah Rosen)',\n",
       " 'Wick, Mrs. George Dennick (Mary Hitchcock)',\n",
       " 'Daly, Mr. Peter Denis ',\n",
       " 'Baclini, Mrs. Solomon (Latifa Qurban)',\n",
       " 'Razi, Mr. Raihed',\n",
       " 'Hansen, Mr. Claus Peter',\n",
       " 'Giles, Mr. Frederick Edward',\n",
       " 'Swift, Mrs. Frederick Joel (Margaret Welles Barron)',\n",
       " 'Sage, Miss. Dorothy Edith \"Dolly\"',\n",
       " 'Gill, Mr. John William',\n",
       " 'Bystrom, Mrs. (Karolina)',\n",
       " 'Duran y More, Miss. Asuncion',\n",
       " 'Roebling, Mr. Washington Augustus II',\n",
       " 'van Melkebeke, Mr. Philemon',\n",
       " 'Johnson, Master. Harold Theodor',\n",
       " 'Balkic, Mr. Cerin',\n",
       " 'Beckwith, Mrs. Richard Leonard (Sallie Monypeny)',\n",
       " 'Carlsson, Mr. Frans Olof',\n",
       " 'Vander Cruyssen, Mr. Victor',\n",
       " 'Abelson, Mrs. Samuel (Hannah Wizosky)',\n",
       " 'Najib, Miss. Adele Kiamie \"Jane\"',\n",
       " 'Gustafsson, Mr. Alfred Ossian',\n",
       " 'Petroff, Mr. Nedelio',\n",
       " 'Laleff, Mr. Kristo',\n",
       " 'Potter, Mrs. Thomas Jr (Lily Alexenia Wilson)',\n",
       " 'Shelley, Mrs. William (Imanita Parrish Hall)',\n",
       " 'Markun, Mr. Johann',\n",
       " 'Dahlberg, Miss. Gerda Ulrika',\n",
       " 'Banfield, Mr. Frederick James',\n",
       " 'Sutehall, Mr. Henry Jr',\n",
       " 'Rice, Mrs. William (Margaret Norton)',\n",
       " 'Montvila, Rev. Juozas',\n",
       " 'Graham, Miss. Margaret Edith',\n",
       " 'Johnston, Miss. Catherine Helen \"Carrie\"',\n",
       " 'Behr, Mr. Karl Howell',\n",
       " 'Dooley, Mr. Patrick']"
      ]
     },
     "execution_count": 13,
     "metadata": {},
     "output_type": "execute_result"
    }
   ],
   "execution_count": 13
  },
  {
   "cell_type": "markdown",
   "id": "790937a3-d3e6-4114-851e-6d7311c8d032",
   "metadata": {},
   "source": [
    "## Selecting columns in lazy mode\n",
    "\n",
    "If we apply `select` in lazy mode it changes the `PROJECT` part of the optimised query plan"
   ]
  },
  {
   "metadata": {},
   "cell_type": "code",
   "outputs": [],
   "execution_count": null,
   "source": "",
   "id": "2d9a2322e3c6bf13"
  },
  {
   "cell_type": "code",
   "id": "a0e82752-5133-4d2e-84f4-13905b262c17",
   "metadata": {
    "tags": [],
    "ExecuteTime": {
     "end_time": "2025-03-31T01:55:28.676940Z",
     "start_time": "2025-03-31T01:55:28.674701Z"
    }
   },
   "source": [
    "df = (\n",
    "    pl.scan_csv(csv_file)\n",
    "    .select(['Survived','Age'])\n",
    ")\n",
    "print(df.explain())\n",
    "print(df)"
   ],
   "outputs": [
    {
     "name": "stdout",
     "output_type": "stream",
     "text": [
      "Csv SCAN [../data/titanic.csv]\n",
      "PROJECT 2/12 COLUMNS\n",
      "naive plan: (run LazyFrame.explain(optimized=True) to see the optimized plan)\n",
      "\n",
      " SELECT [col(\"Survived\"), col(\"Age\")] FROM\n",
      "  Csv SCAN [../data/titanic.csv]\n",
      "  PROJECT */12 COLUMNS\n"
     ]
    }
   ],
   "execution_count": 15
  },
  {
   "cell_type": "markdown",
   "id": "794791b7-18a0-472c-8b9b-44453cf2a9d2",
   "metadata": {},
   "source": [
    "The optimized query plan now has:\n",
    "\n",
    "`PROJECT 2/12 COLUMNS`\n",
    "\n",
    "This means that Polars only loads the `Survived` and `Age` columns into memory when reading the CSV.\n",
    "\n",
    "Reducing the number of columns reduces time and memory usage"
   ]
  },
  {
   "cell_type": "markdown",
   "id": "7f478e9c-3955-4f66-adb3-d0dc9afddea0",
   "metadata": {},
   "source": [
    "## Exercises\n",
    "\n",
    "In the exercises you will develop your understanding of:\n",
    "- selecting columns using the `select` method\n",
    "- transforming columns within the `select` method\n",
    "- using `select` in lazy mode"
   ]
  },
  {
   "cell_type": "markdown",
   "id": "c6ff209d-eb8d-479c-bcea-d29ec24fd392",
   "metadata": {},
   "source": [
    "### Exercise 1\n",
    "\n",
    "Select the `Age` and `Survived` columns using the Expression API\n",
    "\n",
    "Do this twice:\n",
    "- once using strings\n",
    "- once using expressions"
   ]
  },
  {
   "cell_type": "code",
   "execution_count": null,
   "id": "e26d45cc-dba2-4437-a99b-8a981c1370ac",
   "metadata": {
    "tags": []
   },
   "outputs": [],
   "source": [
    "df = pl.read_csv(csv_file)\n",
    "df.<blank>.head(3)\n",
    "df.<blank>.head(3)"
   ]
  },
  {
   "cell_type": "markdown",
   "id": "c1c15c07-a563-4368-9e8a-ae2b6628ed49",
   "metadata": {},
   "source": [
    "### Exercise 2\n",
    "Select all rows where `Age` is greater than 30 and output the `Age` and `Survived` columns"
   ]
  },
  {
   "cell_type": "code",
   "execution_count": null,
   "id": "3979c416-8da6-44cc-8408-a5930159bdd4",
   "metadata": {
    "tags": []
   },
   "outputs": [],
   "source": [
    "df = pl.read_csv(csv_file)\n",
    "df.<blank>.head(3)"
   ]
  },
  {
   "cell_type": "markdown",
   "id": "3f4256c0-868c-4878-85a2-eaf501ce1289",
   "metadata": {},
   "source": [
    "### Exercise 3\n",
    "Output a one-column DataFrame where the column is the `min` of the `Age` column"
   ]
  },
  {
   "cell_type": "code",
   "execution_count": null,
   "id": "b0070d82-eb35-4e5c-8187-c8daeb651c38",
   "metadata": {
    "tags": []
   },
   "outputs": [],
   "source": [
    "(\n",
    "    pl.read_csv(csv_file)\n",
    "    <blank>\n",
    ")"
   ]
  },
  {
   "cell_type": "markdown",
   "id": "884a29fc-f9cb-483a-97e1-d64b3d478d19",
   "metadata": {},
   "source": [
    "Add another line onto the query to output this single value as a float"
   ]
  },
  {
   "cell_type": "code",
   "execution_count": null,
   "id": "607c2006-aab3-41ae-8a39-ddbdf46e8f53",
   "metadata": {},
   "outputs": [],
   "source": []
  },
  {
   "cell_type": "markdown",
   "id": "7b9fad2f-a5a2-47e3-8651-6bc0addb43ce",
   "metadata": {},
   "source": [
    "Output a one-row DataFrame where the first column is the `max` of the `Age` column and the second column is the `min` of the `Age` column\n",
    "\n",
    "Expand the following cell if you want a hint"
   ]
  },
  {
   "cell_type": "code",
   "execution_count": null,
   "id": "afea77f6-8c47-4a16-a12f-dcc69697f0f1",
   "metadata": {
    "jupyter": {
     "source_hidden": true
    },
    "tags": []
   },
   "outputs": [],
   "source": [
    "#Hint: \n",
    "#you cannot have two columns with the same name so you will have to use the `alias` expression "
   ]
  },
  {
   "cell_type": "code",
   "execution_count": null,
   "id": "919561ac-e2ed-450c-aca8-c1a885e6652a",
   "metadata": {
    "tags": []
   },
   "outputs": [],
   "source": [
    "(\n",
    "    pl.read_csv(csv_file)\n",
    "    <blank>\n",
    ")"
   ]
  },
  {
   "cell_type": "markdown",
   "id": "84205876-bba5-4967-81c9-1fc26b3722e1",
   "metadata": {},
   "source": [
    "## Solutions\n",
    "\n",
    "### Solution to Exercise 1\n",
    "Select the `Age` and `Survived` columns using the Expression API\n",
    "\n",
    "Do this twice:\n",
    "- once using strings\n",
    "- once using expressions"
   ]
  },
  {
   "cell_type": "code",
   "execution_count": null,
   "id": "5777e105-4862-439b-ae94-81a57dd4487b",
   "metadata": {
    "jupyter": {
     "source_hidden": true
    },
    "tags": []
   },
   "outputs": [],
   "source": [
    "df = pl.read_csv(csv_file)\n",
    "df.select(['Age','Survived']).head(3)\n",
    "df.select([pl.col('Age'),pl.col('Survived')]).head(3)"
   ]
  },
  {
   "cell_type": "markdown",
   "id": "12ff9426-f7b8-4577-a47c-5ba7a544b5a1",
   "metadata": {},
   "source": [
    "### Solution to Exercise 2\n",
    "Select all rows where `Age` is greater than 30 and output the `Age` and `Survived` columns"
   ]
  },
  {
   "cell_type": "code",
   "execution_count": null,
   "id": "45a80476-a66c-49c9-ab11-e25cef9eb925",
   "metadata": {
    "jupyter": {
     "source_hidden": true
    },
    "tags": []
   },
   "outputs": [],
   "source": [
    "df = pl.read_csv(csv_file)\n",
    "df.filter(pl.col('Age')>30).select(['Age','Survived']).head(3)"
   ]
  },
  {
   "cell_type": "markdown",
   "id": "9dd2ca4b-114e-470d-86c1-89b88ec31024",
   "metadata": {},
   "source": [
    "### Solution to Exercise 3\n",
    "Output a one-column DataFrame where the column is the `min` of the `Age` column"
   ]
  },
  {
   "cell_type": "code",
   "execution_count": null,
   "id": "6719bb2c-d1cf-4492-afa3-84717b15e7e9",
   "metadata": {
    "jupyter": {
     "source_hidden": true
    },
    "tags": []
   },
   "outputs": [],
   "source": [
    "(\n",
    "    pl.read_csv(csv_file)\n",
    "    .select(\n",
    "        pl.col('Age').min()\n",
    "    )\n",
    ")"
   ]
  },
  {
   "cell_type": "markdown",
   "id": "b64eab44-ffd1-4694-bde2-a96254f9b0f4",
   "metadata": {},
   "source": [
    "Add another line onto the query to output this single value as a float"
   ]
  },
  {
   "cell_type": "code",
   "execution_count": null,
   "id": "1e8345f4-3dbe-4017-9068-6ad6710ef85a",
   "metadata": {
    "jupyter": {
     "source_hidden": true
    },
    "tags": []
   },
   "outputs": [],
   "source": [
    "(\n",
    "    pl.read_csv(csv_file)\n",
    "    .select(\n",
    "        pl.col('Age').min()\n",
    "    )\n",
    "    .item()\n",
    ")"
   ]
  },
  {
   "cell_type": "markdown",
   "id": "55a1d805-ded7-45f2-a071-9e6ad42a75fa",
   "metadata": {},
   "source": [
    "Output a one-row DataFrame where the first column is the `max` of the `Age` column and the second column is the `min` of the `Age` column"
   ]
  },
  {
   "cell_type": "code",
   "id": "c9fb1dcb-ffae-4ca1-b91a-319aefcf9ff7",
   "metadata": {
    "jupyter": {
     "source_hidden": true
    },
    "tags": [],
    "ExecuteTime": {
     "end_time": "2025-03-31T01:56:37.562726Z",
     "start_time": "2025-03-31T01:56:37.559088Z"
    }
   },
   "source": [
    "(\n",
    "    pl.read_csv(csv_file)\n",
    "    .select(\n",
    "        [\n",
    "            pl.col('Age').max().alias('age_max'),\n",
    "            pl.col('Age').min().alias('age_min')\n",
    "        ]\n",
    "    )\n",
    ")"
   ],
   "outputs": [
    {
     "data": {
      "text/plain": [
       "shape: (1, 2)\n",
       "┌─────────┬─────────┐\n",
       "│ age_max ┆ age_min │\n",
       "│ ---     ┆ ---     │\n",
       "│ f64     ┆ f64     │\n",
       "╞═════════╪═════════╡\n",
       "│ 80.0    ┆ 0.42    │\n",
       "└─────────┴─────────┘"
      ],
      "text/html": [
       "<div><style>\n",
       ".dataframe > thead > tr,\n",
       ".dataframe > tbody > tr {\n",
       "  text-align: right;\n",
       "  white-space: pre-wrap;\n",
       "}\n",
       "</style>\n",
       "<small>shape: (1, 2)</small><table border=\"1\" class=\"dataframe\"><thead><tr><th>age_max</th><th>age_min</th></tr><tr><td>f64</td><td>f64</td></tr></thead><tbody><tr><td>80.0</td><td>0.42</td></tr></tbody></table></div>"
      ]
     },
     "execution_count": 16,
     "metadata": {},
     "output_type": "execute_result"
    }
   ],
   "execution_count": 16
  },
  {
   "metadata": {
    "ExecuteTime": {
     "end_time": "2025-03-31T01:58:33.316570Z",
     "start_time": "2025-03-31T01:58:33.312888Z"
    }
   },
   "cell_type": "code",
   "source": [
    "(\n",
    "    pl.read_csv(csv_file)\n",
    "    .filter(\n",
    "        (pl.col('Age') == pl.col('Age').max())|(pl.col('Age') == pl.col('Age').min())\n",
    "    )\n",
    "    .select(\n",
    "        pl.col('Age')\n",
    "    )\n",
    ")"
   ],
   "id": "e0100080696a7c5c",
   "outputs": [
    {
     "data": {
      "text/plain": [
       "shape: (2, 1)\n",
       "┌──────┐\n",
       "│ Age  │\n",
       "│ ---  │\n",
       "│ f64  │\n",
       "╞══════╡\n",
       "│ 80.0 │\n",
       "│ 0.42 │\n",
       "└──────┘"
      ],
      "text/html": [
       "<div><style>\n",
       ".dataframe > thead > tr,\n",
       ".dataframe > tbody > tr {\n",
       "  text-align: right;\n",
       "  white-space: pre-wrap;\n",
       "}\n",
       "</style>\n",
       "<small>shape: (2, 1)</small><table border=\"1\" class=\"dataframe\"><thead><tr><th>Age</th></tr><tr><td>f64</td></tr></thead><tbody><tr><td>80.0</td></tr><tr><td>0.42</td></tr></tbody></table></div>"
      ]
     },
     "execution_count": 21,
     "metadata": {},
     "output_type": "execute_result"
    }
   ],
   "execution_count": 21
  },
  {
   "metadata": {
    "ExecuteTime": {
     "end_time": "2025-03-31T02:00:45.829646Z",
     "start_time": "2025-03-31T02:00:45.825478Z"
    }
   },
   "cell_type": "code",
   "source": [
    "(\n",
    "    pl.read_csv(csv_file)\n",
    "    .select(\n",
    "        pl.col('Age').alias('age_max'),\n",
    "        pl.col('Age').alias('age_min'),\n",
    "    )\n",
    ")"
   ],
   "id": "efde5c2a633d9ca5",
   "outputs": [
    {
     "data": {
      "text/plain": [
       "shape: (891, 2)\n",
       "┌─────────┬─────────┐\n",
       "│ age_max ┆ age_min │\n",
       "│ ---     ┆ ---     │\n",
       "│ f64     ┆ f64     │\n",
       "╞═════════╪═════════╡\n",
       "│ 22.0    ┆ 22.0    │\n",
       "│ 38.0    ┆ 38.0    │\n",
       "│ 26.0    ┆ 26.0    │\n",
       "│ 35.0    ┆ 35.0    │\n",
       "│ 35.0    ┆ 35.0    │\n",
       "│ …       ┆ …       │\n",
       "│ 27.0    ┆ 27.0    │\n",
       "│ 19.0    ┆ 19.0    │\n",
       "│ null    ┆ null    │\n",
       "│ 26.0    ┆ 26.0    │\n",
       "│ 32.0    ┆ 32.0    │\n",
       "└─────────┴─────────┘"
      ],
      "text/html": [
       "<div><style>\n",
       ".dataframe > thead > tr,\n",
       ".dataframe > tbody > tr {\n",
       "  text-align: right;\n",
       "  white-space: pre-wrap;\n",
       "}\n",
       "</style>\n",
       "<small>shape: (891, 2)</small><table border=\"1\" class=\"dataframe\"><thead><tr><th>age_max</th><th>age_min</th></tr><tr><td>f64</td><td>f64</td></tr></thead><tbody><tr><td>22.0</td><td>22.0</td></tr><tr><td>38.0</td><td>38.0</td></tr><tr><td>26.0</td><td>26.0</td></tr><tr><td>35.0</td><td>35.0</td></tr><tr><td>35.0</td><td>35.0</td></tr><tr><td>&hellip;</td><td>&hellip;</td></tr><tr><td>27.0</td><td>27.0</td></tr><tr><td>19.0</td><td>19.0</td></tr><tr><td>null</td><td>null</td></tr><tr><td>26.0</td><td>26.0</td></tr><tr><td>32.0</td><td>32.0</td></tr></tbody></table></div>"
      ]
     },
     "execution_count": 23,
     "metadata": {},
     "output_type": "execute_result"
    }
   ],
   "execution_count": 23
  },
  {
   "metadata": {},
   "cell_type": "code",
   "outputs": [],
   "execution_count": null,
   "source": "",
   "id": "6c87ceeed77ac2a1"
  }
 ],
 "metadata": {
  "kernelspec": {
   "display_name": "Python 3 (ipykernel)",
   "language": "python",
   "name": "python3"
  },
  "language_info": {
   "codemirror_mode": {
    "name": "ipython",
    "version": 3
   },
   "file_extension": ".py",
   "mimetype": "text/x-python",
   "name": "python",
   "nbconvert_exporter": "python",
   "pygments_lexer": "ipython3",
   "version": "3.10.1"
  }
 },
 "nbformat": 4,
 "nbformat_minor": 5
}
