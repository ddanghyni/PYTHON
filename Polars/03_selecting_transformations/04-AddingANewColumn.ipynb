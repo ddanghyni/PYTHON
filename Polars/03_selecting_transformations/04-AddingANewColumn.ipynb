{
 "cells": [
  {
   "cell_type": "markdown",
   "id": "3eec8164-8b94-4866-b8aa-0c1cc4936a8f",
   "metadata": {},
   "source": [
    "## Selecting columns 4: Transforming and adding a column\n",
    "By the end of this lecture you will be able to:\n",
    "- transform an existing column in place using `with_columns`\n",
    "- add a new column with an expression\n",
    "- add a new column with column arithmetic\n",
    "- add a column with constant values using `pl.lit`"
   ]
  },
  {
   "cell_type": "code",
   "id": "d1adc172-fe22-401e-a538-1e8e3fafe8d3",
   "metadata": {
    "tags": [],
    "ExecuteTime": {
     "end_time": "2025-03-31T02:08:18.513991Z",
     "start_time": "2025-03-31T02:08:18.477849Z"
    }
   },
   "source": [
    "import polars as pl"
   ],
   "outputs": [],
   "execution_count": 3
  },
  {
   "cell_type": "code",
   "id": "c5939bea-b4f8-4007-8ad9-8786e029ea3b",
   "metadata": {
    "tags": [],
    "ExecuteTime": {
     "end_time": "2025-03-31T02:08:14.297169Z",
     "start_time": "2025-03-31T02:08:14.294417Z"
    }
   },
   "source": [
    "csv_file = \"../data/titanic.csv\""
   ],
   "outputs": [],
   "execution_count": 1
  },
  {
   "cell_type": "code",
   "id": "a3626abb-3d5a-44c6-85e1-fcd9f3826a63",
   "metadata": {
    "tags": [],
    "ExecuteTime": {
     "end_time": "2025-03-31T02:10:23.974765Z",
     "start_time": "2025-03-31T02:10:23.970673Z"
    }
   },
   "source": [
    "df = pl.read_csv(csv_file)\n",
    "df.head(3)"
   ],
   "outputs": [
    {
     "data": {
      "text/plain": [
       "shape: (3, 12)\n",
       "┌─────────────┬──────────┬────────┬───────────────────┬───┬───────────┬─────────┬───────┬──────────┐\n",
       "│ PassengerId ┆ Survived ┆ Pclass ┆ Name              ┆ … ┆ Ticket    ┆ Fare    ┆ Cabin ┆ Embarked │\n",
       "│ ---         ┆ ---      ┆ ---    ┆ ---               ┆   ┆ ---       ┆ ---     ┆ ---   ┆ ---      │\n",
       "│ i64         ┆ i64      ┆ i64    ┆ str               ┆   ┆ str       ┆ f64     ┆ str   ┆ str      │\n",
       "╞═════════════╪══════════╪════════╪═══════════════════╪═══╪═══════════╪═════════╪═══════╪══════════╡\n",
       "│ 1           ┆ 0        ┆ 3      ┆ Braund, Mr. Owen  ┆ … ┆ A/5 21171 ┆ 7.25    ┆ null  ┆ S        │\n",
       "│             ┆          ┆        ┆ Harris            ┆   ┆           ┆         ┆       ┆          │\n",
       "│ 2           ┆ 1        ┆ 1      ┆ Cumings, Mrs.     ┆ … ┆ PC 17599  ┆ 71.2833 ┆ C85   ┆ C        │\n",
       "│             ┆          ┆        ┆ John Bradley (Fl… ┆   ┆           ┆         ┆       ┆          │\n",
       "│ 3           ┆ 1        ┆ 3      ┆ Heikkinen, Miss.  ┆ … ┆ STON/O2.  ┆ 7.925   ┆ null  ┆ S        │\n",
       "│             ┆          ┆        ┆ Laina             ┆   ┆ 3101282   ┆         ┆       ┆          │\n",
       "└─────────────┴──────────┴────────┴───────────────────┴───┴───────────┴─────────┴───────┴──────────┘"
      ],
      "text/html": [
       "<div><style>\n",
       ".dataframe > thead > tr,\n",
       ".dataframe > tbody > tr {\n",
       "  text-align: right;\n",
       "  white-space: pre-wrap;\n",
       "}\n",
       "</style>\n",
       "<small>shape: (3, 12)</small><table border=\"1\" class=\"dataframe\"><thead><tr><th>PassengerId</th><th>Survived</th><th>Pclass</th><th>Name</th><th>Sex</th><th>Age</th><th>SibSp</th><th>Parch</th><th>Ticket</th><th>Fare</th><th>Cabin</th><th>Embarked</th></tr><tr><td>i64</td><td>i64</td><td>i64</td><td>str</td><td>str</td><td>f64</td><td>i64</td><td>i64</td><td>str</td><td>f64</td><td>str</td><td>str</td></tr></thead><tbody><tr><td>1</td><td>0</td><td>3</td><td>&quot;Braund, Mr. Owen Harris&quot;</td><td>&quot;male&quot;</td><td>22.0</td><td>1</td><td>0</td><td>&quot;A/5 21171&quot;</td><td>7.25</td><td>null</td><td>&quot;S&quot;</td></tr><tr><td>2</td><td>1</td><td>1</td><td>&quot;Cumings, Mrs. John Bradley (Fl…</td><td>&quot;female&quot;</td><td>38.0</td><td>1</td><td>0</td><td>&quot;PC 17599&quot;</td><td>71.2833</td><td>&quot;C85&quot;</td><td>&quot;C&quot;</td></tr><tr><td>3</td><td>1</td><td>3</td><td>&quot;Heikkinen, Miss. Laina&quot;</td><td>&quot;female&quot;</td><td>26.0</td><td>0</td><td>0</td><td>&quot;STON/O2. 3101282&quot;</td><td>7.925</td><td>null</td><td>&quot;S&quot;</td></tr></tbody></table></div>"
      ]
     },
     "execution_count": 7,
     "metadata": {},
     "output_type": "execute_result"
    }
   ],
   "execution_count": 7
  },
  {
   "cell_type": "markdown",
   "id": "5c3111de-803f-4dfe-8168-34c40392ba8d",
   "metadata": {},
   "source": [
    "## Transforming an existing column\n",
    "\n",
    "We can transform an existing column by passing the column to `with_columns`.\n",
    "\n",
    "In this example we round `Fare` to 0 significant figures."
   ]
  },
  {
   "metadata": {
    "ExecuteTime": {
     "end_time": "2025-03-31T02:10:18.421213Z",
     "start_time": "2025-03-31T02:10:18.417986Z"
    }
   },
   "cell_type": "code",
   "source": [
    "(\n",
    "    pl.read_csv(csv_file)\n",
    "    .with_columns(\n",
    "        pl.col('Fare').round(0)\n",
    "    )\n",
    "    .head(3)\n",
    ")"
   ],
   "id": "96fecac266561725",
   "outputs": [
    {
     "data": {
      "text/plain": [
       "shape: (3, 12)\n",
       "┌─────────────┬──────────┬────────┬──────────────────────┬───┬───────────┬──────┬───────┬──────────┐\n",
       "│ PassengerId ┆ Survived ┆ Pclass ┆ Name                 ┆ … ┆ Ticket    ┆ Fare ┆ Cabin ┆ Embarked │\n",
       "│ ---         ┆ ---      ┆ ---    ┆ ---                  ┆   ┆ ---       ┆ ---  ┆ ---   ┆ ---      │\n",
       "│ i64         ┆ i64      ┆ i64    ┆ str                  ┆   ┆ str       ┆ f64  ┆ str   ┆ str      │\n",
       "╞═════════════╪══════════╪════════╪══════════════════════╪═══╪═══════════╪══════╪═══════╪══════════╡\n",
       "│ 1           ┆ 0        ┆ 3      ┆ Braund, Mr. Owen     ┆ … ┆ A/5 21171 ┆ 7.0  ┆ null  ┆ S        │\n",
       "│             ┆          ┆        ┆ Harris               ┆   ┆           ┆      ┆       ┆          │\n",
       "│ 2           ┆ 1        ┆ 1      ┆ Cumings, Mrs. John   ┆ … ┆ PC 17599  ┆ 71.0 ┆ C85   ┆ C        │\n",
       "│             ┆          ┆        ┆ Bradley (Fl…         ┆   ┆           ┆      ┆       ┆          │\n",
       "│ 3           ┆ 1        ┆ 3      ┆ Heikkinen, Miss.     ┆ … ┆ STON/O2.  ┆ 8.0  ┆ null  ┆ S        │\n",
       "│             ┆          ┆        ┆ Laina                ┆   ┆ 3101282   ┆      ┆       ┆          │\n",
       "└─────────────┴──────────┴────────┴──────────────────────┴───┴───────────┴──────┴───────┴──────────┘"
      ],
      "text/html": [
       "<div><style>\n",
       ".dataframe > thead > tr,\n",
       ".dataframe > tbody > tr {\n",
       "  text-align: right;\n",
       "  white-space: pre-wrap;\n",
       "}\n",
       "</style>\n",
       "<small>shape: (3, 12)</small><table border=\"1\" class=\"dataframe\"><thead><tr><th>PassengerId</th><th>Survived</th><th>Pclass</th><th>Name</th><th>Sex</th><th>Age</th><th>SibSp</th><th>Parch</th><th>Ticket</th><th>Fare</th><th>Cabin</th><th>Embarked</th></tr><tr><td>i64</td><td>i64</td><td>i64</td><td>str</td><td>str</td><td>f64</td><td>i64</td><td>i64</td><td>str</td><td>f64</td><td>str</td><td>str</td></tr></thead><tbody><tr><td>1</td><td>0</td><td>3</td><td>&quot;Braund, Mr. Owen Harris&quot;</td><td>&quot;male&quot;</td><td>22.0</td><td>1</td><td>0</td><td>&quot;A/5 21171&quot;</td><td>7.0</td><td>null</td><td>&quot;S&quot;</td></tr><tr><td>2</td><td>1</td><td>1</td><td>&quot;Cumings, Mrs. John Bradley (Fl…</td><td>&quot;female&quot;</td><td>38.0</td><td>1</td><td>0</td><td>&quot;PC 17599&quot;</td><td>71.0</td><td>&quot;C85&quot;</td><td>&quot;C&quot;</td></tr><tr><td>3</td><td>1</td><td>3</td><td>&quot;Heikkinen, Miss. Laina&quot;</td><td>&quot;female&quot;</td><td>26.0</td><td>0</td><td>0</td><td>&quot;STON/O2. 3101282&quot;</td><td>8.0</td><td>null</td><td>&quot;S&quot;</td></tr></tbody></table></div>"
      ]
     },
     "execution_count": 6,
     "metadata": {},
     "output_type": "execute_result"
    }
   ],
   "execution_count": 6
  },
  {
   "metadata": {},
   "cell_type": "markdown",
   "source": [
    "* select에서 변경하면 'fare'만 나오는데\n",
    "* with_columns에서 변경하면 fare와 함께 모든 컬럼 나옴."
   ],
   "id": "54c70d013ada2b83"
  },
  {
   "metadata": {
    "ExecuteTime": {
     "end_time": "2025-03-31T02:13:42.222447Z",
     "start_time": "2025-03-31T02:13:42.216768Z"
    }
   },
   "cell_type": "code",
   "source": [
    "# 이렇게 구질구질하게 하면 되기는해 ㅋ\n",
    "# 근데 굳이 이렇게 해야하나?\n",
    "(\n",
    "    pl.read_csv(csv_file)\n",
    "    .select(\n",
    "        pl.col(\"Fare\").round(0).alias(\"roundFare\"),\n",
    "        pl.exclude('Fare')\n",
    "    )\n",
    "\n",
    ")"
   ],
   "id": "4858a6f8000e8209",
   "outputs": [
    {
     "data": {
      "text/plain": [
       "shape: (891, 12)\n",
       "┌───────────┬─────────────┬──────────┬────────┬───┬───────┬──────────────────┬───────┬──────────┐\n",
       "│ roundFare ┆ PassengerId ┆ Survived ┆ Pclass ┆ … ┆ Parch ┆ Ticket           ┆ Cabin ┆ Embarked │\n",
       "│ ---       ┆ ---         ┆ ---      ┆ ---    ┆   ┆ ---   ┆ ---              ┆ ---   ┆ ---      │\n",
       "│ f64       ┆ i64         ┆ i64      ┆ i64    ┆   ┆ i64   ┆ str              ┆ str   ┆ str      │\n",
       "╞═══════════╪═════════════╪══════════╪════════╪═══╪═══════╪══════════════════╪═══════╪══════════╡\n",
       "│ 7.0       ┆ 1           ┆ 0        ┆ 3      ┆ … ┆ 0     ┆ A/5 21171        ┆ null  ┆ S        │\n",
       "│ 71.0      ┆ 2           ┆ 1        ┆ 1      ┆ … ┆ 0     ┆ PC 17599         ┆ C85   ┆ C        │\n",
       "│ 8.0       ┆ 3           ┆ 1        ┆ 3      ┆ … ┆ 0     ┆ STON/O2. 3101282 ┆ null  ┆ S        │\n",
       "│ 53.0      ┆ 4           ┆ 1        ┆ 1      ┆ … ┆ 0     ┆ 113803           ┆ C123  ┆ S        │\n",
       "│ 8.0       ┆ 5           ┆ 0        ┆ 3      ┆ … ┆ 0     ┆ 373450           ┆ null  ┆ S        │\n",
       "│ …         ┆ …           ┆ …        ┆ …      ┆ … ┆ …     ┆ …                ┆ …     ┆ …        │\n",
       "│ 13.0      ┆ 887         ┆ 0        ┆ 2      ┆ … ┆ 0     ┆ 211536           ┆ null  ┆ S        │\n",
       "│ 30.0      ┆ 888         ┆ 1        ┆ 1      ┆ … ┆ 0     ┆ 112053           ┆ B42   ┆ S        │\n",
       "│ 23.0      ┆ 889         ┆ 0        ┆ 3      ┆ … ┆ 2     ┆ W./C. 6607       ┆ null  ┆ S        │\n",
       "│ 30.0      ┆ 890         ┆ 1        ┆ 1      ┆ … ┆ 0     ┆ 111369           ┆ C148  ┆ C        │\n",
       "│ 8.0       ┆ 891         ┆ 0        ┆ 3      ┆ … ┆ 0     ┆ 370376           ┆ null  ┆ Q        │\n",
       "└───────────┴─────────────┴──────────┴────────┴───┴───────┴──────────────────┴───────┴──────────┘"
      ],
      "text/html": [
       "<div><style>\n",
       ".dataframe > thead > tr,\n",
       ".dataframe > tbody > tr {\n",
       "  text-align: right;\n",
       "  white-space: pre-wrap;\n",
       "}\n",
       "</style>\n",
       "<small>shape: (891, 12)</small><table border=\"1\" class=\"dataframe\"><thead><tr><th>roundFare</th><th>PassengerId</th><th>Survived</th><th>Pclass</th><th>Name</th><th>Sex</th><th>Age</th><th>SibSp</th><th>Parch</th><th>Ticket</th><th>Cabin</th><th>Embarked</th></tr><tr><td>f64</td><td>i64</td><td>i64</td><td>i64</td><td>str</td><td>str</td><td>f64</td><td>i64</td><td>i64</td><td>str</td><td>str</td><td>str</td></tr></thead><tbody><tr><td>7.0</td><td>1</td><td>0</td><td>3</td><td>&quot;Braund, Mr. Owen Harris&quot;</td><td>&quot;male&quot;</td><td>22.0</td><td>1</td><td>0</td><td>&quot;A/5 21171&quot;</td><td>null</td><td>&quot;S&quot;</td></tr><tr><td>71.0</td><td>2</td><td>1</td><td>1</td><td>&quot;Cumings, Mrs. John Bradley (Fl…</td><td>&quot;female&quot;</td><td>38.0</td><td>1</td><td>0</td><td>&quot;PC 17599&quot;</td><td>&quot;C85&quot;</td><td>&quot;C&quot;</td></tr><tr><td>8.0</td><td>3</td><td>1</td><td>3</td><td>&quot;Heikkinen, Miss. Laina&quot;</td><td>&quot;female&quot;</td><td>26.0</td><td>0</td><td>0</td><td>&quot;STON/O2. 3101282&quot;</td><td>null</td><td>&quot;S&quot;</td></tr><tr><td>53.0</td><td>4</td><td>1</td><td>1</td><td>&quot;Futrelle, Mrs. Jacques Heath (…</td><td>&quot;female&quot;</td><td>35.0</td><td>1</td><td>0</td><td>&quot;113803&quot;</td><td>&quot;C123&quot;</td><td>&quot;S&quot;</td></tr><tr><td>8.0</td><td>5</td><td>0</td><td>3</td><td>&quot;Allen, Mr. William Henry&quot;</td><td>&quot;male&quot;</td><td>35.0</td><td>0</td><td>0</td><td>&quot;373450&quot;</td><td>null</td><td>&quot;S&quot;</td></tr><tr><td>&hellip;</td><td>&hellip;</td><td>&hellip;</td><td>&hellip;</td><td>&hellip;</td><td>&hellip;</td><td>&hellip;</td><td>&hellip;</td><td>&hellip;</td><td>&hellip;</td><td>&hellip;</td><td>&hellip;</td></tr><tr><td>13.0</td><td>887</td><td>0</td><td>2</td><td>&quot;Montvila, Rev. Juozas&quot;</td><td>&quot;male&quot;</td><td>27.0</td><td>0</td><td>0</td><td>&quot;211536&quot;</td><td>null</td><td>&quot;S&quot;</td></tr><tr><td>30.0</td><td>888</td><td>1</td><td>1</td><td>&quot;Graham, Miss. Margaret Edith&quot;</td><td>&quot;female&quot;</td><td>19.0</td><td>0</td><td>0</td><td>&quot;112053&quot;</td><td>&quot;B42&quot;</td><td>&quot;S&quot;</td></tr><tr><td>23.0</td><td>889</td><td>0</td><td>3</td><td>&quot;Johnston, Miss. Catherine Hele…</td><td>&quot;female&quot;</td><td>null</td><td>1</td><td>2</td><td>&quot;W./C. 6607&quot;</td><td>null</td><td>&quot;S&quot;</td></tr><tr><td>30.0</td><td>890</td><td>1</td><td>1</td><td>&quot;Behr, Mr. Karl Howell&quot;</td><td>&quot;male&quot;</td><td>26.0</td><td>0</td><td>0</td><td>&quot;111369&quot;</td><td>&quot;C148&quot;</td><td>&quot;C&quot;</td></tr><tr><td>8.0</td><td>891</td><td>0</td><td>3</td><td>&quot;Dooley, Mr. Patrick&quot;</td><td>&quot;male&quot;</td><td>32.0</td><td>0</td><td>0</td><td>&quot;370376&quot;</td><td>null</td><td>&quot;Q&quot;</td></tr></tbody></table></div>"
      ]
     },
     "execution_count": 15,
     "metadata": {},
     "output_type": "execute_result"
    }
   ],
   "execution_count": 15
  },
  {
   "cell_type": "markdown",
   "id": "b45f6cb6-b15e-4727-8834-9938ff91ae9d",
   "metadata": {},
   "source": [
    "## Adding a new column from an existing column\n",
    "We can create a new column from an existing column by renaming it with `alias`\n",
    "> `.alias`로 이름 변경 가능..!"
   ]
  },
  {
   "metadata": {
    "ExecuteTime": {
     "end_time": "2025-03-31T02:16:50.726470Z",
     "start_time": "2025-03-31T02:16:50.723419Z"
    }
   },
   "cell_type": "code",
   "source": [
    "(\n",
    "    pl.read_csv(csv_file)\n",
    "    .with_columns(\n",
    "        pl.col('Fare').round(0).alias(\"컬럼이름변경\")\n",
    "    )\n",
    "    .head(3)\n",
    ")"
   ],
   "id": "379616cef479a61a",
   "outputs": [
    {
     "data": {
      "text/plain": [
       "shape: (3, 13)\n",
       "┌─────────────┬──────────┬────────┬────────────────┬───┬─────────┬───────┬──────────┬──────────────┐\n",
       "│ PassengerId ┆ Survived ┆ Pclass ┆ Name           ┆ … ┆ Fare    ┆ Cabin ┆ Embarked ┆ 컬럼이름변경 │\n",
       "│ ---         ┆ ---      ┆ ---    ┆ ---            ┆   ┆ ---     ┆ ---   ┆ ---      ┆ ---          │\n",
       "│ i64         ┆ i64      ┆ i64    ┆ str            ┆   ┆ f64     ┆ str   ┆ str      ┆ f64          │\n",
       "╞═════════════╪══════════╪════════╪════════════════╪═══╪═════════╪═══════╪══════════╪══════════════╡\n",
       "│ 1           ┆ 0        ┆ 3      ┆ Braund, Mr.    ┆ … ┆ 7.25    ┆ null  ┆ S        ┆ 7.0          │\n",
       "│             ┆          ┆        ┆ Owen Harris    ┆   ┆         ┆       ┆          ┆              │\n",
       "│ 2           ┆ 1        ┆ 1      ┆ Cumings, Mrs.  ┆ … ┆ 71.2833 ┆ C85   ┆ C        ┆ 71.0         │\n",
       "│             ┆          ┆        ┆ John Bradley   ┆   ┆         ┆       ┆          ┆              │\n",
       "│             ┆          ┆        ┆ (Fl…           ┆   ┆         ┆       ┆          ┆              │\n",
       "│ 3           ┆ 1        ┆ 3      ┆ Heikkinen,     ┆ … ┆ 7.925   ┆ null  ┆ S        ┆ 8.0          │\n",
       "│             ┆          ┆        ┆ Miss. Laina    ┆   ┆         ┆       ┆          ┆              │\n",
       "└─────────────┴──────────┴────────┴────────────────┴───┴─────────┴───────┴──────────┴──────────────┘"
      ],
      "text/html": [
       "<div><style>\n",
       ".dataframe > thead > tr,\n",
       ".dataframe > tbody > tr {\n",
       "  text-align: right;\n",
       "  white-space: pre-wrap;\n",
       "}\n",
       "</style>\n",
       "<small>shape: (3, 13)</small><table border=\"1\" class=\"dataframe\"><thead><tr><th>PassengerId</th><th>Survived</th><th>Pclass</th><th>Name</th><th>Sex</th><th>Age</th><th>SibSp</th><th>Parch</th><th>Ticket</th><th>Fare</th><th>Cabin</th><th>Embarked</th><th>컬럼이름변경</th></tr><tr><td>i64</td><td>i64</td><td>i64</td><td>str</td><td>str</td><td>f64</td><td>i64</td><td>i64</td><td>str</td><td>f64</td><td>str</td><td>str</td><td>f64</td></tr></thead><tbody><tr><td>1</td><td>0</td><td>3</td><td>&quot;Braund, Mr. Owen Harris&quot;</td><td>&quot;male&quot;</td><td>22.0</td><td>1</td><td>0</td><td>&quot;A/5 21171&quot;</td><td>7.25</td><td>null</td><td>&quot;S&quot;</td><td>7.0</td></tr><tr><td>2</td><td>1</td><td>1</td><td>&quot;Cumings, Mrs. John Bradley (Fl…</td><td>&quot;female&quot;</td><td>38.0</td><td>1</td><td>0</td><td>&quot;PC 17599&quot;</td><td>71.2833</td><td>&quot;C85&quot;</td><td>&quot;C&quot;</td><td>71.0</td></tr><tr><td>3</td><td>1</td><td>3</td><td>&quot;Heikkinen, Miss. Laina&quot;</td><td>&quot;female&quot;</td><td>26.0</td><td>0</td><td>0</td><td>&quot;STON/O2. 3101282&quot;</td><td>7.925</td><td>null</td><td>&quot;S&quot;</td><td>8.0</td></tr></tbody></table></div>"
      ]
     },
     "execution_count": 16,
     "metadata": {},
     "output_type": "execute_result"
    }
   ],
   "execution_count": 16
  },
  {
   "cell_type": "code",
   "execution_count": null,
   "id": "ae20907f-8ba2-452b-b5bd-c1cbee1fab3b",
   "metadata": {
    "tags": []
   },
   "outputs": [],
   "source": [
    "(\n",
    "    pl.read_csv(csv_file)\n",
    "    .with_columns(\n",
    "        pl.col('Fare').round(0).alias('roundFare')\n",
    "    )\n",
    "    .head(3)\n",
    ")"
   ]
  },
  {
   "cell_type": "markdown",
   "id": "54f42343-51e6-466a-946b-b15c81fada78",
   "metadata": {},
   "source": [
    "Instead of using `alias` we can also create the new column by assigning the column name equal to the expression (this approach in Polars is referred to as kwargs assignment) "
   ]
  },
  {
   "cell_type": "code",
   "id": "2de88e52-b770-4eb6-b8c1-5df2fcce86dd",
   "metadata": {
    "tags": [],
    "ExecuteTime": {
     "end_time": "2025-03-31T02:17:15.974959Z",
     "start_time": "2025-03-31T02:17:15.970994Z"
    }
   },
   "source": [
    "(\n",
    "    pl.read_csv(csv_file)\n",
    "    .with_columns(\n",
    "        roundFare = pl.col('Fare').round(0)\n",
    "    )\n",
    "    .head(3)\n",
    ")"
   ],
   "outputs": [
    {
     "data": {
      "text/plain": [
       "shape: (3, 13)\n",
       "┌─────────────┬──────────┬────────┬───────────────────┬───┬─────────┬───────┬──────────┬───────────┐\n",
       "│ PassengerId ┆ Survived ┆ Pclass ┆ Name              ┆ … ┆ Fare    ┆ Cabin ┆ Embarked ┆ roundFare │\n",
       "│ ---         ┆ ---      ┆ ---    ┆ ---               ┆   ┆ ---     ┆ ---   ┆ ---      ┆ ---       │\n",
       "│ i64         ┆ i64      ┆ i64    ┆ str               ┆   ┆ f64     ┆ str   ┆ str      ┆ f64       │\n",
       "╞═════════════╪══════════╪════════╪═══════════════════╪═══╪═════════╪═══════╪══════════╪═══════════╡\n",
       "│ 1           ┆ 0        ┆ 3      ┆ Braund, Mr. Owen  ┆ … ┆ 7.25    ┆ null  ┆ S        ┆ 7.0       │\n",
       "│             ┆          ┆        ┆ Harris            ┆   ┆         ┆       ┆          ┆           │\n",
       "│ 2           ┆ 1        ┆ 1      ┆ Cumings, Mrs.     ┆ … ┆ 71.2833 ┆ C85   ┆ C        ┆ 71.0      │\n",
       "│             ┆          ┆        ┆ John Bradley (Fl… ┆   ┆         ┆       ┆          ┆           │\n",
       "│ 3           ┆ 1        ┆ 3      ┆ Heikkinen, Miss.  ┆ … ┆ 7.925   ┆ null  ┆ S        ┆ 8.0       │\n",
       "│             ┆          ┆        ┆ Laina             ┆   ┆         ┆       ┆          ┆           │\n",
       "└─────────────┴──────────┴────────┴───────────────────┴───┴─────────┴───────┴──────────┴───────────┘"
      ],
      "text/html": [
       "<div><style>\n",
       ".dataframe > thead > tr,\n",
       ".dataframe > tbody > tr {\n",
       "  text-align: right;\n",
       "  white-space: pre-wrap;\n",
       "}\n",
       "</style>\n",
       "<small>shape: (3, 13)</small><table border=\"1\" class=\"dataframe\"><thead><tr><th>PassengerId</th><th>Survived</th><th>Pclass</th><th>Name</th><th>Sex</th><th>Age</th><th>SibSp</th><th>Parch</th><th>Ticket</th><th>Fare</th><th>Cabin</th><th>Embarked</th><th>roundFare</th></tr><tr><td>i64</td><td>i64</td><td>i64</td><td>str</td><td>str</td><td>f64</td><td>i64</td><td>i64</td><td>str</td><td>f64</td><td>str</td><td>str</td><td>f64</td></tr></thead><tbody><tr><td>1</td><td>0</td><td>3</td><td>&quot;Braund, Mr. Owen Harris&quot;</td><td>&quot;male&quot;</td><td>22.0</td><td>1</td><td>0</td><td>&quot;A/5 21171&quot;</td><td>7.25</td><td>null</td><td>&quot;S&quot;</td><td>7.0</td></tr><tr><td>2</td><td>1</td><td>1</td><td>&quot;Cumings, Mrs. John Bradley (Fl…</td><td>&quot;female&quot;</td><td>38.0</td><td>1</td><td>0</td><td>&quot;PC 17599&quot;</td><td>71.2833</td><td>&quot;C85&quot;</td><td>&quot;C&quot;</td><td>71.0</td></tr><tr><td>3</td><td>1</td><td>3</td><td>&quot;Heikkinen, Miss. Laina&quot;</td><td>&quot;female&quot;</td><td>26.0</td><td>0</td><td>0</td><td>&quot;STON/O2. 3101282&quot;</td><td>7.925</td><td>null</td><td>&quot;S&quot;</td><td>8.0</td></tr></tbody></table></div>"
      ]
     },
     "execution_count": 17,
     "metadata": {},
     "output_type": "execute_result"
    }
   ],
   "execution_count": 17
  },
  {
   "cell_type": "markdown",
   "id": "7c59f9d6-8e62-4fe4-9b45-604fa82d8af5",
   "metadata": {},
   "source": [
    "## Difference between `with_columns` and `select`\n",
    "- The `select` method returns a subset of the columns but `with_columns` method returns **all of the columns**\n",
    "- `with_columns` accepts expressions only - no strings"
   ]
  },
  {
   "cell_type": "markdown",
   "id": "98c37e9f-44ef-4be5-844e-0db6adc40bb7",
   "metadata": {},
   "source": [
    "## Adding or transforming a column with column arithmetic\n",
    "\n",
    "We can transform columns with arithmetic in an expression.\n",
    "\n",
    "In this example we double the values in the `Fare` column in a new column called `doubleFare`"
   ]
  },
  {
   "cell_type": "code",
   "id": "5416a720-675f-4ab5-b93f-990c6ccf6598",
   "metadata": {
    "tags": [],
    "ExecuteTime": {
     "end_time": "2025-03-31T02:25:14.304450Z",
     "start_time": "2025-03-31T02:25:14.299608Z"
    }
   },
   "source": [
    "(\n",
    "    pl.read_csv(csv_file)\n",
    "    .with_columns(\n",
    "        (pl.col(\"Fare\") * 2).alias(\"doubleFare\")\n",
    "    )\n",
    "    .head(3)\n",
    ")"
   ],
   "outputs": [
    {
     "data": {
      "text/plain": [
       "shape: (3, 13)\n",
       "┌─────────────┬──────────┬────────┬──────────────────┬───┬─────────┬───────┬──────────┬────────────┐\n",
       "│ PassengerId ┆ Survived ┆ Pclass ┆ Name             ┆ … ┆ Fare    ┆ Cabin ┆ Embarked ┆ doubleFare │\n",
       "│ ---         ┆ ---      ┆ ---    ┆ ---              ┆   ┆ ---     ┆ ---   ┆ ---      ┆ ---        │\n",
       "│ i64         ┆ i64      ┆ i64    ┆ str              ┆   ┆ f64     ┆ str   ┆ str      ┆ f64        │\n",
       "╞═════════════╪══════════╪════════╪══════════════════╪═══╪═════════╪═══════╪══════════╪════════════╡\n",
       "│ 1           ┆ 0        ┆ 3      ┆ Braund, Mr. Owen ┆ … ┆ 7.25    ┆ null  ┆ S        ┆ 14.5       │\n",
       "│             ┆          ┆        ┆ Harris           ┆   ┆         ┆       ┆          ┆            │\n",
       "│ 2           ┆ 1        ┆ 1      ┆ Cumings, Mrs.    ┆ … ┆ 71.2833 ┆ C85   ┆ C        ┆ 142.5666   │\n",
       "│             ┆          ┆        ┆ John Bradley     ┆   ┆         ┆       ┆          ┆            │\n",
       "│             ┆          ┆        ┆ (Fl…             ┆   ┆         ┆       ┆          ┆            │\n",
       "│ 3           ┆ 1        ┆ 3      ┆ Heikkinen, Miss. ┆ … ┆ 7.925   ┆ null  ┆ S        ┆ 15.85      │\n",
       "│             ┆          ┆        ┆ Laina            ┆   ┆         ┆       ┆          ┆            │\n",
       "└─────────────┴──────────┴────────┴──────────────────┴───┴─────────┴───────┴──────────┴────────────┘"
      ],
      "text/html": [
       "<div><style>\n",
       ".dataframe > thead > tr,\n",
       ".dataframe > tbody > tr {\n",
       "  text-align: right;\n",
       "  white-space: pre-wrap;\n",
       "}\n",
       "</style>\n",
       "<small>shape: (3, 13)</small><table border=\"1\" class=\"dataframe\"><thead><tr><th>PassengerId</th><th>Survived</th><th>Pclass</th><th>Name</th><th>Sex</th><th>Age</th><th>SibSp</th><th>Parch</th><th>Ticket</th><th>Fare</th><th>Cabin</th><th>Embarked</th><th>doubleFare</th></tr><tr><td>i64</td><td>i64</td><td>i64</td><td>str</td><td>str</td><td>f64</td><td>i64</td><td>i64</td><td>str</td><td>f64</td><td>str</td><td>str</td><td>f64</td></tr></thead><tbody><tr><td>1</td><td>0</td><td>3</td><td>&quot;Braund, Mr. Owen Harris&quot;</td><td>&quot;male&quot;</td><td>22.0</td><td>1</td><td>0</td><td>&quot;A/5 21171&quot;</td><td>7.25</td><td>null</td><td>&quot;S&quot;</td><td>14.5</td></tr><tr><td>2</td><td>1</td><td>1</td><td>&quot;Cumings, Mrs. John Bradley (Fl…</td><td>&quot;female&quot;</td><td>38.0</td><td>1</td><td>0</td><td>&quot;PC 17599&quot;</td><td>71.2833</td><td>&quot;C85&quot;</td><td>&quot;C&quot;</td><td>142.5666</td></tr><tr><td>3</td><td>1</td><td>3</td><td>&quot;Heikkinen, Miss. Laina&quot;</td><td>&quot;female&quot;</td><td>26.0</td><td>0</td><td>0</td><td>&quot;STON/O2. 3101282&quot;</td><td>7.925</td><td>null</td><td>&quot;S&quot;</td><td>15.85</td></tr></tbody></table></div>"
      ]
     },
     "execution_count": 18,
     "metadata": {},
     "output_type": "execute_result"
    }
   ],
   "execution_count": 18
  },
  {
   "cell_type": "markdown",
   "id": "3c8f0883-4232-4f70-9daf-fb0d3ae09358",
   "metadata": {},
   "source": [
    "We can also do arithmetic multiple columns in an expression.\n",
    "\n",
    "In this examle we add the values in the `Fare` and `Age` column"
   ]
  },
  {
   "cell_type": "code",
   "id": "a377a583-1918-4109-bc7c-23053fb8e919",
   "metadata": {
    "tags": [],
    "ExecuteTime": {
     "end_time": "2025-03-31T02:25:44.757560Z",
     "start_time": "2025-03-31T02:25:44.752334Z"
    }
   },
   "source": [
    "(\n",
    "    pl.read_csv(csv_file)\n",
    "    .with_columns(\n",
    "        (pl.col(\"Fare\") + pl.col(\"Age\")).alias(\"farePlusAge\")\n",
    "    )\n",
    "    .head(2)\n",
    ")"
   ],
   "outputs": [
    {
     "data": {
      "text/plain": [
       "shape: (2, 13)\n",
       "┌─────────────┬──────────┬────────┬─────────────────┬───┬─────────┬───────┬──────────┬─────────────┐\n",
       "│ PassengerId ┆ Survived ┆ Pclass ┆ Name            ┆ … ┆ Fare    ┆ Cabin ┆ Embarked ┆ farePlusAge │\n",
       "│ ---         ┆ ---      ┆ ---    ┆ ---             ┆   ┆ ---     ┆ ---   ┆ ---      ┆ ---         │\n",
       "│ i64         ┆ i64      ┆ i64    ┆ str             ┆   ┆ f64     ┆ str   ┆ str      ┆ f64         │\n",
       "╞═════════════╪══════════╪════════╪═════════════════╪═══╪═════════╪═══════╪══════════╪═════════════╡\n",
       "│ 1           ┆ 0        ┆ 3      ┆ Braund, Mr.     ┆ … ┆ 7.25    ┆ null  ┆ S        ┆ 29.25       │\n",
       "│             ┆          ┆        ┆ Owen Harris     ┆   ┆         ┆       ┆          ┆             │\n",
       "│ 2           ┆ 1        ┆ 1      ┆ Cumings, Mrs.   ┆ … ┆ 71.2833 ┆ C85   ┆ C        ┆ 109.2833    │\n",
       "│             ┆          ┆        ┆ John Bradley    ┆   ┆         ┆       ┆          ┆             │\n",
       "│             ┆          ┆        ┆ (Fl…            ┆   ┆         ┆       ┆          ┆             │\n",
       "└─────────────┴──────────┴────────┴─────────────────┴───┴─────────┴───────┴──────────┴─────────────┘"
      ],
      "text/html": [
       "<div><style>\n",
       ".dataframe > thead > tr,\n",
       ".dataframe > tbody > tr {\n",
       "  text-align: right;\n",
       "  white-space: pre-wrap;\n",
       "}\n",
       "</style>\n",
       "<small>shape: (2, 13)</small><table border=\"1\" class=\"dataframe\"><thead><tr><th>PassengerId</th><th>Survived</th><th>Pclass</th><th>Name</th><th>Sex</th><th>Age</th><th>SibSp</th><th>Parch</th><th>Ticket</th><th>Fare</th><th>Cabin</th><th>Embarked</th><th>farePlusAge</th></tr><tr><td>i64</td><td>i64</td><td>i64</td><td>str</td><td>str</td><td>f64</td><td>i64</td><td>i64</td><td>str</td><td>f64</td><td>str</td><td>str</td><td>f64</td></tr></thead><tbody><tr><td>1</td><td>0</td><td>3</td><td>&quot;Braund, Mr. Owen Harris&quot;</td><td>&quot;male&quot;</td><td>22.0</td><td>1</td><td>0</td><td>&quot;A/5 21171&quot;</td><td>7.25</td><td>null</td><td>&quot;S&quot;</td><td>29.25</td></tr><tr><td>2</td><td>1</td><td>1</td><td>&quot;Cumings, Mrs. John Bradley (Fl…</td><td>&quot;female&quot;</td><td>38.0</td><td>1</td><td>0</td><td>&quot;PC 17599&quot;</td><td>71.2833</td><td>&quot;C85&quot;</td><td>&quot;C&quot;</td><td>109.2833</td></tr></tbody></table></div>"
      ]
     },
     "execution_count": 21,
     "metadata": {},
     "output_type": "execute_result"
    }
   ],
   "execution_count": 21
  },
  {
   "cell_type": "markdown",
   "id": "2a75dd82-ecdb-4ba2-9ede-88b646d38aac",
   "metadata": {},
   "source": [
    "Some people feel text arithmetic expressions are more readable. \n",
    "\n",
    "We do the same example as above but with the `.add` operator rather than `+` "
   ]
  },
  {
   "cell_type": "code",
   "id": "a21ae3ad-421e-4051-b60a-9505d56330f3",
   "metadata": {
    "tags": [],
    "ExecuteTime": {
     "end_time": "2025-03-31T02:26:31.786036Z",
     "start_time": "2025-03-31T02:26:31.781937Z"
    }
   },
   "source": [
    "(\n",
    "    pl.read_csv(csv_file)\n",
    "    .with_columns(\n",
    "        pl.col('Fare').add(pl.col('Age')).alias('farePlusAge')\n",
    "    )\n",
    "    .head(2)\n",
    ")\n"
   ],
   "outputs": [
    {
     "data": {
      "text/plain": [
       "shape: (2, 13)\n",
       "┌─────────────┬──────────┬────────┬─────────────────┬───┬─────────┬───────┬──────────┬─────────────┐\n",
       "│ PassengerId ┆ Survived ┆ Pclass ┆ Name            ┆ … ┆ Fare    ┆ Cabin ┆ Embarked ┆ farePlusAge │\n",
       "│ ---         ┆ ---      ┆ ---    ┆ ---             ┆   ┆ ---     ┆ ---   ┆ ---      ┆ ---         │\n",
       "│ i64         ┆ i64      ┆ i64    ┆ str             ┆   ┆ f64     ┆ str   ┆ str      ┆ f64         │\n",
       "╞═════════════╪══════════╪════════╪═════════════════╪═══╪═════════╪═══════╪══════════╪═════════════╡\n",
       "│ 1           ┆ 0        ┆ 3      ┆ Braund, Mr.     ┆ … ┆ 7.25    ┆ null  ┆ S        ┆ 29.25       │\n",
       "│             ┆          ┆        ┆ Owen Harris     ┆   ┆         ┆       ┆          ┆             │\n",
       "│ 2           ┆ 1        ┆ 1      ┆ Cumings, Mrs.   ┆ … ┆ 71.2833 ┆ C85   ┆ C        ┆ 109.2833    │\n",
       "│             ┆          ┆        ┆ John Bradley    ┆   ┆         ┆       ┆          ┆             │\n",
       "│             ┆          ┆        ┆ (Fl…            ┆   ┆         ┆       ┆          ┆             │\n",
       "└─────────────┴──────────┴────────┴─────────────────┴───┴─────────┴───────┴──────────┴─────────────┘"
      ],
      "text/html": [
       "<div><style>\n",
       ".dataframe > thead > tr,\n",
       ".dataframe > tbody > tr {\n",
       "  text-align: right;\n",
       "  white-space: pre-wrap;\n",
       "}\n",
       "</style>\n",
       "<small>shape: (2, 13)</small><table border=\"1\" class=\"dataframe\"><thead><tr><th>PassengerId</th><th>Survived</th><th>Pclass</th><th>Name</th><th>Sex</th><th>Age</th><th>SibSp</th><th>Parch</th><th>Ticket</th><th>Fare</th><th>Cabin</th><th>Embarked</th><th>farePlusAge</th></tr><tr><td>i64</td><td>i64</td><td>i64</td><td>str</td><td>str</td><td>f64</td><td>i64</td><td>i64</td><td>str</td><td>f64</td><td>str</td><td>str</td><td>f64</td></tr></thead><tbody><tr><td>1</td><td>0</td><td>3</td><td>&quot;Braund, Mr. Owen Harris&quot;</td><td>&quot;male&quot;</td><td>22.0</td><td>1</td><td>0</td><td>&quot;A/5 21171&quot;</td><td>7.25</td><td>null</td><td>&quot;S&quot;</td><td>29.25</td></tr><tr><td>2</td><td>1</td><td>1</td><td>&quot;Cumings, Mrs. John Bradley (Fl…</td><td>&quot;female&quot;</td><td>38.0</td><td>1</td><td>0</td><td>&quot;PC 17599&quot;</td><td>71.2833</td><td>&quot;C85&quot;</td><td>&quot;C&quot;</td><td>109.2833</td></tr></tbody></table></div>"
      ]
     },
     "execution_count": 22,
     "metadata": {},
     "output_type": "execute_result"
    }
   ],
   "execution_count": 22
  },
  {
   "cell_type": "markdown",
   "id": "32060b94-9548-47ce-81e7-9469bdd9be39",
   "metadata": {},
   "source": [
    "The mapping from python operators to expressions are:\n",
    "- `==` to `eq`\n",
    "- `//` to `floordiv`\n",
    "- `> ` to `gt`\n",
    "- `>=` to `ge`\n",
    "- `< ` to `lt`\n",
    "- `<=` to `le`\n",
    "- `% ` to `mod`\n",
    "- `!=` to `ne`\n",
    "- `- ` to `sub`\n",
    "- `/ ` to `truediv`\n",
    "- `^ ` to `xor`\n",
    "- `* ` to `mul`"
   ]
  },
  {
   "cell_type": "markdown",
   "id": "bd5e4efd-c2f0-48ff-b19d-b0c050c836da",
   "metadata": {},
   "source": [
    "## Adding a new column with a constant value\n",
    "\n",
    "Use the literal function `pl.lit` to specify a constant value in Polars.\n",
    "\n",
    "Here we add a new column called `Aboard` with a value `yes` for all passengers"
   ]
  },
  {
   "metadata": {},
   "cell_type": "markdown",
   "source": "`pl.lit(값)` → 고정된 값을 모든 행에 적용할 때 사용",
   "id": "25af100e1133013e"
  },
  {
   "cell_type": "code",
   "id": "2b8a4c10-bc6c-476d-b7e2-5bde96a2e5b0",
   "metadata": {
    "tags": [],
    "ExecuteTime": {
     "end_time": "2025-03-31T02:26:58.042867Z",
     "start_time": "2025-03-31T02:26:58.037618Z"
    }
   },
   "source": [
    "(\n",
    "    pl.read_csv(csv_file)\n",
    "    .with_columns(\n",
    "        pl.lit('yes').alias('Aboard')\n",
    "    )\n",
    "    .select(['Name','Aboard'])\n",
    "    .head(2)\n",
    ")"
   ],
   "outputs": [
    {
     "data": {
      "text/plain": [
       "shape: (2, 2)\n",
       "┌─────────────────────────────────┬────────┐\n",
       "│ Name                            ┆ Aboard │\n",
       "│ ---                             ┆ ---    │\n",
       "│ str                             ┆ str    │\n",
       "╞═════════════════════════════════╪════════╡\n",
       "│ Braund, Mr. Owen Harris         ┆ yes    │\n",
       "│ Cumings, Mrs. John Bradley (Fl… ┆ yes    │\n",
       "└─────────────────────────────────┴────────┘"
      ],
      "text/html": [
       "<div><style>\n",
       ".dataframe > thead > tr,\n",
       ".dataframe > tbody > tr {\n",
       "  text-align: right;\n",
       "  white-space: pre-wrap;\n",
       "}\n",
       "</style>\n",
       "<small>shape: (2, 2)</small><table border=\"1\" class=\"dataframe\"><thead><tr><th>Name</th><th>Aboard</th></tr><tr><td>str</td><td>str</td></tr></thead><tbody><tr><td>&quot;Braund, Mr. Owen Harris&quot;</td><td>&quot;yes&quot;</td></tr><tr><td>&quot;Cumings, Mrs. John Bradley (Fl…</td><td>&quot;yes&quot;</td></tr></tbody></table></div>"
      ]
     },
     "execution_count": 23,
     "metadata": {},
     "output_type": "execute_result"
    }
   ],
   "execution_count": 23
  },
  {
   "cell_type": "markdown",
   "id": "bb0df250-a7c6-4c68-be2a-d7d7e7651edb",
   "metadata": {
    "tags": []
   },
   "source": [
    "## Exercises\n",
    "\n",
    "In the exercises you will develop your understanding of:\n",
    "- transforming an existing column\n",
    "- adding a new column from existing columns\n",
    "- adding a new column with a constant value\n",
    "\n",
    "### Exercise 1\n",
    "\n",
    "Add a new column called `familySize` which is the sum of the number of siblings (`SibSp` columns), the number of parents or children (`Parch` columns) plus one for the passenger themself.\n",
    "\n",
    "Print out the first 3 rows.\n",
    "\n",
    "Hint: Add the two columns inside `()` and then apply `.alias`"
   ]
  },
  {
   "cell_type": "code",
   "execution_count": null,
   "id": "42f98196-410e-4934-95fb-5d8a670f2d72",
   "metadata": {
    "tags": []
   },
   "outputs": [],
   "source": [
    "(\n",
    "    pl.read_csv(csv_file)\n",
    "    <blank>\n",
    ")"
   ]
  },
  {
   "cell_type": "markdown",
   "id": "c087e751-e097-48ac-ac41-b4213b6764c1",
   "metadata": {},
   "source": [
    "### Exercise 2 \n",
    "\n",
    "Add a new column called `decade` that converts the `Age` column to the passengers age in decades e.g. 15.2 goes to 10, where 10 is an integer. Add the new column using the kwargs approach.\n",
    "\n",
    "Print out the first 3 rows.\n",
    "\n",
    "Hint: use `cast` to convert the dtype"
   ]
  },
  {
   "cell_type": "code",
   "execution_count": null,
   "id": "3de6c9dd-0baa-4a73-b0b4-360e7c629278",
   "metadata": {
    "tags": []
   },
   "outputs": [],
   "source": [
    "(\n",
    "    pl.read_csv(csv_file)\n",
    "    <blank>\n",
    ")"
   ]
  },
  {
   "cell_type": "markdown",
   "id": "6c8a38c0-a771-47c1-a361-ff4263dd70b4",
   "metadata": {},
   "source": [
    "### Exercise 3\n",
    "Create a new literal column\n",
    "\n",
    "Add a new binary column called `Aboard` that has the value `1` for all passengers.\n",
    "\n",
    "Print out the first 3 rows"
   ]
  },
  {
   "cell_type": "code",
   "execution_count": null,
   "id": "69550fff-77ee-4def-9807-5d2daed60247",
   "metadata": {},
   "outputs": [],
   "source": [
    "(\n",
    "    pl.read_csv(csv_file)\n",
    "    <blank>\n",
    ")"
   ]
  },
  {
   "cell_type": "markdown",
   "id": "78e031ea-355d-4072-bdc3-876e7c2766e7",
   "metadata": {},
   "source": [
    "### Exercise 4\n",
    "\n",
    "Add a new Boolean column `overThirty` that captures whether a passenger's age is 30 years or older"
   ]
  },
  {
   "cell_type": "code",
   "execution_count": null,
   "id": "87ad7227-a382-447e-a7d0-e4fa745ab07c",
   "metadata": {
    "tags": []
   },
   "outputs": [],
   "source": [
    "(\n",
    "    pl.read_csv(csv_file)\n",
    "    <blank>\n",
    ")"
   ]
  },
  {
   "cell_type": "markdown",
   "id": "006972d9-b4b0-41da-81c6-e2596c5a1bac",
   "metadata": {},
   "source": [
    "## Solutions\n",
    "\n",
    "### Solution to exercise 1\n",
    "\n",
    "Add a new column for family size"
   ]
  },
  {
   "cell_type": "code",
   "execution_count": null,
   "id": "f1a4943b-50e8-44a2-bc0b-f21a193787af",
   "metadata": {
    "tags": []
   },
   "outputs": [],
   "source": [
    "(\n",
    "    pl.read_csv(csv_file)\n",
    "    .with_columns( \n",
    "        (\n",
    "        pl.col('SibSp') + pl.col('Parch') + 1\n",
    "        ).alias('familySize')\n",
    "    )\n",
    "    .head(3)\n",
    ")"
   ]
  },
  {
   "cell_type": "markdown",
   "id": "eb5c8a7b-e788-413c-9c6f-4d036e3068f8",
   "metadata": {},
   "source": [
    "### Solution to exercise 2\n",
    "\n",
    "Create a decades column"
   ]
  },
  {
   "cell_type": "code",
   "execution_count": null,
   "id": "b918114b-66fa-4ceb-9209-474e421ac949",
   "metadata": {
    "jupyter": {
     "source_hidden": true
    },
    "tags": []
   },
   "outputs": [],
   "source": [
    "(\n",
    "    pl.read_csv(csv_file)\n",
    "    .with_columns( \n",
    "        decade = ((pl.col('Age')/10).floor()).cast(pl.Int64)\n",
    "    )\n",
    "    .select(['Age','decade'])\n",
    "    .head(3)\n",
    ")\n"
   ]
  },
  {
   "cell_type": "markdown",
   "id": "248ae068-a5de-410a-963f-aaf03a3af91b",
   "metadata": {},
   "source": [
    "### Solution to exercise 3\n",
    "\n",
    "Create a new literal column"
   ]
  },
  {
   "cell_type": "code",
   "execution_count": null,
   "id": "39258f98-ebc4-4b9b-bee8-9aafc49180a3",
   "metadata": {
    "jupyter": {
     "source_hidden": true
    },
    "tags": []
   },
   "outputs": [],
   "source": [
    "(\n",
    "    pl.read_csv(csv_file)\n",
    "    .with_columns(\n",
    "        pl.lit(1).alias('Aboard')\n",
    "    )\n",
    "    .head(3)\n",
    ")"
   ]
  },
  {
   "cell_type": "markdown",
   "id": "294a0ce3-5595-4295-ab78-5c18a697cacb",
   "metadata": {
    "collapsed": true,
    "jupyter": {
     "outputs_hidden": true
    },
    "tags": []
   },
   "source": [
    "### Solution to Exercise 4\n",
    "\n",
    "Add a new Boolean column based on an expression"
   ]
  },
  {
   "cell_type": "code",
   "id": "7ab35381-12f8-4194-bdd2-6a3e44151cad",
   "metadata": {
    "jupyter": {
     "source_hidden": true
    },
    "tags": [],
    "ExecuteTime": {
     "end_time": "2025-03-31T02:30:23.310270Z",
     "start_time": "2025-03-31T02:30:23.306348Z"
    }
   },
   "source": [
    "(\n",
    "    pl.read_csv(csv_file)\n",
    "    .with_columns(\n",
    "        (pl.col(\"Age\") >= 30).alias(\"overThirty\")\n",
    "    )\n",
    "    .filter(\n",
    "        pl.col(\"overThirty\")\n",
    "    )\n",
    "    .head(3)\n",
    ")"
   ],
   "outputs": [
    {
     "data": {
      "text/plain": [
       "shape: (3, 13)\n",
       "┌─────────────┬──────────┬────────┬──────────────────┬───┬─────────┬───────┬──────────┬────────────┐\n",
       "│ PassengerId ┆ Survived ┆ Pclass ┆ Name             ┆ … ┆ Fare    ┆ Cabin ┆ Embarked ┆ overThirty │\n",
       "│ ---         ┆ ---      ┆ ---    ┆ ---              ┆   ┆ ---     ┆ ---   ┆ ---      ┆ ---        │\n",
       "│ i64         ┆ i64      ┆ i64    ┆ str              ┆   ┆ f64     ┆ str   ┆ str      ┆ bool       │\n",
       "╞═════════════╪══════════╪════════╪══════════════════╪═══╪═════════╪═══════╪══════════╪════════════╡\n",
       "│ 2           ┆ 1        ┆ 1      ┆ Cumings, Mrs.    ┆ … ┆ 71.2833 ┆ C85   ┆ C        ┆ true       │\n",
       "│             ┆          ┆        ┆ John Bradley     ┆   ┆         ┆       ┆          ┆            │\n",
       "│             ┆          ┆        ┆ (Fl…             ┆   ┆         ┆       ┆          ┆            │\n",
       "│ 4           ┆ 1        ┆ 1      ┆ Futrelle, Mrs.   ┆ … ┆ 53.1    ┆ C123  ┆ S        ┆ true       │\n",
       "│             ┆          ┆        ┆ Jacques Heath (… ┆   ┆         ┆       ┆          ┆            │\n",
       "│ 5           ┆ 0        ┆ 3      ┆ Allen, Mr.       ┆ … ┆ 8.05    ┆ null  ┆ S        ┆ true       │\n",
       "│             ┆          ┆        ┆ William Henry    ┆   ┆         ┆       ┆          ┆            │\n",
       "└─────────────┴──────────┴────────┴──────────────────┴───┴─────────┴───────┴──────────┴────────────┘"
      ],
      "text/html": [
       "<div><style>\n",
       ".dataframe > thead > tr,\n",
       ".dataframe > tbody > tr {\n",
       "  text-align: right;\n",
       "  white-space: pre-wrap;\n",
       "}\n",
       "</style>\n",
       "<small>shape: (3, 13)</small><table border=\"1\" class=\"dataframe\"><thead><tr><th>PassengerId</th><th>Survived</th><th>Pclass</th><th>Name</th><th>Sex</th><th>Age</th><th>SibSp</th><th>Parch</th><th>Ticket</th><th>Fare</th><th>Cabin</th><th>Embarked</th><th>overThirty</th></tr><tr><td>i64</td><td>i64</td><td>i64</td><td>str</td><td>str</td><td>f64</td><td>i64</td><td>i64</td><td>str</td><td>f64</td><td>str</td><td>str</td><td>bool</td></tr></thead><tbody><tr><td>2</td><td>1</td><td>1</td><td>&quot;Cumings, Mrs. John Bradley (Fl…</td><td>&quot;female&quot;</td><td>38.0</td><td>1</td><td>0</td><td>&quot;PC 17599&quot;</td><td>71.2833</td><td>&quot;C85&quot;</td><td>&quot;C&quot;</td><td>true</td></tr><tr><td>4</td><td>1</td><td>1</td><td>&quot;Futrelle, Mrs. Jacques Heath (…</td><td>&quot;female&quot;</td><td>35.0</td><td>1</td><td>0</td><td>&quot;113803&quot;</td><td>53.1</td><td>&quot;C123&quot;</td><td>&quot;S&quot;</td><td>true</td></tr><tr><td>5</td><td>0</td><td>3</td><td>&quot;Allen, Mr. William Henry&quot;</td><td>&quot;male&quot;</td><td>35.0</td><td>0</td><td>0</td><td>&quot;373450&quot;</td><td>8.05</td><td>null</td><td>&quot;S&quot;</td><td>true</td></tr></tbody></table></div>"
      ]
     },
     "execution_count": 25,
     "metadata": {},
     "output_type": "execute_result"
    }
   ],
   "execution_count": 25
  },
  {
   "metadata": {},
   "cell_type": "code",
   "outputs": [],
   "execution_count": null,
   "source": "",
   "id": "4b197779ca28f46f"
  }
 ],
 "metadata": {
  "kernelspec": {
   "display_name": "Python 3 (ipykernel)",
   "language": "python",
   "name": "python3"
  },
  "language_info": {
   "codemirror_mode": {
    "name": "ipython",
    "version": 3
   },
   "file_extension": ".py",
   "mimetype": "text/x-python",
   "name": "python",
   "nbconvert_exporter": "python",
   "pygments_lexer": "ipython3",
   "version": "3.10.1"
  }
 },
 "nbformat": 4,
 "nbformat_minor": 5
}
