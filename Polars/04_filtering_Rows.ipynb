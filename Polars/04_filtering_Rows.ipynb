{
 "cells": [
  {
   "metadata": {},
   "cell_type": "markdown",
   "source": "## 04. Filtering rows",
   "id": "20aac2636722131d"
  },
  {
   "metadata": {},
   "cell_type": "markdown",
   "source": "### Filtering row : Indexing with `[]`",
   "id": "da4119efa8d04dd4"
  },
  {
   "metadata": {
    "ExecuteTime": {
     "end_time": "2025-05-02T02:42:32.410846Z",
     "start_time": "2025-05-02T02:42:32.334156Z"
    }
   },
   "cell_type": "code",
   "source": [
    "import polars as pl\n",
    "csv_file = './data/titanic.csv'\n",
    "df = pl.read_csv(csv_file)\n",
    "df.head()"
   ],
   "id": "1f81a91133311c88",
   "outputs": [
    {
     "data": {
      "text/plain": [
       "shape: (5, 12)\n",
       "┌─────────────┬──────────┬────────┬───────────────────┬───┬───────────┬─────────┬───────┬──────────┐\n",
       "│ PassengerId ┆ Survived ┆ Pclass ┆ Name              ┆ … ┆ Ticket    ┆ Fare    ┆ Cabin ┆ Embarked │\n",
       "│ ---         ┆ ---      ┆ ---    ┆ ---               ┆   ┆ ---       ┆ ---     ┆ ---   ┆ ---      │\n",
       "│ i64         ┆ i64      ┆ i64    ┆ str               ┆   ┆ str       ┆ f64     ┆ str   ┆ str      │\n",
       "╞═════════════╪══════════╪════════╪═══════════════════╪═══╪═══════════╪═════════╪═══════╪══════════╡\n",
       "│ 1           ┆ 0        ┆ 3      ┆ Braund, Mr. Owen  ┆ … ┆ A/5 21171 ┆ 7.25    ┆ null  ┆ S        │\n",
       "│             ┆          ┆        ┆ Harris            ┆   ┆           ┆         ┆       ┆          │\n",
       "│ 2           ┆ 1        ┆ 1      ┆ Cumings, Mrs.     ┆ … ┆ PC 17599  ┆ 71.2833 ┆ C85   ┆ C        │\n",
       "│             ┆          ┆        ┆ John Bradley (Fl… ┆   ┆           ┆         ┆       ┆          │\n",
       "│ 3           ┆ 1        ┆ 3      ┆ Heikkinen, Miss.  ┆ … ┆ STON/O2.  ┆ 7.925   ┆ null  ┆ S        │\n",
       "│             ┆          ┆        ┆ Laina             ┆   ┆ 3101282   ┆         ┆       ┆          │\n",
       "│ 4           ┆ 1        ┆ 1      ┆ Futrelle, Mrs.    ┆ … ┆ 113803    ┆ 53.1    ┆ C123  ┆ S        │\n",
       "│             ┆          ┆        ┆ Jacques Heath (…  ┆   ┆           ┆         ┆       ┆          │\n",
       "│ 5           ┆ 0        ┆ 3      ┆ Allen, Mr.        ┆ … ┆ 373450    ┆ 8.05    ┆ null  ┆ S        │\n",
       "│             ┆          ┆        ┆ William Henry     ┆   ┆           ┆         ┆       ┆          │\n",
       "└─────────────┴──────────┴────────┴───────────────────┴───┴───────────┴─────────┴───────┴──────────┘"
      ],
      "text/html": [
       "<div><style>\n",
       ".dataframe > thead > tr,\n",
       ".dataframe > tbody > tr {\n",
       "  text-align: right;\n",
       "  white-space: pre-wrap;\n",
       "}\n",
       "</style>\n",
       "<small>shape: (5, 12)</small><table border=\"1\" class=\"dataframe\"><thead><tr><th>PassengerId</th><th>Survived</th><th>Pclass</th><th>Name</th><th>Sex</th><th>Age</th><th>SibSp</th><th>Parch</th><th>Ticket</th><th>Fare</th><th>Cabin</th><th>Embarked</th></tr><tr><td>i64</td><td>i64</td><td>i64</td><td>str</td><td>str</td><td>f64</td><td>i64</td><td>i64</td><td>str</td><td>f64</td><td>str</td><td>str</td></tr></thead><tbody><tr><td>1</td><td>0</td><td>3</td><td>&quot;Braund, Mr. Owen Harris&quot;</td><td>&quot;male&quot;</td><td>22.0</td><td>1</td><td>0</td><td>&quot;A/5 21171&quot;</td><td>7.25</td><td>null</td><td>&quot;S&quot;</td></tr><tr><td>2</td><td>1</td><td>1</td><td>&quot;Cumings, Mrs. John Bradley (Fl…</td><td>&quot;female&quot;</td><td>38.0</td><td>1</td><td>0</td><td>&quot;PC 17599&quot;</td><td>71.2833</td><td>&quot;C85&quot;</td><td>&quot;C&quot;</td></tr><tr><td>3</td><td>1</td><td>3</td><td>&quot;Heikkinen, Miss. Laina&quot;</td><td>&quot;female&quot;</td><td>26.0</td><td>0</td><td>0</td><td>&quot;STON/O2. 3101282&quot;</td><td>7.925</td><td>null</td><td>&quot;S&quot;</td></tr><tr><td>4</td><td>1</td><td>1</td><td>&quot;Futrelle, Mrs. Jacques Heath (…</td><td>&quot;female&quot;</td><td>35.0</td><td>1</td><td>0</td><td>&quot;113803&quot;</td><td>53.1</td><td>&quot;C123&quot;</td><td>&quot;S&quot;</td></tr><tr><td>5</td><td>0</td><td>3</td><td>&quot;Allen, Mr. William Henry&quot;</td><td>&quot;male&quot;</td><td>35.0</td><td>0</td><td>0</td><td>&quot;373450&quot;</td><td>8.05</td><td>null</td><td>&quot;S&quot;</td></tr></tbody></table></div>"
      ]
     },
     "execution_count": 1,
     "metadata": {},
     "output_type": "execute_result"
    }
   ],
   "execution_count": 1
  },
  {
   "metadata": {},
   "cell_type": "markdown",
   "source": "#### Selecting individual row with `[]`",
   "id": "9fa3341259a984f"
  },
  {
   "metadata": {},
   "cell_type": "markdown",
   "source": "polars는 구시대적인 pandas와 다르게 눈에 보이는 index가 없다. 하지만 숨겨진 절대적인 index는 존재한다... 따라서 이 index를 통해 행을 불러 올 수 있다.",
   "id": "f68770b41e18a0f8"
  },
  {
   "metadata": {
    "ExecuteTime": {
     "end_time": "2025-05-02T02:44:27.315418Z",
     "start_time": "2025-05-02T02:44:27.313255Z"
    }
   },
   "cell_type": "code",
   "source": "df.schema",
   "id": "5d97434ff870baab",
   "outputs": [
    {
     "data": {
      "text/plain": [
       "Schema([('PassengerId', Int64),\n",
       "        ('Survived', Int64),\n",
       "        ('Pclass', Int64),\n",
       "        ('Name', String),\n",
       "        ('Sex', String),\n",
       "        ('Age', Float64),\n",
       "        ('SibSp', Int64),\n",
       "        ('Parch', Int64),\n",
       "        ('Ticket', String),\n",
       "        ('Fare', Float64),\n",
       "        ('Cabin', String),\n",
       "        ('Embarked', String)])"
      ]
     },
     "execution_count": 4,
     "metadata": {},
     "output_type": "execute_result"
    }
   ],
   "execution_count": 4
  },
  {
   "metadata": {
    "ExecuteTime": {
     "end_time": "2025-05-02T02:45:02.823727Z",
     "start_time": "2025-05-02T02:45:02.821497Z"
    }
   },
   "cell_type": "code",
   "source": "df[0]",
   "id": "2f5531a0a81efefb",
   "outputs": [
    {
     "data": {
      "text/plain": [
       "shape: (1, 12)\n",
       "┌─────────────┬──────────┬────────┬──────────────────┬───┬───────────┬──────┬───────┬──────────┐\n",
       "│ PassengerId ┆ Survived ┆ Pclass ┆ Name             ┆ … ┆ Ticket    ┆ Fare ┆ Cabin ┆ Embarked │\n",
       "│ ---         ┆ ---      ┆ ---    ┆ ---              ┆   ┆ ---       ┆ ---  ┆ ---   ┆ ---      │\n",
       "│ i64         ┆ i64      ┆ i64    ┆ str              ┆   ┆ str       ┆ f64  ┆ str   ┆ str      │\n",
       "╞═════════════╪══════════╪════════╪══════════════════╪═══╪═══════════╪══════╪═══════╪══════════╡\n",
       "│ 1           ┆ 0        ┆ 3      ┆ Braund, Mr. Owen ┆ … ┆ A/5 21171 ┆ 7.25 ┆ null  ┆ S        │\n",
       "│             ┆          ┆        ┆ Harris           ┆   ┆           ┆      ┆       ┆          │\n",
       "└─────────────┴──────────┴────────┴──────────────────┴───┴───────────┴──────┴───────┴──────────┘"
      ],
      "text/html": [
       "<div><style>\n",
       ".dataframe > thead > tr,\n",
       ".dataframe > tbody > tr {\n",
       "  text-align: right;\n",
       "  white-space: pre-wrap;\n",
       "}\n",
       "</style>\n",
       "<small>shape: (1, 12)</small><table border=\"1\" class=\"dataframe\"><thead><tr><th>PassengerId</th><th>Survived</th><th>Pclass</th><th>Name</th><th>Sex</th><th>Age</th><th>SibSp</th><th>Parch</th><th>Ticket</th><th>Fare</th><th>Cabin</th><th>Embarked</th></tr><tr><td>i64</td><td>i64</td><td>i64</td><td>str</td><td>str</td><td>f64</td><td>i64</td><td>i64</td><td>str</td><td>f64</td><td>str</td><td>str</td></tr></thead><tbody><tr><td>1</td><td>0</td><td>3</td><td>&quot;Braund, Mr. Owen Harris&quot;</td><td>&quot;male&quot;</td><td>22.0</td><td>1</td><td>0</td><td>&quot;A/5 21171&quot;</td><td>7.25</td><td>null</td><td>&quot;S&quot;</td></tr></tbody></table></div>"
      ]
     },
     "execution_count": 7,
     "metadata": {},
     "output_type": "execute_result"
    }
   ],
   "execution_count": 7
  },
  {
   "metadata": {
    "ExecuteTime": {
     "end_time": "2025-05-02T02:45:08.248494Z",
     "start_time": "2025-05-02T02:45:08.240895Z"
    }
   },
   "cell_type": "code",
   "source": "df[[1, 5]]",
   "id": "2b47af2bf4f55a08",
   "outputs": [
    {
     "data": {
      "text/plain": [
       "shape: (2, 12)\n",
       "┌─────────────┬──────────┬────────┬────────────────────┬───┬──────────┬─────────┬───────┬──────────┐\n",
       "│ PassengerId ┆ Survived ┆ Pclass ┆ Name               ┆ … ┆ Ticket   ┆ Fare    ┆ Cabin ┆ Embarked │\n",
       "│ ---         ┆ ---      ┆ ---    ┆ ---                ┆   ┆ ---      ┆ ---     ┆ ---   ┆ ---      │\n",
       "│ i64         ┆ i64      ┆ i64    ┆ str                ┆   ┆ str      ┆ f64     ┆ str   ┆ str      │\n",
       "╞═════════════╪══════════╪════════╪════════════════════╪═══╪══════════╪═════════╪═══════╪══════════╡\n",
       "│ 2           ┆ 1        ┆ 1      ┆ Cumings, Mrs. John ┆ … ┆ PC 17599 ┆ 71.2833 ┆ C85   ┆ C        │\n",
       "│             ┆          ┆        ┆ Bradley (Fl…       ┆   ┆          ┆         ┆       ┆          │\n",
       "│ 6           ┆ 0        ┆ 3      ┆ Moran, Mr. James   ┆ … ┆ 330877   ┆ 8.4583  ┆ null  ┆ Q        │\n",
       "└─────────────┴──────────┴────────┴────────────────────┴───┴──────────┴─────────┴───────┴──────────┘"
      ],
      "text/html": [
       "<div><style>\n",
       ".dataframe > thead > tr,\n",
       ".dataframe > tbody > tr {\n",
       "  text-align: right;\n",
       "  white-space: pre-wrap;\n",
       "}\n",
       "</style>\n",
       "<small>shape: (2, 12)</small><table border=\"1\" class=\"dataframe\"><thead><tr><th>PassengerId</th><th>Survived</th><th>Pclass</th><th>Name</th><th>Sex</th><th>Age</th><th>SibSp</th><th>Parch</th><th>Ticket</th><th>Fare</th><th>Cabin</th><th>Embarked</th></tr><tr><td>i64</td><td>i64</td><td>i64</td><td>str</td><td>str</td><td>f64</td><td>i64</td><td>i64</td><td>str</td><td>f64</td><td>str</td><td>str</td></tr></thead><tbody><tr><td>2</td><td>1</td><td>1</td><td>&quot;Cumings, Mrs. John Bradley (Fl…</td><td>&quot;female&quot;</td><td>38.0</td><td>1</td><td>0</td><td>&quot;PC 17599&quot;</td><td>71.2833</td><td>&quot;C85&quot;</td><td>&quot;C&quot;</td></tr><tr><td>6</td><td>0</td><td>3</td><td>&quot;Moran, Mr. James&quot;</td><td>&quot;male&quot;</td><td>null</td><td>0</td><td>0</td><td>&quot;330877&quot;</td><td>8.4583</td><td>null</td><td>&quot;Q&quot;</td></tr></tbody></table></div>"
      ]
     },
     "execution_count": 8,
     "metadata": {},
     "output_type": "execute_result"
    }
   ],
   "execution_count": 8
  },
  {
   "metadata": {
    "ExecuteTime": {
     "end_time": "2025-05-02T02:45:20.272511Z",
     "start_time": "2025-05-02T02:45:20.269103Z"
    }
   },
   "cell_type": "code",
   "source": [
    "# slice\n",
    "df[:3] # 0, 1, 2 번째 row"
   ],
   "id": "2371494c44c10d8f",
   "outputs": [
    {
     "data": {
      "text/plain": [
       "shape: (3, 12)\n",
       "┌─────────────┬──────────┬────────┬───────────────────┬───┬───────────┬─────────┬───────┬──────────┐\n",
       "│ PassengerId ┆ Survived ┆ Pclass ┆ Name              ┆ … ┆ Ticket    ┆ Fare    ┆ Cabin ┆ Embarked │\n",
       "│ ---         ┆ ---      ┆ ---    ┆ ---               ┆   ┆ ---       ┆ ---     ┆ ---   ┆ ---      │\n",
       "│ i64         ┆ i64      ┆ i64    ┆ str               ┆   ┆ str       ┆ f64     ┆ str   ┆ str      │\n",
       "╞═════════════╪══════════╪════════╪═══════════════════╪═══╪═══════════╪═════════╪═══════╪══════════╡\n",
       "│ 1           ┆ 0        ┆ 3      ┆ Braund, Mr. Owen  ┆ … ┆ A/5 21171 ┆ 7.25    ┆ null  ┆ S        │\n",
       "│             ┆          ┆        ┆ Harris            ┆   ┆           ┆         ┆       ┆          │\n",
       "│ 2           ┆ 1        ┆ 1      ┆ Cumings, Mrs.     ┆ … ┆ PC 17599  ┆ 71.2833 ┆ C85   ┆ C        │\n",
       "│             ┆          ┆        ┆ John Bradley (Fl… ┆   ┆           ┆         ┆       ┆          │\n",
       "│ 3           ┆ 1        ┆ 3      ┆ Heikkinen, Miss.  ┆ … ┆ STON/O2.  ┆ 7.925   ┆ null  ┆ S        │\n",
       "│             ┆          ┆        ┆ Laina             ┆   ┆ 3101282   ┆         ┆       ┆          │\n",
       "└─────────────┴──────────┴────────┴───────────────────┴───┴───────────┴─────────┴───────┴──────────┘"
      ],
      "text/html": [
       "<div><style>\n",
       ".dataframe > thead > tr,\n",
       ".dataframe > tbody > tr {\n",
       "  text-align: right;\n",
       "  white-space: pre-wrap;\n",
       "}\n",
       "</style>\n",
       "<small>shape: (3, 12)</small><table border=\"1\" class=\"dataframe\"><thead><tr><th>PassengerId</th><th>Survived</th><th>Pclass</th><th>Name</th><th>Sex</th><th>Age</th><th>SibSp</th><th>Parch</th><th>Ticket</th><th>Fare</th><th>Cabin</th><th>Embarked</th></tr><tr><td>i64</td><td>i64</td><td>i64</td><td>str</td><td>str</td><td>f64</td><td>i64</td><td>i64</td><td>str</td><td>f64</td><td>str</td><td>str</td></tr></thead><tbody><tr><td>1</td><td>0</td><td>3</td><td>&quot;Braund, Mr. Owen Harris&quot;</td><td>&quot;male&quot;</td><td>22.0</td><td>1</td><td>0</td><td>&quot;A/5 21171&quot;</td><td>7.25</td><td>null</td><td>&quot;S&quot;</td></tr><tr><td>2</td><td>1</td><td>1</td><td>&quot;Cumings, Mrs. John Bradley (Fl…</td><td>&quot;female&quot;</td><td>38.0</td><td>1</td><td>0</td><td>&quot;PC 17599&quot;</td><td>71.2833</td><td>&quot;C85&quot;</td><td>&quot;C&quot;</td></tr><tr><td>3</td><td>1</td><td>3</td><td>&quot;Heikkinen, Miss. Laina&quot;</td><td>&quot;female&quot;</td><td>26.0</td><td>0</td><td>0</td><td>&quot;STON/O2. 3101282&quot;</td><td>7.925</td><td>null</td><td>&quot;S&quot;</td></tr></tbody></table></div>"
      ]
     },
     "execution_count": 9,
     "metadata": {},
     "output_type": "execute_result"
    }
   ],
   "execution_count": 9
  },
  {
   "metadata": {
    "ExecuteTime": {
     "end_time": "2025-05-02T02:46:24.006788Z",
     "start_time": "2025-05-02T02:46:24.004598Z"
    }
   },
   "cell_type": "code",
   "source": "print(list(range(2, 9)))",
   "id": "4607bd5b3ff6f51",
   "outputs": [
    {
     "name": "stdout",
     "output_type": "stream",
     "text": [
      "[2, 3, 4, 5, 6, 7, 8]\n"
     ]
    }
   ],
   "execution_count": 14
  },
  {
   "metadata": {
    "ExecuteTime": {
     "end_time": "2025-05-02T02:47:09.261745Z",
     "start_time": "2025-05-02T02:47:09.259366Z"
    }
   },
   "cell_type": "code",
   "source": "df[range(2, 9)]",
   "id": "da6314c6fb164a23",
   "outputs": [
    {
     "data": {
      "text/plain": [
       "shape: (7, 12)\n",
       "┌─────────────┬──────────┬────────┬────────────────────┬───┬──────────┬─────────┬───────┬──────────┐\n",
       "│ PassengerId ┆ Survived ┆ Pclass ┆ Name               ┆ … ┆ Ticket   ┆ Fare    ┆ Cabin ┆ Embarked │\n",
       "│ ---         ┆ ---      ┆ ---    ┆ ---                ┆   ┆ ---      ┆ ---     ┆ ---   ┆ ---      │\n",
       "│ i64         ┆ i64      ┆ i64    ┆ str                ┆   ┆ str      ┆ f64     ┆ str   ┆ str      │\n",
       "╞═════════════╪══════════╪════════╪════════════════════╪═══╪══════════╪═════════╪═══════╪══════════╡\n",
       "│ 3           ┆ 1        ┆ 3      ┆ Heikkinen, Miss.   ┆ … ┆ STON/O2. ┆ 7.925   ┆ null  ┆ S        │\n",
       "│             ┆          ┆        ┆ Laina              ┆   ┆ 3101282  ┆         ┆       ┆          │\n",
       "│ 4           ┆ 1        ┆ 1      ┆ Futrelle, Mrs.     ┆ … ┆ 113803   ┆ 53.1    ┆ C123  ┆ S        │\n",
       "│             ┆          ┆        ┆ Jacques Heath (…   ┆   ┆          ┆         ┆       ┆          │\n",
       "│ 5           ┆ 0        ┆ 3      ┆ Allen, Mr. William ┆ … ┆ 373450   ┆ 8.05    ┆ null  ┆ S        │\n",
       "│             ┆          ┆        ┆ Henry              ┆   ┆          ┆         ┆       ┆          │\n",
       "│ 6           ┆ 0        ┆ 3      ┆ Moran, Mr. James   ┆ … ┆ 330877   ┆ 8.4583  ┆ null  ┆ Q        │\n",
       "│ 7           ┆ 0        ┆ 1      ┆ McCarthy, Mr.      ┆ … ┆ 17463    ┆ 51.8625 ┆ E46   ┆ S        │\n",
       "│             ┆          ┆        ┆ Timothy J          ┆   ┆          ┆         ┆       ┆          │\n",
       "│ 8           ┆ 0        ┆ 3      ┆ Palsson, Master.   ┆ … ┆ 349909   ┆ 21.075  ┆ null  ┆ S        │\n",
       "│             ┆          ┆        ┆ Gosta Leonard      ┆   ┆          ┆         ┆       ┆          │\n",
       "│ 9           ┆ 1        ┆ 3      ┆ Johnson, Mrs.      ┆ … ┆ 347742   ┆ 11.1333 ┆ null  ┆ S        │\n",
       "│             ┆          ┆        ┆ Oscar W (Elisabe…  ┆   ┆          ┆         ┆       ┆          │\n",
       "└─────────────┴──────────┴────────┴────────────────────┴───┴──────────┴─────────┴───────┴──────────┘"
      ],
      "text/html": [
       "<div><style>\n",
       ".dataframe > thead > tr,\n",
       ".dataframe > tbody > tr {\n",
       "  text-align: right;\n",
       "  white-space: pre-wrap;\n",
       "}\n",
       "</style>\n",
       "<small>shape: (7, 12)</small><table border=\"1\" class=\"dataframe\"><thead><tr><th>PassengerId</th><th>Survived</th><th>Pclass</th><th>Name</th><th>Sex</th><th>Age</th><th>SibSp</th><th>Parch</th><th>Ticket</th><th>Fare</th><th>Cabin</th><th>Embarked</th></tr><tr><td>i64</td><td>i64</td><td>i64</td><td>str</td><td>str</td><td>f64</td><td>i64</td><td>i64</td><td>str</td><td>f64</td><td>str</td><td>str</td></tr></thead><tbody><tr><td>3</td><td>1</td><td>3</td><td>&quot;Heikkinen, Miss. Laina&quot;</td><td>&quot;female&quot;</td><td>26.0</td><td>0</td><td>0</td><td>&quot;STON/O2. 3101282&quot;</td><td>7.925</td><td>null</td><td>&quot;S&quot;</td></tr><tr><td>4</td><td>1</td><td>1</td><td>&quot;Futrelle, Mrs. Jacques Heath (…</td><td>&quot;female&quot;</td><td>35.0</td><td>1</td><td>0</td><td>&quot;113803&quot;</td><td>53.1</td><td>&quot;C123&quot;</td><td>&quot;S&quot;</td></tr><tr><td>5</td><td>0</td><td>3</td><td>&quot;Allen, Mr. William Henry&quot;</td><td>&quot;male&quot;</td><td>35.0</td><td>0</td><td>0</td><td>&quot;373450&quot;</td><td>8.05</td><td>null</td><td>&quot;S&quot;</td></tr><tr><td>6</td><td>0</td><td>3</td><td>&quot;Moran, Mr. James&quot;</td><td>&quot;male&quot;</td><td>null</td><td>0</td><td>0</td><td>&quot;330877&quot;</td><td>8.4583</td><td>null</td><td>&quot;Q&quot;</td></tr><tr><td>7</td><td>0</td><td>1</td><td>&quot;McCarthy, Mr. Timothy J&quot;</td><td>&quot;male&quot;</td><td>54.0</td><td>0</td><td>0</td><td>&quot;17463&quot;</td><td>51.8625</td><td>&quot;E46&quot;</td><td>&quot;S&quot;</td></tr><tr><td>8</td><td>0</td><td>3</td><td>&quot;Palsson, Master. Gosta Leonard&quot;</td><td>&quot;male&quot;</td><td>2.0</td><td>3</td><td>1</td><td>&quot;349909&quot;</td><td>21.075</td><td>null</td><td>&quot;S&quot;</td></tr><tr><td>9</td><td>1</td><td>3</td><td>&quot;Johnson, Mrs. Oscar W (Elisabe…</td><td>&quot;female&quot;</td><td>27.0</td><td>0</td><td>2</td><td>&quot;347742&quot;</td><td>11.1333</td><td>null</td><td>&quot;S&quot;</td></tr></tbody></table></div>"
      ]
     },
     "execution_count": 18,
     "metadata": {},
     "output_type": "execute_result"
    }
   ],
   "execution_count": 18
  },
  {
   "metadata": {
    "ExecuteTime": {
     "end_time": "2025-05-02T02:47:53.767114Z",
     "start_time": "2025-05-02T02:47:53.761933Z"
    }
   },
   "cell_type": "code",
   "source": [
    "# numpy\n",
    "import numpy as np\n",
    "print(np.arange(0, 3))\n",
    "\n",
    "df[np.arange(0, 3)]"
   ],
   "id": "eb9cde082881504a",
   "outputs": [
    {
     "name": "stdout",
     "output_type": "stream",
     "text": [
      "[0 1 2]\n"
     ]
    },
    {
     "data": {
      "text/plain": [
       "shape: (3, 12)\n",
       "┌─────────────┬──────────┬────────┬───────────────────┬───┬───────────┬─────────┬───────┬──────────┐\n",
       "│ PassengerId ┆ Survived ┆ Pclass ┆ Name              ┆ … ┆ Ticket    ┆ Fare    ┆ Cabin ┆ Embarked │\n",
       "│ ---         ┆ ---      ┆ ---    ┆ ---               ┆   ┆ ---       ┆ ---     ┆ ---   ┆ ---      │\n",
       "│ i64         ┆ i64      ┆ i64    ┆ str               ┆   ┆ str       ┆ f64     ┆ str   ┆ str      │\n",
       "╞═════════════╪══════════╪════════╪═══════════════════╪═══╪═══════════╪═════════╪═══════╪══════════╡\n",
       "│ 1           ┆ 0        ┆ 3      ┆ Braund, Mr. Owen  ┆ … ┆ A/5 21171 ┆ 7.25    ┆ null  ┆ S        │\n",
       "│             ┆          ┆        ┆ Harris            ┆   ┆           ┆         ┆       ┆          │\n",
       "│ 2           ┆ 1        ┆ 1      ┆ Cumings, Mrs.     ┆ … ┆ PC 17599  ┆ 71.2833 ┆ C85   ┆ C        │\n",
       "│             ┆          ┆        ┆ John Bradley (Fl… ┆   ┆           ┆         ┆       ┆          │\n",
       "│ 3           ┆ 1        ┆ 3      ┆ Heikkinen, Miss.  ┆ … ┆ STON/O2.  ┆ 7.925   ┆ null  ┆ S        │\n",
       "│             ┆          ┆        ┆ Laina             ┆   ┆ 3101282   ┆         ┆       ┆          │\n",
       "└─────────────┴──────────┴────────┴───────────────────┴───┴───────────┴─────────┴───────┴──────────┘"
      ],
      "text/html": [
       "<div><style>\n",
       ".dataframe > thead > tr,\n",
       ".dataframe > tbody > tr {\n",
       "  text-align: right;\n",
       "  white-space: pre-wrap;\n",
       "}\n",
       "</style>\n",
       "<small>shape: (3, 12)</small><table border=\"1\" class=\"dataframe\"><thead><tr><th>PassengerId</th><th>Survived</th><th>Pclass</th><th>Name</th><th>Sex</th><th>Age</th><th>SibSp</th><th>Parch</th><th>Ticket</th><th>Fare</th><th>Cabin</th><th>Embarked</th></tr><tr><td>i64</td><td>i64</td><td>i64</td><td>str</td><td>str</td><td>f64</td><td>i64</td><td>i64</td><td>str</td><td>f64</td><td>str</td><td>str</td></tr></thead><tbody><tr><td>1</td><td>0</td><td>3</td><td>&quot;Braund, Mr. Owen Harris&quot;</td><td>&quot;male&quot;</td><td>22.0</td><td>1</td><td>0</td><td>&quot;A/5 21171&quot;</td><td>7.25</td><td>null</td><td>&quot;S&quot;</td></tr><tr><td>2</td><td>1</td><td>1</td><td>&quot;Cumings, Mrs. John Bradley (Fl…</td><td>&quot;female&quot;</td><td>38.0</td><td>1</td><td>0</td><td>&quot;PC 17599&quot;</td><td>71.2833</td><td>&quot;C85&quot;</td><td>&quot;C&quot;</td></tr><tr><td>3</td><td>1</td><td>3</td><td>&quot;Heikkinen, Miss. Laina&quot;</td><td>&quot;female&quot;</td><td>26.0</td><td>0</td><td>0</td><td>&quot;STON/O2. 3101282&quot;</td><td>7.925</td><td>null</td><td>&quot;S&quot;</td></tr></tbody></table></div>"
      ]
     },
     "execution_count": 21,
     "metadata": {},
     "output_type": "execute_result"
    }
   ],
   "execution_count": 21
  },
  {
   "metadata": {},
   "cell_type": "markdown",
   "source": "#### Boolean `Series`",
   "id": "3d45fdca9bfe0603"
  },
  {
   "metadata": {
    "ExecuteTime": {
     "end_time": "2025-05-02T02:49:19.762627Z",
     "start_time": "2025-05-02T02:49:19.760294Z"
    }
   },
   "cell_type": "code",
   "source": [
    "print(df['Age'] > 30)\n",
    "\n",
    "#df[df['Age'] > 30]\n",
    "\n",
    "'''\n",
    "이제는 polars에서 boolean series indexing 안된다!!!\n",
    "polars에 있는 강력한 filter 함수만을 이용하면 된다!!\n",
    "'''"
   ],
   "id": "df331e32ae9451dc",
   "outputs": [
    {
     "name": "stdout",
     "output_type": "stream",
     "text": [
      "shape: (891,)\n",
      "Series: 'Age' [bool]\n",
      "[\n",
      "\tfalse\n",
      "\ttrue\n",
      "\tfalse\n",
      "\ttrue\n",
      "\ttrue\n",
      "\t…\n",
      "\tfalse\n",
      "\tfalse\n",
      "\tnull\n",
      "\tfalse\n",
      "\ttrue\n",
      "]\n"
     ]
    }
   ],
   "execution_count": 25
  },
  {
   "metadata": {
    "ExecuteTime": {
     "end_time": "2025-05-02T02:50:33.684439Z",
     "start_time": "2025-05-02T02:50:33.681569Z"
    }
   },
   "cell_type": "code",
   "source": [
    "(\n",
    "    df\n",
    "    .filter(\n",
    "        pl.col('Age') > 30\n",
    "    )\n",
    "    .head()\n",
    ")\n"
   ],
   "id": "6101a928103933d",
   "outputs": [
    {
     "data": {
      "text/plain": [
       "shape: (5, 12)\n",
       "┌─────────────┬──────────┬────────┬────────────────────┬───┬──────────┬─────────┬───────┬──────────┐\n",
       "│ PassengerId ┆ Survived ┆ Pclass ┆ Name               ┆ … ┆ Ticket   ┆ Fare    ┆ Cabin ┆ Embarked │\n",
       "│ ---         ┆ ---      ┆ ---    ┆ ---                ┆   ┆ ---      ┆ ---     ┆ ---   ┆ ---      │\n",
       "│ i64         ┆ i64      ┆ i64    ┆ str                ┆   ┆ str      ┆ f64     ┆ str   ┆ str      │\n",
       "╞═════════════╪══════════╪════════╪════════════════════╪═══╪══════════╪═════════╪═══════╪══════════╡\n",
       "│ 2           ┆ 1        ┆ 1      ┆ Cumings, Mrs. John ┆ … ┆ PC 17599 ┆ 71.2833 ┆ C85   ┆ C        │\n",
       "│             ┆          ┆        ┆ Bradley (Fl…       ┆   ┆          ┆         ┆       ┆          │\n",
       "│ 4           ┆ 1        ┆ 1      ┆ Futrelle, Mrs.     ┆ … ┆ 113803   ┆ 53.1    ┆ C123  ┆ S        │\n",
       "│             ┆          ┆        ┆ Jacques Heath (…   ┆   ┆          ┆         ┆       ┆          │\n",
       "│ 5           ┆ 0        ┆ 3      ┆ Allen, Mr. William ┆ … ┆ 373450   ┆ 8.05    ┆ null  ┆ S        │\n",
       "│             ┆          ┆        ┆ Henry              ┆   ┆          ┆         ┆       ┆          │\n",
       "│ 7           ┆ 0        ┆ 1      ┆ McCarthy, Mr.      ┆ … ┆ 17463    ┆ 51.8625 ┆ E46   ┆ S        │\n",
       "│             ┆          ┆        ┆ Timothy J          ┆   ┆          ┆         ┆       ┆          │\n",
       "│ 12          ┆ 1        ┆ 1      ┆ Bonnell, Miss.     ┆ … ┆ 113783   ┆ 26.55   ┆ C103  ┆ S        │\n",
       "│             ┆          ┆        ┆ Elizabeth          ┆   ┆          ┆         ┆       ┆          │\n",
       "└─────────────┴──────────┴────────┴────────────────────┴───┴──────────┴─────────┴───────┴──────────┘"
      ],
      "text/html": [
       "<div><style>\n",
       ".dataframe > thead > tr,\n",
       ".dataframe > tbody > tr {\n",
       "  text-align: right;\n",
       "  white-space: pre-wrap;\n",
       "}\n",
       "</style>\n",
       "<small>shape: (5, 12)</small><table border=\"1\" class=\"dataframe\"><thead><tr><th>PassengerId</th><th>Survived</th><th>Pclass</th><th>Name</th><th>Sex</th><th>Age</th><th>SibSp</th><th>Parch</th><th>Ticket</th><th>Fare</th><th>Cabin</th><th>Embarked</th></tr><tr><td>i64</td><td>i64</td><td>i64</td><td>str</td><td>str</td><td>f64</td><td>i64</td><td>i64</td><td>str</td><td>f64</td><td>str</td><td>str</td></tr></thead><tbody><tr><td>2</td><td>1</td><td>1</td><td>&quot;Cumings, Mrs. John Bradley (Fl…</td><td>&quot;female&quot;</td><td>38.0</td><td>1</td><td>0</td><td>&quot;PC 17599&quot;</td><td>71.2833</td><td>&quot;C85&quot;</td><td>&quot;C&quot;</td></tr><tr><td>4</td><td>1</td><td>1</td><td>&quot;Futrelle, Mrs. Jacques Heath (…</td><td>&quot;female&quot;</td><td>35.0</td><td>1</td><td>0</td><td>&quot;113803&quot;</td><td>53.1</td><td>&quot;C123&quot;</td><td>&quot;S&quot;</td></tr><tr><td>5</td><td>0</td><td>3</td><td>&quot;Allen, Mr. William Henry&quot;</td><td>&quot;male&quot;</td><td>35.0</td><td>0</td><td>0</td><td>&quot;373450&quot;</td><td>8.05</td><td>null</td><td>&quot;S&quot;</td></tr><tr><td>7</td><td>0</td><td>1</td><td>&quot;McCarthy, Mr. Timothy J&quot;</td><td>&quot;male&quot;</td><td>54.0</td><td>0</td><td>0</td><td>&quot;17463&quot;</td><td>51.8625</td><td>&quot;E46&quot;</td><td>&quot;S&quot;</td></tr><tr><td>12</td><td>1</td><td>1</td><td>&quot;Bonnell, Miss. Elizabeth&quot;</td><td>&quot;female&quot;</td><td>58.0</td><td>0</td><td>0</td><td>&quot;113783&quot;</td><td>26.55</td><td>&quot;C103&quot;</td><td>&quot;S&quot;</td></tr></tbody></table></div>"
      ]
     },
     "execution_count": 27,
     "metadata": {},
     "output_type": "execute_result"
    }
   ],
   "execution_count": 27
  },
  {
   "metadata": {},
   "cell_type": "markdown",
   "source": "### Filter row Using `filter` and the Expression API",
   "id": "67957364b315cbdd"
  },
  {
   "metadata": {},
   "cell_type": "markdown",
   "source": "#### Applying conditions with `filter`",
   "id": "f66052ee4ff84910"
  },
  {
   "metadata": {},
   "cell_type": "markdown",
   "source": "쉽게 생각해서 `filter()`은 특정 조건을 만족하는 행을 걸려주는 함수~~!",
   "id": "8ffe305e8977d849"
  },
  {
   "metadata": {
    "ExecuteTime": {
     "end_time": "2025-05-02T02:55:12.199931Z",
     "start_time": "2025-05-02T02:55:12.191993Z"
    }
   },
   "cell_type": "code",
   "source": [
    "# pclass가 1인 사람들의 정보\n",
    "(\n",
    "    df\n",
    "    .filter(\n",
    "        pl.col('Pclass') == 1\n",
    "    )\n",
    "    .head()\n",
    ")"
   ],
   "id": "8b4a12666c59677",
   "outputs": [
    {
     "data": {
      "text/plain": [
       "shape: (5, 12)\n",
       "┌─────────────┬──────────┬────────┬────────────────────┬───┬──────────┬─────────┬───────┬──────────┐\n",
       "│ PassengerId ┆ Survived ┆ Pclass ┆ Name               ┆ … ┆ Ticket   ┆ Fare    ┆ Cabin ┆ Embarked │\n",
       "│ ---         ┆ ---      ┆ ---    ┆ ---                ┆   ┆ ---      ┆ ---     ┆ ---   ┆ ---      │\n",
       "│ i64         ┆ i64      ┆ i64    ┆ str                ┆   ┆ str      ┆ f64     ┆ str   ┆ str      │\n",
       "╞═════════════╪══════════╪════════╪════════════════════╪═══╪══════════╪═════════╪═══════╪══════════╡\n",
       "│ 2           ┆ 1        ┆ 1      ┆ Cumings, Mrs. John ┆ … ┆ PC 17599 ┆ 71.2833 ┆ C85   ┆ C        │\n",
       "│             ┆          ┆        ┆ Bradley (Fl…       ┆   ┆          ┆         ┆       ┆          │\n",
       "│ 4           ┆ 1        ┆ 1      ┆ Futrelle, Mrs.     ┆ … ┆ 113803   ┆ 53.1    ┆ C123  ┆ S        │\n",
       "│             ┆          ┆        ┆ Jacques Heath (…   ┆   ┆          ┆         ┆       ┆          │\n",
       "│ 7           ┆ 0        ┆ 1      ┆ McCarthy, Mr.      ┆ … ┆ 17463    ┆ 51.8625 ┆ E46   ┆ S        │\n",
       "│             ┆          ┆        ┆ Timothy J          ┆   ┆          ┆         ┆       ┆          │\n",
       "│ 12          ┆ 1        ┆ 1      ┆ Bonnell, Miss.     ┆ … ┆ 113783   ┆ 26.55   ┆ C103  ┆ S        │\n",
       "│             ┆          ┆        ┆ Elizabeth          ┆   ┆          ┆         ┆       ┆          │\n",
       "│ 24          ┆ 1        ┆ 1      ┆ Sloper, Mr.        ┆ … ┆ 113788   ┆ 35.5    ┆ A6    ┆ S        │\n",
       "│             ┆          ┆        ┆ William Thompson   ┆   ┆          ┆         ┆       ┆          │\n",
       "└─────────────┴──────────┴────────┴────────────────────┴───┴──────────┴─────────┴───────┴──────────┘"
      ],
      "text/html": [
       "<div><style>\n",
       ".dataframe > thead > tr,\n",
       ".dataframe > tbody > tr {\n",
       "  text-align: right;\n",
       "  white-space: pre-wrap;\n",
       "}\n",
       "</style>\n",
       "<small>shape: (5, 12)</small><table border=\"1\" class=\"dataframe\"><thead><tr><th>PassengerId</th><th>Survived</th><th>Pclass</th><th>Name</th><th>Sex</th><th>Age</th><th>SibSp</th><th>Parch</th><th>Ticket</th><th>Fare</th><th>Cabin</th><th>Embarked</th></tr><tr><td>i64</td><td>i64</td><td>i64</td><td>str</td><td>str</td><td>f64</td><td>i64</td><td>i64</td><td>str</td><td>f64</td><td>str</td><td>str</td></tr></thead><tbody><tr><td>2</td><td>1</td><td>1</td><td>&quot;Cumings, Mrs. John Bradley (Fl…</td><td>&quot;female&quot;</td><td>38.0</td><td>1</td><td>0</td><td>&quot;PC 17599&quot;</td><td>71.2833</td><td>&quot;C85&quot;</td><td>&quot;C&quot;</td></tr><tr><td>4</td><td>1</td><td>1</td><td>&quot;Futrelle, Mrs. Jacques Heath (…</td><td>&quot;female&quot;</td><td>35.0</td><td>1</td><td>0</td><td>&quot;113803&quot;</td><td>53.1</td><td>&quot;C123&quot;</td><td>&quot;S&quot;</td></tr><tr><td>7</td><td>0</td><td>1</td><td>&quot;McCarthy, Mr. Timothy J&quot;</td><td>&quot;male&quot;</td><td>54.0</td><td>0</td><td>0</td><td>&quot;17463&quot;</td><td>51.8625</td><td>&quot;E46&quot;</td><td>&quot;S&quot;</td></tr><tr><td>12</td><td>1</td><td>1</td><td>&quot;Bonnell, Miss. Elizabeth&quot;</td><td>&quot;female&quot;</td><td>58.0</td><td>0</td><td>0</td><td>&quot;113783&quot;</td><td>26.55</td><td>&quot;C103&quot;</td><td>&quot;S&quot;</td></tr><tr><td>24</td><td>1</td><td>1</td><td>&quot;Sloper, Mr. William Thompson&quot;</td><td>&quot;male&quot;</td><td>28.0</td><td>0</td><td>0</td><td>&quot;113788&quot;</td><td>35.5</td><td>&quot;A6&quot;</td><td>&quot;S&quot;</td></tr></tbody></table></div>"
      ]
     },
     "execution_count": 28,
     "metadata": {},
     "output_type": "execute_result"
    }
   ],
   "execution_count": 28
  },
  {
   "metadata": {},
   "cell_type": "markdown",
   "source": [
    "#### Syntax of `filter`\n",
    "Inside the `filter` method we pass an _**expression**_ and apply a Boolean condition to it:\n",
    "\n",
    "`pl.col('Pclass') == 1` -> 특정 열에서의 행을 걸러주는 조건 -> True, False를 반환.\n",
    "\n",
    "This expression has two parts:\n",
    "- `pl.col('Pclass')` expression selects the `Pclass` column from `df`\n",
    "    −  특정 열을 선택하고\n",
    "- `== 1` applies a Boolean condition to this expression - 그 열의 행에 적용하고 싶은 조건을 건다.\n",
    "\n",
    "In this example we choose all rows with the number of parents & children (`Parch`) is greater than 1"
   ],
   "id": "1260afb98f5bd95c"
  },
  {
   "metadata": {
    "ExecuteTime": {
     "end_time": "2025-05-02T02:58:23.872460Z",
     "start_time": "2025-05-02T02:58:23.869786Z"
    }
   },
   "cell_type": "code",
   "source": [
    "(\n",
    "    df\n",
    "    .filter(\n",
    "        pl.col('Parch') > 1\n",
    "    )\n",
    "    .select(\n",
    "        'PassengerId', 'Parch', 'SibSp' # 굳이 pl.col를 안해도 단순 출력을 위할땐 이렇게 하는게 더 편하겠지?\n",
    "    )\n",
    "    .head()\n",
    ")"
   ],
   "id": "5648dc14ed6e3695",
   "outputs": [
    {
     "data": {
      "text/plain": [
       "shape: (5, 3)\n",
       "┌─────────────┬───────┬───────┐\n",
       "│ PassengerId ┆ Parch ┆ SibSp │\n",
       "│ ---         ┆ ---   ┆ ---   │\n",
       "│ i64         ┆ i64   ┆ i64   │\n",
       "╞═════════════╪═══════╪═══════╡\n",
       "│ 9           ┆ 2     ┆ 0     │\n",
       "│ 14          ┆ 5     ┆ 1     │\n",
       "│ 26          ┆ 5     ┆ 1     │\n",
       "│ 28          ┆ 2     ┆ 3     │\n",
       "│ 44          ┆ 2     ┆ 1     │\n",
       "└─────────────┴───────┴───────┘"
      ],
      "text/html": [
       "<div><style>\n",
       ".dataframe > thead > tr,\n",
       ".dataframe > tbody > tr {\n",
       "  text-align: right;\n",
       "  white-space: pre-wrap;\n",
       "}\n",
       "</style>\n",
       "<small>shape: (5, 3)</small><table border=\"1\" class=\"dataframe\"><thead><tr><th>PassengerId</th><th>Parch</th><th>SibSp</th></tr><tr><td>i64</td><td>i64</td><td>i64</td></tr></thead><tbody><tr><td>9</td><td>2</td><td>0</td></tr><tr><td>14</td><td>5</td><td>1</td></tr><tr><td>26</td><td>5</td><td>1</td></tr><tr><td>28</td><td>2</td><td>3</td></tr><tr><td>44</td><td>2</td><td>1</td></tr></tbody></table></div>"
      ]
     },
     "execution_count": 30,
     "metadata": {},
     "output_type": "execute_result"
    }
   ],
   "execution_count": 30
  },
  {
   "metadata": {
    "ExecuteTime": {
     "end_time": "2025-05-02T02:59:52.821065Z",
     "start_time": "2025-05-02T02:59:52.818344Z"
    }
   },
   "cell_type": "code",
   "source": [
    "# find rows where the number of parents & children (`Parch`) is greater than the number of siblings (`SibSp`)\n",
    "(\n",
    "    df\n",
    "    .filter(\n",
    "        pl.col('Parch') > pl.col('SibSp')\n",
    "    )\n",
    "    .select(\n",
    "        'PassengerId', 'Parch', 'SibSp'\n",
    "    )\n",
    "    .head()\n",
    ")"
   ],
   "id": "9b810ec59af91b3",
   "outputs": [
    {
     "data": {
      "text/plain": [
       "shape: (5, 3)\n",
       "┌─────────────┬───────┬───────┐\n",
       "│ PassengerId ┆ Parch ┆ SibSp │\n",
       "│ ---         ┆ ---   ┆ ---   │\n",
       "│ i64         ┆ i64   ┆ i64   │\n",
       "╞═════════════╪═══════╪═══════╡\n",
       "│ 9           ┆ 2     ┆ 0     │\n",
       "│ 14          ┆ 5     ┆ 1     │\n",
       "│ 26          ┆ 5     ┆ 1     │\n",
       "│ 44          ┆ 2     ┆ 1     │\n",
       "│ 55          ┆ 1     ┆ 0     │\n",
       "└─────────────┴───────┴───────┘"
      ],
      "text/html": [
       "<div><style>\n",
       ".dataframe > thead > tr,\n",
       ".dataframe > tbody > tr {\n",
       "  text-align: right;\n",
       "  white-space: pre-wrap;\n",
       "}\n",
       "</style>\n",
       "<small>shape: (5, 3)</small><table border=\"1\" class=\"dataframe\"><thead><tr><th>PassengerId</th><th>Parch</th><th>SibSp</th></tr><tr><td>i64</td><td>i64</td><td>i64</td></tr></thead><tbody><tr><td>9</td><td>2</td><td>0</td></tr><tr><td>14</td><td>5</td><td>1</td></tr><tr><td>26</td><td>5</td><td>1</td></tr><tr><td>44</td><td>2</td><td>1</td></tr><tr><td>55</td><td>1</td><td>0</td></tr></tbody></table></div>"
      ]
     },
     "execution_count": 31,
     "metadata": {},
     "output_type": "execute_result"
    }
   ],
   "execution_count": 31
  },
  {
   "metadata": {},
   "cell_type": "markdown",
   "source": "#### Conditions based on row numbers with `filter`",
   "id": "fae5c823562c7a88"
  },
  {
   "metadata": {},
   "cell_type": "markdown",
   "source": "polars는 원래 index가 없음,, 하지만 보이는 index 열을 `.with_row_index(name = \"~\")`으로 추가 가능",
   "id": "122479f0f01cb49b"
  },
  {
   "metadata": {
    "ExecuteTime": {
     "end_time": "2025-05-02T03:02:28.532137Z",
     "start_time": "2025-05-02T03:02:28.526240Z"
    }
   },
   "cell_type": "code",
   "source": [
    "df = pl.read_csv(csv_file)\n",
    "df = df.with_row_index(name = \"index\")\n",
    "df.head(3)"
   ],
   "id": "fe3c7a09b270403",
   "outputs": [
    {
     "data": {
      "text/plain": [
       "shape: (3, 13)\n",
       "┌───────┬─────────────┬──────────┬────────┬───┬──────────────────┬─────────┬───────┬──────────┐\n",
       "│ index ┆ PassengerId ┆ Survived ┆ Pclass ┆ … ┆ Ticket           ┆ Fare    ┆ Cabin ┆ Embarked │\n",
       "│ ---   ┆ ---         ┆ ---      ┆ ---    ┆   ┆ ---              ┆ ---     ┆ ---   ┆ ---      │\n",
       "│ u32   ┆ i64         ┆ i64      ┆ i64    ┆   ┆ str              ┆ f64     ┆ str   ┆ str      │\n",
       "╞═══════╪═════════════╪══════════╪════════╪═══╪══════════════════╪═════════╪═══════╪══════════╡\n",
       "│ 0     ┆ 1           ┆ 0        ┆ 3      ┆ … ┆ A/5 21171        ┆ 7.25    ┆ null  ┆ S        │\n",
       "│ 1     ┆ 2           ┆ 1        ┆ 1      ┆ … ┆ PC 17599         ┆ 71.2833 ┆ C85   ┆ C        │\n",
       "│ 2     ┆ 3           ┆ 1        ┆ 3      ┆ … ┆ STON/O2. 3101282 ┆ 7.925   ┆ null  ┆ S        │\n",
       "└───────┴─────────────┴──────────┴────────┴───┴──────────────────┴─────────┴───────┴──────────┘"
      ],
      "text/html": [
       "<div><style>\n",
       ".dataframe > thead > tr,\n",
       ".dataframe > tbody > tr {\n",
       "  text-align: right;\n",
       "  white-space: pre-wrap;\n",
       "}\n",
       "</style>\n",
       "<small>shape: (3, 13)</small><table border=\"1\" class=\"dataframe\"><thead><tr><th>index</th><th>PassengerId</th><th>Survived</th><th>Pclass</th><th>Name</th><th>Sex</th><th>Age</th><th>SibSp</th><th>Parch</th><th>Ticket</th><th>Fare</th><th>Cabin</th><th>Embarked</th></tr><tr><td>u32</td><td>i64</td><td>i64</td><td>i64</td><td>str</td><td>str</td><td>f64</td><td>i64</td><td>i64</td><td>str</td><td>f64</td><td>str</td><td>str</td></tr></thead><tbody><tr><td>0</td><td>1</td><td>0</td><td>3</td><td>&quot;Braund, Mr. Owen Harris&quot;</td><td>&quot;male&quot;</td><td>22.0</td><td>1</td><td>0</td><td>&quot;A/5 21171&quot;</td><td>7.25</td><td>null</td><td>&quot;S&quot;</td></tr><tr><td>1</td><td>2</td><td>1</td><td>1</td><td>&quot;Cumings, Mrs. John Bradley (Fl…</td><td>&quot;female&quot;</td><td>38.0</td><td>1</td><td>0</td><td>&quot;PC 17599&quot;</td><td>71.2833</td><td>&quot;C85&quot;</td><td>&quot;C&quot;</td></tr><tr><td>2</td><td>3</td><td>1</td><td>3</td><td>&quot;Heikkinen, Miss. Laina&quot;</td><td>&quot;female&quot;</td><td>26.0</td><td>0</td><td>0</td><td>&quot;STON/O2. 3101282&quot;</td><td>7.925</td><td>null</td><td>&quot;S&quot;</td></tr></tbody></table></div>"
      ]
     },
     "execution_count": 32,
     "metadata": {},
     "output_type": "execute_result"
    }
   ],
   "execution_count": 32
  },
  {
   "metadata": {
    "ExecuteTime": {
     "end_time": "2025-05-02T03:02:51.998028Z",
     "start_time": "2025-05-02T03:02:51.990912Z"
    }
   },
   "cell_type": "code",
   "source": [
    "(\n",
    "    df\n",
    "    .filter(\n",
    "        pl.col('index') < 4\n",
    "    )\n",
    ")"
   ],
   "id": "bdf3ced497d5aa1f",
   "outputs": [
    {
     "data": {
      "text/plain": [
       "shape: (4, 13)\n",
       "┌───────┬─────────────┬──────────┬────────┬───┬──────────────────┬─────────┬───────┬──────────┐\n",
       "│ index ┆ PassengerId ┆ Survived ┆ Pclass ┆ … ┆ Ticket           ┆ Fare    ┆ Cabin ┆ Embarked │\n",
       "│ ---   ┆ ---         ┆ ---      ┆ ---    ┆   ┆ ---              ┆ ---     ┆ ---   ┆ ---      │\n",
       "│ u32   ┆ i64         ┆ i64      ┆ i64    ┆   ┆ str              ┆ f64     ┆ str   ┆ str      │\n",
       "╞═══════╪═════════════╪══════════╪════════╪═══╪══════════════════╪═════════╪═══════╪══════════╡\n",
       "│ 0     ┆ 1           ┆ 0        ┆ 3      ┆ … ┆ A/5 21171        ┆ 7.25    ┆ null  ┆ S        │\n",
       "│ 1     ┆ 2           ┆ 1        ┆ 1      ┆ … ┆ PC 17599         ┆ 71.2833 ┆ C85   ┆ C        │\n",
       "│ 2     ┆ 3           ┆ 1        ┆ 3      ┆ … ┆ STON/O2. 3101282 ┆ 7.925   ┆ null  ┆ S        │\n",
       "│ 3     ┆ 4           ┆ 1        ┆ 1      ┆ … ┆ 113803           ┆ 53.1    ┆ C123  ┆ S        │\n",
       "└───────┴─────────────┴──────────┴────────┴───┴──────────────────┴─────────┴───────┴──────────┘"
      ],
      "text/html": [
       "<div><style>\n",
       ".dataframe > thead > tr,\n",
       ".dataframe > tbody > tr {\n",
       "  text-align: right;\n",
       "  white-space: pre-wrap;\n",
       "}\n",
       "</style>\n",
       "<small>shape: (4, 13)</small><table border=\"1\" class=\"dataframe\"><thead><tr><th>index</th><th>PassengerId</th><th>Survived</th><th>Pclass</th><th>Name</th><th>Sex</th><th>Age</th><th>SibSp</th><th>Parch</th><th>Ticket</th><th>Fare</th><th>Cabin</th><th>Embarked</th></tr><tr><td>u32</td><td>i64</td><td>i64</td><td>i64</td><td>str</td><td>str</td><td>f64</td><td>i64</td><td>i64</td><td>str</td><td>f64</td><td>str</td><td>str</td></tr></thead><tbody><tr><td>0</td><td>1</td><td>0</td><td>3</td><td>&quot;Braund, Mr. Owen Harris&quot;</td><td>&quot;male&quot;</td><td>22.0</td><td>1</td><td>0</td><td>&quot;A/5 21171&quot;</td><td>7.25</td><td>null</td><td>&quot;S&quot;</td></tr><tr><td>1</td><td>2</td><td>1</td><td>1</td><td>&quot;Cumings, Mrs. John Bradley (Fl…</td><td>&quot;female&quot;</td><td>38.0</td><td>1</td><td>0</td><td>&quot;PC 17599&quot;</td><td>71.2833</td><td>&quot;C85&quot;</td><td>&quot;C&quot;</td></tr><tr><td>2</td><td>3</td><td>1</td><td>3</td><td>&quot;Heikkinen, Miss. Laina&quot;</td><td>&quot;female&quot;</td><td>26.0</td><td>0</td><td>0</td><td>&quot;STON/O2. 3101282&quot;</td><td>7.925</td><td>null</td><td>&quot;S&quot;</td></tr><tr><td>3</td><td>4</td><td>1</td><td>1</td><td>&quot;Futrelle, Mrs. Jacques Heath (…</td><td>&quot;female&quot;</td><td>35.0</td><td>1</td><td>0</td><td>&quot;113803&quot;</td><td>53.1</td><td>&quot;C123&quot;</td><td>&quot;S&quot;</td></tr></tbody></table></div>"
      ]
     },
     "execution_count": 33,
     "metadata": {},
     "output_type": "execute_result"
    }
   ],
   "execution_count": 33
  },
  {
   "metadata": {},
   "cell_type": "markdown",
   "source": "근데 굳이 이렇게 할 이유가 있을까..? ㅋㅋ",
   "id": "ba353d786565c950"
  },
  {
   "metadata": {},
   "cell_type": "markdown",
   "source": "#### Filtering on a Boolean column",
   "id": "ab3d8f873ed2dadb"
  },
  {
   "metadata": {
    "ExecuteTime": {
     "end_time": "2025-05-02T03:05:32.951009Z",
     "start_time": "2025-05-02T03:05:32.944895Z"
    }
   },
   "cell_type": "code",
   "source": [
    "(\n",
    "    df\n",
    "    .with_columns(\n",
    "        First_class = pl.col(\"Pclass\") == 1 # First_class라는 새로운 열을 만들고 Pclass가 1이면 true 아니면 false를 value에 넣음\n",
    "    )\n",
    "    .filter(\n",
    "        pl.col('First_class')\n",
    "    )\n",
    "    .head()\n",
    ")"
   ],
   "id": "746a6d125ecf3c0d",
   "outputs": [
    {
     "data": {
      "text/plain": [
       "shape: (5, 14)\n",
       "┌───────┬─────────────┬──────────┬────────┬───┬─────────┬───────┬──────────┬─────────────┐\n",
       "│ index ┆ PassengerId ┆ Survived ┆ Pclass ┆ … ┆ Fare    ┆ Cabin ┆ Embarked ┆ First_class │\n",
       "│ ---   ┆ ---         ┆ ---      ┆ ---    ┆   ┆ ---     ┆ ---   ┆ ---      ┆ ---         │\n",
       "│ u32   ┆ i64         ┆ i64      ┆ i64    ┆   ┆ f64     ┆ str   ┆ str      ┆ bool        │\n",
       "╞═══════╪═════════════╪══════════╪════════╪═══╪═════════╪═══════╪══════════╪═════════════╡\n",
       "│ 1     ┆ 2           ┆ 1        ┆ 1      ┆ … ┆ 71.2833 ┆ C85   ┆ C        ┆ true        │\n",
       "│ 3     ┆ 4           ┆ 1        ┆ 1      ┆ … ┆ 53.1    ┆ C123  ┆ S        ┆ true        │\n",
       "│ 6     ┆ 7           ┆ 0        ┆ 1      ┆ … ┆ 51.8625 ┆ E46   ┆ S        ┆ true        │\n",
       "│ 11    ┆ 12          ┆ 1        ┆ 1      ┆ … ┆ 26.55   ┆ C103  ┆ S        ┆ true        │\n",
       "│ 23    ┆ 24          ┆ 1        ┆ 1      ┆ … ┆ 35.5    ┆ A6    ┆ S        ┆ true        │\n",
       "└───────┴─────────────┴──────────┴────────┴───┴─────────┴───────┴──────────┴─────────────┘"
      ],
      "text/html": [
       "<div><style>\n",
       ".dataframe > thead > tr,\n",
       ".dataframe > tbody > tr {\n",
       "  text-align: right;\n",
       "  white-space: pre-wrap;\n",
       "}\n",
       "</style>\n",
       "<small>shape: (5, 14)</small><table border=\"1\" class=\"dataframe\"><thead><tr><th>index</th><th>PassengerId</th><th>Survived</th><th>Pclass</th><th>Name</th><th>Sex</th><th>Age</th><th>SibSp</th><th>Parch</th><th>Ticket</th><th>Fare</th><th>Cabin</th><th>Embarked</th><th>First_class</th></tr><tr><td>u32</td><td>i64</td><td>i64</td><td>i64</td><td>str</td><td>str</td><td>f64</td><td>i64</td><td>i64</td><td>str</td><td>f64</td><td>str</td><td>str</td><td>bool</td></tr></thead><tbody><tr><td>1</td><td>2</td><td>1</td><td>1</td><td>&quot;Cumings, Mrs. John Bradley (Fl…</td><td>&quot;female&quot;</td><td>38.0</td><td>1</td><td>0</td><td>&quot;PC 17599&quot;</td><td>71.2833</td><td>&quot;C85&quot;</td><td>&quot;C&quot;</td><td>true</td></tr><tr><td>3</td><td>4</td><td>1</td><td>1</td><td>&quot;Futrelle, Mrs. Jacques Heath (…</td><td>&quot;female&quot;</td><td>35.0</td><td>1</td><td>0</td><td>&quot;113803&quot;</td><td>53.1</td><td>&quot;C123&quot;</td><td>&quot;S&quot;</td><td>true</td></tr><tr><td>6</td><td>7</td><td>0</td><td>1</td><td>&quot;McCarthy, Mr. Timothy J&quot;</td><td>&quot;male&quot;</td><td>54.0</td><td>0</td><td>0</td><td>&quot;17463&quot;</td><td>51.8625</td><td>&quot;E46&quot;</td><td>&quot;S&quot;</td><td>true</td></tr><tr><td>11</td><td>12</td><td>1</td><td>1</td><td>&quot;Bonnell, Miss. Elizabeth&quot;</td><td>&quot;female&quot;</td><td>58.0</td><td>0</td><td>0</td><td>&quot;113783&quot;</td><td>26.55</td><td>&quot;C103&quot;</td><td>&quot;S&quot;</td><td>true</td></tr><tr><td>23</td><td>24</td><td>1</td><td>1</td><td>&quot;Sloper, Mr. William Thompson&quot;</td><td>&quot;male&quot;</td><td>28.0</td><td>0</td><td>0</td><td>&quot;113788&quot;</td><td>35.5</td><td>&quot;A6&quot;</td><td>&quot;S&quot;</td><td>true</td></tr></tbody></table></div>"
      ]
     },
     "execution_count": 34,
     "metadata": {},
     "output_type": "execute_result"
    }
   ],
   "execution_count": 34
  },
  {
   "metadata": {
    "ExecuteTime": {
     "end_time": "2025-05-02T03:06:27.484166Z",
     "start_time": "2025-05-02T03:06:27.481304Z"
    }
   },
   "cell_type": "code",
   "source": [
    "# 근데 걍 아래의 코드와 동일한 작업을 함\n",
    "(\n",
    "    df\n",
    "    .filter(\n",
    "        pl.col('Pclass') == 1\n",
    "    )\n",
    "    .head()\n",
    ")\n",
    "\n",
    "'''\n",
    "그 대신의 위의 코드는 불리안 컬럼으로도 인덱싱이 가능하다! 정도를 알게 해주는..\n",
    "애초에 pl.col('Pclass') == 1 자체가 불리안 컬럼이 되잖슴\n",
    "'''"
   ],
   "id": "6694ac119f9f217c",
   "outputs": [
    {
     "data": {
      "text/plain": [
       "shape: (5, 13)\n",
       "┌───────┬─────────────┬──────────┬────────┬───┬──────────┬─────────┬───────┬──────────┐\n",
       "│ index ┆ PassengerId ┆ Survived ┆ Pclass ┆ … ┆ Ticket   ┆ Fare    ┆ Cabin ┆ Embarked │\n",
       "│ ---   ┆ ---         ┆ ---      ┆ ---    ┆   ┆ ---      ┆ ---     ┆ ---   ┆ ---      │\n",
       "│ u32   ┆ i64         ┆ i64      ┆ i64    ┆   ┆ str      ┆ f64     ┆ str   ┆ str      │\n",
       "╞═══════╪═════════════╪══════════╪════════╪═══╪══════════╪═════════╪═══════╪══════════╡\n",
       "│ 1     ┆ 2           ┆ 1        ┆ 1      ┆ … ┆ PC 17599 ┆ 71.2833 ┆ C85   ┆ C        │\n",
       "│ 3     ┆ 4           ┆ 1        ┆ 1      ┆ … ┆ 113803   ┆ 53.1    ┆ C123  ┆ S        │\n",
       "│ 6     ┆ 7           ┆ 0        ┆ 1      ┆ … ┆ 17463    ┆ 51.8625 ┆ E46   ┆ S        │\n",
       "│ 11    ┆ 12          ┆ 1        ┆ 1      ┆ … ┆ 113783   ┆ 26.55   ┆ C103  ┆ S        │\n",
       "│ 23    ┆ 24          ┆ 1        ┆ 1      ┆ … ┆ 113788   ┆ 35.5    ┆ A6    ┆ S        │\n",
       "└───────┴─────────────┴──────────┴────────┴───┴──────────┴─────────┴───────┴──────────┘"
      ],
      "text/html": [
       "<div><style>\n",
       ".dataframe > thead > tr,\n",
       ".dataframe > tbody > tr {\n",
       "  text-align: right;\n",
       "  white-space: pre-wrap;\n",
       "}\n",
       "</style>\n",
       "<small>shape: (5, 13)</small><table border=\"1\" class=\"dataframe\"><thead><tr><th>index</th><th>PassengerId</th><th>Survived</th><th>Pclass</th><th>Name</th><th>Sex</th><th>Age</th><th>SibSp</th><th>Parch</th><th>Ticket</th><th>Fare</th><th>Cabin</th><th>Embarked</th></tr><tr><td>u32</td><td>i64</td><td>i64</td><td>i64</td><td>str</td><td>str</td><td>f64</td><td>i64</td><td>i64</td><td>str</td><td>f64</td><td>str</td><td>str</td></tr></thead><tbody><tr><td>1</td><td>2</td><td>1</td><td>1</td><td>&quot;Cumings, Mrs. John Bradley (Fl…</td><td>&quot;female&quot;</td><td>38.0</td><td>1</td><td>0</td><td>&quot;PC 17599&quot;</td><td>71.2833</td><td>&quot;C85&quot;</td><td>&quot;C&quot;</td></tr><tr><td>3</td><td>4</td><td>1</td><td>1</td><td>&quot;Futrelle, Mrs. Jacques Heath (…</td><td>&quot;female&quot;</td><td>35.0</td><td>1</td><td>0</td><td>&quot;113803&quot;</td><td>53.1</td><td>&quot;C123&quot;</td><td>&quot;S&quot;</td></tr><tr><td>6</td><td>7</td><td>0</td><td>1</td><td>&quot;McCarthy, Mr. Timothy J&quot;</td><td>&quot;male&quot;</td><td>54.0</td><td>0</td><td>0</td><td>&quot;17463&quot;</td><td>51.8625</td><td>&quot;E46&quot;</td><td>&quot;S&quot;</td></tr><tr><td>11</td><td>12</td><td>1</td><td>1</td><td>&quot;Bonnell, Miss. Elizabeth&quot;</td><td>&quot;female&quot;</td><td>58.0</td><td>0</td><td>0</td><td>&quot;113783&quot;</td><td>26.55</td><td>&quot;C103&quot;</td><td>&quot;S&quot;</td></tr><tr><td>23</td><td>24</td><td>1</td><td>1</td><td>&quot;Sloper, Mr. William Thompson&quot;</td><td>&quot;male&quot;</td><td>28.0</td><td>0</td><td>0</td><td>&quot;113788&quot;</td><td>35.5</td><td>&quot;A6&quot;</td><td>&quot;S&quot;</td></tr></tbody></table></div>"
      ]
     },
     "execution_count": 36,
     "metadata": {},
     "output_type": "execute_result"
    }
   ],
   "execution_count": 36
  },
  {
   "metadata": {
    "ExecuteTime": {
     "end_time": "2025-05-02T03:09:00.594292Z",
     "start_time": "2025-05-02T03:09:00.591650Z"
    }
   },
   "cell_type": "code",
   "source": [
    "df = (\n",
    "    df\n",
    "    .with_columns(\n",
    "        less_than_30 = pl.col('Age') < 30\n",
    "    )\n",
    ")\n",
    "\n",
    "print(df.head())"
   ],
   "id": "9fa9c9980f535a46",
   "outputs": [
    {
     "name": "stdout",
     "output_type": "stream",
     "text": [
      "shape: (5, 14)\n",
      "┌───────┬─────────────┬──────────┬────────┬───┬─────────┬───────┬──────────┬──────────────┐\n",
      "│ index ┆ PassengerId ┆ Survived ┆ Pclass ┆ … ┆ Fare    ┆ Cabin ┆ Embarked ┆ less_than_30 │\n",
      "│ ---   ┆ ---         ┆ ---      ┆ ---    ┆   ┆ ---     ┆ ---   ┆ ---      ┆ ---          │\n",
      "│ u32   ┆ i64         ┆ i64      ┆ i64    ┆   ┆ f64     ┆ str   ┆ str      ┆ bool         │\n",
      "╞═══════╪═════════════╪══════════╪════════╪═══╪═════════╪═══════╪══════════╪══════════════╡\n",
      "│ 0     ┆ 1           ┆ 0        ┆ 3      ┆ … ┆ 7.25    ┆ null  ┆ S        ┆ true         │\n",
      "│ 1     ┆ 2           ┆ 1        ┆ 1      ┆ … ┆ 71.2833 ┆ C85   ┆ C        ┆ false        │\n",
      "│ 2     ┆ 3           ┆ 1        ┆ 3      ┆ … ┆ 7.925   ┆ null  ┆ S        ┆ true         │\n",
      "│ 3     ┆ 4           ┆ 1        ┆ 1      ┆ … ┆ 53.1    ┆ C123  ┆ S        ┆ false        │\n",
      "│ 4     ┆ 5           ┆ 0        ┆ 3      ┆ … ┆ 8.05    ┆ null  ┆ S        ┆ false        │\n",
      "└───────┴─────────────┴──────────┴────────┴───┴─────────┴───────┴──────────┴──────────────┘\n"
     ]
    }
   ],
   "execution_count": 37
  },
  {
   "metadata": {
    "ExecuteTime": {
     "end_time": "2025-05-02T03:09:38.747440Z",
     "start_time": "2025-05-02T03:09:38.744518Z"
    }
   },
   "cell_type": "code",
   "source": [
    "(\n",
    "    df\n",
    "    .filter(\n",
    "        pl.col('less_than_30')\n",
    "    )\n",
    "    .head()\n",
    ")"
   ],
   "id": "e462ba606be0ffdb",
   "outputs": [
    {
     "data": {
      "text/plain": [
       "shape: (5, 14)\n",
       "┌───────┬─────────────┬──────────┬────────┬───┬─────────┬───────┬──────────┬──────────────┐\n",
       "│ index ┆ PassengerId ┆ Survived ┆ Pclass ┆ … ┆ Fare    ┆ Cabin ┆ Embarked ┆ less_than_30 │\n",
       "│ ---   ┆ ---         ┆ ---      ┆ ---    ┆   ┆ ---     ┆ ---   ┆ ---      ┆ ---          │\n",
       "│ u32   ┆ i64         ┆ i64      ┆ i64    ┆   ┆ f64     ┆ str   ┆ str      ┆ bool         │\n",
       "╞═══════╪═════════════╪══════════╪════════╪═══╪═════════╪═══════╪══════════╪══════════════╡\n",
       "│ 0     ┆ 1           ┆ 0        ┆ 3      ┆ … ┆ 7.25    ┆ null  ┆ S        ┆ true         │\n",
       "│ 2     ┆ 3           ┆ 1        ┆ 3      ┆ … ┆ 7.925   ┆ null  ┆ S        ┆ true         │\n",
       "│ 7     ┆ 8           ┆ 0        ┆ 3      ┆ … ┆ 21.075  ┆ null  ┆ S        ┆ true         │\n",
       "│ 8     ┆ 9           ┆ 1        ┆ 3      ┆ … ┆ 11.1333 ┆ null  ┆ S        ┆ true         │\n",
       "│ 9     ┆ 10          ┆ 1        ┆ 2      ┆ … ┆ 30.0708 ┆ null  ┆ C        ┆ true         │\n",
       "└───────┴─────────────┴──────────┴────────┴───┴─────────┴───────┴──────────┴──────────────┘"
      ],
      "text/html": [
       "<div><style>\n",
       ".dataframe > thead > tr,\n",
       ".dataframe > tbody > tr {\n",
       "  text-align: right;\n",
       "  white-space: pre-wrap;\n",
       "}\n",
       "</style>\n",
       "<small>shape: (5, 14)</small><table border=\"1\" class=\"dataframe\"><thead><tr><th>index</th><th>PassengerId</th><th>Survived</th><th>Pclass</th><th>Name</th><th>Sex</th><th>Age</th><th>SibSp</th><th>Parch</th><th>Ticket</th><th>Fare</th><th>Cabin</th><th>Embarked</th><th>less_than_30</th></tr><tr><td>u32</td><td>i64</td><td>i64</td><td>i64</td><td>str</td><td>str</td><td>f64</td><td>i64</td><td>i64</td><td>str</td><td>f64</td><td>str</td><td>str</td><td>bool</td></tr></thead><tbody><tr><td>0</td><td>1</td><td>0</td><td>3</td><td>&quot;Braund, Mr. Owen Harris&quot;</td><td>&quot;male&quot;</td><td>22.0</td><td>1</td><td>0</td><td>&quot;A/5 21171&quot;</td><td>7.25</td><td>null</td><td>&quot;S&quot;</td><td>true</td></tr><tr><td>2</td><td>3</td><td>1</td><td>3</td><td>&quot;Heikkinen, Miss. Laina&quot;</td><td>&quot;female&quot;</td><td>26.0</td><td>0</td><td>0</td><td>&quot;STON/O2. 3101282&quot;</td><td>7.925</td><td>null</td><td>&quot;S&quot;</td><td>true</td></tr><tr><td>7</td><td>8</td><td>0</td><td>3</td><td>&quot;Palsson, Master. Gosta Leonard&quot;</td><td>&quot;male&quot;</td><td>2.0</td><td>3</td><td>1</td><td>&quot;349909&quot;</td><td>21.075</td><td>null</td><td>&quot;S&quot;</td><td>true</td></tr><tr><td>8</td><td>9</td><td>1</td><td>3</td><td>&quot;Johnson, Mrs. Oscar W (Elisabe…</td><td>&quot;female&quot;</td><td>27.0</td><td>0</td><td>2</td><td>&quot;347742&quot;</td><td>11.1333</td><td>null</td><td>&quot;S&quot;</td><td>true</td></tr><tr><td>9</td><td>10</td><td>1</td><td>2</td><td>&quot;Nasser, Mrs. Nicholas (Adele A…</td><td>&quot;female&quot;</td><td>14.0</td><td>1</td><td>0</td><td>&quot;237736&quot;</td><td>30.0708</td><td>null</td><td>&quot;C&quot;</td><td>true</td></tr></tbody></table></div>"
      ]
     },
     "execution_count": 39,
     "metadata": {},
     "output_type": "execute_result"
    }
   ],
   "execution_count": 39
  },
  {
   "metadata": {
    "ExecuteTime": {
     "end_time": "2025-05-02T03:10:25.172918Z",
     "start_time": "2025-05-02T03:10:25.166597Z"
    }
   },
   "cell_type": "code",
   "source": [
    "# 30살 이상\n",
    "(\n",
    "    df\n",
    "    .filter(\n",
    "        ~pl.col('less_than_30')\n",
    "    )\n",
    "    .head()\n",
    ")"
   ],
   "id": "6e9aee977be1acde",
   "outputs": [
    {
     "data": {
      "text/plain": [
       "shape: (5, 14)\n",
       "┌───────┬─────────────┬──────────┬────────┬───┬─────────┬───────┬──────────┬──────────────┐\n",
       "│ index ┆ PassengerId ┆ Survived ┆ Pclass ┆ … ┆ Fare    ┆ Cabin ┆ Embarked ┆ less_than_30 │\n",
       "│ ---   ┆ ---         ┆ ---      ┆ ---    ┆   ┆ ---     ┆ ---   ┆ ---      ┆ ---          │\n",
       "│ u32   ┆ i64         ┆ i64      ┆ i64    ┆   ┆ f64     ┆ str   ┆ str      ┆ bool         │\n",
       "╞═══════╪═════════════╪══════════╪════════╪═══╪═════════╪═══════╪══════════╪══════════════╡\n",
       "│ 1     ┆ 2           ┆ 1        ┆ 1      ┆ … ┆ 71.2833 ┆ C85   ┆ C        ┆ false        │\n",
       "│ 3     ┆ 4           ┆ 1        ┆ 1      ┆ … ┆ 53.1    ┆ C123  ┆ S        ┆ false        │\n",
       "│ 4     ┆ 5           ┆ 0        ┆ 3      ┆ … ┆ 8.05    ┆ null  ┆ S        ┆ false        │\n",
       "│ 6     ┆ 7           ┆ 0        ┆ 1      ┆ … ┆ 51.8625 ┆ E46   ┆ S        ┆ false        │\n",
       "│ 11    ┆ 12          ┆ 1        ┆ 1      ┆ … ┆ 26.55   ┆ C103  ┆ S        ┆ false        │\n",
       "└───────┴─────────────┴──────────┴────────┴───┴─────────┴───────┴──────────┴──────────────┘"
      ],
      "text/html": [
       "<div><style>\n",
       ".dataframe > thead > tr,\n",
       ".dataframe > tbody > tr {\n",
       "  text-align: right;\n",
       "  white-space: pre-wrap;\n",
       "}\n",
       "</style>\n",
       "<small>shape: (5, 14)</small><table border=\"1\" class=\"dataframe\"><thead><tr><th>index</th><th>PassengerId</th><th>Survived</th><th>Pclass</th><th>Name</th><th>Sex</th><th>Age</th><th>SibSp</th><th>Parch</th><th>Ticket</th><th>Fare</th><th>Cabin</th><th>Embarked</th><th>less_than_30</th></tr><tr><td>u32</td><td>i64</td><td>i64</td><td>i64</td><td>str</td><td>str</td><td>f64</td><td>i64</td><td>i64</td><td>str</td><td>f64</td><td>str</td><td>str</td><td>bool</td></tr></thead><tbody><tr><td>1</td><td>2</td><td>1</td><td>1</td><td>&quot;Cumings, Mrs. John Bradley (Fl…</td><td>&quot;female&quot;</td><td>38.0</td><td>1</td><td>0</td><td>&quot;PC 17599&quot;</td><td>71.2833</td><td>&quot;C85&quot;</td><td>&quot;C&quot;</td><td>false</td></tr><tr><td>3</td><td>4</td><td>1</td><td>1</td><td>&quot;Futrelle, Mrs. Jacques Heath (…</td><td>&quot;female&quot;</td><td>35.0</td><td>1</td><td>0</td><td>&quot;113803&quot;</td><td>53.1</td><td>&quot;C123&quot;</td><td>&quot;S&quot;</td><td>false</td></tr><tr><td>4</td><td>5</td><td>0</td><td>3</td><td>&quot;Allen, Mr. William Henry&quot;</td><td>&quot;male&quot;</td><td>35.0</td><td>0</td><td>0</td><td>&quot;373450&quot;</td><td>8.05</td><td>null</td><td>&quot;S&quot;</td><td>false</td></tr><tr><td>6</td><td>7</td><td>0</td><td>1</td><td>&quot;McCarthy, Mr. Timothy J&quot;</td><td>&quot;male&quot;</td><td>54.0</td><td>0</td><td>0</td><td>&quot;17463&quot;</td><td>51.8625</td><td>&quot;E46&quot;</td><td>&quot;S&quot;</td><td>false</td></tr><tr><td>11</td><td>12</td><td>1</td><td>1</td><td>&quot;Bonnell, Miss. Elizabeth&quot;</td><td>&quot;female&quot;</td><td>58.0</td><td>0</td><td>0</td><td>&quot;113783&quot;</td><td>26.55</td><td>&quot;C103&quot;</td><td>&quot;S&quot;</td><td>false</td></tr></tbody></table></div>"
      ]
     },
     "execution_count": 40,
     "metadata": {},
     "output_type": "execute_result"
    }
   ],
   "execution_count": 40
  },
  {
   "metadata": {},
   "cell_type": "markdown",
   "source": "#### Partitioning a `DataFrame`",
   "id": "8ef7a5aa6dfb194d"
  },
  {
   "metadata": {
    "ExecuteTime": {
     "end_time": "2025-05-02T03:12:16.364912Z",
     "start_time": "2025-05-02T03:12:16.358967Z"
    }
   },
   "cell_type": "code",
   "source": [
    "df_sex_dict = (\n",
    "    df\n",
    "    .partition_by(\n",
    "        by = ['Sex'],\n",
    "        as_dict = True\n",
    "    )\n",
    ")\n",
    "\n",
    "df_sex_dict"
   ],
   "id": "2e6a9093b678e09f",
   "outputs": [
    {
     "data": {
      "text/plain": [
       "{('male',): shape: (577, 14)\n",
       " ┌───────┬─────────────┬──────────┬────────┬───┬─────────┬───────┬──────────┬──────────────┐\n",
       " │ index ┆ PassengerId ┆ Survived ┆ Pclass ┆ … ┆ Fare    ┆ Cabin ┆ Embarked ┆ less_than_30 │\n",
       " │ ---   ┆ ---         ┆ ---      ┆ ---    ┆   ┆ ---     ┆ ---   ┆ ---      ┆ ---          │\n",
       " │ u32   ┆ i64         ┆ i64      ┆ i64    ┆   ┆ f64     ┆ str   ┆ str      ┆ bool         │\n",
       " ╞═══════╪═════════════╪══════════╪════════╪═══╪═════════╪═══════╪══════════╪══════════════╡\n",
       " │ 0     ┆ 1           ┆ 0        ┆ 3      ┆ … ┆ 7.25    ┆ null  ┆ S        ┆ true         │\n",
       " │ 4     ┆ 5           ┆ 0        ┆ 3      ┆ … ┆ 8.05    ┆ null  ┆ S        ┆ false        │\n",
       " │ 5     ┆ 6           ┆ 0        ┆ 3      ┆ … ┆ 8.4583  ┆ null  ┆ Q        ┆ null         │\n",
       " │ 6     ┆ 7           ┆ 0        ┆ 1      ┆ … ┆ 51.8625 ┆ E46   ┆ S        ┆ false        │\n",
       " │ 7     ┆ 8           ┆ 0        ┆ 3      ┆ … ┆ 21.075  ┆ null  ┆ S        ┆ true         │\n",
       " │ …     ┆ …           ┆ …        ┆ …      ┆ … ┆ …       ┆ …     ┆ …        ┆ …            │\n",
       " │ 883   ┆ 884         ┆ 0        ┆ 2      ┆ … ┆ 10.5    ┆ null  ┆ S        ┆ true         │\n",
       " │ 884   ┆ 885         ┆ 0        ┆ 3      ┆ … ┆ 7.05    ┆ null  ┆ S        ┆ true         │\n",
       " │ 886   ┆ 887         ┆ 0        ┆ 2      ┆ … ┆ 13.0    ┆ null  ┆ S        ┆ true         │\n",
       " │ 889   ┆ 890         ┆ 1        ┆ 1      ┆ … ┆ 30.0    ┆ C148  ┆ C        ┆ true         │\n",
       " │ 890   ┆ 891         ┆ 0        ┆ 3      ┆ … ┆ 7.75    ┆ null  ┆ Q        ┆ false        │\n",
       " └───────┴─────────────┴──────────┴────────┴───┴─────────┴───────┴──────────┴──────────────┘,\n",
       " ('female',): shape: (314, 14)\n",
       " ┌───────┬─────────────┬──────────┬────────┬───┬─────────┬───────┬──────────┬──────────────┐\n",
       " │ index ┆ PassengerId ┆ Survived ┆ Pclass ┆ … ┆ Fare    ┆ Cabin ┆ Embarked ┆ less_than_30 │\n",
       " │ ---   ┆ ---         ┆ ---      ┆ ---    ┆   ┆ ---     ┆ ---   ┆ ---      ┆ ---          │\n",
       " │ u32   ┆ i64         ┆ i64      ┆ i64    ┆   ┆ f64     ┆ str   ┆ str      ┆ bool         │\n",
       " ╞═══════╪═════════════╪══════════╪════════╪═══╪═════════╪═══════╪══════════╪══════════════╡\n",
       " │ 1     ┆ 2           ┆ 1        ┆ 1      ┆ … ┆ 71.2833 ┆ C85   ┆ C        ┆ false        │\n",
       " │ 2     ┆ 3           ┆ 1        ┆ 3      ┆ … ┆ 7.925   ┆ null  ┆ S        ┆ true         │\n",
       " │ 3     ┆ 4           ┆ 1        ┆ 1      ┆ … ┆ 53.1    ┆ C123  ┆ S        ┆ false        │\n",
       " │ 8     ┆ 9           ┆ 1        ┆ 3      ┆ … ┆ 11.1333 ┆ null  ┆ S        ┆ true         │\n",
       " │ 9     ┆ 10          ┆ 1        ┆ 2      ┆ … ┆ 30.0708 ┆ null  ┆ C        ┆ true         │\n",
       " │ …     ┆ …           ┆ …        ┆ …      ┆ … ┆ …       ┆ …     ┆ …        ┆ …            │\n",
       " │ 880   ┆ 881         ┆ 1        ┆ 2      ┆ … ┆ 26.0    ┆ null  ┆ S        ┆ true         │\n",
       " │ 882   ┆ 883         ┆ 0        ┆ 3      ┆ … ┆ 10.5167 ┆ null  ┆ S        ┆ true         │\n",
       " │ 885   ┆ 886         ┆ 0        ┆ 3      ┆ … ┆ 29.125  ┆ null  ┆ Q        ┆ false        │\n",
       " │ 887   ┆ 888         ┆ 1        ┆ 1      ┆ … ┆ 30.0    ┆ B42   ┆ S        ┆ true         │\n",
       " │ 888   ┆ 889         ┆ 0        ┆ 3      ┆ … ┆ 23.45   ┆ null  ┆ S        ┆ null         │\n",
       " └───────┴─────────────┴──────────┴────────┴───┴─────────┴───────┴──────────┴──────────────┘}"
      ]
     },
     "execution_count": 41,
     "metadata": {},
     "output_type": "execute_result"
    }
   ],
   "execution_count": 41
  },
  {
   "metadata": {
    "ExecuteTime": {
     "end_time": "2025-05-02T03:13:20.147314Z",
     "start_time": "2025-05-02T03:13:20.144064Z"
    }
   },
   "cell_type": "code",
   "source": [
    "(\n",
    "    df_sex_dict['male', ]\n",
    "    .filter(\n",
    "        pl.col('Age') > 30\n",
    "    )\n",
    "    .head()\n",
    ")"
   ],
   "id": "51e136e6a990219d",
   "outputs": [
    {
     "data": {
      "text/plain": [
       "shape: (5, 14)\n",
       "┌───────┬─────────────┬──────────┬────────┬───┬─────────┬───────┬──────────┬──────────────┐\n",
       "│ index ┆ PassengerId ┆ Survived ┆ Pclass ┆ … ┆ Fare    ┆ Cabin ┆ Embarked ┆ less_than_30 │\n",
       "│ ---   ┆ ---         ┆ ---      ┆ ---    ┆   ┆ ---     ┆ ---   ┆ ---      ┆ ---          │\n",
       "│ u32   ┆ i64         ┆ i64      ┆ i64    ┆   ┆ f64     ┆ str   ┆ str      ┆ bool         │\n",
       "╞═══════╪═════════════╪══════════╪════════╪═══╪═════════╪═══════╪══════════╪══════════════╡\n",
       "│ 4     ┆ 5           ┆ 0        ┆ 3      ┆ … ┆ 8.05    ┆ null  ┆ S        ┆ false        │\n",
       "│ 6     ┆ 7           ┆ 0        ┆ 1      ┆ … ┆ 51.8625 ┆ E46   ┆ S        ┆ false        │\n",
       "│ 13    ┆ 14          ┆ 0        ┆ 3      ┆ … ┆ 31.275  ┆ null  ┆ S        ┆ false        │\n",
       "│ 20    ┆ 21          ┆ 0        ┆ 2      ┆ … ┆ 26.0    ┆ null  ┆ S        ┆ false        │\n",
       "│ 21    ┆ 22          ┆ 1        ┆ 2      ┆ … ┆ 13.0    ┆ D56   ┆ S        ┆ false        │\n",
       "└───────┴─────────────┴──────────┴────────┴───┴─────────┴───────┴──────────┴──────────────┘"
      ],
      "text/html": [
       "<div><style>\n",
       ".dataframe > thead > tr,\n",
       ".dataframe > tbody > tr {\n",
       "  text-align: right;\n",
       "  white-space: pre-wrap;\n",
       "}\n",
       "</style>\n",
       "<small>shape: (5, 14)</small><table border=\"1\" class=\"dataframe\"><thead><tr><th>index</th><th>PassengerId</th><th>Survived</th><th>Pclass</th><th>Name</th><th>Sex</th><th>Age</th><th>SibSp</th><th>Parch</th><th>Ticket</th><th>Fare</th><th>Cabin</th><th>Embarked</th><th>less_than_30</th></tr><tr><td>u32</td><td>i64</td><td>i64</td><td>i64</td><td>str</td><td>str</td><td>f64</td><td>i64</td><td>i64</td><td>str</td><td>f64</td><td>str</td><td>str</td><td>bool</td></tr></thead><tbody><tr><td>4</td><td>5</td><td>0</td><td>3</td><td>&quot;Allen, Mr. William Henry&quot;</td><td>&quot;male&quot;</td><td>35.0</td><td>0</td><td>0</td><td>&quot;373450&quot;</td><td>8.05</td><td>null</td><td>&quot;S&quot;</td><td>false</td></tr><tr><td>6</td><td>7</td><td>0</td><td>1</td><td>&quot;McCarthy, Mr. Timothy J&quot;</td><td>&quot;male&quot;</td><td>54.0</td><td>0</td><td>0</td><td>&quot;17463&quot;</td><td>51.8625</td><td>&quot;E46&quot;</td><td>&quot;S&quot;</td><td>false</td></tr><tr><td>13</td><td>14</td><td>0</td><td>3</td><td>&quot;Andersson, Mr. Anders Johan&quot;</td><td>&quot;male&quot;</td><td>39.0</td><td>1</td><td>5</td><td>&quot;347082&quot;</td><td>31.275</td><td>null</td><td>&quot;S&quot;</td><td>false</td></tr><tr><td>20</td><td>21</td><td>0</td><td>2</td><td>&quot;Fynney, Mr. Joseph J&quot;</td><td>&quot;male&quot;</td><td>35.0</td><td>0</td><td>0</td><td>&quot;239865&quot;</td><td>26.0</td><td>null</td><td>&quot;S&quot;</td><td>false</td></tr><tr><td>21</td><td>22</td><td>1</td><td>2</td><td>&quot;Beesley, Mr. Lawrence&quot;</td><td>&quot;male&quot;</td><td>34.0</td><td>0</td><td>0</td><td>&quot;248698&quot;</td><td>13.0</td><td>&quot;D56&quot;</td><td>&quot;S&quot;</td><td>false</td></tr></tbody></table></div>"
      ]
     },
     "execution_count": 44,
     "metadata": {},
     "output_type": "execute_result"
    }
   ],
   "execution_count": 44
  },
  {
   "metadata": {
    "ExecuteTime": {
     "end_time": "2025-05-02T03:14:28.053527Z",
     "start_time": "2025-05-02T03:14:28.050562Z"
    }
   },
   "cell_type": "code",
   "source": [
    "'''\n",
    "분할도 가능하지만 아래와 같이 & 또는 | 으로 한 번에 가능하다.\n",
    "위의 예제는 케이스 별로 데이터를 나누어 작업 할 때 좋을듯?\n",
    "'''\n",
    "(\n",
    "    df\n",
    "    .filter(\n",
    "        (pl.col('Sex') == 'male') & (pl.col('Age') > 30)\n",
    "    )\n",
    "    .head()\n",
    ")"
   ],
   "id": "eaa5fe41db4ec32b",
   "outputs": [
    {
     "data": {
      "text/plain": [
       "shape: (5, 14)\n",
       "┌───────┬─────────────┬──────────┬────────┬───┬─────────┬───────┬──────────┬──────────────┐\n",
       "│ index ┆ PassengerId ┆ Survived ┆ Pclass ┆ … ┆ Fare    ┆ Cabin ┆ Embarked ┆ less_than_30 │\n",
       "│ ---   ┆ ---         ┆ ---      ┆ ---    ┆   ┆ ---     ┆ ---   ┆ ---      ┆ ---          │\n",
       "│ u32   ┆ i64         ┆ i64      ┆ i64    ┆   ┆ f64     ┆ str   ┆ str      ┆ bool         │\n",
       "╞═══════╪═════════════╪══════════╪════════╪═══╪═════════╪═══════╪══════════╪══════════════╡\n",
       "│ 4     ┆ 5           ┆ 0        ┆ 3      ┆ … ┆ 8.05    ┆ null  ┆ S        ┆ false        │\n",
       "│ 6     ┆ 7           ┆ 0        ┆ 1      ┆ … ┆ 51.8625 ┆ E46   ┆ S        ┆ false        │\n",
       "│ 13    ┆ 14          ┆ 0        ┆ 3      ┆ … ┆ 31.275  ┆ null  ┆ S        ┆ false        │\n",
       "│ 20    ┆ 21          ┆ 0        ┆ 2      ┆ … ┆ 26.0    ┆ null  ┆ S        ┆ false        │\n",
       "│ 21    ┆ 22          ┆ 1        ┆ 2      ┆ … ┆ 13.0    ┆ D56   ┆ S        ┆ false        │\n",
       "└───────┴─────────────┴──────────┴────────┴───┴─────────┴───────┴──────────┴──────────────┘"
      ],
      "text/html": [
       "<div><style>\n",
       ".dataframe > thead > tr,\n",
       ".dataframe > tbody > tr {\n",
       "  text-align: right;\n",
       "  white-space: pre-wrap;\n",
       "}\n",
       "</style>\n",
       "<small>shape: (5, 14)</small><table border=\"1\" class=\"dataframe\"><thead><tr><th>index</th><th>PassengerId</th><th>Survived</th><th>Pclass</th><th>Name</th><th>Sex</th><th>Age</th><th>SibSp</th><th>Parch</th><th>Ticket</th><th>Fare</th><th>Cabin</th><th>Embarked</th><th>less_than_30</th></tr><tr><td>u32</td><td>i64</td><td>i64</td><td>i64</td><td>str</td><td>str</td><td>f64</td><td>i64</td><td>i64</td><td>str</td><td>f64</td><td>str</td><td>str</td><td>bool</td></tr></thead><tbody><tr><td>4</td><td>5</td><td>0</td><td>3</td><td>&quot;Allen, Mr. William Henry&quot;</td><td>&quot;male&quot;</td><td>35.0</td><td>0</td><td>0</td><td>&quot;373450&quot;</td><td>8.05</td><td>null</td><td>&quot;S&quot;</td><td>false</td></tr><tr><td>6</td><td>7</td><td>0</td><td>1</td><td>&quot;McCarthy, Mr. Timothy J&quot;</td><td>&quot;male&quot;</td><td>54.0</td><td>0</td><td>0</td><td>&quot;17463&quot;</td><td>51.8625</td><td>&quot;E46&quot;</td><td>&quot;S&quot;</td><td>false</td></tr><tr><td>13</td><td>14</td><td>0</td><td>3</td><td>&quot;Andersson, Mr. Anders Johan&quot;</td><td>&quot;male&quot;</td><td>39.0</td><td>1</td><td>5</td><td>&quot;347082&quot;</td><td>31.275</td><td>null</td><td>&quot;S&quot;</td><td>false</td></tr><tr><td>20</td><td>21</td><td>0</td><td>2</td><td>&quot;Fynney, Mr. Joseph J&quot;</td><td>&quot;male&quot;</td><td>35.0</td><td>0</td><td>0</td><td>&quot;239865&quot;</td><td>26.0</td><td>null</td><td>&quot;S&quot;</td><td>false</td></tr><tr><td>21</td><td>22</td><td>1</td><td>2</td><td>&quot;Beesley, Mr. Lawrence&quot;</td><td>&quot;male&quot;</td><td>34.0</td><td>0</td><td>0</td><td>&quot;248698&quot;</td><td>13.0</td><td>&quot;D56&quot;</td><td>&quot;S&quot;</td><td>false</td></tr></tbody></table></div>"
      ]
     },
     "execution_count": 47,
     "metadata": {},
     "output_type": "execute_result"
    }
   ],
   "execution_count": 47
  },
  {
   "metadata": {},
   "cell_type": "markdown",
   "source": "### Filtering row : Multiple filter conditions",
   "id": "cf744c4a3ab03535"
  },
  {
   "metadata": {
    "ExecuteTime": {
     "end_time": "2025-05-02T03:17:11.210752Z",
     "start_time": "2025-05-02T03:17:11.207505Z"
    }
   },
   "cell_type": "code",
   "source": "df = pl.read_csv(csv_file)",
   "id": "8edd92fbf37fc74a",
   "outputs": [],
   "execution_count": 48
  },
  {
   "metadata": {
    "ExecuteTime": {
     "end_time": "2025-05-02T04:40:12.853823Z",
     "start_time": "2025-05-02T04:40:12.850809Z"
    }
   },
   "cell_type": "code",
   "source": [
    "(\n",
    "    df\n",
    "    .filter(\n",
    "        pl.col(\"Pclass\") == 1\n",
    "    )\n",
    "    .filter(\n",
    "        pl.col('Age') > 70\n",
    "    )\n",
    "    .head(3)\n",
    ")"
   ],
   "id": "3978ffafbdfb6b9e",
   "outputs": [
    {
     "data": {
      "text/plain": [
       "shape: (3, 12)\n",
       "┌─────────────┬──────────┬────────┬────────────────────┬───┬──────────┬─────────┬───────┬──────────┐\n",
       "│ PassengerId ┆ Survived ┆ Pclass ┆ Name               ┆ … ┆ Ticket   ┆ Fare    ┆ Cabin ┆ Embarked │\n",
       "│ ---         ┆ ---      ┆ ---    ┆ ---                ┆   ┆ ---      ┆ ---     ┆ ---   ┆ ---      │\n",
       "│ i64         ┆ i64      ┆ i64    ┆ str                ┆   ┆ str      ┆ f64     ┆ str   ┆ str      │\n",
       "╞═════════════╪══════════╪════════╪════════════════════╪═══╪══════════╪═════════╪═══════╪══════════╡\n",
       "│ 97          ┆ 0        ┆ 1      ┆ Goldschmidt, Mr.   ┆ … ┆ PC 17754 ┆ 34.6542 ┆ A5    ┆ C        │\n",
       "│             ┆          ┆        ┆ George B           ┆   ┆          ┆         ┆       ┆          │\n",
       "│ 494         ┆ 0        ┆ 1      ┆ Artagaveytia, Mr.  ┆ … ┆ PC 17609 ┆ 49.5042 ┆ null  ┆ C        │\n",
       "│             ┆          ┆        ┆ Ramon              ┆   ┆          ┆         ┆       ┆          │\n",
       "│ 631         ┆ 1        ┆ 1      ┆ Barkworth, Mr.     ┆ … ┆ 27042    ┆ 30.0    ┆ A23   ┆ S        │\n",
       "│             ┆          ┆        ┆ Algernon Henry …   ┆   ┆          ┆         ┆       ┆          │\n",
       "└─────────────┴──────────┴────────┴────────────────────┴───┴──────────┴─────────┴───────┴──────────┘"
      ],
      "text/html": [
       "<div><style>\n",
       ".dataframe > thead > tr,\n",
       ".dataframe > tbody > tr {\n",
       "  text-align: right;\n",
       "  white-space: pre-wrap;\n",
       "}\n",
       "</style>\n",
       "<small>shape: (3, 12)</small><table border=\"1\" class=\"dataframe\"><thead><tr><th>PassengerId</th><th>Survived</th><th>Pclass</th><th>Name</th><th>Sex</th><th>Age</th><th>SibSp</th><th>Parch</th><th>Ticket</th><th>Fare</th><th>Cabin</th><th>Embarked</th></tr><tr><td>i64</td><td>i64</td><td>i64</td><td>str</td><td>str</td><td>f64</td><td>i64</td><td>i64</td><td>str</td><td>f64</td><td>str</td><td>str</td></tr></thead><tbody><tr><td>97</td><td>0</td><td>1</td><td>&quot;Goldschmidt, Mr. George B&quot;</td><td>&quot;male&quot;</td><td>71.0</td><td>0</td><td>0</td><td>&quot;PC 17754&quot;</td><td>34.6542</td><td>&quot;A5&quot;</td><td>&quot;C&quot;</td></tr><tr><td>494</td><td>0</td><td>1</td><td>&quot;Artagaveytia, Mr. Ramon&quot;</td><td>&quot;male&quot;</td><td>71.0</td><td>0</td><td>0</td><td>&quot;PC 17609&quot;</td><td>49.5042</td><td>null</td><td>&quot;C&quot;</td></tr><tr><td>631</td><td>1</td><td>1</td><td>&quot;Barkworth, Mr. Algernon Henry …</td><td>&quot;male&quot;</td><td>80.0</td><td>0</td><td>0</td><td>&quot;27042&quot;</td><td>30.0</td><td>&quot;A23&quot;</td><td>&quot;S&quot;</td></tr></tbody></table></div>"
      ]
     },
     "execution_count": 49,
     "metadata": {},
     "output_type": "execute_result"
    }
   ],
   "execution_count": 49
  },
  {
   "metadata": {
    "ExecuteTime": {
     "end_time": "2025-05-02T04:40:52.515048Z",
     "start_time": "2025-05-02T04:40:52.512268Z"
    }
   },
   "cell_type": "code",
   "source": [
    "(\n",
    "    df\n",
    "    .filter(\n",
    "        (pl.col('Pclass') == 1) & (pl.col('Age') > 70)\n",
    "    )\n",
    "    .head()\n",
    ")"
   ],
   "id": "60a07c9f118dcdac",
   "outputs": [
    {
     "data": {
      "text/plain": [
       "shape: (3, 12)\n",
       "┌─────────────┬──────────┬────────┬────────────────────┬───┬──────────┬─────────┬───────┬──────────┐\n",
       "│ PassengerId ┆ Survived ┆ Pclass ┆ Name               ┆ … ┆ Ticket   ┆ Fare    ┆ Cabin ┆ Embarked │\n",
       "│ ---         ┆ ---      ┆ ---    ┆ ---                ┆   ┆ ---      ┆ ---     ┆ ---   ┆ ---      │\n",
       "│ i64         ┆ i64      ┆ i64    ┆ str                ┆   ┆ str      ┆ f64     ┆ str   ┆ str      │\n",
       "╞═════════════╪══════════╪════════╪════════════════════╪═══╪══════════╪═════════╪═══════╪══════════╡\n",
       "│ 97          ┆ 0        ┆ 1      ┆ Goldschmidt, Mr.   ┆ … ┆ PC 17754 ┆ 34.6542 ┆ A5    ┆ C        │\n",
       "│             ┆          ┆        ┆ George B           ┆   ┆          ┆         ┆       ┆          │\n",
       "│ 494         ┆ 0        ┆ 1      ┆ Artagaveytia, Mr.  ┆ … ┆ PC 17609 ┆ 49.5042 ┆ null  ┆ C        │\n",
       "│             ┆          ┆        ┆ Ramon              ┆   ┆          ┆         ┆       ┆          │\n",
       "│ 631         ┆ 1        ┆ 1      ┆ Barkworth, Mr.     ┆ … ┆ 27042    ┆ 30.0    ┆ A23   ┆ S        │\n",
       "│             ┆          ┆        ┆ Algernon Henry …   ┆   ┆          ┆         ┆       ┆          │\n",
       "└─────────────┴──────────┴────────┴────────────────────┴───┴──────────┴─────────┴───────┴──────────┘"
      ],
      "text/html": [
       "<div><style>\n",
       ".dataframe > thead > tr,\n",
       ".dataframe > tbody > tr {\n",
       "  text-align: right;\n",
       "  white-space: pre-wrap;\n",
       "}\n",
       "</style>\n",
       "<small>shape: (3, 12)</small><table border=\"1\" class=\"dataframe\"><thead><tr><th>PassengerId</th><th>Survived</th><th>Pclass</th><th>Name</th><th>Sex</th><th>Age</th><th>SibSp</th><th>Parch</th><th>Ticket</th><th>Fare</th><th>Cabin</th><th>Embarked</th></tr><tr><td>i64</td><td>i64</td><td>i64</td><td>str</td><td>str</td><td>f64</td><td>i64</td><td>i64</td><td>str</td><td>f64</td><td>str</td><td>str</td></tr></thead><tbody><tr><td>97</td><td>0</td><td>1</td><td>&quot;Goldschmidt, Mr. George B&quot;</td><td>&quot;male&quot;</td><td>71.0</td><td>0</td><td>0</td><td>&quot;PC 17754&quot;</td><td>34.6542</td><td>&quot;A5&quot;</td><td>&quot;C&quot;</td></tr><tr><td>494</td><td>0</td><td>1</td><td>&quot;Artagaveytia, Mr. Ramon&quot;</td><td>&quot;male&quot;</td><td>71.0</td><td>0</td><td>0</td><td>&quot;PC 17609&quot;</td><td>49.5042</td><td>null</td><td>&quot;C&quot;</td></tr><tr><td>631</td><td>1</td><td>1</td><td>&quot;Barkworth, Mr. Algernon Henry …</td><td>&quot;male&quot;</td><td>80.0</td><td>0</td><td>0</td><td>&quot;27042&quot;</td><td>30.0</td><td>&quot;A23&quot;</td><td>&quot;S&quot;</td></tr></tbody></table></div>"
      ]
     },
     "execution_count": 50,
     "metadata": {},
     "output_type": "execute_result"
    }
   ],
   "execution_count": 50
  },
  {
   "metadata": {
    "ExecuteTime": {
     "end_time": "2025-05-02T04:41:31.805497Z",
     "start_time": "2025-05-02T04:41:31.800586Z"
    }
   },
   "cell_type": "code",
   "source": [
    "# better way\n",
    "(\n",
    "    df\n",
    "    .filter(\n",
    "        pl.col(\"Pclass\") == 1,\n",
    "        pl.col(\"Age\") > 70\n",
    "    )\n",
    "    .head()\n",
    ")"
   ],
   "id": "aae9e5dfc602ad00",
   "outputs": [
    {
     "data": {
      "text/plain": [
       "shape: (3, 12)\n",
       "┌─────────────┬──────────┬────────┬────────────────────┬───┬──────────┬─────────┬───────┬──────────┐\n",
       "│ PassengerId ┆ Survived ┆ Pclass ┆ Name               ┆ … ┆ Ticket   ┆ Fare    ┆ Cabin ┆ Embarked │\n",
       "│ ---         ┆ ---      ┆ ---    ┆ ---                ┆   ┆ ---      ┆ ---     ┆ ---   ┆ ---      │\n",
       "│ i64         ┆ i64      ┆ i64    ┆ str                ┆   ┆ str      ┆ f64     ┆ str   ┆ str      │\n",
       "╞═════════════╪══════════╪════════╪════════════════════╪═══╪══════════╪═════════╪═══════╪══════════╡\n",
       "│ 97          ┆ 0        ┆ 1      ┆ Goldschmidt, Mr.   ┆ … ┆ PC 17754 ┆ 34.6542 ┆ A5    ┆ C        │\n",
       "│             ┆          ┆        ┆ George B           ┆   ┆          ┆         ┆       ┆          │\n",
       "│ 494         ┆ 0        ┆ 1      ┆ Artagaveytia, Mr.  ┆ … ┆ PC 17609 ┆ 49.5042 ┆ null  ┆ C        │\n",
       "│             ┆          ┆        ┆ Ramon              ┆   ┆          ┆         ┆       ┆          │\n",
       "│ 631         ┆ 1        ┆ 1      ┆ Barkworth, Mr.     ┆ … ┆ 27042    ┆ 30.0    ┆ A23   ┆ S        │\n",
       "│             ┆          ┆        ┆ Algernon Henry …   ┆   ┆          ┆         ┆       ┆          │\n",
       "└─────────────┴──────────┴────────┴────────────────────┴───┴──────────┴─────────┴───────┴──────────┘"
      ],
      "text/html": [
       "<div><style>\n",
       ".dataframe > thead > tr,\n",
       ".dataframe > tbody > tr {\n",
       "  text-align: right;\n",
       "  white-space: pre-wrap;\n",
       "}\n",
       "</style>\n",
       "<small>shape: (3, 12)</small><table border=\"1\" class=\"dataframe\"><thead><tr><th>PassengerId</th><th>Survived</th><th>Pclass</th><th>Name</th><th>Sex</th><th>Age</th><th>SibSp</th><th>Parch</th><th>Ticket</th><th>Fare</th><th>Cabin</th><th>Embarked</th></tr><tr><td>i64</td><td>i64</td><td>i64</td><td>str</td><td>str</td><td>f64</td><td>i64</td><td>i64</td><td>str</td><td>f64</td><td>str</td><td>str</td></tr></thead><tbody><tr><td>97</td><td>0</td><td>1</td><td>&quot;Goldschmidt, Mr. George B&quot;</td><td>&quot;male&quot;</td><td>71.0</td><td>0</td><td>0</td><td>&quot;PC 17754&quot;</td><td>34.6542</td><td>&quot;A5&quot;</td><td>&quot;C&quot;</td></tr><tr><td>494</td><td>0</td><td>1</td><td>&quot;Artagaveytia, Mr. Ramon&quot;</td><td>&quot;male&quot;</td><td>71.0</td><td>0</td><td>0</td><td>&quot;PC 17609&quot;</td><td>49.5042</td><td>null</td><td>&quot;C&quot;</td></tr><tr><td>631</td><td>1</td><td>1</td><td>&quot;Barkworth, Mr. Algernon Henry …</td><td>&quot;male&quot;</td><td>80.0</td><td>0</td><td>0</td><td>&quot;27042&quot;</td><td>30.0</td><td>&quot;A23&quot;</td><td>&quot;S&quot;</td></tr></tbody></table></div>"
      ]
     },
     "execution_count": 51,
     "metadata": {},
     "output_type": "execute_result"
    }
   ],
   "execution_count": 51
  },
  {
   "metadata": {
    "ExecuteTime": {
     "end_time": "2025-05-02T04:43:41.789271Z",
     "start_time": "2025-05-02T04:43:41.785193Z"
    }
   },
   "cell_type": "code",
   "source": [
    "# 여러 컬럼을 동시에..\n",
    "(\n",
    "    df\n",
    "    .filter(\n",
    "        pl.all_horizontal(\n",
    "            pl.all().is_not_null()\n",
    "        )\n",
    "    )\n",
    "    .head()\n",
    ")"
   ],
   "id": "36f5cd283726b24c",
   "outputs": [
    {
     "data": {
      "text/plain": [
       "shape: (5, 12)\n",
       "┌─────────────┬──────────┬────────┬────────────────────┬───┬──────────┬─────────┬───────┬──────────┐\n",
       "│ PassengerId ┆ Survived ┆ Pclass ┆ Name               ┆ … ┆ Ticket   ┆ Fare    ┆ Cabin ┆ Embarked │\n",
       "│ ---         ┆ ---      ┆ ---    ┆ ---                ┆   ┆ ---      ┆ ---     ┆ ---   ┆ ---      │\n",
       "│ i64         ┆ i64      ┆ i64    ┆ str                ┆   ┆ str      ┆ f64     ┆ str   ┆ str      │\n",
       "╞═════════════╪══════════╪════════╪════════════════════╪═══╪══════════╪═════════╪═══════╪══════════╡\n",
       "│ 2           ┆ 1        ┆ 1      ┆ Cumings, Mrs. John ┆ … ┆ PC 17599 ┆ 71.2833 ┆ C85   ┆ C        │\n",
       "│             ┆          ┆        ┆ Bradley (Fl…       ┆   ┆          ┆         ┆       ┆          │\n",
       "│ 4           ┆ 1        ┆ 1      ┆ Futrelle, Mrs.     ┆ … ┆ 113803   ┆ 53.1    ┆ C123  ┆ S        │\n",
       "│             ┆          ┆        ┆ Jacques Heath (…   ┆   ┆          ┆         ┆       ┆          │\n",
       "│ 7           ┆ 0        ┆ 1      ┆ McCarthy, Mr.      ┆ … ┆ 17463    ┆ 51.8625 ┆ E46   ┆ S        │\n",
       "│             ┆          ┆        ┆ Timothy J          ┆   ┆          ┆         ┆       ┆          │\n",
       "│ 11          ┆ 1        ┆ 3      ┆ Sandstrom, Miss.   ┆ … ┆ PP 9549  ┆ 16.7    ┆ G6    ┆ S        │\n",
       "│             ┆          ┆        ┆ Marguerite Ru…     ┆   ┆          ┆         ┆       ┆          │\n",
       "│ 12          ┆ 1        ┆ 1      ┆ Bonnell, Miss.     ┆ … ┆ 113783   ┆ 26.55   ┆ C103  ┆ S        │\n",
       "│             ┆          ┆        ┆ Elizabeth          ┆   ┆          ┆         ┆       ┆          │\n",
       "└─────────────┴──────────┴────────┴────────────────────┴───┴──────────┴─────────┴───────┴──────────┘"
      ],
      "text/html": [
       "<div><style>\n",
       ".dataframe > thead > tr,\n",
       ".dataframe > tbody > tr {\n",
       "  text-align: right;\n",
       "  white-space: pre-wrap;\n",
       "}\n",
       "</style>\n",
       "<small>shape: (5, 12)</small><table border=\"1\" class=\"dataframe\"><thead><tr><th>PassengerId</th><th>Survived</th><th>Pclass</th><th>Name</th><th>Sex</th><th>Age</th><th>SibSp</th><th>Parch</th><th>Ticket</th><th>Fare</th><th>Cabin</th><th>Embarked</th></tr><tr><td>i64</td><td>i64</td><td>i64</td><td>str</td><td>str</td><td>f64</td><td>i64</td><td>i64</td><td>str</td><td>f64</td><td>str</td><td>str</td></tr></thead><tbody><tr><td>2</td><td>1</td><td>1</td><td>&quot;Cumings, Mrs. John Bradley (Fl…</td><td>&quot;female&quot;</td><td>38.0</td><td>1</td><td>0</td><td>&quot;PC 17599&quot;</td><td>71.2833</td><td>&quot;C85&quot;</td><td>&quot;C&quot;</td></tr><tr><td>4</td><td>1</td><td>1</td><td>&quot;Futrelle, Mrs. Jacques Heath (…</td><td>&quot;female&quot;</td><td>35.0</td><td>1</td><td>0</td><td>&quot;113803&quot;</td><td>53.1</td><td>&quot;C123&quot;</td><td>&quot;S&quot;</td></tr><tr><td>7</td><td>0</td><td>1</td><td>&quot;McCarthy, Mr. Timothy J&quot;</td><td>&quot;male&quot;</td><td>54.0</td><td>0</td><td>0</td><td>&quot;17463&quot;</td><td>51.8625</td><td>&quot;E46&quot;</td><td>&quot;S&quot;</td></tr><tr><td>11</td><td>1</td><td>3</td><td>&quot;Sandstrom, Miss. Marguerite Ru…</td><td>&quot;female&quot;</td><td>4.0</td><td>1</td><td>1</td><td>&quot;PP 9549&quot;</td><td>16.7</td><td>&quot;G6&quot;</td><td>&quot;S&quot;</td></tr><tr><td>12</td><td>1</td><td>1</td><td>&quot;Bonnell, Miss. Elizabeth&quot;</td><td>&quot;female&quot;</td><td>58.0</td><td>0</td><td>0</td><td>&quot;113783&quot;</td><td>26.55</td><td>&quot;C103&quot;</td><td>&quot;S&quot;</td></tr></tbody></table></div>"
      ]
     },
     "execution_count": 52,
     "metadata": {},
     "output_type": "execute_result"
    }
   ],
   "execution_count": 52
  },
  {
   "metadata": {
    "ExecuteTime": {
     "end_time": "2025-05-02T04:45:46.619732Z",
     "start_time": "2025-05-02T04:45:46.616912Z"
    }
   },
   "cell_type": "code",
   "source": [
    "(\n",
    "    df\n",
    "    .filter(\n",
    "        pl.col('Age').is_between(10, 13),\n",
    "        pl.col('Sex') == 'female'\n",
    "    )\n",
    ")"
   ],
   "id": "1fd9f1a0c6aee22a",
   "outputs": [
    {
     "data": {
      "text/plain": [
       "shape: (4, 12)\n",
       "┌─────────────┬──────────┬────────┬───────────────────────┬───┬────────┬────────┬───────┬──────────┐\n",
       "│ PassengerId ┆ Survived ┆ Pclass ┆ Name                  ┆ … ┆ Ticket ┆ Fare   ┆ Cabin ┆ Embarked │\n",
       "│ ---         ┆ ---      ┆ ---    ┆ ---                   ┆   ┆ ---    ┆ ---    ┆ ---   ┆ ---      │\n",
       "│ i64         ┆ i64      ┆ i64    ┆ str                   ┆   ┆ str    ┆ f64    ┆ str   ┆ str      │\n",
       "╞═════════════╪══════════╪════════╪═══════════════════════╪═══╪════════╪════════╪═══════╪══════════╡\n",
       "│ 420         ┆ 0        ┆ 3      ┆ Van Impe, Miss.       ┆ … ┆ 345773 ┆ 24.15  ┆ null  ┆ S        │\n",
       "│             ┆          ┆        ┆ Catharina             ┆   ┆        ┆        ┆       ┆          │\n",
       "│ 447         ┆ 1        ┆ 2      ┆ Mellinger, Miss.      ┆ … ┆ 250644 ┆ 19.5   ┆ null  ┆ S        │\n",
       "│             ┆          ┆        ┆ Madeleine Vio…        ┆   ┆        ┆        ┆       ┆          │\n",
       "│ 543         ┆ 0        ┆ 3      ┆ Andersson, Miss.      ┆ … ┆ 347082 ┆ 31.275 ┆ null  ┆ S        │\n",
       "│             ┆          ┆        ┆ Sigrid Elisab…        ┆   ┆        ┆        ┆       ┆          │\n",
       "│ 781         ┆ 1        ┆ 3      ┆ Ayoub, Miss. Banoura  ┆ … ┆ 2687   ┆ 7.2292 ┆ null  ┆ C        │\n",
       "└─────────────┴──────────┴────────┴───────────────────────┴───┴────────┴────────┴───────┴──────────┘"
      ],
      "text/html": [
       "<div><style>\n",
       ".dataframe > thead > tr,\n",
       ".dataframe > tbody > tr {\n",
       "  text-align: right;\n",
       "  white-space: pre-wrap;\n",
       "}\n",
       "</style>\n",
       "<small>shape: (4, 12)</small><table border=\"1\" class=\"dataframe\"><thead><tr><th>PassengerId</th><th>Survived</th><th>Pclass</th><th>Name</th><th>Sex</th><th>Age</th><th>SibSp</th><th>Parch</th><th>Ticket</th><th>Fare</th><th>Cabin</th><th>Embarked</th></tr><tr><td>i64</td><td>i64</td><td>i64</td><td>str</td><td>str</td><td>f64</td><td>i64</td><td>i64</td><td>str</td><td>f64</td><td>str</td><td>str</td></tr></thead><tbody><tr><td>420</td><td>0</td><td>3</td><td>&quot;Van Impe, Miss. Catharina&quot;</td><td>&quot;female&quot;</td><td>10.0</td><td>0</td><td>2</td><td>&quot;345773&quot;</td><td>24.15</td><td>null</td><td>&quot;S&quot;</td></tr><tr><td>447</td><td>1</td><td>2</td><td>&quot;Mellinger, Miss. Madeleine Vio…</td><td>&quot;female&quot;</td><td>13.0</td><td>0</td><td>1</td><td>&quot;250644&quot;</td><td>19.5</td><td>null</td><td>&quot;S&quot;</td></tr><tr><td>543</td><td>0</td><td>3</td><td>&quot;Andersson, Miss. Sigrid Elisab…</td><td>&quot;female&quot;</td><td>11.0</td><td>4</td><td>2</td><td>&quot;347082&quot;</td><td>31.275</td><td>null</td><td>&quot;S&quot;</td></tr><tr><td>781</td><td>1</td><td>3</td><td>&quot;Ayoub, Miss. Banoura&quot;</td><td>&quot;female&quot;</td><td>13.0</td><td>0</td><td>0</td><td>&quot;2687&quot;</td><td>7.2292</td><td>null</td><td>&quot;C&quot;</td></tr></tbody></table></div>"
      ]
     },
     "execution_count": 56,
     "metadata": {},
     "output_type": "execute_result"
    }
   ],
   "execution_count": 56
  },
  {
   "metadata": {
    "ExecuteTime": {
     "end_time": "2025-05-02T04:46:39.143356Z",
     "start_time": "2025-05-02T04:46:39.138852Z"
    }
   },
   "cell_type": "code",
   "source": [
    "# or conditions\n",
    "(\n",
    "    df\n",
    "    .filter(\n",
    "        (pl.col('Age') > 50) | (pl.col('Pclass') == 1)\n",
    "    )\n",
    ")"
   ],
   "id": "3a0a2efe924adf4f",
   "outputs": [
    {
     "data": {
      "text/plain": [
       "shape: (241, 12)\n",
       "┌─────────────┬──────────┬────────┬──────────────┬───┬──────────┬─────────┬─────────────┬──────────┐\n",
       "│ PassengerId ┆ Survived ┆ Pclass ┆ Name         ┆ … ┆ Ticket   ┆ Fare    ┆ Cabin       ┆ Embarked │\n",
       "│ ---         ┆ ---      ┆ ---    ┆ ---          ┆   ┆ ---      ┆ ---     ┆ ---         ┆ ---      │\n",
       "│ i64         ┆ i64      ┆ i64    ┆ str          ┆   ┆ str      ┆ f64     ┆ str         ┆ str      │\n",
       "╞═════════════╪══════════╪════════╪══════════════╪═══╪══════════╪═════════╪═════════════╪══════════╡\n",
       "│ 2           ┆ 1        ┆ 1      ┆ Cumings,     ┆ … ┆ PC 17599 ┆ 71.2833 ┆ C85         ┆ C        │\n",
       "│             ┆          ┆        ┆ Mrs. John    ┆   ┆          ┆         ┆             ┆          │\n",
       "│             ┆          ┆        ┆ Bradley (Fl… ┆   ┆          ┆         ┆             ┆          │\n",
       "│ 4           ┆ 1        ┆ 1      ┆ Futrelle,    ┆ … ┆ 113803   ┆ 53.1    ┆ C123        ┆ S        │\n",
       "│             ┆          ┆        ┆ Mrs. Jacques ┆   ┆          ┆         ┆             ┆          │\n",
       "│             ┆          ┆        ┆ Heath (…     ┆   ┆          ┆         ┆             ┆          │\n",
       "│ 7           ┆ 0        ┆ 1      ┆ McCarthy,    ┆ … ┆ 17463    ┆ 51.8625 ┆ E46         ┆ S        │\n",
       "│             ┆          ┆        ┆ Mr. Timothy  ┆   ┆          ┆         ┆             ┆          │\n",
       "│             ┆          ┆        ┆ J            ┆   ┆          ┆         ┆             ┆          │\n",
       "│ 12          ┆ 1        ┆ 1      ┆ Bonnell,     ┆ … ┆ 113783   ┆ 26.55   ┆ C103        ┆ S        │\n",
       "│             ┆          ┆        ┆ Miss.        ┆   ┆          ┆         ┆             ┆          │\n",
       "│             ┆          ┆        ┆ Elizabeth    ┆   ┆          ┆         ┆             ┆          │\n",
       "│ 16          ┆ 1        ┆ 2      ┆ Hewlett,     ┆ … ┆ 248706   ┆ 16.0    ┆ null        ┆ S        │\n",
       "│             ┆          ┆        ┆ Mrs. (Mary D ┆   ┆          ┆         ┆             ┆          │\n",
       "│             ┆          ┆        ┆ Kingcome…    ┆   ┆          ┆         ┆             ┆          │\n",
       "│ …           ┆ …        ┆ …      ┆ …            ┆ … ┆ …        ┆ …       ┆ …           ┆ …        │\n",
       "│ 872         ┆ 1        ┆ 1      ┆ Beckwith,    ┆ … ┆ 11751    ┆ 52.5542 ┆ D35         ┆ S        │\n",
       "│             ┆          ┆        ┆ Mrs. Richard ┆   ┆          ┆         ┆             ┆          │\n",
       "│             ┆          ┆        ┆ Leonard…     ┆   ┆          ┆         ┆             ┆          │\n",
       "│ 873         ┆ 0        ┆ 1      ┆ Carlsson,    ┆ … ┆ 695      ┆ 5.0     ┆ B51 B53 B55 ┆ S        │\n",
       "│             ┆          ┆        ┆ Mr. Frans    ┆   ┆          ┆         ┆             ┆          │\n",
       "│             ┆          ┆        ┆ Olof         ┆   ┆          ┆         ┆             ┆          │\n",
       "│ 880         ┆ 1        ┆ 1      ┆ Potter, Mrs. ┆ … ┆ 11767    ┆ 83.1583 ┆ C50         ┆ C        │\n",
       "│             ┆          ┆        ┆ Thomas Jr    ┆   ┆          ┆         ┆             ┆          │\n",
       "│             ┆          ┆        ┆ (Lily A…     ┆   ┆          ┆         ┆             ┆          │\n",
       "│ 888         ┆ 1        ┆ 1      ┆ Graham,      ┆ … ┆ 112053   ┆ 30.0    ┆ B42         ┆ S        │\n",
       "│             ┆          ┆        ┆ Miss.        ┆   ┆          ┆         ┆             ┆          │\n",
       "│             ┆          ┆        ┆ Margaret     ┆   ┆          ┆         ┆             ┆          │\n",
       "│             ┆          ┆        ┆ Edith        ┆   ┆          ┆         ┆             ┆          │\n",
       "│ 890         ┆ 1        ┆ 1      ┆ Behr, Mr.    ┆ … ┆ 111369   ┆ 30.0    ┆ C148        ┆ C        │\n",
       "│             ┆          ┆        ┆ Karl Howell  ┆   ┆          ┆         ┆             ┆          │\n",
       "└─────────────┴──────────┴────────┴──────────────┴───┴──────────┴─────────┴─────────────┴──────────┘"
      ],
      "text/html": [
       "<div><style>\n",
       ".dataframe > thead > tr,\n",
       ".dataframe > tbody > tr {\n",
       "  text-align: right;\n",
       "  white-space: pre-wrap;\n",
       "}\n",
       "</style>\n",
       "<small>shape: (241, 12)</small><table border=\"1\" class=\"dataframe\"><thead><tr><th>PassengerId</th><th>Survived</th><th>Pclass</th><th>Name</th><th>Sex</th><th>Age</th><th>SibSp</th><th>Parch</th><th>Ticket</th><th>Fare</th><th>Cabin</th><th>Embarked</th></tr><tr><td>i64</td><td>i64</td><td>i64</td><td>str</td><td>str</td><td>f64</td><td>i64</td><td>i64</td><td>str</td><td>f64</td><td>str</td><td>str</td></tr></thead><tbody><tr><td>2</td><td>1</td><td>1</td><td>&quot;Cumings, Mrs. John Bradley (Fl…</td><td>&quot;female&quot;</td><td>38.0</td><td>1</td><td>0</td><td>&quot;PC 17599&quot;</td><td>71.2833</td><td>&quot;C85&quot;</td><td>&quot;C&quot;</td></tr><tr><td>4</td><td>1</td><td>1</td><td>&quot;Futrelle, Mrs. Jacques Heath (…</td><td>&quot;female&quot;</td><td>35.0</td><td>1</td><td>0</td><td>&quot;113803&quot;</td><td>53.1</td><td>&quot;C123&quot;</td><td>&quot;S&quot;</td></tr><tr><td>7</td><td>0</td><td>1</td><td>&quot;McCarthy, Mr. Timothy J&quot;</td><td>&quot;male&quot;</td><td>54.0</td><td>0</td><td>0</td><td>&quot;17463&quot;</td><td>51.8625</td><td>&quot;E46&quot;</td><td>&quot;S&quot;</td></tr><tr><td>12</td><td>1</td><td>1</td><td>&quot;Bonnell, Miss. Elizabeth&quot;</td><td>&quot;female&quot;</td><td>58.0</td><td>0</td><td>0</td><td>&quot;113783&quot;</td><td>26.55</td><td>&quot;C103&quot;</td><td>&quot;S&quot;</td></tr><tr><td>16</td><td>1</td><td>2</td><td>&quot;Hewlett, Mrs. (Mary D Kingcome…</td><td>&quot;female&quot;</td><td>55.0</td><td>0</td><td>0</td><td>&quot;248706&quot;</td><td>16.0</td><td>null</td><td>&quot;S&quot;</td></tr><tr><td>&hellip;</td><td>&hellip;</td><td>&hellip;</td><td>&hellip;</td><td>&hellip;</td><td>&hellip;</td><td>&hellip;</td><td>&hellip;</td><td>&hellip;</td><td>&hellip;</td><td>&hellip;</td><td>&hellip;</td></tr><tr><td>872</td><td>1</td><td>1</td><td>&quot;Beckwith, Mrs. Richard Leonard…</td><td>&quot;female&quot;</td><td>47.0</td><td>1</td><td>1</td><td>&quot;11751&quot;</td><td>52.5542</td><td>&quot;D35&quot;</td><td>&quot;S&quot;</td></tr><tr><td>873</td><td>0</td><td>1</td><td>&quot;Carlsson, Mr. Frans Olof&quot;</td><td>&quot;male&quot;</td><td>33.0</td><td>0</td><td>0</td><td>&quot;695&quot;</td><td>5.0</td><td>&quot;B51 B53 B55&quot;</td><td>&quot;S&quot;</td></tr><tr><td>880</td><td>1</td><td>1</td><td>&quot;Potter, Mrs. Thomas Jr (Lily A…</td><td>&quot;female&quot;</td><td>56.0</td><td>0</td><td>1</td><td>&quot;11767&quot;</td><td>83.1583</td><td>&quot;C50&quot;</td><td>&quot;C&quot;</td></tr><tr><td>888</td><td>1</td><td>1</td><td>&quot;Graham, Miss. Margaret Edith&quot;</td><td>&quot;female&quot;</td><td>19.0</td><td>0</td><td>0</td><td>&quot;112053&quot;</td><td>30.0</td><td>&quot;B42&quot;</td><td>&quot;S&quot;</td></tr><tr><td>890</td><td>1</td><td>1</td><td>&quot;Behr, Mr. Karl Howell&quot;</td><td>&quot;male&quot;</td><td>26.0</td><td>0</td><td>0</td><td>&quot;111369&quot;</td><td>30.0</td><td>&quot;C148&quot;</td><td>&quot;C&quot;</td></tr></tbody></table></div>"
      ]
     },
     "execution_count": 57,
     "metadata": {},
     "output_type": "execute_result"
    }
   ],
   "execution_count": 57
  }
 ],
 "metadata": {
  "kernelspec": {
   "display_name": "Python 3",
   "language": "python",
   "name": "python3"
  },
  "language_info": {
   "codemirror_mode": {
    "name": "ipython",
    "version": 2
   },
   "file_extension": ".py",
   "mimetype": "text/x-python",
   "name": "python",
   "nbconvert_exporter": "python",
   "pygments_lexer": "ipython2",
   "version": "2.7.6"
  }
 },
 "nbformat": 4,
 "nbformat_minor": 5
}
