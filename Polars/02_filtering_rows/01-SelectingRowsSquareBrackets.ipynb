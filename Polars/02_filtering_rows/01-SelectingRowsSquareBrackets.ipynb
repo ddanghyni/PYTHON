{
 "cells": [
  {
   "cell_type": "markdown",
   "id": "b06a7473-8d52-4c0d-b469-37add3272a53",
   "metadata": {},
   "source": [
    "# Filtering rows 1: Indexing with `[]`\n",
    "\n",
    "By the end of this lecture you will be able to:\n",
    "- select single rows with `[]` indexing\n",
    "- select multiple rows with `[]` indexing\n"
   ]
  },
  {
   "cell_type": "code",
   "id": "9fd758ec-0727-4c1e-87ae-04fd47b267b6",
   "metadata": {
    "tags": [],
    "ExecuteTime": {
     "end_time": "2025-03-28T13:11:35.504686Z",
     "start_time": "2025-03-28T13:11:35.474620Z"
    }
   },
   "source": [
    "import polars as pl"
   ],
   "outputs": [],
   "execution_count": 1
  },
  {
   "cell_type": "code",
   "id": "43c1d48b-a1cc-4374-bfd5-83817c491923",
   "metadata": {
    "tags": [],
    "ExecuteTime": {
     "end_time": "2025-03-28T13:11:37.122300Z",
     "start_time": "2025-03-28T13:11:37.119762Z"
    }
   },
   "source": [
    "csv_file = \"../data/titanic.csv\""
   ],
   "outputs": [],
   "execution_count": 2
  },
  {
   "cell_type": "code",
   "id": "23ec4b89-5819-4654-a3c8-d43a7a7b31fd",
   "metadata": {
    "tags": [],
    "ExecuteTime": {
     "end_time": "2025-03-28T13:11:39.155664Z",
     "start_time": "2025-03-28T13:11:39.133797Z"
    }
   },
   "source": [
    "df = pl.read_csv(csv_file)\n",
    "df.head()"
   ],
   "outputs": [
    {
     "data": {
      "text/plain": [
       "shape: (5, 12)\n",
       "┌─────────────┬──────────┬────────┬───────────────────┬───┬───────────┬─────────┬───────┬──────────┐\n",
       "│ PassengerId ┆ Survived ┆ Pclass ┆ Name              ┆ … ┆ Ticket    ┆ Fare    ┆ Cabin ┆ Embarked │\n",
       "│ ---         ┆ ---      ┆ ---    ┆ ---               ┆   ┆ ---       ┆ ---     ┆ ---   ┆ ---      │\n",
       "│ i64         ┆ i64      ┆ i64    ┆ str               ┆   ┆ str       ┆ f64     ┆ str   ┆ str      │\n",
       "╞═════════════╪══════════╪════════╪═══════════════════╪═══╪═══════════╪═════════╪═══════╪══════════╡\n",
       "│ 1           ┆ 0        ┆ 3      ┆ Braund, Mr. Owen  ┆ … ┆ A/5 21171 ┆ 7.25    ┆ null  ┆ S        │\n",
       "│             ┆          ┆        ┆ Harris            ┆   ┆           ┆         ┆       ┆          │\n",
       "│ 2           ┆ 1        ┆ 1      ┆ Cumings, Mrs.     ┆ … ┆ PC 17599  ┆ 71.2833 ┆ C85   ┆ C        │\n",
       "│             ┆          ┆        ┆ John Bradley (Fl… ┆   ┆           ┆         ┆       ┆          │\n",
       "│ 3           ┆ 1        ┆ 3      ┆ Heikkinen, Miss.  ┆ … ┆ STON/O2.  ┆ 7.925   ┆ null  ┆ S        │\n",
       "│             ┆          ┆        ┆ Laina             ┆   ┆ 3101282   ┆         ┆       ┆          │\n",
       "│ 4           ┆ 1        ┆ 1      ┆ Futrelle, Mrs.    ┆ … ┆ 113803    ┆ 53.1    ┆ C123  ┆ S        │\n",
       "│             ┆          ┆        ┆ Jacques Heath (…  ┆   ┆           ┆         ┆       ┆          │\n",
       "│ 5           ┆ 0        ┆ 3      ┆ Allen, Mr.        ┆ … ┆ 373450    ┆ 8.05    ┆ null  ┆ S        │\n",
       "│             ┆          ┆        ┆ William Henry     ┆   ┆           ┆         ┆       ┆          │\n",
       "└─────────────┴──────────┴────────┴───────────────────┴───┴───────────┴─────────┴───────┴──────────┘"
      ],
      "text/html": [
       "<div><style>\n",
       ".dataframe > thead > tr,\n",
       ".dataframe > tbody > tr {\n",
       "  text-align: right;\n",
       "  white-space: pre-wrap;\n",
       "}\n",
       "</style>\n",
       "<small>shape: (5, 12)</small><table border=\"1\" class=\"dataframe\"><thead><tr><th>PassengerId</th><th>Survived</th><th>Pclass</th><th>Name</th><th>Sex</th><th>Age</th><th>SibSp</th><th>Parch</th><th>Ticket</th><th>Fare</th><th>Cabin</th><th>Embarked</th></tr><tr><td>i64</td><td>i64</td><td>i64</td><td>str</td><td>str</td><td>f64</td><td>i64</td><td>i64</td><td>str</td><td>f64</td><td>str</td><td>str</td></tr></thead><tbody><tr><td>1</td><td>0</td><td>3</td><td>&quot;Braund, Mr. Owen Harris&quot;</td><td>&quot;male&quot;</td><td>22.0</td><td>1</td><td>0</td><td>&quot;A/5 21171&quot;</td><td>7.25</td><td>null</td><td>&quot;S&quot;</td></tr><tr><td>2</td><td>1</td><td>1</td><td>&quot;Cumings, Mrs. John Bradley (Fl…</td><td>&quot;female&quot;</td><td>38.0</td><td>1</td><td>0</td><td>&quot;PC 17599&quot;</td><td>71.2833</td><td>&quot;C85&quot;</td><td>&quot;C&quot;</td></tr><tr><td>3</td><td>1</td><td>3</td><td>&quot;Heikkinen, Miss. Laina&quot;</td><td>&quot;female&quot;</td><td>26.0</td><td>0</td><td>0</td><td>&quot;STON/O2. 3101282&quot;</td><td>7.925</td><td>null</td><td>&quot;S&quot;</td></tr><tr><td>4</td><td>1</td><td>1</td><td>&quot;Futrelle, Mrs. Jacques Heath (…</td><td>&quot;female&quot;</td><td>35.0</td><td>1</td><td>0</td><td>&quot;113803&quot;</td><td>53.1</td><td>&quot;C123&quot;</td><td>&quot;S&quot;</td></tr><tr><td>5</td><td>0</td><td>3</td><td>&quot;Allen, Mr. William Henry&quot;</td><td>&quot;male&quot;</td><td>35.0</td><td>0</td><td>0</td><td>&quot;373450&quot;</td><td>8.05</td><td>null</td><td>&quot;S&quot;</td></tr></tbody></table></div>"
      ]
     },
     "execution_count": 3,
     "metadata": {},
     "output_type": "execute_result"
    }
   ],
   "execution_count": 3
  },
  {
   "cell_type": "markdown",
   "id": "5273bbee-4c37-4847-985b-f28b949dcdd6",
   "metadata": {},
   "source": [
    "## Selecting individual rows with `[]`\n",
    "\n",
    "A Polars `DataFrame` doesn't have an explicit index as a Pandas `DataFrame` has. A Polars `DataFrame` does, however, have an implicit integer row number index.\n",
    "\n",
    "> polars는 구시대적인 pandas와 다르게 ^^ 눈에 보이는 index가 없다. 하지만 숨겨진 절대적인 index는 존재한다\n",
    "> 따라서 이 index를 통해 행을 불러 올 수 있다.\n",
    "\n",
    "We select an individual row with the integer row number"
   ]
  },
  {
   "cell_type": "code",
   "id": "947a7318-66b7-4116-920f-c2b50d118045",
   "metadata": {
    "tags": [],
    "ExecuteTime": {
     "end_time": "2025-03-28T13:16:38.586168Z",
     "start_time": "2025-03-28T13:16:38.582655Z"
    }
   },
   "source": [
    "print(df[0].schema)\n",
    "df[0]"
   ],
   "outputs": [
    {
     "name": "stdout",
     "output_type": "stream",
     "text": [
      "Schema({'PassengerId': Int64, 'Survived': Int64, 'Pclass': Int64, 'Name': String, 'Sex': String, 'Age': Float64, 'SibSp': Int64, 'Parch': Int64, 'Ticket': String, 'Fare': Float64, 'Cabin': String, 'Embarked': String})\n"
     ]
    },
    {
     "data": {
      "text/plain": [
       "shape: (1, 12)\n",
       "┌─────────────┬──────────┬────────┬──────────────────┬───┬───────────┬──────┬───────┬──────────┐\n",
       "│ PassengerId ┆ Survived ┆ Pclass ┆ Name             ┆ … ┆ Ticket    ┆ Fare ┆ Cabin ┆ Embarked │\n",
       "│ ---         ┆ ---      ┆ ---    ┆ ---              ┆   ┆ ---       ┆ ---  ┆ ---   ┆ ---      │\n",
       "│ i64         ┆ i64      ┆ i64    ┆ str              ┆   ┆ str       ┆ f64  ┆ str   ┆ str      │\n",
       "╞═════════════╪══════════╪════════╪══════════════════╪═══╪═══════════╪══════╪═══════╪══════════╡\n",
       "│ 1           ┆ 0        ┆ 3      ┆ Braund, Mr. Owen ┆ … ┆ A/5 21171 ┆ 7.25 ┆ null  ┆ S        │\n",
       "│             ┆          ┆        ┆ Harris           ┆   ┆           ┆      ┆       ┆          │\n",
       "└─────────────┴──────────┴────────┴──────────────────┴───┴───────────┴──────┴───────┴──────────┘"
      ],
      "text/html": [
       "<div><style>\n",
       ".dataframe > thead > tr,\n",
       ".dataframe > tbody > tr {\n",
       "  text-align: right;\n",
       "  white-space: pre-wrap;\n",
       "}\n",
       "</style>\n",
       "<small>shape: (1, 12)</small><table border=\"1\" class=\"dataframe\"><thead><tr><th>PassengerId</th><th>Survived</th><th>Pclass</th><th>Name</th><th>Sex</th><th>Age</th><th>SibSp</th><th>Parch</th><th>Ticket</th><th>Fare</th><th>Cabin</th><th>Embarked</th></tr><tr><td>i64</td><td>i64</td><td>i64</td><td>str</td><td>str</td><td>f64</td><td>i64</td><td>i64</td><td>str</td><td>f64</td><td>str</td><td>str</td></tr></thead><tbody><tr><td>1</td><td>0</td><td>3</td><td>&quot;Braund, Mr. Owen Harris&quot;</td><td>&quot;male&quot;</td><td>22.0</td><td>1</td><td>0</td><td>&quot;A/5 21171&quot;</td><td>7.25</td><td>null</td><td>&quot;S&quot;</td></tr></tbody></table></div>"
      ]
     },
     "execution_count": 13,
     "metadata": {},
     "output_type": "execute_result"
    }
   ],
   "execution_count": 13
  },
  {
   "cell_type": "markdown",
   "id": "e2f9c1c8-0c86-4ebe-a47f-3c9f535f5155",
   "metadata": {},
   "source": [
    "Note that if we select a single row as in this example the output is a one-row `DataFrame` - unlike Pandas where a one-row query selection becomes a `Series`"
   ]
  },
  {
   "cell_type": "markdown",
   "id": "5f51ffa4-155b-477e-967e-6e6d0d43562e",
   "metadata": {},
   "source": [
    "## Selecting multiple rows\n",
    "\n",
    "### List\n",
    "\n",
    "We can pass a list of integers to `[]`"
   ]
  },
  {
   "cell_type": "code",
   "id": "b9c3de88-109a-4ff4-9fe0-90c0fd8bd7f2",
   "metadata": {
    "tags": [],
    "ExecuteTime": {
     "end_time": "2025-03-28T13:16:13.727335Z",
     "start_time": "2025-03-28T13:16:13.721797Z"
    }
   },
   "source": [
    "df[[2,3]]"
   ],
   "outputs": [
    {
     "data": {
      "text/plain": [
       "shape: (2, 12)\n",
       "┌─────────────┬──────────┬────────┬──────────────────┬───┬──────────┬───────┬───────┬──────────┐\n",
       "│ PassengerId ┆ Survived ┆ Pclass ┆ Name             ┆ … ┆ Ticket   ┆ Fare  ┆ Cabin ┆ Embarked │\n",
       "│ ---         ┆ ---      ┆ ---    ┆ ---              ┆   ┆ ---      ┆ ---   ┆ ---   ┆ ---      │\n",
       "│ i64         ┆ i64      ┆ i64    ┆ str              ┆   ┆ str      ┆ f64   ┆ str   ┆ str      │\n",
       "╞═════════════╪══════════╪════════╪══════════════════╪═══╪══════════╪═══════╪═══════╪══════════╡\n",
       "│ 3           ┆ 1        ┆ 3      ┆ Heikkinen, Miss. ┆ … ┆ STON/O2. ┆ 7.925 ┆ null  ┆ S        │\n",
       "│             ┆          ┆        ┆ Laina            ┆   ┆ 3101282  ┆       ┆       ┆          │\n",
       "│ 4           ┆ 1        ┆ 1      ┆ Futrelle, Mrs.   ┆ … ┆ 113803   ┆ 53.1  ┆ C123  ┆ S        │\n",
       "│             ┆          ┆        ┆ Jacques Heath (… ┆   ┆          ┆       ┆       ┆          │\n",
       "└─────────────┴──────────┴────────┴──────────────────┴───┴──────────┴───────┴───────┴──────────┘"
      ],
      "text/html": [
       "<div><style>\n",
       ".dataframe > thead > tr,\n",
       ".dataframe > tbody > tr {\n",
       "  text-align: right;\n",
       "  white-space: pre-wrap;\n",
       "}\n",
       "</style>\n",
       "<small>shape: (2, 12)</small><table border=\"1\" class=\"dataframe\"><thead><tr><th>PassengerId</th><th>Survived</th><th>Pclass</th><th>Name</th><th>Sex</th><th>Age</th><th>SibSp</th><th>Parch</th><th>Ticket</th><th>Fare</th><th>Cabin</th><th>Embarked</th></tr><tr><td>i64</td><td>i64</td><td>i64</td><td>str</td><td>str</td><td>f64</td><td>i64</td><td>i64</td><td>str</td><td>f64</td><td>str</td><td>str</td></tr></thead><tbody><tr><td>3</td><td>1</td><td>3</td><td>&quot;Heikkinen, Miss. Laina&quot;</td><td>&quot;female&quot;</td><td>26.0</td><td>0</td><td>0</td><td>&quot;STON/O2. 3101282&quot;</td><td>7.925</td><td>null</td><td>&quot;S&quot;</td></tr><tr><td>4</td><td>1</td><td>1</td><td>&quot;Futrelle, Mrs. Jacques Heath (…</td><td>&quot;female&quot;</td><td>35.0</td><td>1</td><td>0</td><td>&quot;113803&quot;</td><td>53.1</td><td>&quot;C123&quot;</td><td>&quot;S&quot;</td></tr></tbody></table></div>"
      ]
     },
     "execution_count": 12,
     "metadata": {},
     "output_type": "execute_result"
    }
   ],
   "execution_count": 12
  },
  {
   "cell_type": "markdown",
   "id": "8c0971fb-244d-46d9-88d6-d42aa83e6596",
   "metadata": {},
   "source": [
    "### Slice\n",
    "\n",
    "We can use slice notation to select rows"
   ]
  },
  {
   "cell_type": "code",
   "id": "7c9a7d2f-7e1c-4b90-9af8-041e0ad37842",
   "metadata": {
    "tags": [],
    "ExecuteTime": {
     "end_time": "2025-03-28T13:17:30.008838Z",
     "start_time": "2025-03-28T13:17:30.005631Z"
    }
   },
   "source": [
    "df[:2]"
   ],
   "outputs": [
    {
     "data": {
      "text/plain": [
       "shape: (2, 12)\n",
       "┌─────────────┬──────────┬────────┬───────────────────┬───┬───────────┬─────────┬───────┬──────────┐\n",
       "│ PassengerId ┆ Survived ┆ Pclass ┆ Name              ┆ … ┆ Ticket    ┆ Fare    ┆ Cabin ┆ Embarked │\n",
       "│ ---         ┆ ---      ┆ ---    ┆ ---               ┆   ┆ ---       ┆ ---     ┆ ---   ┆ ---      │\n",
       "│ i64         ┆ i64      ┆ i64    ┆ str               ┆   ┆ str       ┆ f64     ┆ str   ┆ str      │\n",
       "╞═════════════╪══════════╪════════╪═══════════════════╪═══╪═══════════╪═════════╪═══════╪══════════╡\n",
       "│ 1           ┆ 0        ┆ 3      ┆ Braund, Mr. Owen  ┆ … ┆ A/5 21171 ┆ 7.25    ┆ null  ┆ S        │\n",
       "│             ┆          ┆        ┆ Harris            ┆   ┆           ┆         ┆       ┆          │\n",
       "│ 2           ┆ 1        ┆ 1      ┆ Cumings, Mrs.     ┆ … ┆ PC 17599  ┆ 71.2833 ┆ C85   ┆ C        │\n",
       "│             ┆          ┆        ┆ John Bradley (Fl… ┆   ┆           ┆         ┆       ┆          │\n",
       "└─────────────┴──────────┴────────┴───────────────────┴───┴───────────┴─────────┴───────┴──────────┘"
      ],
      "text/html": [
       "<div><style>\n",
       ".dataframe > thead > tr,\n",
       ".dataframe > tbody > tr {\n",
       "  text-align: right;\n",
       "  white-space: pre-wrap;\n",
       "}\n",
       "</style>\n",
       "<small>shape: (2, 12)</small><table border=\"1\" class=\"dataframe\"><thead><tr><th>PassengerId</th><th>Survived</th><th>Pclass</th><th>Name</th><th>Sex</th><th>Age</th><th>SibSp</th><th>Parch</th><th>Ticket</th><th>Fare</th><th>Cabin</th><th>Embarked</th></tr><tr><td>i64</td><td>i64</td><td>i64</td><td>str</td><td>str</td><td>f64</td><td>i64</td><td>i64</td><td>str</td><td>f64</td><td>str</td><td>str</td></tr></thead><tbody><tr><td>1</td><td>0</td><td>3</td><td>&quot;Braund, Mr. Owen Harris&quot;</td><td>&quot;male&quot;</td><td>22.0</td><td>1</td><td>0</td><td>&quot;A/5 21171&quot;</td><td>7.25</td><td>null</td><td>&quot;S&quot;</td></tr><tr><td>2</td><td>1</td><td>1</td><td>&quot;Cumings, Mrs. John Bradley (Fl…</td><td>&quot;female&quot;</td><td>38.0</td><td>1</td><td>0</td><td>&quot;PC 17599&quot;</td><td>71.2833</td><td>&quot;C85&quot;</td><td>&quot;C&quot;</td></tr></tbody></table></div>"
      ]
     },
     "execution_count": 14,
     "metadata": {},
     "output_type": "execute_result"
    }
   ],
   "execution_count": 14
  },
  {
   "cell_type": "markdown",
   "id": "a56f8b57-648e-4fec-804d-5f58f469c5f8",
   "metadata": {},
   "source": [
    "### Range\n",
    "We can use a range of integers "
   ]
  },
  {
   "cell_type": "code",
   "id": "35e9294a-992e-4f77-983f-ff456f701a1d",
   "metadata": {
    "tags": [],
    "ExecuteTime": {
     "end_time": "2025-03-28T13:17:33.473053Z",
     "start_time": "2025-03-28T13:17:33.469737Z"
    }
   },
   "source": [
    "df[range(2,4)]"
   ],
   "outputs": [
    {
     "data": {
      "text/plain": [
       "shape: (2, 12)\n",
       "┌─────────────┬──────────┬────────┬──────────────────┬───┬──────────┬───────┬───────┬──────────┐\n",
       "│ PassengerId ┆ Survived ┆ Pclass ┆ Name             ┆ … ┆ Ticket   ┆ Fare  ┆ Cabin ┆ Embarked │\n",
       "│ ---         ┆ ---      ┆ ---    ┆ ---              ┆   ┆ ---      ┆ ---   ┆ ---   ┆ ---      │\n",
       "│ i64         ┆ i64      ┆ i64    ┆ str              ┆   ┆ str      ┆ f64   ┆ str   ┆ str      │\n",
       "╞═════════════╪══════════╪════════╪══════════════════╪═══╪══════════╪═══════╪═══════╪══════════╡\n",
       "│ 3           ┆ 1        ┆ 3      ┆ Heikkinen, Miss. ┆ … ┆ STON/O2. ┆ 7.925 ┆ null  ┆ S        │\n",
       "│             ┆          ┆        ┆ Laina            ┆   ┆ 3101282  ┆       ┆       ┆          │\n",
       "│ 4           ┆ 1        ┆ 1      ┆ Futrelle, Mrs.   ┆ … ┆ 113803   ┆ 53.1  ┆ C123  ┆ S        │\n",
       "│             ┆          ┆        ┆ Jacques Heath (… ┆   ┆          ┆       ┆       ┆          │\n",
       "└─────────────┴──────────┴────────┴──────────────────┴───┴──────────┴───────┴───────┴──────────┘"
      ],
      "text/html": [
       "<div><style>\n",
       ".dataframe > thead > tr,\n",
       ".dataframe > tbody > tr {\n",
       "  text-align: right;\n",
       "  white-space: pre-wrap;\n",
       "}\n",
       "</style>\n",
       "<small>shape: (2, 12)</small><table border=\"1\" class=\"dataframe\"><thead><tr><th>PassengerId</th><th>Survived</th><th>Pclass</th><th>Name</th><th>Sex</th><th>Age</th><th>SibSp</th><th>Parch</th><th>Ticket</th><th>Fare</th><th>Cabin</th><th>Embarked</th></tr><tr><td>i64</td><td>i64</td><td>i64</td><td>str</td><td>str</td><td>f64</td><td>i64</td><td>i64</td><td>str</td><td>f64</td><td>str</td><td>str</td></tr></thead><tbody><tr><td>3</td><td>1</td><td>3</td><td>&quot;Heikkinen, Miss. Laina&quot;</td><td>&quot;female&quot;</td><td>26.0</td><td>0</td><td>0</td><td>&quot;STON/O2. 3101282&quot;</td><td>7.925</td><td>null</td><td>&quot;S&quot;</td></tr><tr><td>4</td><td>1</td><td>1</td><td>&quot;Futrelle, Mrs. Jacques Heath (…</td><td>&quot;female&quot;</td><td>35.0</td><td>1</td><td>0</td><td>&quot;113803&quot;</td><td>53.1</td><td>&quot;C123&quot;</td><td>&quot;S&quot;</td></tr></tbody></table></div>"
      ]
     },
     "execution_count": 15,
     "metadata": {},
     "output_type": "execute_result"
    }
   ],
   "execution_count": 15
  },
  {
   "cell_type": "markdown",
   "id": "2644cb1a-cb51-4045-91b8-cf0bbccca982",
   "metadata": {},
   "source": [
    "### Numpy array\n",
    "\n",
    "Polars can accept a Numpy array of row numbers in `[]`"
   ]
  },
  {
   "cell_type": "code",
   "id": "321754d2-af3b-4ff2-9836-f7cac1d2b35c",
   "metadata": {
    "tags": [],
    "ExecuteTime": {
     "end_time": "2025-03-28T13:17:38.078124Z",
     "start_time": "2025-03-28T13:17:38.047366Z"
    }
   },
   "source": [
    "import numpy as np\n",
    "df[np.arange(0,3)]"
   ],
   "outputs": [
    {
     "data": {
      "text/plain": [
       "shape: (3, 12)\n",
       "┌─────────────┬──────────┬────────┬───────────────────┬───┬───────────┬─────────┬───────┬──────────┐\n",
       "│ PassengerId ┆ Survived ┆ Pclass ┆ Name              ┆ … ┆ Ticket    ┆ Fare    ┆ Cabin ┆ Embarked │\n",
       "│ ---         ┆ ---      ┆ ---    ┆ ---               ┆   ┆ ---       ┆ ---     ┆ ---   ┆ ---      │\n",
       "│ i64         ┆ i64      ┆ i64    ┆ str               ┆   ┆ str       ┆ f64     ┆ str   ┆ str      │\n",
       "╞═════════════╪══════════╪════════╪═══════════════════╪═══╪═══════════╪═════════╪═══════╪══════════╡\n",
       "│ 1           ┆ 0        ┆ 3      ┆ Braund, Mr. Owen  ┆ … ┆ A/5 21171 ┆ 7.25    ┆ null  ┆ S        │\n",
       "│             ┆          ┆        ┆ Harris            ┆   ┆           ┆         ┆       ┆          │\n",
       "│ 2           ┆ 1        ┆ 1      ┆ Cumings, Mrs.     ┆ … ┆ PC 17599  ┆ 71.2833 ┆ C85   ┆ C        │\n",
       "│             ┆          ┆        ┆ John Bradley (Fl… ┆   ┆           ┆         ┆       ┆          │\n",
       "│ 3           ┆ 1        ┆ 3      ┆ Heikkinen, Miss.  ┆ … ┆ STON/O2.  ┆ 7.925   ┆ null  ┆ S        │\n",
       "│             ┆          ┆        ┆ Laina             ┆   ┆ 3101282   ┆         ┆       ┆          │\n",
       "└─────────────┴──────────┴────────┴───────────────────┴───┴───────────┴─────────┴───────┴──────────┘"
      ],
      "text/html": [
       "<div><style>\n",
       ".dataframe > thead > tr,\n",
       ".dataframe > tbody > tr {\n",
       "  text-align: right;\n",
       "  white-space: pre-wrap;\n",
       "}\n",
       "</style>\n",
       "<small>shape: (3, 12)</small><table border=\"1\" class=\"dataframe\"><thead><tr><th>PassengerId</th><th>Survived</th><th>Pclass</th><th>Name</th><th>Sex</th><th>Age</th><th>SibSp</th><th>Parch</th><th>Ticket</th><th>Fare</th><th>Cabin</th><th>Embarked</th></tr><tr><td>i64</td><td>i64</td><td>i64</td><td>str</td><td>str</td><td>f64</td><td>i64</td><td>i64</td><td>str</td><td>f64</td><td>str</td><td>str</td></tr></thead><tbody><tr><td>1</td><td>0</td><td>3</td><td>&quot;Braund, Mr. Owen Harris&quot;</td><td>&quot;male&quot;</td><td>22.0</td><td>1</td><td>0</td><td>&quot;A/5 21171&quot;</td><td>7.25</td><td>null</td><td>&quot;S&quot;</td></tr><tr><td>2</td><td>1</td><td>1</td><td>&quot;Cumings, Mrs. John Bradley (Fl…</td><td>&quot;female&quot;</td><td>38.0</td><td>1</td><td>0</td><td>&quot;PC 17599&quot;</td><td>71.2833</td><td>&quot;C85&quot;</td><td>&quot;C&quot;</td></tr><tr><td>3</td><td>1</td><td>3</td><td>&quot;Heikkinen, Miss. Laina&quot;</td><td>&quot;female&quot;</td><td>26.0</td><td>0</td><td>0</td><td>&quot;STON/O2. 3101282&quot;</td><td>7.925</td><td>null</td><td>&quot;S&quot;</td></tr></tbody></table></div>"
      ]
     },
     "execution_count": 16,
     "metadata": {},
     "output_type": "execute_result"
    }
   ],
   "execution_count": 16
  },
  {
   "cell_type": "markdown",
   "id": "f4f14cad-7d15-4d19-84f9-7272e73c5186",
   "metadata": {},
   "source": [
    "### Boolean lists\n",
    "We can only pass a `list` of **Boolean values** in `[]` to select columns - this list must be as long as the length of columns"
   ]
  },
  {
   "cell_type": "code",
   "id": "0cd26ee1-0d86-48ee-9f3e-20924e8028e9",
   "metadata": {
    "ExecuteTime": {
     "end_time": "2025-03-28T13:17:51.334424Z",
     "start_time": "2025-03-28T13:17:51.330639Z"
    }
   },
   "source": [
    "df[[True,True] + [False]*10 ]"
   ],
   "outputs": [
    {
     "data": {
      "text/plain": [
       "shape: (891, 2)\n",
       "┌─────────────┬──────────┐\n",
       "│ PassengerId ┆ Survived │\n",
       "│ ---         ┆ ---      │\n",
       "│ i64         ┆ i64      │\n",
       "╞═════════════╪══════════╡\n",
       "│ 1           ┆ 0        │\n",
       "│ 2           ┆ 1        │\n",
       "│ 3           ┆ 1        │\n",
       "│ 4           ┆ 1        │\n",
       "│ 5           ┆ 0        │\n",
       "│ …           ┆ …        │\n",
       "│ 887         ┆ 0        │\n",
       "│ 888         ┆ 1        │\n",
       "│ 889         ┆ 0        │\n",
       "│ 890         ┆ 1        │\n",
       "│ 891         ┆ 0        │\n",
       "└─────────────┴──────────┘"
      ],
      "text/html": [
       "<div><style>\n",
       ".dataframe > thead > tr,\n",
       ".dataframe > tbody > tr {\n",
       "  text-align: right;\n",
       "  white-space: pre-wrap;\n",
       "}\n",
       "</style>\n",
       "<small>shape: (891, 2)</small><table border=\"1\" class=\"dataframe\"><thead><tr><th>PassengerId</th><th>Survived</th></tr><tr><td>i64</td><td>i64</td></tr></thead><tbody><tr><td>1</td><td>0</td></tr><tr><td>2</td><td>1</td></tr><tr><td>3</td><td>1</td></tr><tr><td>4</td><td>1</td></tr><tr><td>5</td><td>0</td></tr><tr><td>&hellip;</td><td>&hellip;</td></tr><tr><td>887</td><td>0</td></tr><tr><td>888</td><td>1</td></tr><tr><td>889</td><td>0</td></tr><tr><td>890</td><td>1</td></tr><tr><td>891</td><td>0</td></tr></tbody></table></div>"
      ]
     },
     "execution_count": 17,
     "metadata": {},
     "output_type": "execute_result"
    }
   ],
   "execution_count": 17
  },
  {
   "cell_type": "markdown",
   "id": "3b482ff9-7b7e-45a2-b07f-d0c26be2a635",
   "metadata": {},
   "source": [
    "The Polars developers chose not to allow functionality of passing Boolean lists to filter rows to discourage Pandas-style queries and encourage use of expressions as we see in the next lecture."
   ]
  },
  {
   "cell_type": "markdown",
   "id": "d93002bb-7a49-4930-929a-3252b57a6aed",
   "metadata": {},
   "source": [
    "### Boolean `Series`\n",
    "We cannot pass a Boolean `Series` to `[]` - Polars thinks we are trying to filter columns as above. We see how to do this with `filter` in the next section.\n",
    "\n",
    "> 시리즈 불리안 인덱스 불가능 그 대신 혁신적인 filter 함수를 통해서 인덱싱 하자"
   ]
  },
  {
   "cell_type": "code",
   "id": "4fa174a7-8cd4-41bc-ba0f-77c1eef3fa39",
   "metadata": {
    "tags": [],
    "ExecuteTime": {
     "end_time": "2025-03-28T13:18:17.013117Z",
     "start_time": "2025-03-28T13:18:16.805099Z"
    }
   },
   "source": "df[df[\"Age\"]>30]",
   "outputs": [
    {
     "ename": "ValueError",
     "evalue": "expected 12 values when selecting columns by boolean mask, got 891",
     "output_type": "error",
     "traceback": [
      "\u001B[0;31m---------------------------------------------------------------------------\u001B[0m",
      "\u001B[0;31mTypeError\u001B[0m                                 Traceback (most recent call last)",
      "File \u001B[0;32m~/miniconda3/envs/mlenv/lib/python3.12/site-packages/polars/_utils/getitem.py:167\u001B[0m, in \u001B[0;36mget_df_item_by_key\u001B[0;34m(df, key)\u001B[0m\n\u001B[1;32m    166\u001B[0m \u001B[38;5;28;01mtry\u001B[39;00m:\n\u001B[0;32m--> 167\u001B[0m     \u001B[38;5;28;01mreturn\u001B[39;00m _select_rows(df, key)  \u001B[38;5;66;03m# type: ignore[arg-type]\u001B[39;00m\n\u001B[1;32m    168\u001B[0m \u001B[38;5;28;01mexcept\u001B[39;00m \u001B[38;5;167;01mTypeError\u001B[39;00m:\n",
      "File \u001B[0;32m~/miniconda3/envs/mlenv/lib/python3.12/site-packages/polars/_utils/getitem.py:317\u001B[0m, in \u001B[0;36m_select_rows\u001B[0;34m(df, key)\u001B[0m\n\u001B[1;32m    316\u001B[0m \u001B[38;5;28;01melif\u001B[39;00m \u001B[38;5;28misinstance\u001B[39m(key, pl\u001B[38;5;241m.\u001B[39mSeries):\n\u001B[0;32m--> 317\u001B[0m     indices \u001B[38;5;241m=\u001B[39m _convert_series_to_indices(key, df\u001B[38;5;241m.\u001B[39mheight)\n\u001B[1;32m    318\u001B[0m     \u001B[38;5;28;01mreturn\u001B[39;00m _select_rows_by_index(df, indices)\n",
      "File \u001B[0;32m~/miniconda3/envs/mlenv/lib/python3.12/site-packages/polars/_utils/getitem.py:358\u001B[0m, in \u001B[0;36m_convert_series_to_indices\u001B[0;34m(s, size)\u001B[0m\n\u001B[1;32m    357\u001B[0m \u001B[38;5;28;01mif\u001B[39;00m s\u001B[38;5;241m.\u001B[39mdtype \u001B[38;5;241m==\u001B[39m Boolean:\n\u001B[0;32m--> 358\u001B[0m     _raise_on_boolean_mask()\n\u001B[1;32m    359\u001B[0m \u001B[38;5;28;01melse\u001B[39;00m:\n",
      "File \u001B[0;32m~/miniconda3/envs/mlenv/lib/python3.12/site-packages/polars/_utils/getitem.py:455\u001B[0m, in \u001B[0;36m_raise_on_boolean_mask\u001B[0;34m()\u001B[0m\n\u001B[1;32m    451\u001B[0m msg \u001B[38;5;241m=\u001B[39m (\n\u001B[1;32m    452\u001B[0m     \u001B[38;5;124m\"\u001B[39m\u001B[38;5;124mselecting rows by passing a boolean mask to `__getitem__` is not supported\u001B[39m\u001B[38;5;124m\"\u001B[39m\n\u001B[1;32m    453\u001B[0m     \u001B[38;5;124m\"\u001B[39m\u001B[38;5;130;01m\\n\u001B[39;00m\u001B[38;5;130;01m\\n\u001B[39;00m\u001B[38;5;124mHint: Use the `filter` method instead.\u001B[39m\u001B[38;5;124m\"\u001B[39m\n\u001B[1;32m    454\u001B[0m )\n\u001B[0;32m--> 455\u001B[0m \u001B[38;5;28;01mraise\u001B[39;00m \u001B[38;5;167;01mTypeError\u001B[39;00m(msg)\n",
      "\u001B[0;31mTypeError\u001B[0m: selecting rows by passing a boolean mask to `__getitem__` is not supported\n\nHint: Use the `filter` method instead.",
      "\nDuring handling of the above exception, another exception occurred:\n",
      "\u001B[0;31mValueError\u001B[0m                                Traceback (most recent call last)",
      "Cell \u001B[0;32mIn[18], line 1\u001B[0m\n\u001B[0;32m----> 1\u001B[0m df[df[\u001B[38;5;124m\"\u001B[39m\u001B[38;5;124mAge\u001B[39m\u001B[38;5;124m\"\u001B[39m]\u001B[38;5;241m>\u001B[39m\u001B[38;5;241m30\u001B[39m]\n",
      "File \u001B[0;32m~/miniconda3/envs/mlenv/lib/python3.12/site-packages/polars/dataframe/frame.py:1362\u001B[0m, in \u001B[0;36mDataFrame.__getitem__\u001B[0;34m(self, key)\u001B[0m\n\u001B[1;32m   1225\u001B[0m \u001B[38;5;28;01mdef\u001B[39;00m \u001B[38;5;21m__getitem__\u001B[39m(\n\u001B[1;32m   1226\u001B[0m     \u001B[38;5;28mself\u001B[39m,\n\u001B[1;32m   1227\u001B[0m     key: (\n\u001B[0;32m   (...)\u001B[0m\n\u001B[1;32m   1236\u001B[0m     ),\n\u001B[1;32m   1237\u001B[0m ) \u001B[38;5;241m-\u001B[39m\u001B[38;5;241m>\u001B[39m DataFrame \u001B[38;5;241m|\u001B[39m Series \u001B[38;5;241m|\u001B[39m Any:\n\u001B[1;32m   1238\u001B[0m \u001B[38;5;250m    \u001B[39m\u001B[38;5;124;03m\"\"\"\u001B[39;00m\n\u001B[1;32m   1239\u001B[0m \u001B[38;5;124;03m    Get part of the DataFrame as a new DataFrame, Series, or scalar.\u001B[39;00m\n\u001B[1;32m   1240\u001B[0m \n\u001B[0;32m   (...)\u001B[0m\n\u001B[1;32m   1360\u001B[0m \u001B[38;5;124;03m    └─────┴─────┴─────┘\u001B[39;00m\n\u001B[1;32m   1361\u001B[0m \u001B[38;5;124;03m    \"\"\"\u001B[39;00m\n\u001B[0;32m-> 1362\u001B[0m     \u001B[38;5;28;01mreturn\u001B[39;00m get_df_item_by_key(\u001B[38;5;28mself\u001B[39m, key)\n",
      "File \u001B[0;32m~/miniconda3/envs/mlenv/lib/python3.12/site-packages/polars/_utils/getitem.py:169\u001B[0m, in \u001B[0;36mget_df_item_by_key\u001B[0;34m(df, key)\u001B[0m\n\u001B[1;32m    167\u001B[0m     \u001B[38;5;28;01mreturn\u001B[39;00m _select_rows(df, key)  \u001B[38;5;66;03m# type: ignore[arg-type]\u001B[39;00m\n\u001B[1;32m    168\u001B[0m \u001B[38;5;28;01mexcept\u001B[39;00m \u001B[38;5;167;01mTypeError\u001B[39;00m:\n\u001B[0;32m--> 169\u001B[0m     \u001B[38;5;28;01mreturn\u001B[39;00m _select_columns(df, key)\n",
      "File \u001B[0;32m~/miniconda3/envs/mlenv/lib/python3.12/site-packages/polars/_utils/getitem.py:231\u001B[0m, in \u001B[0;36m_select_columns\u001B[0;34m(df, key)\u001B[0m\n\u001B[1;32m    229\u001B[0m     \u001B[38;5;28;01mreturn\u001B[39;00m _select_columns_by_index(df, key)\n\u001B[1;32m    230\u001B[0m \u001B[38;5;28;01melif\u001B[39;00m dtype \u001B[38;5;241m==\u001B[39m Boolean:\n\u001B[0;32m--> 231\u001B[0m     \u001B[38;5;28;01mreturn\u001B[39;00m _select_columns_by_mask(df, key)\n\u001B[1;32m    232\u001B[0m \u001B[38;5;28;01melse\u001B[39;00m:\n\u001B[1;32m    233\u001B[0m     msg \u001B[38;5;241m=\u001B[39m \u001B[38;5;124mf\u001B[39m\u001B[38;5;124m\"\u001B[39m\u001B[38;5;124mcannot select columns using Series of type \u001B[39m\u001B[38;5;132;01m{\u001B[39;00mdtype\u001B[38;5;132;01m}\u001B[39;00m\u001B[38;5;124m\"\u001B[39m\n",
      "File \u001B[0;32m~/miniconda3/envs/mlenv/lib/python3.12/site-packages/polars/_utils/getitem.py:275\u001B[0m, in \u001B[0;36m_select_columns_by_mask\u001B[0;34m(df, key)\u001B[0m\n\u001B[1;32m    273\u001B[0m \u001B[38;5;28;01mif\u001B[39;00m \u001B[38;5;28mlen\u001B[39m(key) \u001B[38;5;241m!=\u001B[39m df\u001B[38;5;241m.\u001B[39mwidth:\n\u001B[1;32m    274\u001B[0m     msg \u001B[38;5;241m=\u001B[39m \u001B[38;5;124mf\u001B[39m\u001B[38;5;124m\"\u001B[39m\u001B[38;5;124mexpected \u001B[39m\u001B[38;5;132;01m{\u001B[39;00mdf\u001B[38;5;241m.\u001B[39mwidth\u001B[38;5;132;01m}\u001B[39;00m\u001B[38;5;124m values when selecting columns by boolean mask, got \u001B[39m\u001B[38;5;132;01m{\u001B[39;00m\u001B[38;5;28mlen\u001B[39m(key)\u001B[38;5;132;01m}\u001B[39;00m\u001B[38;5;124m\"\u001B[39m\n\u001B[0;32m--> 275\u001B[0m     \u001B[38;5;28;01mraise\u001B[39;00m \u001B[38;5;167;01mValueError\u001B[39;00m(msg)\n\u001B[1;32m    277\u001B[0m indices \u001B[38;5;241m=\u001B[39m (i \u001B[38;5;28;01mfor\u001B[39;00m i, val \u001B[38;5;129;01min\u001B[39;00m \u001B[38;5;28menumerate\u001B[39m(key) \u001B[38;5;28;01mif\u001B[39;00m val)\n\u001B[1;32m    278\u001B[0m \u001B[38;5;28;01mreturn\u001B[39;00m _select_columns_by_index(df, indices)\n",
      "\u001B[0;31mValueError\u001B[0m: expected 12 values when selecting columns by boolean mask, got 891"
     ]
    }
   ],
   "execution_count": 18
  },
  {
   "metadata": {
    "ExecuteTime": {
     "end_time": "2025-03-28T13:18:50.551608Z",
     "start_time": "2025-03-28T13:18:50.547673Z"
    }
   },
   "cell_type": "code",
   "source": [
    "(\n",
    "    df\n",
    "    .filter(\n",
    "        pl.col(\"Age\") > 30\n",
    "    )\n",
    "    .head(3)\n",
    ")"
   ],
   "id": "b098bbb3c25bfd0f",
   "outputs": [
    {
     "data": {
      "text/plain": [
       "shape: (3, 12)\n",
       "┌─────────────┬──────────┬────────┬────────────────────┬───┬──────────┬─────────┬───────┬──────────┐\n",
       "│ PassengerId ┆ Survived ┆ Pclass ┆ Name               ┆ … ┆ Ticket   ┆ Fare    ┆ Cabin ┆ Embarked │\n",
       "│ ---         ┆ ---      ┆ ---    ┆ ---                ┆   ┆ ---      ┆ ---     ┆ ---   ┆ ---      │\n",
       "│ i64         ┆ i64      ┆ i64    ┆ str                ┆   ┆ str      ┆ f64     ┆ str   ┆ str      │\n",
       "╞═════════════╪══════════╪════════╪════════════════════╪═══╪══════════╪═════════╪═══════╪══════════╡\n",
       "│ 2           ┆ 1        ┆ 1      ┆ Cumings, Mrs. John ┆ … ┆ PC 17599 ┆ 71.2833 ┆ C85   ┆ C        │\n",
       "│             ┆          ┆        ┆ Bradley (Fl…       ┆   ┆          ┆         ┆       ┆          │\n",
       "│ 4           ┆ 1        ┆ 1      ┆ Futrelle, Mrs.     ┆ … ┆ 113803   ┆ 53.1    ┆ C123  ┆ S        │\n",
       "│             ┆          ┆        ┆ Jacques Heath (…   ┆   ┆          ┆         ┆       ┆          │\n",
       "│ 5           ┆ 0        ┆ 3      ┆ Allen, Mr. William ┆ … ┆ 373450   ┆ 8.05    ┆ null  ┆ S        │\n",
       "│             ┆          ┆        ┆ Henry              ┆   ┆          ┆         ┆       ┆          │\n",
       "└─────────────┴──────────┴────────┴────────────────────┴───┴──────────┴─────────┴───────┴──────────┘"
      ],
      "text/html": [
       "<div><style>\n",
       ".dataframe > thead > tr,\n",
       ".dataframe > tbody > tr {\n",
       "  text-align: right;\n",
       "  white-space: pre-wrap;\n",
       "}\n",
       "</style>\n",
       "<small>shape: (3, 12)</small><table border=\"1\" class=\"dataframe\"><thead><tr><th>PassengerId</th><th>Survived</th><th>Pclass</th><th>Name</th><th>Sex</th><th>Age</th><th>SibSp</th><th>Parch</th><th>Ticket</th><th>Fare</th><th>Cabin</th><th>Embarked</th></tr><tr><td>i64</td><td>i64</td><td>i64</td><td>str</td><td>str</td><td>f64</td><td>i64</td><td>i64</td><td>str</td><td>f64</td><td>str</td><td>str</td></tr></thead><tbody><tr><td>2</td><td>1</td><td>1</td><td>&quot;Cumings, Mrs. John Bradley (Fl…</td><td>&quot;female&quot;</td><td>38.0</td><td>1</td><td>0</td><td>&quot;PC 17599&quot;</td><td>71.2833</td><td>&quot;C85&quot;</td><td>&quot;C&quot;</td></tr><tr><td>4</td><td>1</td><td>1</td><td>&quot;Futrelle, Mrs. Jacques Heath (…</td><td>&quot;female&quot;</td><td>35.0</td><td>1</td><td>0</td><td>&quot;113803&quot;</td><td>53.1</td><td>&quot;C123&quot;</td><td>&quot;S&quot;</td></tr><tr><td>5</td><td>0</td><td>3</td><td>&quot;Allen, Mr. William Henry&quot;</td><td>&quot;male&quot;</td><td>35.0</td><td>0</td><td>0</td><td>&quot;373450&quot;</td><td>8.05</td><td>null</td><td>&quot;S&quot;</td></tr></tbody></table></div>"
      ]
     },
     "execution_count": 20,
     "metadata": {},
     "output_type": "execute_result"
    }
   ],
   "execution_count": 20
  },
  {
   "cell_type": "markdown",
   "id": "80844b2e-b063-414e-96c8-2fec55e8e0ed",
   "metadata": {},
   "source": [
    "## Use case of indexing with `[]`\n",
    "\n",
    "Square bracket has a limited use case in Polars. It is limited because indexing with `[]` cannot be used in lazy mode and so we lose the advantages of query optimisation and streaming large datasets. \n",
    "\n",
    "We see in the next section that the `filter` method is the primary way to filter rows in Polars.\n",
    "\n",
    "> `filter()` -> indexing ROWS\n",
    "\n",
    "There are good uses for `[]`, however.\n",
    "\n",
    "One example if when we are inspecting data in interactive mode and want to see e.g. the first row or the last rows.\n",
    "\n",
    "Square bracket indexing is also useful for extracting scalar values from a `DataFrame`.\n",
    "\n",
    "In this example we extract the first row from the `Age` column"
   ]
  },
  {
   "cell_type": "code",
   "id": "dafc94a7-b72f-42d7-9748-5fe8fd874e0e",
   "metadata": {
    "ExecuteTime": {
     "end_time": "2025-03-28T13:21:42.239916Z",
     "start_time": "2025-03-28T13:21:42.236828Z"
    }
   },
   "source": [
    "df[0,'Age']"
   ],
   "outputs": [
    {
     "data": {
      "text/plain": [
       "22.0"
      ]
     },
     "execution_count": 21,
     "metadata": {},
     "output_type": "execute_result"
    }
   ],
   "execution_count": 21
  },
  {
   "cell_type": "markdown",
   "id": "093cd417-6e17-435c-909b-b1117f11a426",
   "metadata": {},
   "source": [
    "# Exercises\n",
    "In the exercises you will develop your understanding of\n",
    "- selecting individual rows with `[]`\n",
    "- selecting multiple rows with `[]`\n",
    "\n",
    "## Exercise 1\n",
    "Select the fifth row using `[]`"
   ]
  },
  {
   "cell_type": "code",
   "id": "5b2218c2-c506-4105-8ec0-d20aa4ea36e8",
   "metadata": {
    "tags": [],
    "ExecuteTime": {
     "end_time": "2025-03-28T13:21:56.822784Z",
     "start_time": "2025-03-28T13:21:56.818072Z"
    }
   },
   "source": [
    "df = pl.read_csv(csv_file)\n",
    "df[4]"
   ],
   "outputs": [
    {
     "data": {
      "text/plain": [
       "shape: (1, 12)\n",
       "┌─────────────┬──────────┬────────┬────────────────────┬───┬────────┬──────┬───────┬──────────┐\n",
       "│ PassengerId ┆ Survived ┆ Pclass ┆ Name               ┆ … ┆ Ticket ┆ Fare ┆ Cabin ┆ Embarked │\n",
       "│ ---         ┆ ---      ┆ ---    ┆ ---                ┆   ┆ ---    ┆ ---  ┆ ---   ┆ ---      │\n",
       "│ i64         ┆ i64      ┆ i64    ┆ str                ┆   ┆ str    ┆ f64  ┆ str   ┆ str      │\n",
       "╞═════════════╪══════════╪════════╪════════════════════╪═══╪════════╪══════╪═══════╪══════════╡\n",
       "│ 5           ┆ 0        ┆ 3      ┆ Allen, Mr. William ┆ … ┆ 373450 ┆ 8.05 ┆ null  ┆ S        │\n",
       "│             ┆          ┆        ┆ Henry              ┆   ┆        ┆      ┆       ┆          │\n",
       "└─────────────┴──────────┴────────┴────────────────────┴───┴────────┴──────┴───────┴──────────┘"
      ],
      "text/html": [
       "<div><style>\n",
       ".dataframe > thead > tr,\n",
       ".dataframe > tbody > tr {\n",
       "  text-align: right;\n",
       "  white-space: pre-wrap;\n",
       "}\n",
       "</style>\n",
       "<small>shape: (1, 12)</small><table border=\"1\" class=\"dataframe\"><thead><tr><th>PassengerId</th><th>Survived</th><th>Pclass</th><th>Name</th><th>Sex</th><th>Age</th><th>SibSp</th><th>Parch</th><th>Ticket</th><th>Fare</th><th>Cabin</th><th>Embarked</th></tr><tr><td>i64</td><td>i64</td><td>i64</td><td>str</td><td>str</td><td>f64</td><td>i64</td><td>i64</td><td>str</td><td>f64</td><td>str</td><td>str</td></tr></thead><tbody><tr><td>5</td><td>0</td><td>3</td><td>&quot;Allen, Mr. William Henry&quot;</td><td>&quot;male&quot;</td><td>35.0</td><td>0</td><td>0</td><td>&quot;373450&quot;</td><td>8.05</td><td>null</td><td>&quot;S&quot;</td></tr></tbody></table></div>"
      ]
     },
     "execution_count": 22,
     "metadata": {},
     "output_type": "execute_result"
    }
   ],
   "execution_count": 22
  },
  {
   "cell_type": "markdown",
   "id": "53862545-339a-4395-8206-c4ad65a04cdd",
   "metadata": {},
   "source": [
    "Select the first 5 rows using a `slice`"
   ]
  },
  {
   "cell_type": "code",
   "id": "8ba81890-faaa-458c-b409-a6e6aa095b11",
   "metadata": {
    "tags": [],
    "ExecuteTime": {
     "end_time": "2025-03-28T13:22:05.158730Z",
     "start_time": "2025-03-28T13:22:05.154944Z"
    }
   },
   "source": [
    "df = pl.read_csv(csv_file)\n",
    "df[:5]"
   ],
   "outputs": [
    {
     "data": {
      "text/plain": [
       "shape: (5, 12)\n",
       "┌─────────────┬──────────┬────────┬───────────────────┬───┬───────────┬─────────┬───────┬──────────┐\n",
       "│ PassengerId ┆ Survived ┆ Pclass ┆ Name              ┆ … ┆ Ticket    ┆ Fare    ┆ Cabin ┆ Embarked │\n",
       "│ ---         ┆ ---      ┆ ---    ┆ ---               ┆   ┆ ---       ┆ ---     ┆ ---   ┆ ---      │\n",
       "│ i64         ┆ i64      ┆ i64    ┆ str               ┆   ┆ str       ┆ f64     ┆ str   ┆ str      │\n",
       "╞═════════════╪══════════╪════════╪═══════════════════╪═══╪═══════════╪═════════╪═══════╪══════════╡\n",
       "│ 1           ┆ 0        ┆ 3      ┆ Braund, Mr. Owen  ┆ … ┆ A/5 21171 ┆ 7.25    ┆ null  ┆ S        │\n",
       "│             ┆          ┆        ┆ Harris            ┆   ┆           ┆         ┆       ┆          │\n",
       "│ 2           ┆ 1        ┆ 1      ┆ Cumings, Mrs.     ┆ … ┆ PC 17599  ┆ 71.2833 ┆ C85   ┆ C        │\n",
       "│             ┆          ┆        ┆ John Bradley (Fl… ┆   ┆           ┆         ┆       ┆          │\n",
       "│ 3           ┆ 1        ┆ 3      ┆ Heikkinen, Miss.  ┆ … ┆ STON/O2.  ┆ 7.925   ┆ null  ┆ S        │\n",
       "│             ┆          ┆        ┆ Laina             ┆   ┆ 3101282   ┆         ┆       ┆          │\n",
       "│ 4           ┆ 1        ┆ 1      ┆ Futrelle, Mrs.    ┆ … ┆ 113803    ┆ 53.1    ┆ C123  ┆ S        │\n",
       "│             ┆          ┆        ┆ Jacques Heath (…  ┆   ┆           ┆         ┆       ┆          │\n",
       "│ 5           ┆ 0        ┆ 3      ┆ Allen, Mr.        ┆ … ┆ 373450    ┆ 8.05    ┆ null  ┆ S        │\n",
       "│             ┆          ┆        ┆ William Henry     ┆   ┆           ┆         ┆       ┆          │\n",
       "└─────────────┴──────────┴────────┴───────────────────┴───┴───────────┴─────────┴───────┴──────────┘"
      ],
      "text/html": [
       "<div><style>\n",
       ".dataframe > thead > tr,\n",
       ".dataframe > tbody > tr {\n",
       "  text-align: right;\n",
       "  white-space: pre-wrap;\n",
       "}\n",
       "</style>\n",
       "<small>shape: (5, 12)</small><table border=\"1\" class=\"dataframe\"><thead><tr><th>PassengerId</th><th>Survived</th><th>Pclass</th><th>Name</th><th>Sex</th><th>Age</th><th>SibSp</th><th>Parch</th><th>Ticket</th><th>Fare</th><th>Cabin</th><th>Embarked</th></tr><tr><td>i64</td><td>i64</td><td>i64</td><td>str</td><td>str</td><td>f64</td><td>i64</td><td>i64</td><td>str</td><td>f64</td><td>str</td><td>str</td></tr></thead><tbody><tr><td>1</td><td>0</td><td>3</td><td>&quot;Braund, Mr. Owen Harris&quot;</td><td>&quot;male&quot;</td><td>22.0</td><td>1</td><td>0</td><td>&quot;A/5 21171&quot;</td><td>7.25</td><td>null</td><td>&quot;S&quot;</td></tr><tr><td>2</td><td>1</td><td>1</td><td>&quot;Cumings, Mrs. John Bradley (Fl…</td><td>&quot;female&quot;</td><td>38.0</td><td>1</td><td>0</td><td>&quot;PC 17599&quot;</td><td>71.2833</td><td>&quot;C85&quot;</td><td>&quot;C&quot;</td></tr><tr><td>3</td><td>1</td><td>3</td><td>&quot;Heikkinen, Miss. Laina&quot;</td><td>&quot;female&quot;</td><td>26.0</td><td>0</td><td>0</td><td>&quot;STON/O2. 3101282&quot;</td><td>7.925</td><td>null</td><td>&quot;S&quot;</td></tr><tr><td>4</td><td>1</td><td>1</td><td>&quot;Futrelle, Mrs. Jacques Heath (…</td><td>&quot;female&quot;</td><td>35.0</td><td>1</td><td>0</td><td>&quot;113803&quot;</td><td>53.1</td><td>&quot;C123&quot;</td><td>&quot;S&quot;</td></tr><tr><td>5</td><td>0</td><td>3</td><td>&quot;Allen, Mr. William Henry&quot;</td><td>&quot;male&quot;</td><td>35.0</td><td>0</td><td>0</td><td>&quot;373450&quot;</td><td>8.05</td><td>null</td><td>&quot;S&quot;</td></tr></tbody></table></div>"
      ]
     },
     "execution_count": 23,
     "metadata": {},
     "output_type": "execute_result"
    }
   ],
   "execution_count": 23
  },
  {
   "cell_type": "markdown",
   "id": "36cea19c-b546-4107-a724-132c5386e1b6",
   "metadata": {},
   "source": [
    "Select the second to fifth rows using a `range`"
   ]
  },
  {
   "cell_type": "code",
   "id": "84ebdc3f-1f1e-40e7-90d9-726a1931cd5d",
   "metadata": {
    "tags": [],
    "ExecuteTime": {
     "end_time": "2025-03-28T13:22:20.283030Z",
     "start_time": "2025-03-28T13:22:20.278422Z"
    }
   },
   "source": [
    "df = pl.read_csv(csv_file)\n",
    "df[1:5]"
   ],
   "outputs": [
    {
     "data": {
      "text/plain": [
       "shape: (4, 12)\n",
       "┌─────────────┬──────────┬────────┬────────────────────┬───┬──────────┬─────────┬───────┬──────────┐\n",
       "│ PassengerId ┆ Survived ┆ Pclass ┆ Name               ┆ … ┆ Ticket   ┆ Fare    ┆ Cabin ┆ Embarked │\n",
       "│ ---         ┆ ---      ┆ ---    ┆ ---                ┆   ┆ ---      ┆ ---     ┆ ---   ┆ ---      │\n",
       "│ i64         ┆ i64      ┆ i64    ┆ str                ┆   ┆ str      ┆ f64     ┆ str   ┆ str      │\n",
       "╞═════════════╪══════════╪════════╪════════════════════╪═══╪══════════╪═════════╪═══════╪══════════╡\n",
       "│ 2           ┆ 1        ┆ 1      ┆ Cumings, Mrs. John ┆ … ┆ PC 17599 ┆ 71.2833 ┆ C85   ┆ C        │\n",
       "│             ┆          ┆        ┆ Bradley (Fl…       ┆   ┆          ┆         ┆       ┆          │\n",
       "│ 3           ┆ 1        ┆ 3      ┆ Heikkinen, Miss.   ┆ … ┆ STON/O2. ┆ 7.925   ┆ null  ┆ S        │\n",
       "│             ┆          ┆        ┆ Laina              ┆   ┆ 3101282  ┆         ┆       ┆          │\n",
       "│ 4           ┆ 1        ┆ 1      ┆ Futrelle, Mrs.     ┆ … ┆ 113803   ┆ 53.1    ┆ C123  ┆ S        │\n",
       "│             ┆          ┆        ┆ Jacques Heath (…   ┆   ┆          ┆         ┆       ┆          │\n",
       "│ 5           ┆ 0        ┆ 3      ┆ Allen, Mr. William ┆ … ┆ 373450   ┆ 8.05    ┆ null  ┆ S        │\n",
       "│             ┆          ┆        ┆ Henry              ┆   ┆          ┆         ┆       ┆          │\n",
       "└─────────────┴──────────┴────────┴────────────────────┴───┴──────────┴─────────┴───────┴──────────┘"
      ],
      "text/html": [
       "<div><style>\n",
       ".dataframe > thead > tr,\n",
       ".dataframe > tbody > tr {\n",
       "  text-align: right;\n",
       "  white-space: pre-wrap;\n",
       "}\n",
       "</style>\n",
       "<small>shape: (4, 12)</small><table border=\"1\" class=\"dataframe\"><thead><tr><th>PassengerId</th><th>Survived</th><th>Pclass</th><th>Name</th><th>Sex</th><th>Age</th><th>SibSp</th><th>Parch</th><th>Ticket</th><th>Fare</th><th>Cabin</th><th>Embarked</th></tr><tr><td>i64</td><td>i64</td><td>i64</td><td>str</td><td>str</td><td>f64</td><td>i64</td><td>i64</td><td>str</td><td>f64</td><td>str</td><td>str</td></tr></thead><tbody><tr><td>2</td><td>1</td><td>1</td><td>&quot;Cumings, Mrs. John Bradley (Fl…</td><td>&quot;female&quot;</td><td>38.0</td><td>1</td><td>0</td><td>&quot;PC 17599&quot;</td><td>71.2833</td><td>&quot;C85&quot;</td><td>&quot;C&quot;</td></tr><tr><td>3</td><td>1</td><td>3</td><td>&quot;Heikkinen, Miss. Laina&quot;</td><td>&quot;female&quot;</td><td>26.0</td><td>0</td><td>0</td><td>&quot;STON/O2. 3101282&quot;</td><td>7.925</td><td>null</td><td>&quot;S&quot;</td></tr><tr><td>4</td><td>1</td><td>1</td><td>&quot;Futrelle, Mrs. Jacques Heath (…</td><td>&quot;female&quot;</td><td>35.0</td><td>1</td><td>0</td><td>&quot;113803&quot;</td><td>53.1</td><td>&quot;C123&quot;</td><td>&quot;S&quot;</td></tr><tr><td>5</td><td>0</td><td>3</td><td>&quot;Allen, Mr. William Henry&quot;</td><td>&quot;male&quot;</td><td>35.0</td><td>0</td><td>0</td><td>&quot;373450&quot;</td><td>8.05</td><td>null</td><td>&quot;S&quot;</td></tr></tbody></table></div>"
      ]
     },
     "execution_count": 25,
     "metadata": {},
     "output_type": "execute_result"
    }
   ],
   "execution_count": 25
  },
  {
   "cell_type": "markdown",
   "id": "86136046-4807-47bc-93fe-e6cca163b45d",
   "metadata": {},
   "source": [
    "## Solutions\n",
    "\n",
    "## Solution to Exercise 1\n",
    "Select the fifth row using `[]`"
   ]
  },
  {
   "cell_type": "code",
   "id": "038eb51e-b5da-4cb2-be81-c809c5929649",
   "metadata": {
    "jupyter": {
     "source_hidden": true
    },
    "ExecuteTime": {
     "end_time": "2025-03-28T13:22:27.980117Z",
     "start_time": "2025-03-28T13:22:27.975814Z"
    }
   },
   "source": [
    "df = pl.read_csv(csv_file)\n",
    "df[4]"
   ],
   "outputs": [
    {
     "data": {
      "text/plain": [
       "shape: (1, 12)\n",
       "┌─────────────┬──────────┬────────┬────────────────────┬───┬────────┬──────┬───────┬──────────┐\n",
       "│ PassengerId ┆ Survived ┆ Pclass ┆ Name               ┆ … ┆ Ticket ┆ Fare ┆ Cabin ┆ Embarked │\n",
       "│ ---         ┆ ---      ┆ ---    ┆ ---                ┆   ┆ ---    ┆ ---  ┆ ---   ┆ ---      │\n",
       "│ i64         ┆ i64      ┆ i64    ┆ str                ┆   ┆ str    ┆ f64  ┆ str   ┆ str      │\n",
       "╞═════════════╪══════════╪════════╪════════════════════╪═══╪════════╪══════╪═══════╪══════════╡\n",
       "│ 5           ┆ 0        ┆ 3      ┆ Allen, Mr. William ┆ … ┆ 373450 ┆ 8.05 ┆ null  ┆ S        │\n",
       "│             ┆          ┆        ┆ Henry              ┆   ┆        ┆      ┆       ┆          │\n",
       "└─────────────┴──────────┴────────┴────────────────────┴───┴────────┴──────┴───────┴──────────┘"
      ],
      "text/html": [
       "<div><style>\n",
       ".dataframe > thead > tr,\n",
       ".dataframe > tbody > tr {\n",
       "  text-align: right;\n",
       "  white-space: pre-wrap;\n",
       "}\n",
       "</style>\n",
       "<small>shape: (1, 12)</small><table border=\"1\" class=\"dataframe\"><thead><tr><th>PassengerId</th><th>Survived</th><th>Pclass</th><th>Name</th><th>Sex</th><th>Age</th><th>SibSp</th><th>Parch</th><th>Ticket</th><th>Fare</th><th>Cabin</th><th>Embarked</th></tr><tr><td>i64</td><td>i64</td><td>i64</td><td>str</td><td>str</td><td>f64</td><td>i64</td><td>i64</td><td>str</td><td>f64</td><td>str</td><td>str</td></tr></thead><tbody><tr><td>5</td><td>0</td><td>3</td><td>&quot;Allen, Mr. William Henry&quot;</td><td>&quot;male&quot;</td><td>35.0</td><td>0</td><td>0</td><td>&quot;373450&quot;</td><td>8.05</td><td>null</td><td>&quot;S&quot;</td></tr></tbody></table></div>"
      ]
     },
     "execution_count": 26,
     "metadata": {},
     "output_type": "execute_result"
    }
   ],
   "execution_count": 26
  },
  {
   "cell_type": "markdown",
   "id": "792b5847-10a8-4ca0-b5d5-c017e7893f57",
   "metadata": {},
   "source": [
    "Select the first 5 rows using a `slice`"
   ]
  },
  {
   "cell_type": "code",
   "id": "0a967ddd-fedb-48bf-a4f3-53c4659bc226",
   "metadata": {
    "jupyter": {
     "source_hidden": true
    },
    "ExecuteTime": {
     "end_time": "2025-03-28T13:22:31.115463Z",
     "start_time": "2025-03-28T13:22:31.111075Z"
    }
   },
   "source": [
    "df = pl.read_csv(csv_file)\n",
    "df[:5]"
   ],
   "outputs": [
    {
     "data": {
      "text/plain": [
       "shape: (5, 12)\n",
       "┌─────────────┬──────────┬────────┬───────────────────┬───┬───────────┬─────────┬───────┬──────────┐\n",
       "│ PassengerId ┆ Survived ┆ Pclass ┆ Name              ┆ … ┆ Ticket    ┆ Fare    ┆ Cabin ┆ Embarked │\n",
       "│ ---         ┆ ---      ┆ ---    ┆ ---               ┆   ┆ ---       ┆ ---     ┆ ---   ┆ ---      │\n",
       "│ i64         ┆ i64      ┆ i64    ┆ str               ┆   ┆ str       ┆ f64     ┆ str   ┆ str      │\n",
       "╞═════════════╪══════════╪════════╪═══════════════════╪═══╪═══════════╪═════════╪═══════╪══════════╡\n",
       "│ 1           ┆ 0        ┆ 3      ┆ Braund, Mr. Owen  ┆ … ┆ A/5 21171 ┆ 7.25    ┆ null  ┆ S        │\n",
       "│             ┆          ┆        ┆ Harris            ┆   ┆           ┆         ┆       ┆          │\n",
       "│ 2           ┆ 1        ┆ 1      ┆ Cumings, Mrs.     ┆ … ┆ PC 17599  ┆ 71.2833 ┆ C85   ┆ C        │\n",
       "│             ┆          ┆        ┆ John Bradley (Fl… ┆   ┆           ┆         ┆       ┆          │\n",
       "│ 3           ┆ 1        ┆ 3      ┆ Heikkinen, Miss.  ┆ … ┆ STON/O2.  ┆ 7.925   ┆ null  ┆ S        │\n",
       "│             ┆          ┆        ┆ Laina             ┆   ┆ 3101282   ┆         ┆       ┆          │\n",
       "│ 4           ┆ 1        ┆ 1      ┆ Futrelle, Mrs.    ┆ … ┆ 113803    ┆ 53.1    ┆ C123  ┆ S        │\n",
       "│             ┆          ┆        ┆ Jacques Heath (…  ┆   ┆           ┆         ┆       ┆          │\n",
       "│ 5           ┆ 0        ┆ 3      ┆ Allen, Mr.        ┆ … ┆ 373450    ┆ 8.05    ┆ null  ┆ S        │\n",
       "│             ┆          ┆        ┆ William Henry     ┆   ┆           ┆         ┆       ┆          │\n",
       "└─────────────┴──────────┴────────┴───────────────────┴───┴───────────┴─────────┴───────┴──────────┘"
      ],
      "text/html": [
       "<div><style>\n",
       ".dataframe > thead > tr,\n",
       ".dataframe > tbody > tr {\n",
       "  text-align: right;\n",
       "  white-space: pre-wrap;\n",
       "}\n",
       "</style>\n",
       "<small>shape: (5, 12)</small><table border=\"1\" class=\"dataframe\"><thead><tr><th>PassengerId</th><th>Survived</th><th>Pclass</th><th>Name</th><th>Sex</th><th>Age</th><th>SibSp</th><th>Parch</th><th>Ticket</th><th>Fare</th><th>Cabin</th><th>Embarked</th></tr><tr><td>i64</td><td>i64</td><td>i64</td><td>str</td><td>str</td><td>f64</td><td>i64</td><td>i64</td><td>str</td><td>f64</td><td>str</td><td>str</td></tr></thead><tbody><tr><td>1</td><td>0</td><td>3</td><td>&quot;Braund, Mr. Owen Harris&quot;</td><td>&quot;male&quot;</td><td>22.0</td><td>1</td><td>0</td><td>&quot;A/5 21171&quot;</td><td>7.25</td><td>null</td><td>&quot;S&quot;</td></tr><tr><td>2</td><td>1</td><td>1</td><td>&quot;Cumings, Mrs. John Bradley (Fl…</td><td>&quot;female&quot;</td><td>38.0</td><td>1</td><td>0</td><td>&quot;PC 17599&quot;</td><td>71.2833</td><td>&quot;C85&quot;</td><td>&quot;C&quot;</td></tr><tr><td>3</td><td>1</td><td>3</td><td>&quot;Heikkinen, Miss. Laina&quot;</td><td>&quot;female&quot;</td><td>26.0</td><td>0</td><td>0</td><td>&quot;STON/O2. 3101282&quot;</td><td>7.925</td><td>null</td><td>&quot;S&quot;</td></tr><tr><td>4</td><td>1</td><td>1</td><td>&quot;Futrelle, Mrs. Jacques Heath (…</td><td>&quot;female&quot;</td><td>35.0</td><td>1</td><td>0</td><td>&quot;113803&quot;</td><td>53.1</td><td>&quot;C123&quot;</td><td>&quot;S&quot;</td></tr><tr><td>5</td><td>0</td><td>3</td><td>&quot;Allen, Mr. William Henry&quot;</td><td>&quot;male&quot;</td><td>35.0</td><td>0</td><td>0</td><td>&quot;373450&quot;</td><td>8.05</td><td>null</td><td>&quot;S&quot;</td></tr></tbody></table></div>"
      ]
     },
     "execution_count": 27,
     "metadata": {},
     "output_type": "execute_result"
    }
   ],
   "execution_count": 27
  },
  {
   "cell_type": "markdown",
   "id": "638d7719-579c-421d-8643-13fc3c43c7d0",
   "metadata": {},
   "source": [
    "Select the second to fifth rows using a `range`"
   ]
  },
  {
   "cell_type": "code",
   "id": "1ba4e8a1-981d-44ed-b34e-1b54d889c5d1",
   "metadata": {
    "jupyter": {
     "source_hidden": true
    },
    "tags": [],
    "ExecuteTime": {
     "end_time": "2025-03-28T13:22:33.120186Z",
     "start_time": "2025-03-28T13:22:33.115730Z"
    }
   },
   "source": [
    "df = pl.read_csv(csv_file)\n",
    "df[range(1,5)]"
   ],
   "outputs": [
    {
     "data": {
      "text/plain": [
       "shape: (4, 12)\n",
       "┌─────────────┬──────────┬────────┬────────────────────┬───┬──────────┬─────────┬───────┬──────────┐\n",
       "│ PassengerId ┆ Survived ┆ Pclass ┆ Name               ┆ … ┆ Ticket   ┆ Fare    ┆ Cabin ┆ Embarked │\n",
       "│ ---         ┆ ---      ┆ ---    ┆ ---                ┆   ┆ ---      ┆ ---     ┆ ---   ┆ ---      │\n",
       "│ i64         ┆ i64      ┆ i64    ┆ str                ┆   ┆ str      ┆ f64     ┆ str   ┆ str      │\n",
       "╞═════════════╪══════════╪════════╪════════════════════╪═══╪══════════╪═════════╪═══════╪══════════╡\n",
       "│ 2           ┆ 1        ┆ 1      ┆ Cumings, Mrs. John ┆ … ┆ PC 17599 ┆ 71.2833 ┆ C85   ┆ C        │\n",
       "│             ┆          ┆        ┆ Bradley (Fl…       ┆   ┆          ┆         ┆       ┆          │\n",
       "│ 3           ┆ 1        ┆ 3      ┆ Heikkinen, Miss.   ┆ … ┆ STON/O2. ┆ 7.925   ┆ null  ┆ S        │\n",
       "│             ┆          ┆        ┆ Laina              ┆   ┆ 3101282  ┆         ┆       ┆          │\n",
       "│ 4           ┆ 1        ┆ 1      ┆ Futrelle, Mrs.     ┆ … ┆ 113803   ┆ 53.1    ┆ C123  ┆ S        │\n",
       "│             ┆          ┆        ┆ Jacques Heath (…   ┆   ┆          ┆         ┆       ┆          │\n",
       "│ 5           ┆ 0        ┆ 3      ┆ Allen, Mr. William ┆ … ┆ 373450   ┆ 8.05    ┆ null  ┆ S        │\n",
       "│             ┆          ┆        ┆ Henry              ┆   ┆          ┆         ┆       ┆          │\n",
       "└─────────────┴──────────┴────────┴────────────────────┴───┴──────────┴─────────┴───────┴──────────┘"
      ],
      "text/html": [
       "<div><style>\n",
       ".dataframe > thead > tr,\n",
       ".dataframe > tbody > tr {\n",
       "  text-align: right;\n",
       "  white-space: pre-wrap;\n",
       "}\n",
       "</style>\n",
       "<small>shape: (4, 12)</small><table border=\"1\" class=\"dataframe\"><thead><tr><th>PassengerId</th><th>Survived</th><th>Pclass</th><th>Name</th><th>Sex</th><th>Age</th><th>SibSp</th><th>Parch</th><th>Ticket</th><th>Fare</th><th>Cabin</th><th>Embarked</th></tr><tr><td>i64</td><td>i64</td><td>i64</td><td>str</td><td>str</td><td>f64</td><td>i64</td><td>i64</td><td>str</td><td>f64</td><td>str</td><td>str</td></tr></thead><tbody><tr><td>2</td><td>1</td><td>1</td><td>&quot;Cumings, Mrs. John Bradley (Fl…</td><td>&quot;female&quot;</td><td>38.0</td><td>1</td><td>0</td><td>&quot;PC 17599&quot;</td><td>71.2833</td><td>&quot;C85&quot;</td><td>&quot;C&quot;</td></tr><tr><td>3</td><td>1</td><td>3</td><td>&quot;Heikkinen, Miss. Laina&quot;</td><td>&quot;female&quot;</td><td>26.0</td><td>0</td><td>0</td><td>&quot;STON/O2. 3101282&quot;</td><td>7.925</td><td>null</td><td>&quot;S&quot;</td></tr><tr><td>4</td><td>1</td><td>1</td><td>&quot;Futrelle, Mrs. Jacques Heath (…</td><td>&quot;female&quot;</td><td>35.0</td><td>1</td><td>0</td><td>&quot;113803&quot;</td><td>53.1</td><td>&quot;C123&quot;</td><td>&quot;S&quot;</td></tr><tr><td>5</td><td>0</td><td>3</td><td>&quot;Allen, Mr. William Henry&quot;</td><td>&quot;male&quot;</td><td>35.0</td><td>0</td><td>0</td><td>&quot;373450&quot;</td><td>8.05</td><td>null</td><td>&quot;S&quot;</td></tr></tbody></table></div>"
      ]
     },
     "execution_count": 28,
     "metadata": {},
     "output_type": "execute_result"
    }
   ],
   "execution_count": 28
  },
  {
   "cell_type": "code",
   "execution_count": null,
   "id": "4875727c-a508-4ae3-b78e-1c81b8b063b8",
   "metadata": {},
   "outputs": [],
   "source": []
  }
 ],
 "metadata": {
  "kernelspec": {
   "display_name": "Python 3 (ipykernel)",
   "language": "python",
   "name": "python3"
  },
  "language_info": {
   "codemirror_mode": {
    "name": "ipython",
    "version": 3
   },
   "file_extension": ".py",
   "mimetype": "text/x-python",
   "name": "python",
   "nbconvert_exporter": "python",
   "pygments_lexer": "ipython3",
   "version": "3.10.1"
  }
 },
 "nbformat": 4,
 "nbformat_minor": 5
}
