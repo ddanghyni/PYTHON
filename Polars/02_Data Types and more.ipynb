{
 "cells": [
  {
   "metadata": {},
   "cell_type": "markdown",
   "source": "## 02. Data Types of Polars",
   "id": "7b027cd4c9c93ea"
  },
  {
   "metadata": {},
   "cell_type": "markdown",
   "source": "### Polars DataFrame",
   "id": "4f8df025afe40bac"
  },
  {
   "metadata": {
    "ExecuteTime": {
     "end_time": "2025-05-01T04:44:49.112035Z",
     "start_time": "2025-05-01T04:44:48.999710Z"
    }
   },
   "cell_type": "code",
   "source": [
    "import polars as pl\n",
    "import numpy as np"
   ],
   "id": "5d8612e1fc61cf7d",
   "outputs": [],
   "execution_count": 1
  },
  {
   "metadata": {
    "ExecuteTime": {
     "end_time": "2025-05-01T04:44:57.517433Z",
     "start_time": "2025-05-01T04:44:57.514805Z"
    }
   },
   "cell_type": "code",
   "source": "csv_file = './data/titanic.csv'",
   "id": "5d194902f6cd5efe",
   "outputs": [],
   "execution_count": 2
  },
  {
   "metadata": {
    "ExecuteTime": {
     "end_time": "2025-05-01T04:45:06.390703Z",
     "start_time": "2025-05-01T04:45:06.344685Z"
    }
   },
   "cell_type": "code",
   "source": [
    "df = pl.read_csv(csv_file)\n",
    "\n",
    "df.head()"
   ],
   "id": "583d9f08f5f93fb5",
   "outputs": [
    {
     "data": {
      "text/plain": [
       "shape: (5, 12)\n",
       "┌─────────────┬──────────┬────────┬───────────────────┬───┬───────────┬─────────┬───────┬──────────┐\n",
       "│ PassengerId ┆ Survived ┆ Pclass ┆ Name              ┆ … ┆ Ticket    ┆ Fare    ┆ Cabin ┆ Embarked │\n",
       "│ ---         ┆ ---      ┆ ---    ┆ ---               ┆   ┆ ---       ┆ ---     ┆ ---   ┆ ---      │\n",
       "│ i64         ┆ i64      ┆ i64    ┆ str               ┆   ┆ str       ┆ f64     ┆ str   ┆ str      │\n",
       "╞═════════════╪══════════╪════════╪═══════════════════╪═══╪═══════════╪═════════╪═══════╪══════════╡\n",
       "│ 1           ┆ 0        ┆ 3      ┆ Braund, Mr. Owen  ┆ … ┆ A/5 21171 ┆ 7.25    ┆ null  ┆ S        │\n",
       "│             ┆          ┆        ┆ Harris            ┆   ┆           ┆         ┆       ┆          │\n",
       "│ 2           ┆ 1        ┆ 1      ┆ Cumings, Mrs.     ┆ … ┆ PC 17599  ┆ 71.2833 ┆ C85   ┆ C        │\n",
       "│             ┆          ┆        ┆ John Bradley (Fl… ┆   ┆           ┆         ┆       ┆          │\n",
       "│ 3           ┆ 1        ┆ 3      ┆ Heikkinen, Miss.  ┆ … ┆ STON/O2.  ┆ 7.925   ┆ null  ┆ S        │\n",
       "│             ┆          ┆        ┆ Laina             ┆   ┆ 3101282   ┆         ┆       ┆          │\n",
       "│ 4           ┆ 1        ┆ 1      ┆ Futrelle, Mrs.    ┆ … ┆ 113803    ┆ 53.1    ┆ C123  ┆ S        │\n",
       "│             ┆          ┆        ┆ Jacques Heath (…  ┆   ┆           ┆         ┆       ┆          │\n",
       "│ 5           ┆ 0        ┆ 3      ┆ Allen, Mr.        ┆ … ┆ 373450    ┆ 8.05    ┆ null  ┆ S        │\n",
       "│             ┆          ┆        ┆ William Henry     ┆   ┆           ┆         ┆       ┆          │\n",
       "└─────────────┴──────────┴────────┴───────────────────┴───┴───────────┴─────────┴───────┴──────────┘"
      ],
      "text/html": [
       "<div><style>\n",
       ".dataframe > thead > tr,\n",
       ".dataframe > tbody > tr {\n",
       "  text-align: right;\n",
       "  white-space: pre-wrap;\n",
       "}\n",
       "</style>\n",
       "<small>shape: (5, 12)</small><table border=\"1\" class=\"dataframe\"><thead><tr><th>PassengerId</th><th>Survived</th><th>Pclass</th><th>Name</th><th>Sex</th><th>Age</th><th>SibSp</th><th>Parch</th><th>Ticket</th><th>Fare</th><th>Cabin</th><th>Embarked</th></tr><tr><td>i64</td><td>i64</td><td>i64</td><td>str</td><td>str</td><td>f64</td><td>i64</td><td>i64</td><td>str</td><td>f64</td><td>str</td><td>str</td></tr></thead><tbody><tr><td>1</td><td>0</td><td>3</td><td>&quot;Braund, Mr. Owen Harris&quot;</td><td>&quot;male&quot;</td><td>22.0</td><td>1</td><td>0</td><td>&quot;A/5 21171&quot;</td><td>7.25</td><td>null</td><td>&quot;S&quot;</td></tr><tr><td>2</td><td>1</td><td>1</td><td>&quot;Cumings, Mrs. John Bradley (Fl…</td><td>&quot;female&quot;</td><td>38.0</td><td>1</td><td>0</td><td>&quot;PC 17599&quot;</td><td>71.2833</td><td>&quot;C85&quot;</td><td>&quot;C&quot;</td></tr><tr><td>3</td><td>1</td><td>3</td><td>&quot;Heikkinen, Miss. Laina&quot;</td><td>&quot;female&quot;</td><td>26.0</td><td>0</td><td>0</td><td>&quot;STON/O2. 3101282&quot;</td><td>7.925</td><td>null</td><td>&quot;S&quot;</td></tr><tr><td>4</td><td>1</td><td>1</td><td>&quot;Futrelle, Mrs. Jacques Heath (…</td><td>&quot;female&quot;</td><td>35.0</td><td>1</td><td>0</td><td>&quot;113803&quot;</td><td>53.1</td><td>&quot;C123&quot;</td><td>&quot;S&quot;</td></tr><tr><td>5</td><td>0</td><td>3</td><td>&quot;Allen, Mr. William Henry&quot;</td><td>&quot;male&quot;</td><td>35.0</td><td>0</td><td>0</td><td>&quot;373450&quot;</td><td>8.05</td><td>null</td><td>&quot;S&quot;</td></tr></tbody></table></div>"
      ]
     },
     "execution_count": 3,
     "metadata": {},
     "output_type": "execute_result"
    }
   ],
   "execution_count": 3
  },
  {
   "metadata": {},
   "cell_type": "markdown",
   "source": [
    "A Polars `DataFrame`:\n",
    "- is a tabular dataset stored in an Arrow Table (see below)\n",
    "- has a height and a width\n",
    "- has unique string column names\n",
    "- has a data type for each column\n",
    "- has methods for transforming the data stored in the Arrow Table"
   ],
   "id": "46a531232a5d22b4"
  },
  {
   "metadata": {
    "ExecuteTime": {
     "end_time": "2025-05-01T04:45:59.430912Z",
     "start_time": "2025-05-01T04:45:59.428182Z"
    }
   },
   "cell_type": "code",
   "source": [
    "# shows # of columns\n",
    "df.width"
   ],
   "id": "cd9a4cea7de078d6",
   "outputs": [
    {
     "data": {
      "text/plain": [
       "12"
      ]
     },
     "execution_count": 5,
     "metadata": {},
     "output_type": "execute_result"
    }
   ],
   "execution_count": 5
  },
  {
   "metadata": {
    "ExecuteTime": {
     "end_time": "2025-05-01T04:46:12.912427Z",
     "start_time": "2025-05-01T04:46:12.910193Z"
    }
   },
   "cell_type": "code",
   "source": [
    "# show # of rows (samples)\n",
    "df.height"
   ],
   "id": "592a000d65a0db3",
   "outputs": [
    {
     "data": {
      "text/plain": [
       "891"
      ]
     },
     "execution_count": 6,
     "metadata": {},
     "output_type": "execute_result"
    }
   ],
   "execution_count": 6
  },
  {
   "metadata": {
    "ExecuteTime": {
     "end_time": "2025-05-01T04:46:31.283138Z",
     "start_time": "2025-05-01T04:46:31.280811Z"
    }
   },
   "cell_type": "code",
   "source": [
    "# shows both # of columns and samples\n",
    "df.shape"
   ],
   "id": "5aa42fc6128dfcfa",
   "outputs": [
    {
     "data": {
      "text/plain": [
       "(891, 12)"
      ]
     },
     "execution_count": 7,
     "metadata": {},
     "output_type": "execute_result"
    }
   ],
   "execution_count": 7
  },
  {
   "metadata": {},
   "cell_type": "markdown",
   "source": "## Data type schema",
   "id": "edda7f2c99bdc67b"
  },
  {
   "metadata": {},
   "cell_type": "markdown",
   "source": [
    "Every column in a Dataframe has a data type called a `dtpye`. <p>\n",
    "We can get a `pl.Schema` that maps column names to dtypes with the `.shcema` attribute"
   ],
   "id": "8f6cc276af6e6f6f"
  },
  {
   "metadata": {
    "ExecuteTime": {
     "end_time": "2025-05-01T04:48:24.342162Z",
     "start_time": "2025-05-01T04:48:24.339718Z"
    }
   },
   "cell_type": "code",
   "source": "df.schema",
   "id": "fff3c301c9837eae",
   "outputs": [
    {
     "data": {
      "text/plain": [
       "Schema([('PassengerId', Int64),\n",
       "        ('Survived', Int64),\n",
       "        ('Pclass', Int64),\n",
       "        ('Name', String),\n",
       "        ('Sex', String),\n",
       "        ('Age', Float64),\n",
       "        ('SibSp', Int64),\n",
       "        ('Parch', Int64),\n",
       "        ('Ticket', String),\n",
       "        ('Fare', Float64),\n",
       "        ('Cabin', String),\n",
       "        ('Embarked', String)])"
      ]
     },
     "execution_count": 8,
     "metadata": {},
     "output_type": "execute_result"
    }
   ],
   "execution_count": 8
  },
  {
   "metadata": {},
   "cell_type": "markdown",
   "source": "We can also create a `pl.Schema` manually",
   "id": "7857048365130106"
  },
  {
   "metadata": {
    "ExecuteTime": {
     "end_time": "2025-05-01T04:49:33.877889Z",
     "start_time": "2025-05-01T04:49:33.874140Z"
    }
   },
   "cell_type": "code",
   "source": [
    "pl.Schema(\n",
    "    [\n",
    "        (\"a\", pl.Int64),\n",
    "        (\"b\", pl.Float64)\n",
    "    ]\n",
    ")"
   ],
   "id": "4f2f53b5f3f82b0b",
   "outputs": [
    {
     "data": {
      "text/plain": [
       "Schema([('a', Int64), ('b', Float64)])"
      ]
     },
     "execution_count": 9,
     "metadata": {},
     "output_type": "execute_result"
    }
   ],
   "execution_count": 9
  },
  {
   "metadata": {},
   "cell_type": "markdown",
   "source": "또한 `pl.Schema` 말고도 `.dtypes`로도 출력이 가능하다.",
   "id": "87530f9914029873"
  },
  {
   "metadata": {
    "ExecuteTime": {
     "end_time": "2025-05-01T04:52:56.346170Z",
     "start_time": "2025-05-01T04:52:56.343152Z"
    }
   },
   "cell_type": "code",
   "source": "df.dtypes",
   "id": "31ab3a6c69d88e34",
   "outputs": [
    {
     "data": {
      "text/plain": [
       "[Int64,\n",
       " Int64,\n",
       " Int64,\n",
       " String,\n",
       " String,\n",
       " Float64,\n",
       " Int64,\n",
       " Int64,\n",
       " String,\n",
       " Float64,\n",
       " String,\n",
       " String]"
      ]
     },
     "execution_count": 10,
     "metadata": {},
     "output_type": "execute_result"
    }
   ],
   "execution_count": 10
  },
  {
   "metadata": {},
   "cell_type": "markdown",
   "source": "당연히 하나의 열에 대한 `dtypes`도 출력이 가능하다.",
   "id": "50c4c8e336866fd7"
  },
  {
   "metadata": {
    "ExecuteTime": {
     "end_time": "2025-05-01T04:54:05.340750Z",
     "start_time": "2025-05-01T04:54:05.337424Z"
    }
   },
   "cell_type": "code",
   "source": "df['Name'].dtype",
   "id": "5d1f63a145718eed",
   "outputs": [
    {
     "data": {
      "text/plain": [
       "String"
      ]
     },
     "execution_count": 11,
     "metadata": {},
     "output_type": "execute_result"
    }
   ],
   "execution_count": 11
  },
  {
   "metadata": {},
   "cell_type": "markdown",
   "source": "## Apache Arrow",
   "id": "e484d9851c2fab9b"
  },
  {
   "metadata": {},
   "cell_type": "markdown",
   "source": "Pandas는 numpy에 데이터를 담지만 Polars는 Arrow에 데이터를 담는다.",
   "id": "3a1c4c285905bda"
  },
  {
   "metadata": {
    "ExecuteTime": {
     "end_time": "2025-05-01T04:55:57.039338Z",
     "start_time": "2025-05-01T04:55:56.963824Z"
    }
   },
   "cell_type": "code",
   "source": "df.to_arrow()",
   "id": "e4ccc1988206eb81",
   "outputs": [
    {
     "data": {
      "text/plain": [
       "pyarrow.Table\n",
       "PassengerId: int64\n",
       "Survived: int64\n",
       "Pclass: int64\n",
       "Name: large_string\n",
       "Sex: large_string\n",
       "Age: double\n",
       "SibSp: int64\n",
       "Parch: int64\n",
       "Ticket: large_string\n",
       "Fare: double\n",
       "Cabin: large_string\n",
       "Embarked: large_string\n",
       "----\n",
       "PassengerId: [[1,2,3,4,5,...,54,55,56,57,58],[59,60,61,62,63,...,116,117,118,119,120],...,[830,831,832,833,834,...,884,885,886,887,888],[889,890,891]]\n",
       "Survived: [[0,1,1,1,0,...,1,0,1,1,0],[1,0,0,1,0,...,0,0,0,0,0],...,[1,1,1,0,0,...,0,0,0,0,1],[0,1,0]]\n",
       "Pclass: [[3,1,3,1,3,...,2,1,1,2,3],[2,3,3,1,1,...,3,3,2,1,3],...,[1,3,2,3,3,...,2,3,3,2,1],[3,1,3]]\n",
       "Name: [[\"Braund, Mr. Owen Harris\",\"Cumings, Mrs. John Bradley (Florence Briggs Thayer)\",\"Heikkinen, Miss. Laina\",\"Futrelle, Mrs. Jacques Heath (Lily May Peel)\",\"Allen, Mr. William Henry\",...,\"Faunthorpe, Mrs. Lizzie (Elizabeth Anne Wilkinson)\",\"Ostby, Mr. Engelhart Cornelius\",\"Woolner, Mr. Hugh\",\"Rugg, Miss. Emily\",\"Novel, Mr. Mansouer\"],[\"West, Miss. Constance Mirium\",\"Goodwin, Master. William Frederick\",\"Sirayanian, Mr. Orsen\",\"Icard, Miss. Amelie\",\"Harris, Mr. Henry Birkhardt\",...,\"Pekoniemi, Mr. Edvard\",\"Connors, Mr. Patrick\",\"Turpin, Mr. William John Robert\",\"Baxter, Mr. Quigg Edmond\",\"Andersson, Miss. Ellis Anna Maria\"],...,[\"Stone, Mrs. George Nelson (Martha Evelyn)\",\"Yasbeck, Mrs. Antoni (Selini Alexander)\",\"Richards, Master. George Sibley\",\"Saad, Mr. Amin\",\"Augustsson, Mr. Albert\",...,\"Banfield, Mr. Frederick James\",\"Sutehall, Mr. Henry Jr\",\"Rice, Mrs. William (Margaret Norton)\",\"Montvila, Rev. Juozas\",\"Graham, Miss. Margaret Edith\"],[\"Johnston, Miss. Catherine Helen \"Carrie\"\",\"Behr, Mr. Karl Howell\",\"Dooley, Mr. Patrick\"]]\n",
       "Sex: [[\"male\",\"female\",\"female\",\"female\",\"male\",...,\"female\",\"male\",\"male\",\"female\",\"male\"],[\"female\",\"male\",\"male\",\"female\",\"male\",...,\"male\",\"male\",\"male\",\"male\",\"female\"],...,[\"female\",\"female\",\"male\",\"male\",\"male\",...,\"male\",\"male\",\"female\",\"male\",\"female\"],[\"female\",\"male\",\"male\"]]\n",
       "Age: [[22,38,26,35,35,...,29,65,null,21,28.5],[5,11,22,38,45,...,21,70.5,29,24,2],...,[62,15,0.83,null,23,...,28,25,39,27,19],[null,26,32]]\n",
       "SibSp: [[1,1,0,1,0,...,1,0,0,0,0],[1,5,0,0,1,...,0,0,1,0,4],...,[0,1,1,0,0,...,0,0,0,0,0],[1,0,0]]\n",
       "Parch: [[0,0,0,0,0,...,0,1,0,0,0],[2,2,0,0,0,...,0,0,0,1,2],...,[0,0,1,0,0,...,0,0,5,0,0],[2,0,0]]\n",
       "Ticket: [[\"A/5 21171\",\"PC 17599\",\"STON/O2. 3101282\",\"113803\",\"373450\",...,\"2926\",\"113509\",\"19947\",\"C.A. 31026\",\"2697\"],[\"C.A. 34651\",\"CA 2144\",\"2669\",\"113572\",\"36973\",...,\"STON/O 2. 3101294\",\"370369\",\"11668\",\"PC 17558\",\"347082\"],...,[\"113572\",\"2659\",\"29106\",\"2671\",\"347468\",...,\"C.A./SOTON 34068\",\"SOTON/OQ 392076\",\"382652\",\"211536\",\"112053\"],[\"W./C. 6607\",\"111369\",\"370376\"]]\n",
       "Fare: [[7.25,71.2833,7.925,53.1,8.05,...,26,61.9792,35.5,10.5,7.2292],[27.75,46.9,7.2292,80,83.475,...,7.925,7.75,21,247.5208,31.275],...,[80,14.4542,18.75,7.2292,7.8542,...,10.5,7.05,29.125,13,30],[23.45,30,7.75]]\n",
       "..."
      ]
     },
     "execution_count": 12,
     "metadata": {},
     "output_type": "execute_result"
    }
   ],
   "execution_count": 12
  },
  {
   "metadata": {
    "ExecuteTime": {
     "end_time": "2025-05-01T04:56:33.276467Z",
     "start_time": "2025-05-01T04:56:33.274018Z"
    }
   },
   "cell_type": "code",
   "source": "type(df['Age'])",
   "id": "962cc0259a9b3194",
   "outputs": [
    {
     "data": {
      "text/plain": [
       "polars.series.series.Series"
      ]
     },
     "execution_count": 15,
     "metadata": {},
     "output_type": "execute_result"
    }
   ],
   "execution_count": 15
  },
  {
   "metadata": {
    "ExecuteTime": {
     "end_time": "2025-05-01T04:57:16.744826Z",
     "start_time": "2025-05-01T04:57:16.740993Z"
    }
   },
   "cell_type": "code",
   "source": "df['Age'].to_arrow()",
   "id": "796ae569e5b61217",
   "outputs": [
    {
     "data": {
      "text/plain": [
       "<pyarrow.lib.DoubleArray object at 0x10af2de40>\n",
       "[\n",
       "  22,\n",
       "  38,\n",
       "  26,\n",
       "  35,\n",
       "  35,\n",
       "  null,\n",
       "  54,\n",
       "  2,\n",
       "  27,\n",
       "  14,\n",
       "  ...\n",
       "  33,\n",
       "  22,\n",
       "  28,\n",
       "  25,\n",
       "  39,\n",
       "  27,\n",
       "  19,\n",
       "  null,\n",
       "  26,\n",
       "  32\n",
       "]"
      ]
     },
     "execution_count": 17,
     "metadata": {},
     "output_type": "execute_result"
    }
   ],
   "execution_count": 17
  },
  {
   "metadata": {
    "ExecuteTime": {
     "end_time": "2025-05-01T04:58:11.264594Z",
     "start_time": "2025-05-01T04:58:11.260670Z"
    }
   },
   "cell_type": "code",
   "source": [
    "# arrow로 저장된 polars series를 numpy로도 출력 가능하다.\n",
    "df['Age'].to_numpy()"
   ],
   "id": "7275e04747c8e81a",
   "outputs": [
    {
     "data": {
      "text/plain": [
       "array([22.  , 38.  , 26.  , 35.  , 35.  ,   nan, 54.  ,  2.  , 27.  ,\n",
       "       14.  ,  4.  , 58.  , 20.  , 39.  , 14.  , 55.  ,  2.  ,   nan,\n",
       "       31.  ,   nan, 35.  , 34.  , 15.  , 28.  ,  8.  , 38.  ,   nan,\n",
       "       19.  ,   nan,   nan, 40.  ,   nan,   nan, 66.  , 28.  , 42.  ,\n",
       "         nan, 21.  , 18.  , 14.  , 40.  , 27.  ,   nan,  3.  , 19.  ,\n",
       "         nan,   nan,   nan,   nan, 18.  ,  7.  , 21.  , 49.  , 29.  ,\n",
       "       65.  ,   nan, 21.  , 28.5 ,  5.  , 11.  , 22.  , 38.  , 45.  ,\n",
       "        4.  ,   nan,   nan, 29.  , 19.  , 17.  , 26.  , 32.  , 16.  ,\n",
       "       21.  , 26.  , 32.  , 25.  ,   nan,   nan,  0.83, 30.  , 22.  ,\n",
       "       29.  ,   nan, 28.  , 17.  , 33.  , 16.  ,   nan, 23.  , 24.  ,\n",
       "       29.  , 20.  , 46.  , 26.  , 59.  ,   nan, 71.  , 23.  , 34.  ,\n",
       "       34.  , 28.  ,   nan, 21.  , 33.  , 37.  , 28.  , 21.  ,   nan,\n",
       "       38.  ,   nan, 47.  , 14.5 , 22.  , 20.  , 17.  , 21.  , 70.5 ,\n",
       "       29.  , 24.  ,  2.  , 21.  ,   nan, 32.5 , 32.5 , 54.  , 12.  ,\n",
       "         nan, 24.  ,   nan, 45.  , 33.  , 20.  , 47.  , 29.  , 25.  ,\n",
       "       23.  , 19.  , 37.  , 16.  , 24.  ,   nan, 22.  , 24.  , 19.  ,\n",
       "       18.  , 19.  , 27.  ,  9.  , 36.5 , 42.  , 51.  , 22.  , 55.5 ,\n",
       "       40.5 ,   nan, 51.  , 16.  , 30.  ,   nan,   nan, 44.  , 40.  ,\n",
       "       26.  , 17.  ,  1.  ,  9.  ,   nan, 45.  ,   nan, 28.  , 61.  ,\n",
       "        4.  ,  1.  , 21.  , 56.  , 18.  ,   nan, 50.  , 30.  , 36.  ,\n",
       "         nan,   nan,  9.  ,  1.  ,  4.  ,   nan,   nan, 45.  , 40.  ,\n",
       "       36.  , 32.  , 19.  , 19.  ,  3.  , 44.  , 58.  ,   nan, 42.  ,\n",
       "         nan, 24.  , 28.  ,   nan, 34.  , 45.5 , 18.  ,  2.  , 32.  ,\n",
       "       26.  , 16.  , 40.  , 24.  , 35.  , 22.  , 30.  ,   nan, 31.  ,\n",
       "       27.  , 42.  , 32.  , 30.  , 16.  , 27.  , 51.  ,   nan, 38.  ,\n",
       "       22.  , 19.  , 20.5 , 18.  ,   nan, 35.  , 29.  , 59.  ,  5.  ,\n",
       "       24.  ,   nan, 44.  ,  8.  , 19.  , 33.  ,   nan,   nan, 29.  ,\n",
       "       22.  , 30.  , 44.  , 25.  , 24.  , 37.  , 54.  ,   nan, 29.  ,\n",
       "       62.  , 30.  , 41.  , 29.  ,   nan, 30.  , 35.  , 50.  ,   nan,\n",
       "        3.  , 52.  , 40.  ,   nan, 36.  , 16.  , 25.  , 58.  , 35.  ,\n",
       "         nan, 25.  , 41.  , 37.  ,   nan, 63.  , 45.  ,   nan,  7.  ,\n",
       "       35.  , 65.  , 28.  , 16.  , 19.  ,   nan, 33.  , 30.  , 22.  ,\n",
       "       42.  , 22.  , 26.  , 19.  , 36.  , 24.  , 24.  ,   nan, 23.5 ,\n",
       "        2.  ,   nan, 50.  ,   nan,   nan, 19.  ,   nan,   nan,  0.92,\n",
       "         nan, 17.  , 30.  , 30.  , 24.  , 18.  , 26.  , 28.  , 43.  ,\n",
       "       26.  , 24.  , 54.  , 31.  , 40.  , 22.  , 27.  , 30.  , 22.  ,\n",
       "         nan, 36.  , 61.  , 36.  , 31.  , 16.  ,   nan, 45.5 , 38.  ,\n",
       "       16.  ,   nan,   nan, 29.  , 41.  , 45.  , 45.  ,  2.  , 24.  ,\n",
       "       28.  , 25.  , 36.  , 24.  , 40.  ,   nan,  3.  , 42.  , 23.  ,\n",
       "         nan, 15.  , 25.  ,   nan, 28.  , 22.  , 38.  ,   nan,   nan,\n",
       "       40.  , 29.  , 45.  , 35.  ,   nan, 30.  , 60.  ,   nan,   nan,\n",
       "       24.  , 25.  , 18.  , 19.  , 22.  ,  3.  ,   nan, 22.  , 27.  ,\n",
       "       20.  , 19.  , 42.  ,  1.  , 32.  , 35.  ,   nan, 18.  ,  1.  ,\n",
       "       36.  ,   nan, 17.  , 36.  , 21.  , 28.  , 23.  , 24.  , 22.  ,\n",
       "       31.  , 46.  , 23.  , 28.  , 39.  , 26.  , 21.  , 28.  , 20.  ,\n",
       "       34.  , 51.  ,  3.  , 21.  ,   nan,   nan,   nan, 33.  ,   nan,\n",
       "       44.  ,   nan, 34.  , 18.  , 30.  , 10.  ,   nan, 21.  , 29.  ,\n",
       "       28.  , 18.  ,   nan, 28.  , 19.  ,   nan, 32.  , 28.  ,   nan,\n",
       "       42.  , 17.  , 50.  , 14.  , 21.  , 24.  , 64.  , 31.  , 45.  ,\n",
       "       20.  , 25.  , 28.  ,   nan,  4.  , 13.  , 34.  ,  5.  , 52.  ,\n",
       "       36.  ,   nan, 30.  , 49.  ,   nan, 29.  , 65.  ,   nan, 50.  ,\n",
       "         nan, 48.  , 34.  , 47.  , 48.  ,   nan, 38.  ,   nan, 56.  ,\n",
       "         nan,  0.75,   nan, 38.  , 33.  , 23.  , 22.  ,   nan, 34.  ,\n",
       "       29.  , 22.  ,  2.  ,  9.  ,   nan, 50.  , 63.  , 25.  ,   nan,\n",
       "       35.  , 58.  , 30.  ,  9.  ,   nan, 21.  , 55.  , 71.  , 21.  ,\n",
       "         nan, 54.  ,   nan, 25.  , 24.  , 17.  , 21.  ,   nan, 37.  ,\n",
       "       16.  , 18.  , 33.  ,   nan, 28.  , 26.  , 29.  ,   nan, 36.  ,\n",
       "       54.  , 24.  , 47.  , 34.  ,   nan, 36.  , 32.  , 30.  , 22.  ,\n",
       "         nan, 44.  ,   nan, 40.5 , 50.  ,   nan, 39.  , 23.  ,  2.  ,\n",
       "         nan, 17.  ,   nan, 30.  ,  7.  , 45.  , 30.  ,   nan, 22.  ,\n",
       "       36.  ,  9.  , 11.  , 32.  , 50.  , 64.  , 19.  ,   nan, 33.  ,\n",
       "        8.  , 17.  , 27.  ,   nan, 22.  , 22.  , 62.  , 48.  ,   nan,\n",
       "       39.  , 36.  ,   nan, 40.  , 28.  ,   nan,   nan, 24.  , 19.  ,\n",
       "       29.  ,   nan, 32.  , 62.  , 53.  , 36.  ,   nan, 16.  , 19.  ,\n",
       "       34.  , 39.  ,   nan, 32.  , 25.  , 39.  , 54.  , 36.  ,   nan,\n",
       "       18.  , 47.  , 60.  , 22.  ,   nan, 35.  , 52.  , 47.  ,   nan,\n",
       "       37.  , 36.  ,   nan, 49.  ,   nan, 49.  , 24.  ,   nan,   nan,\n",
       "       44.  , 35.  , 36.  , 30.  , 27.  , 22.  , 40.  , 39.  ,   nan,\n",
       "         nan,   nan, 35.  , 24.  , 34.  , 26.  ,  4.  , 26.  , 27.  ,\n",
       "       42.  , 20.  , 21.  , 21.  , 61.  , 57.  , 21.  , 26.  ,   nan,\n",
       "       80.  , 51.  , 32.  ,   nan,  9.  , 28.  , 32.  , 31.  , 41.  ,\n",
       "         nan, 20.  , 24.  ,  2.  ,   nan,  0.75, 48.  , 19.  , 56.  ,\n",
       "         nan, 23.  ,   nan, 18.  , 21.  ,   nan, 18.  , 24.  ,   nan,\n",
       "       32.  , 23.  , 58.  , 50.  , 40.  , 47.  , 36.  , 20.  , 32.  ,\n",
       "       25.  ,   nan, 43.  ,   nan, 40.  , 31.  , 70.  , 31.  ,   nan,\n",
       "       18.  , 24.5 , 18.  , 43.  , 36.  ,   nan, 27.  , 20.  , 14.  ,\n",
       "       60.  , 25.  , 14.  , 19.  , 18.  , 15.  , 31.  ,  4.  ,   nan,\n",
       "       25.  , 60.  , 52.  , 44.  ,   nan, 49.  , 42.  , 18.  , 35.  ,\n",
       "       18.  , 25.  , 26.  , 39.  , 45.  , 42.  , 22.  ,   nan, 24.  ,\n",
       "         nan, 48.  , 29.  , 52.  , 19.  , 38.  , 27.  ,   nan, 33.  ,\n",
       "        6.  , 17.  , 34.  , 50.  , 27.  , 20.  , 30.  ,   nan, 25.  ,\n",
       "       25.  , 29.  , 11.  ,   nan, 23.  , 23.  , 28.5 , 48.  , 35.  ,\n",
       "         nan,   nan,   nan, 36.  , 21.  , 24.  , 31.  , 70.  , 16.  ,\n",
       "       30.  , 19.  , 31.  ,  4.  ,  6.  , 33.  , 23.  , 48.  ,  0.67,\n",
       "       28.  , 18.  , 34.  , 33.  ,   nan, 41.  , 20.  , 36.  , 16.  ,\n",
       "       51.  ,   nan, 30.5 ,   nan, 32.  , 24.  , 48.  , 57.  ,   nan,\n",
       "       54.  , 18.  ,   nan,  5.  ,   nan, 43.  , 13.  , 17.  , 29.  ,\n",
       "         nan, 25.  , 25.  , 18.  ,  8.  ,  1.  , 46.  ,   nan, 16.  ,\n",
       "         nan,   nan, 25.  , 39.  , 49.  , 31.  , 30.  , 30.  , 34.  ,\n",
       "       31.  , 11.  ,  0.42, 27.  , 31.  , 39.  , 18.  , 39.  , 33.  ,\n",
       "       26.  , 39.  , 35.  ,  6.  , 30.5 ,   nan, 23.  , 31.  , 43.  ,\n",
       "       10.  , 52.  , 27.  , 38.  , 27.  ,  2.  ,   nan,   nan,  1.  ,\n",
       "         nan, 62.  , 15.  ,  0.83,   nan, 23.  , 18.  , 39.  , 21.  ,\n",
       "         nan, 32.  ,   nan, 20.  , 16.  , 30.  , 34.5 , 17.  , 42.  ,\n",
       "         nan, 35.  , 28.  ,   nan,  4.  , 74.  ,  9.  , 16.  , 44.  ,\n",
       "       18.  , 45.  , 51.  , 24.  ,   nan, 41.  , 21.  , 48.  ,   nan,\n",
       "       24.  , 42.  , 27.  , 31.  ,   nan,  4.  , 26.  , 47.  , 33.  ,\n",
       "       47.  , 28.  , 15.  , 20.  , 19.  ,   nan, 56.  , 25.  , 33.  ,\n",
       "       22.  , 28.  , 25.  , 39.  , 27.  , 19.  ,   nan, 26.  , 32.  ])"
      ]
     },
     "execution_count": 18,
     "metadata": {},
     "output_type": "execute_result"
    }
   ],
   "execution_count": 18
  },
  {
   "metadata": {
    "ExecuteTime": {
     "end_time": "2025-05-01T04:58:47.733441Z",
     "start_time": "2025-05-01T04:58:47.729397Z"
    }
   },
   "cell_type": "code",
   "source": [
    "# can use numpy functions on Arrow Arrays\n",
    "np.sqrt(df['Age'])"
   ],
   "id": "cca93325e80397b5",
   "outputs": [
    {
     "data": {
      "text/plain": [
       "shape: (891,)\n",
       "Series: 'Age' [f64]\n",
       "[\n",
       "\t4.690416\n",
       "\t6.164414\n",
       "\t5.09902\n",
       "\t5.91608\n",
       "\t5.91608\n",
       "\t…\n",
       "\t5.196152\n",
       "\t4.358899\n",
       "\tnull\n",
       "\t5.09902\n",
       "\t5.656854\n",
       "]"
      ],
      "text/html": [
       "<div><style>\n",
       ".dataframe > thead > tr,\n",
       ".dataframe > tbody > tr {\n",
       "  text-align: right;\n",
       "  white-space: pre-wrap;\n",
       "}\n",
       "</style>\n",
       "<small>shape: (891,)</small><table border=\"1\" class=\"dataframe\"><thead><tr><th>Age</th></tr><tr><td>f64</td></tr></thead><tbody><tr><td>4.690416</td></tr><tr><td>6.164414</td></tr><tr><td>5.09902</td></tr><tr><td>5.91608</td></tr><tr><td>5.91608</td></tr><tr><td>&hellip;</td></tr><tr><td>5.196152</td></tr><tr><td>4.358899</td></tr><tr><td>null</td></tr><tr><td>5.09902</td></tr><tr><td>5.656854</td></tr></tbody></table></div>"
      ]
     },
     "execution_count": 21,
     "metadata": {},
     "output_type": "execute_result"
    }
   ],
   "execution_count": 21
  },
  {
   "metadata": {},
   "cell_type": "markdown",
   "source": [
    "Arrow는 numpy보다 더 가볍고 빠른 장점이 있지만, <p>\n",
    "다음의 경우는 numpy가 더 좋을 수 있다. <p>\n",
    "* transposing a dataframe\n",
    "* doing matrix mulitiplication/linear algebra on a dataframe"
   ],
   "id": "9bd5d118265036ea"
  },
  {
   "metadata": {},
   "cell_type": "markdown",
   "source": "## Series and DataFrame",
   "id": "6f67dac034ed6ee"
  },
  {
   "metadata": {},
   "cell_type": "markdown",
   "source": "We can create a `Series` from a `Dataframe` column with square brackets",
   "id": "f638d23b12082865"
  },
  {
   "metadata": {
    "ExecuteTime": {
     "end_time": "2025-05-01T05:03:48.757367Z",
     "start_time": "2025-05-01T05:03:48.755365Z"
    }
   },
   "cell_type": "code",
   "source": [
    "(\n",
    "    df['Age']\n",
    "    .head(3)\n",
    ")"
   ],
   "id": "7323d3db66454bf8",
   "outputs": [
    {
     "data": {
      "text/plain": [
       "shape: (3,)\n",
       "Series: 'Age' [f64]\n",
       "[\n",
       "\t22.0\n",
       "\t38.0\n",
       "\t26.0\n",
       "]"
      ],
      "text/html": [
       "<div><style>\n",
       ".dataframe > thead > tr,\n",
       ".dataframe > tbody > tr {\n",
       "  text-align: right;\n",
       "  white-space: pre-wrap;\n",
       "}\n",
       "</style>\n",
       "<small>shape: (3,)</small><table border=\"1\" class=\"dataframe\"><thead><tr><th>Age</th></tr><tr><td>f64</td></tr></thead><tbody><tr><td>22.0</td></tr><tr><td>38.0</td></tr><tr><td>26.0</td></tr></tbody></table></div>"
      ]
     },
     "execution_count": 22,
     "metadata": {},
     "output_type": "execute_result"
    }
   ],
   "execution_count": 22
  },
  {
   "metadata": {},
   "cell_type": "markdown",
   "source": "Note that `Series` has a name (`Age`) and a dtype (floating 64-bit)",
   "id": "2702aa5270a9885a"
  },
  {
   "metadata": {
    "ExecuteTime": {
     "end_time": "2025-05-01T05:05:05.828009Z",
     "start_time": "2025-05-01T05:05:05.824573Z"
    }
   },
   "cell_type": "code",
   "source": [
    "(\n",
    "    df\n",
    "    .select(\n",
    "        pl.col(\"Age\")\n",
    "    )\n",
    "    .to_series()\n",
    "    .head(3)\n",
    ")"
   ],
   "id": "e6523b3b8b7aaab8",
   "outputs": [
    {
     "data": {
      "text/plain": [
       "shape: (3,)\n",
       "Series: 'Age' [f64]\n",
       "[\n",
       "\t22.0\n",
       "\t38.0\n",
       "\t26.0\n",
       "]"
      ],
      "text/html": [
       "<div><style>\n",
       ".dataframe > thead > tr,\n",
       ".dataframe > tbody > tr {\n",
       "  text-align: right;\n",
       "  white-space: pre-wrap;\n",
       "}\n",
       "</style>\n",
       "<small>shape: (3,)</small><table border=\"1\" class=\"dataframe\"><thead><tr><th>Age</th></tr><tr><td>f64</td></tr></thead><tbody><tr><td>22.0</td></tr><tr><td>38.0</td></tr><tr><td>26.0</td></tr></tbody></table></div>"
      ]
     },
     "execution_count": 24,
     "metadata": {},
     "output_type": "execute_result"
    }
   ],
   "execution_count": 24
  },
  {
   "metadata": {},
   "cell_type": "markdown",
   "source": "We can convert a `Series` into a one-columns DataFrame using `to_frame`",
   "id": "d9d92d865ad845f3"
  },
  {
   "metadata": {
    "ExecuteTime": {
     "end_time": "2025-05-01T05:06:43.823552Z",
     "start_time": "2025-05-01T05:06:43.820189Z"
    }
   },
   "cell_type": "code",
   "source": [
    "series_ = df['Name']\n",
    "\n",
    "print(series_.shape) # (891,) -> col이 없는 하나의 벡터느낌\n",
    "series_\n"
   ],
   "id": "93b6d97d097d3da6",
   "outputs": [
    {
     "name": "stdout",
     "output_type": "stream",
     "text": [
      "(891,)\n"
     ]
    },
    {
     "data": {
      "text/plain": [
       "shape: (891,)\n",
       "Series: 'Name' [str]\n",
       "[\n",
       "\t\"Braund, Mr. Owen Harris\"\n",
       "\t\"Cumings, Mrs. John Bradley (Fl…\n",
       "\t\"Heikkinen, Miss. Laina\"\n",
       "\t\"Futrelle, Mrs. Jacques Heath (…\n",
       "\t\"Allen, Mr. William Henry\"\n",
       "\t…\n",
       "\t\"Montvila, Rev. Juozas\"\n",
       "\t\"Graham, Miss. Margaret Edith\"\n",
       "\t\"Johnston, Miss. Catherine Hele…\n",
       "\t\"Behr, Mr. Karl Howell\"\n",
       "\t\"Dooley, Mr. Patrick\"\n",
       "]"
      ],
      "text/html": [
       "<div><style>\n",
       ".dataframe > thead > tr,\n",
       ".dataframe > tbody > tr {\n",
       "  text-align: right;\n",
       "  white-space: pre-wrap;\n",
       "}\n",
       "</style>\n",
       "<small>shape: (891,)</small><table border=\"1\" class=\"dataframe\"><thead><tr><th>Name</th></tr><tr><td>str</td></tr></thead><tbody><tr><td>&quot;Braund, Mr. Owen Harris&quot;</td></tr><tr><td>&quot;Cumings, Mrs. John Bradley (Fl…</td></tr><tr><td>&quot;Heikkinen, Miss. Laina&quot;</td></tr><tr><td>&quot;Futrelle, Mrs. Jacques Heath (…</td></tr><tr><td>&quot;Allen, Mr. William Henry&quot;</td></tr><tr><td>&hellip;</td></tr><tr><td>&quot;Montvila, Rev. Juozas&quot;</td></tr><tr><td>&quot;Graham, Miss. Margaret Edith&quot;</td></tr><tr><td>&quot;Johnston, Miss. Catherine Hele…</td></tr><tr><td>&quot;Behr, Mr. Karl Howell&quot;</td></tr><tr><td>&quot;Dooley, Mr. Patrick&quot;</td></tr></tbody></table></div>"
      ]
     },
     "execution_count": 28,
     "metadata": {},
     "output_type": "execute_result"
    }
   ],
   "execution_count": 28
  },
  {
   "metadata": {
    "ExecuteTime": {
     "end_time": "2025-05-01T05:07:15.796597Z",
     "start_time": "2025-05-01T05:07:15.792289Z"
    }
   },
   "cell_type": "code",
   "source": [
    "frame_ = (\n",
    "    series_\n",
    "    .to_frame()\n",
    ")\n",
    "\n",
    "print(frame_.shape) # (891, 1) -> col이 생겻다.\n",
    "frame_"
   ],
   "id": "da001068be5d67fb",
   "outputs": [
    {
     "name": "stdout",
     "output_type": "stream",
     "text": [
      "(891, 1)\n"
     ]
    },
    {
     "data": {
      "text/plain": [
       "shape: (891, 1)\n",
       "┌─────────────────────────────────┐\n",
       "│ Name                            │\n",
       "│ ---                             │\n",
       "│ str                             │\n",
       "╞═════════════════════════════════╡\n",
       "│ Braund, Mr. Owen Harris         │\n",
       "│ Cumings, Mrs. John Bradley (Fl… │\n",
       "│ Heikkinen, Miss. Laina          │\n",
       "│ Futrelle, Mrs. Jacques Heath (… │\n",
       "│ Allen, Mr. William Henry        │\n",
       "│ …                               │\n",
       "│ Montvila, Rev. Juozas           │\n",
       "│ Graham, Miss. Margaret Edith    │\n",
       "│ Johnston, Miss. Catherine Hele… │\n",
       "│ Behr, Mr. Karl Howell           │\n",
       "│ Dooley, Mr. Patrick             │\n",
       "└─────────────────────────────────┘"
      ],
      "text/html": [
       "<div><style>\n",
       ".dataframe > thead > tr,\n",
       ".dataframe > tbody > tr {\n",
       "  text-align: right;\n",
       "  white-space: pre-wrap;\n",
       "}\n",
       "</style>\n",
       "<small>shape: (891, 1)</small><table border=\"1\" class=\"dataframe\"><thead><tr><th>Name</th></tr><tr><td>str</td></tr></thead><tbody><tr><td>&quot;Braund, Mr. Owen Harris&quot;</td></tr><tr><td>&quot;Cumings, Mrs. John Bradley (Fl…</td></tr><tr><td>&quot;Heikkinen, Miss. Laina&quot;</td></tr><tr><td>&quot;Futrelle, Mrs. Jacques Heath (…</td></tr><tr><td>&quot;Allen, Mr. William Henry&quot;</td></tr><tr><td>&hellip;</td></tr><tr><td>&quot;Montvila, Rev. Juozas&quot;</td></tr><tr><td>&quot;Graham, Miss. Margaret Edith&quot;</td></tr><tr><td>&quot;Johnston, Miss. Catherine Hele…</td></tr><tr><td>&quot;Behr, Mr. Karl Howell&quot;</td></tr><tr><td>&quot;Dooley, Mr. Patrick&quot;</td></tr></tbody></table></div>"
      ]
     },
     "execution_count": 30,
     "metadata": {},
     "output_type": "execute_result"
    }
   ],
   "execution_count": 30
  },
  {
   "metadata": {},
   "cell_type": "markdown",
   "source": "## Create `Series` or `DataFrame` from `list` or `dict`",
   "id": "e4ef41cb500b9e17"
  },
  {
   "metadata": {
    "ExecuteTime": {
     "end_time": "2025-05-01T05:08:31.487210Z",
     "start_time": "2025-05-01T05:08:31.483482Z"
    }
   },
   "cell_type": "code",
   "source": [
    "values = [1, 2, 3]\n",
    "pl.Series(values)"
   ],
   "id": "34ebb9161bce957d",
   "outputs": [
    {
     "data": {
      "text/plain": [
       "shape: (3,)\n",
       "Series: '' [i64]\n",
       "[\n",
       "\t1\n",
       "\t2\n",
       "\t3\n",
       "]"
      ],
      "text/html": [
       "<div><style>\n",
       ".dataframe > thead > tr,\n",
       ".dataframe > tbody > tr {\n",
       "  text-align: right;\n",
       "  white-space: pre-wrap;\n",
       "}\n",
       "</style>\n",
       "<small>shape: (3,)</small><table border=\"1\" class=\"dataframe\"><thead><tr><th></th></tr><tr><td>i64</td></tr></thead><tbody><tr><td>1</td></tr><tr><td>2</td></tr><tr><td>3</td></tr></tbody></table></div>"
      ]
     },
     "execution_count": 31,
     "metadata": {},
     "output_type": "execute_result"
    }
   ],
   "execution_count": 31
  },
  {
   "metadata": {},
   "cell_type": "markdown",
   "source": [
    "If the `name` argument is not set then it defaults to an empty string. <p>\n",
    "The name can be passed as the **first** argument."
   ],
   "id": "e7a0218f81c07fab"
  },
  {
   "metadata": {
    "ExecuteTime": {
     "end_time": "2025-05-01T05:09:51.277538Z",
     "start_time": "2025-05-01T05:09:51.274305Z"
    }
   },
   "cell_type": "code",
   "source": "pl.Series('Values', values)",
   "id": "baed4a48840d4dbd",
   "outputs": [
    {
     "data": {
      "text/plain": [
       "shape: (3,)\n",
       "Series: 'Values' [i64]\n",
       "[\n",
       "\t1\n",
       "\t2\n",
       "\t3\n",
       "]"
      ],
      "text/html": [
       "<div><style>\n",
       ".dataframe > thead > tr,\n",
       ".dataframe > tbody > tr {\n",
       "  text-align: right;\n",
       "  white-space: pre-wrap;\n",
       "}\n",
       "</style>\n",
       "<small>shape: (3,)</small><table border=\"1\" class=\"dataframe\"><thead><tr><th>Values</th></tr><tr><td>i64</td></tr></thead><tbody><tr><td>1</td></tr><tr><td>2</td></tr><tr><td>3</td></tr></tbody></table></div>"
      ]
     },
     "execution_count": 32,
     "metadata": {},
     "output_type": "execute_result"
    }
   ],
   "execution_count": 32
  },
  {
   "metadata": {},
   "cell_type": "markdown",
   "source": "We can also convert a `Series` to a `list` with `to_list`",
   "id": "8e6d43fe5c96017a"
  },
  {
   "metadata": {
    "ExecuteTime": {
     "end_time": "2025-05-01T05:11:14.339417Z",
     "start_time": "2025-05-01T05:11:14.336080Z"
    }
   },
   "cell_type": "code",
   "source": "pl.Series(name = 'Values', values = values).to_list()",
   "id": "af49a453cd23f22c",
   "outputs": [
    {
     "data": {
      "text/plain": [
       "[1, 2, 3]"
      ]
     },
     "execution_count": 35,
     "metadata": {},
     "output_type": "execute_result"
    }
   ],
   "execution_count": 35
  },
  {
   "metadata": {
    "ExecuteTime": {
     "end_time": "2025-05-01T05:11:53.458499Z",
     "start_time": "2025-05-01T05:11:53.456375Z"
    }
   },
   "cell_type": "code",
   "source": [
    "# more polarity\n",
    "(\n",
    "    pl.Series(\n",
    "        name = 'Values',\n",
    "        values = values\n",
    "    )\n",
    "    .to_list()\n",
    ")"
   ],
   "id": "4dceebcefa995169",
   "outputs": [
    {
     "data": {
      "text/plain": [
       "[1, 2, 3]"
      ]
     },
     "execution_count": 36,
     "metadata": {},
     "output_type": "execute_result"
    }
   ],
   "execution_count": 36
  },
  {
   "metadata": {
    "ExecuteTime": {
     "end_time": "2025-05-01T05:13:46.659558Z",
     "start_time": "2025-05-01T05:13:46.655677Z"
    }
   },
   "cell_type": "code",
   "source": [
    "data = [\n",
    "    [1, 2, 3],\n",
    "    [4, 5, 6]\n",
    "]\n",
    "\n",
    "(\n",
    "    pl.DataFrame(\n",
    "        data = data, # the data wants to transform into dataframe\n",
    "        schema= [\"Col0\", \"Col1\"] # colnames of each data\n",
    "    )\n",
    ")"
   ],
   "id": "6f8f6fac28de5457",
   "outputs": [
    {
     "data": {
      "text/plain": [
       "shape: (3, 2)\n",
       "┌──────┬──────┐\n",
       "│ Col0 ┆ Col1 │\n",
       "│ ---  ┆ ---  │\n",
       "│ i64  ┆ i64  │\n",
       "╞══════╪══════╡\n",
       "│ 1    ┆ 4    │\n",
       "│ 2    ┆ 5    │\n",
       "│ 3    ┆ 6    │\n",
       "└──────┴──────┘"
      ],
      "text/html": [
       "<div><style>\n",
       ".dataframe > thead > tr,\n",
       ".dataframe > tbody > tr {\n",
       "  text-align: right;\n",
       "  white-space: pre-wrap;\n",
       "}\n",
       "</style>\n",
       "<small>shape: (3, 2)</small><table border=\"1\" class=\"dataframe\"><thead><tr><th>Col0</th><th>Col1</th></tr><tr><td>i64</td><td>i64</td></tr></thead><tbody><tr><td>1</td><td>4</td></tr><tr><td>2</td><td>5</td></tr><tr><td>3</td><td>6</td></tr></tbody></table></div>"
      ]
     },
     "execution_count": 38,
     "metadata": {},
     "output_type": "execute_result"
    }
   ],
   "execution_count": 38
  },
  {
   "metadata": {
    "ExecuteTime": {
     "end_time": "2025-05-01T05:15:58.463190Z",
     "start_time": "2025-05-01T05:15:58.460964Z"
    }
   },
   "cell_type": "code",
   "source": [
    "data = {\n",
    "    \"col0\" : [1, 2, 3],\n",
    "    \"col1\" : [4, 5, 6]\n",
    "}\n",
    "\n",
    "ex_df = (\n",
    "    pl.DataFrame(\n",
    "        data = data\n",
    "    )\n",
    ")\n",
    "\n",
    "print(ex_df)\n",
    "print(ex_df.schema)"
   ],
   "id": "b8cecb26b722acef",
   "outputs": [
    {
     "name": "stdout",
     "output_type": "stream",
     "text": [
      "shape: (3, 2)\n",
      "┌──────┬──────┐\n",
      "│ col0 ┆ col1 │\n",
      "│ ---  ┆ ---  │\n",
      "│ i64  ┆ i64  │\n",
      "╞══════╪══════╡\n",
      "│ 1    ┆ 4    │\n",
      "│ 2    ┆ 5    │\n",
      "│ 3    ┆ 6    │\n",
      "└──────┴──────┘\n",
      "Schema({'col0': Int64, 'col1': Int64})\n"
     ]
    }
   ],
   "execution_count": 42
  },
  {
   "metadata": {
    "ExecuteTime": {
     "end_time": "2025-05-01T05:16:20.828364Z",
     "start_time": "2025-05-01T05:16:20.826416Z"
    }
   },
   "cell_type": "code",
   "source": [
    "data_dict = {\"col0\":[1,2,3],\"col1\":[4,5,6]}\n",
    "\n",
    "ex_df_2 = (\n",
    "    pl.DataFrame(\n",
    "        data_dict,\n",
    "        schema={\n",
    "            \"col0\":pl.Int64,\n",
    "            \"col1\":pl.Int32 # We can specify dtypes by passing a `dict` to the schema argument.\n",
    "        }\n",
    "    )\n",
    ")\n",
    "\n",
    "print(ex_df_2)\n",
    "print(ex_df_2.schema)"
   ],
   "id": "ba9d60ce92447356",
   "outputs": [
    {
     "name": "stdout",
     "output_type": "stream",
     "text": [
      "shape: (3, 2)\n",
      "┌──────┬──────┐\n",
      "│ col0 ┆ col1 │\n",
      "│ ---  ┆ ---  │\n",
      "│ i64  ┆ i32  │\n",
      "╞══════╪══════╡\n",
      "│ 1    ┆ 4    │\n",
      "│ 2    ┆ 5    │\n",
      "│ 3    ┆ 6    │\n",
      "└──────┴──────┘\n",
      "Schema({'col0': Int64, 'col1': Int32})\n"
     ]
    }
   ],
   "execution_count": 43
  },
  {
   "metadata": {},
   "cell_type": "code",
   "outputs": [],
   "execution_count": null,
   "source": "",
   "id": "360cd4262b4774e0"
  }
 ],
 "metadata": {
  "kernelspec": {
   "display_name": "Python 3",
   "language": "python",
   "name": "python3"
  },
  "language_info": {
   "codemirror_mode": {
    "name": "ipython",
    "version": 2
   },
   "file_extension": ".py",
   "mimetype": "text/x-python",
   "name": "python",
   "nbconvert_exporter": "python",
   "pygments_lexer": "ipython2",
   "version": "2.7.6"
  }
 },
 "nbformat": 4,
 "nbformat_minor": 5
}
