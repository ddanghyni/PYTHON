{
 "cells": [
  {
   "metadata": {},
   "cell_type": "markdown",
   "source": "## 05. Selecting and transformations",
   "id": "c9d5a817b0b711b4"
  },
  {
   "metadata": {},
   "cell_type": "markdown",
   "source": "### Selecting columns using `[]`",
   "id": "504b676e06bed1f0"
  },
  {
   "metadata": {
    "ExecuteTime": {
     "end_time": "2025-05-02T04:49:37.928676Z",
     "start_time": "2025-05-02T04:49:37.852131Z"
    }
   },
   "cell_type": "code",
   "source": [
    "import polars as pl\n",
    "csv_file = './data/titanic.csv'\n",
    "df = pl.read_csv(csv_file)\n",
    "df.head()"
   ],
   "id": "577596b28a082a89",
   "outputs": [
    {
     "data": {
      "text/plain": [
       "shape: (5, 12)\n",
       "┌─────────────┬──────────┬────────┬───────────────────┬───┬───────────┬─────────┬───────┬──────────┐\n",
       "│ PassengerId ┆ Survived ┆ Pclass ┆ Name              ┆ … ┆ Ticket    ┆ Fare    ┆ Cabin ┆ Embarked │\n",
       "│ ---         ┆ ---      ┆ ---    ┆ ---               ┆   ┆ ---       ┆ ---     ┆ ---   ┆ ---      │\n",
       "│ i64         ┆ i64      ┆ i64    ┆ str               ┆   ┆ str       ┆ f64     ┆ str   ┆ str      │\n",
       "╞═════════════╪══════════╪════════╪═══════════════════╪═══╪═══════════╪═════════╪═══════╪══════════╡\n",
       "│ 1           ┆ 0        ┆ 3      ┆ Braund, Mr. Owen  ┆ … ┆ A/5 21171 ┆ 7.25    ┆ null  ┆ S        │\n",
       "│             ┆          ┆        ┆ Harris            ┆   ┆           ┆         ┆       ┆          │\n",
       "│ 2           ┆ 1        ┆ 1      ┆ Cumings, Mrs.     ┆ … ┆ PC 17599  ┆ 71.2833 ┆ C85   ┆ C        │\n",
       "│             ┆          ┆        ┆ John Bradley (Fl… ┆   ┆           ┆         ┆       ┆          │\n",
       "│ 3           ┆ 1        ┆ 3      ┆ Heikkinen, Miss.  ┆ … ┆ STON/O2.  ┆ 7.925   ┆ null  ┆ S        │\n",
       "│             ┆          ┆        ┆ Laina             ┆   ┆ 3101282   ┆         ┆       ┆          │\n",
       "│ 4           ┆ 1        ┆ 1      ┆ Futrelle, Mrs.    ┆ … ┆ 113803    ┆ 53.1    ┆ C123  ┆ S        │\n",
       "│             ┆          ┆        ┆ Jacques Heath (…  ┆   ┆           ┆         ┆       ┆          │\n",
       "│ 5           ┆ 0        ┆ 3      ┆ Allen, Mr.        ┆ … ┆ 373450    ┆ 8.05    ┆ null  ┆ S        │\n",
       "│             ┆          ┆        ┆ William Henry     ┆   ┆           ┆         ┆       ┆          │\n",
       "└─────────────┴──────────┴────────┴───────────────────┴───┴───────────┴─────────┴───────┴──────────┘"
      ],
      "text/html": [
       "<div><style>\n",
       ".dataframe > thead > tr,\n",
       ".dataframe > tbody > tr {\n",
       "  text-align: right;\n",
       "  white-space: pre-wrap;\n",
       "}\n",
       "</style>\n",
       "<small>shape: (5, 12)</small><table border=\"1\" class=\"dataframe\"><thead><tr><th>PassengerId</th><th>Survived</th><th>Pclass</th><th>Name</th><th>Sex</th><th>Age</th><th>SibSp</th><th>Parch</th><th>Ticket</th><th>Fare</th><th>Cabin</th><th>Embarked</th></tr><tr><td>i64</td><td>i64</td><td>i64</td><td>str</td><td>str</td><td>f64</td><td>i64</td><td>i64</td><td>str</td><td>f64</td><td>str</td><td>str</td></tr></thead><tbody><tr><td>1</td><td>0</td><td>3</td><td>&quot;Braund, Mr. Owen Harris&quot;</td><td>&quot;male&quot;</td><td>22.0</td><td>1</td><td>0</td><td>&quot;A/5 21171&quot;</td><td>7.25</td><td>null</td><td>&quot;S&quot;</td></tr><tr><td>2</td><td>1</td><td>1</td><td>&quot;Cumings, Mrs. John Bradley (Fl…</td><td>&quot;female&quot;</td><td>38.0</td><td>1</td><td>0</td><td>&quot;PC 17599&quot;</td><td>71.2833</td><td>&quot;C85&quot;</td><td>&quot;C&quot;</td></tr><tr><td>3</td><td>1</td><td>3</td><td>&quot;Heikkinen, Miss. Laina&quot;</td><td>&quot;female&quot;</td><td>26.0</td><td>0</td><td>0</td><td>&quot;STON/O2. 3101282&quot;</td><td>7.925</td><td>null</td><td>&quot;S&quot;</td></tr><tr><td>4</td><td>1</td><td>1</td><td>&quot;Futrelle, Mrs. Jacques Heath (…</td><td>&quot;female&quot;</td><td>35.0</td><td>1</td><td>0</td><td>&quot;113803&quot;</td><td>53.1</td><td>&quot;C123&quot;</td><td>&quot;S&quot;</td></tr><tr><td>5</td><td>0</td><td>3</td><td>&quot;Allen, Mr. William Henry&quot;</td><td>&quot;male&quot;</td><td>35.0</td><td>0</td><td>0</td><td>&quot;373450&quot;</td><td>8.05</td><td>null</td><td>&quot;S&quot;</td></tr></tbody></table></div>"
      ]
     },
     "execution_count": 1,
     "metadata": {},
     "output_type": "execute_result"
    }
   ],
   "execution_count": 1
  },
  {
   "metadata": {},
   "cell_type": "markdown",
   "source": "#### Choosing columns with square brackets",
   "id": "250075a5090ae81a"
  },
  {
   "metadata": {
    "ExecuteTime": {
     "end_time": "2025-05-02T04:50:11.109357Z",
     "start_time": "2025-05-02T04:50:11.104245Z"
    }
   },
   "cell_type": "code",
   "source": "df['Age'].head()",
   "id": "37895a66248af0bf",
   "outputs": [
    {
     "data": {
      "text/plain": [
       "shape: (10,)\n",
       "Series: 'Age' [f64]\n",
       "[\n",
       "\t22.0\n",
       "\t38.0\n",
       "\t26.0\n",
       "\t35.0\n",
       "\t35.0\n",
       "\tnull\n",
       "\t54.0\n",
       "\t2.0\n",
       "\t27.0\n",
       "\t14.0\n",
       "]"
      ],
      "text/html": [
       "<div><style>\n",
       ".dataframe > thead > tr,\n",
       ".dataframe > tbody > tr {\n",
       "  text-align: right;\n",
       "  white-space: pre-wrap;\n",
       "}\n",
       "</style>\n",
       "<small>shape: (10,)</small><table border=\"1\" class=\"dataframe\"><thead><tr><th>Age</th></tr><tr><td>f64</td></tr></thead><tbody><tr><td>22.0</td></tr><tr><td>38.0</td></tr><tr><td>26.0</td></tr><tr><td>35.0</td></tr><tr><td>35.0</td></tr><tr><td>null</td></tr><tr><td>54.0</td></tr><tr><td>2.0</td></tr><tr><td>27.0</td></tr><tr><td>14.0</td></tr></tbody></table></div>"
      ]
     },
     "execution_count": 2,
     "metadata": {},
     "output_type": "execute_result"
    }
   ],
   "execution_count": 2
  },
  {
   "metadata": {
    "ExecuteTime": {
     "end_time": "2025-05-02T04:50:37.407700Z",
     "start_time": "2025-05-02T04:50:37.401308Z"
    }
   },
   "cell_type": "code",
   "source": "df[['Survived', 'Age']].head()",
   "id": "884d787d414a633d",
   "outputs": [
    {
     "data": {
      "text/plain": [
       "shape: (5, 2)\n",
       "┌──────────┬──────┐\n",
       "│ Survived ┆ Age  │\n",
       "│ ---      ┆ ---  │\n",
       "│ i64      ┆ f64  │\n",
       "╞══════════╪══════╡\n",
       "│ 0        ┆ 22.0 │\n",
       "│ 1        ┆ 38.0 │\n",
       "│ 1        ┆ 26.0 │\n",
       "│ 1        ┆ 35.0 │\n",
       "│ 0        ┆ 35.0 │\n",
       "└──────────┴──────┘"
      ],
      "text/html": [
       "<div><style>\n",
       ".dataframe > thead > tr,\n",
       ".dataframe > tbody > tr {\n",
       "  text-align: right;\n",
       "  white-space: pre-wrap;\n",
       "}\n",
       "</style>\n",
       "<small>shape: (5, 2)</small><table border=\"1\" class=\"dataframe\"><thead><tr><th>Survived</th><th>Age</th></tr><tr><td>i64</td><td>f64</td></tr></thead><tbody><tr><td>0</td><td>22.0</td></tr><tr><td>1</td><td>38.0</td></tr><tr><td>1</td><td>26.0</td></tr><tr><td>1</td><td>35.0</td></tr><tr><td>0</td><td>35.0</td></tr></tbody></table></div>"
      ]
     },
     "execution_count": 3,
     "metadata": {},
     "output_type": "execute_result"
    }
   ],
   "execution_count": 3
  },
  {
   "metadata": {},
   "cell_type": "markdown",
   "source": "`[]`로 하는 indexing은 pandas와 비슷해서 패스...",
   "id": "36ececca4cef25c8"
  },
  {
   "metadata": {},
   "cell_type": "markdown",
   "source": "### Selecting columns : using `select` and expressions",
   "id": "46f3ccee475d7405"
  },
  {
   "metadata": {
    "ExecuteTime": {
     "end_time": "2025-05-02T05:02:04.176888Z",
     "start_time": "2025-05-02T05:02:04.174350Z"
    }
   },
   "cell_type": "code",
   "source": [
    "(\n",
    "    df\n",
    "    .select(\n",
    "        'Age', 'Survived'\n",
    "    )\n",
    "    .head()\n",
    ")"
   ],
   "id": "50e03b857c211b96",
   "outputs": [
    {
     "data": {
      "text/plain": [
       "shape: (5, 2)\n",
       "┌──────┬──────────┐\n",
       "│ Age  ┆ Survived │\n",
       "│ ---  ┆ ---      │\n",
       "│ f64  ┆ i64      │\n",
       "╞══════╪══════════╡\n",
       "│ 22.0 ┆ 0        │\n",
       "│ 38.0 ┆ 1        │\n",
       "│ 26.0 ┆ 1        │\n",
       "│ 35.0 ┆ 1        │\n",
       "│ 35.0 ┆ 0        │\n",
       "└──────┴──────────┘"
      ],
      "text/html": [
       "<div><style>\n",
       ".dataframe > thead > tr,\n",
       ".dataframe > tbody > tr {\n",
       "  text-align: right;\n",
       "  white-space: pre-wrap;\n",
       "}\n",
       "</style>\n",
       "<small>shape: (5, 2)</small><table border=\"1\" class=\"dataframe\"><thead><tr><th>Age</th><th>Survived</th></tr><tr><td>f64</td><td>i64</td></tr></thead><tbody><tr><td>22.0</td><td>0</td></tr><tr><td>38.0</td><td>1</td></tr><tr><td>26.0</td><td>1</td></tr><tr><td>35.0</td><td>1</td></tr><tr><td>35.0</td><td>0</td></tr></tbody></table></div>"
      ]
     },
     "execution_count": 4,
     "metadata": {},
     "output_type": "execute_result"
    }
   ],
   "execution_count": 4
  },
  {
   "metadata": {},
   "cell_type": "markdown",
   "source": "#### Selecting and transforming a column with an expression",
   "id": "53b4c846cfa66b27"
  },
  {
   "metadata": {},
   "cell_type": "markdown",
   "source": [
    "We can apply a transformation to a column before we output it. <p>\n",
    "In this example we use the `round` expression to round the values of the `Fare` column"
   ],
   "id": "d989ecf30a7c84ba"
  },
  {
   "metadata": {
    "ExecuteTime": {
     "end_time": "2025-05-02T05:05:00.441249Z",
     "start_time": "2025-05-02T05:05:00.437345Z"
    }
   },
   "cell_type": "code",
   "source": [
    "(\n",
    "    df\n",
    "    .select(\n",
    "        pl.col('Fare')\n",
    "    )\n",
    "    .head()\n",
    ")"
   ],
   "id": "37815ce01169f832",
   "outputs": [
    {
     "data": {
      "text/plain": [
       "shape: (5, 1)\n",
       "┌─────────┐\n",
       "│ Fare    │\n",
       "│ ---     │\n",
       "│ f64     │\n",
       "╞═════════╡\n",
       "│ 7.25    │\n",
       "│ 71.2833 │\n",
       "│ 7.925   │\n",
       "│ 53.1    │\n",
       "│ 8.05    │\n",
       "└─────────┘"
      ],
      "text/html": [
       "<div><style>\n",
       ".dataframe > thead > tr,\n",
       ".dataframe > tbody > tr {\n",
       "  text-align: right;\n",
       "  white-space: pre-wrap;\n",
       "}\n",
       "</style>\n",
       "<small>shape: (5, 1)</small><table border=\"1\" class=\"dataframe\"><thead><tr><th>Fare</th></tr><tr><td>f64</td></tr></thead><tbody><tr><td>7.25</td></tr><tr><td>71.2833</td></tr><tr><td>7.925</td></tr><tr><td>53.1</td></tr><tr><td>8.05</td></tr></tbody></table></div>"
      ]
     },
     "execution_count": 5,
     "metadata": {},
     "output_type": "execute_result"
    }
   ],
   "execution_count": 5
  },
  {
   "metadata": {
    "ExecuteTime": {
     "end_time": "2025-05-02T05:05:10.976790Z",
     "start_time": "2025-05-02T05:05:10.970144Z"
    }
   },
   "cell_type": "code",
   "source": [
    "(\n",
    "    df\n",
    "    .select(\n",
    "        pl.col('Fare').round(0)\n",
    "    )\n",
    "    .head()\n",
    ")"
   ],
   "id": "410cd5c67cdf22cb",
   "outputs": [
    {
     "data": {
      "text/plain": [
       "shape: (5, 1)\n",
       "┌──────┐\n",
       "│ Fare │\n",
       "│ ---  │\n",
       "│ f64  │\n",
       "╞══════╡\n",
       "│ 7.0  │\n",
       "│ 71.0 │\n",
       "│ 8.0  │\n",
       "│ 53.0 │\n",
       "│ 8.0  │\n",
       "└──────┘"
      ],
      "text/html": [
       "<div><style>\n",
       ".dataframe > thead > tr,\n",
       ".dataframe > tbody > tr {\n",
       "  text-align: right;\n",
       "  white-space: pre-wrap;\n",
       "}\n",
       "</style>\n",
       "<small>shape: (5, 1)</small><table border=\"1\" class=\"dataframe\"><thead><tr><th>Fare</th></tr><tr><td>f64</td></tr></thead><tbody><tr><td>7.0</td></tr><tr><td>71.0</td></tr><tr><td>8.0</td></tr><tr><td>53.0</td></tr><tr><td>8.0</td></tr></tbody></table></div>"
      ]
     },
     "execution_count": 6,
     "metadata": {},
     "output_type": "execute_result"
    }
   ],
   "execution_count": 6
  },
  {
   "metadata": {
    "ExecuteTime": {
     "end_time": "2025-05-02T05:05:31.681309Z",
     "start_time": "2025-05-02T05:05:31.678525Z"
    }
   },
   "cell_type": "code",
   "source": [
    "(\n",
    "    df\n",
    "    .select(\n",
    "        pl.col('Fare').round(0).alias('roundedFare') # .alias로 이름 변경까지...\n",
    "    )\n",
    "    .head()\n",
    ")"
   ],
   "id": "458625a1795ee313",
   "outputs": [
    {
     "data": {
      "text/plain": [
       "shape: (5, 1)\n",
       "┌─────────────┐\n",
       "│ roundedFare │\n",
       "│ ---         │\n",
       "│ f64         │\n",
       "╞═════════════╡\n",
       "│ 7.0         │\n",
       "│ 71.0        │\n",
       "│ 8.0         │\n",
       "│ 53.0        │\n",
       "│ 8.0         │\n",
       "└─────────────┘"
      ],
      "text/html": [
       "<div><style>\n",
       ".dataframe > thead > tr,\n",
       ".dataframe > tbody > tr {\n",
       "  text-align: right;\n",
       "  white-space: pre-wrap;\n",
       "}\n",
       "</style>\n",
       "<small>shape: (5, 1)</small><table border=\"1\" class=\"dataframe\"><thead><tr><th>roundedFare</th></tr><tr><td>f64</td></tr></thead><tbody><tr><td>7.0</td></tr><tr><td>71.0</td></tr><tr><td>8.0</td></tr><tr><td>53.0</td></tr><tr><td>8.0</td></tr></tbody></table></div>"
      ]
     },
     "execution_count": 7,
     "metadata": {},
     "output_type": "execute_result"
    }
   ],
   "execution_count": 7
  },
  {
   "metadata": {
    "ExecuteTime": {
     "end_time": "2025-05-02T05:06:56.512443Z",
     "start_time": "2025-05-02T05:06:56.508777Z"
    }
   },
   "cell_type": "code",
   "source": [
    "(\n",
    "    df\n",
    "    .select(\n",
    "        pl.col('Fare'),\n",
    "        pl.col('Fare').round(0).alias('roundedFare')\n",
    "        # , 으로 여러개 선택 가능..\n",
    "    )\n",
    "    .head(3)\n",
    ")"
   ],
   "id": "8ab67919c2e8b971",
   "outputs": [
    {
     "data": {
      "text/plain": [
       "shape: (3, 2)\n",
       "┌─────────┬─────────────┐\n",
       "│ Fare    ┆ roundedFare │\n",
       "│ ---     ┆ ---         │\n",
       "│ f64     ┆ f64         │\n",
       "╞═════════╪═════════════╡\n",
       "│ 7.25    ┆ 7.0         │\n",
       "│ 71.2833 ┆ 71.0        │\n",
       "│ 7.925   ┆ 8.0         │\n",
       "└─────────┴─────────────┘"
      ],
      "text/html": [
       "<div><style>\n",
       ".dataframe > thead > tr,\n",
       ".dataframe > tbody > tr {\n",
       "  text-align: right;\n",
       "  white-space: pre-wrap;\n",
       "}\n",
       "</style>\n",
       "<small>shape: (3, 2)</small><table border=\"1\" class=\"dataframe\"><thead><tr><th>Fare</th><th>roundedFare</th></tr><tr><td>f64</td><td>f64</td></tr></thead><tbody><tr><td>7.25</td><td>7.0</td></tr><tr><td>71.2833</td><td>71.0</td></tr><tr><td>7.925</td><td>8.0</td></tr></tbody></table></div>"
      ]
     },
     "execution_count": 8,
     "metadata": {},
     "output_type": "execute_result"
    }
   ],
   "execution_count": 8
  },
  {
   "metadata": {
    "ExecuteTime": {
     "end_time": "2025-05-02T05:08:08.304546Z",
     "start_time": "2025-05-02T05:08:08.301785Z"
    }
   },
   "cell_type": "code",
   "source": [
    "# single value\n",
    "(\n",
    "    df\n",
    "    .select(\n",
    "        pl.col('Name').first()\n",
    "    )\n",
    "    .item() # 값만 출력 오직 (1, 1) shape만 가능!!!\n",
    ")"
   ],
   "id": "65ab3677b605935e",
   "outputs": [
    {
     "data": {
      "text/plain": [
       "'Braund, Mr. Owen Harris'"
      ]
     },
     "execution_count": 10,
     "metadata": {},
     "output_type": "execute_result"
    }
   ],
   "execution_count": 10
  },
  {
   "metadata": {
    "ExecuteTime": {
     "end_time": "2025-05-02T05:09:18.453668Z",
     "start_time": "2025-05-02T05:09:18.447715Z"
    }
   },
   "cell_type": "code",
   "source": [
    "(\n",
    "    df\n",
    "    .select(\n",
    "        'Name'\n",
    "    )\n",
    "    .to_series()\n",
    "    .to_list()\n",
    ")"
   ],
   "id": "c91eff7ab9934060",
   "outputs": [
    {
     "data": {
      "text/plain": [
       "['Braund, Mr. Owen Harris',\n",
       " 'Cumings, Mrs. John Bradley (Florence Briggs Thayer)',\n",
       " 'Heikkinen, Miss. Laina',\n",
       " 'Futrelle, Mrs. Jacques Heath (Lily May Peel)',\n",
       " 'Allen, Mr. William Henry',\n",
       " 'Moran, Mr. James',\n",
       " 'McCarthy, Mr. Timothy J',\n",
       " 'Palsson, Master. Gosta Leonard',\n",
       " 'Johnson, Mrs. Oscar W (Elisabeth Vilhelmina Berg)',\n",
       " 'Nasser, Mrs. Nicholas (Adele Achem)',\n",
       " 'Sandstrom, Miss. Marguerite Rut',\n",
       " 'Bonnell, Miss. Elizabeth',\n",
       " 'Saundercock, Mr. William Henry',\n",
       " 'Andersson, Mr. Anders Johan',\n",
       " 'Vestrom, Miss. Hulda Amanda Adolfina',\n",
       " 'Hewlett, Mrs. (Mary D Kingcome) ',\n",
       " 'Rice, Master. Eugene',\n",
       " 'Williams, Mr. Charles Eugene',\n",
       " 'Vander Planke, Mrs. Julius (Emelia Maria Vandemoortele)',\n",
       " 'Masselmani, Mrs. Fatima',\n",
       " 'Fynney, Mr. Joseph J',\n",
       " 'Beesley, Mr. Lawrence',\n",
       " 'McGowan, Miss. Anna \"Annie\"',\n",
       " 'Sloper, Mr. William Thompson',\n",
       " 'Palsson, Miss. Torborg Danira',\n",
       " 'Asplund, Mrs. Carl Oscar (Selma Augusta Emilia Johansson)',\n",
       " 'Emir, Mr. Farred Chehab',\n",
       " 'Fortune, Mr. Charles Alexander',\n",
       " 'O\\'Dwyer, Miss. Ellen \"Nellie\"',\n",
       " 'Todoroff, Mr. Lalio',\n",
       " 'Uruchurtu, Don. Manuel E',\n",
       " 'Spencer, Mrs. William Augustus (Marie Eugenie)',\n",
       " 'Glynn, Miss. Mary Agatha',\n",
       " 'Wheadon, Mr. Edward H',\n",
       " 'Meyer, Mr. Edgar Joseph',\n",
       " 'Holverson, Mr. Alexander Oskar',\n",
       " 'Mamee, Mr. Hanna',\n",
       " 'Cann, Mr. Ernest Charles',\n",
       " 'Vander Planke, Miss. Augusta Maria',\n",
       " 'Nicola-Yarred, Miss. Jamila',\n",
       " 'Ahlin, Mrs. Johan (Johanna Persdotter Larsson)',\n",
       " 'Turpin, Mrs. William John Robert (Dorothy Ann Wonnacott)',\n",
       " 'Kraeff, Mr. Theodor',\n",
       " 'Laroche, Miss. Simonne Marie Anne Andree',\n",
       " 'Devaney, Miss. Margaret Delia',\n",
       " 'Rogers, Mr. William John',\n",
       " 'Lennon, Mr. Denis',\n",
       " \"O'Driscoll, Miss. Bridget\",\n",
       " 'Samaan, Mr. Youssef',\n",
       " 'Arnold-Franchi, Mrs. Josef (Josefine Franchi)',\n",
       " 'Panula, Master. Juha Niilo',\n",
       " 'Nosworthy, Mr. Richard Cater',\n",
       " 'Harper, Mrs. Henry Sleeper (Myna Haxtun)',\n",
       " 'Faunthorpe, Mrs. Lizzie (Elizabeth Anne Wilkinson)',\n",
       " 'Ostby, Mr. Engelhart Cornelius',\n",
       " 'Woolner, Mr. Hugh',\n",
       " 'Rugg, Miss. Emily',\n",
       " 'Novel, Mr. Mansouer',\n",
       " 'West, Miss. Constance Mirium',\n",
       " 'Goodwin, Master. William Frederick',\n",
       " 'Sirayanian, Mr. Orsen',\n",
       " 'Icard, Miss. Amelie',\n",
       " 'Harris, Mr. Henry Birkhardt',\n",
       " 'Skoog, Master. Harald',\n",
       " 'Stewart, Mr. Albert A',\n",
       " 'Moubarek, Master. Gerios',\n",
       " 'Nye, Mrs. (Elizabeth Ramell)',\n",
       " 'Crease, Mr. Ernest James',\n",
       " 'Andersson, Miss. Erna Alexandra',\n",
       " 'Kink, Mr. Vincenz',\n",
       " 'Jenkin, Mr. Stephen Curnow',\n",
       " 'Goodwin, Miss. Lillian Amy',\n",
       " 'Hood, Mr. Ambrose Jr',\n",
       " 'Chronopoulos, Mr. Apostolos',\n",
       " 'Bing, Mr. Lee',\n",
       " 'Moen, Mr. Sigurd Hansen',\n",
       " 'Staneff, Mr. Ivan',\n",
       " 'Moutal, Mr. Rahamin Haim',\n",
       " 'Caldwell, Master. Alden Gates',\n",
       " 'Dowdell, Miss. Elizabeth',\n",
       " 'Waelens, Mr. Achille',\n",
       " 'Sheerlinck, Mr. Jan Baptist',\n",
       " 'McDermott, Miss. Brigdet Delia',\n",
       " 'Carrau, Mr. Francisco M',\n",
       " 'Ilett, Miss. Bertha',\n",
       " 'Backstrom, Mrs. Karl Alfred (Maria Mathilda Gustafsson)',\n",
       " 'Ford, Mr. William Neal',\n",
       " 'Slocovski, Mr. Selman Francis',\n",
       " 'Fortune, Miss. Mabel Helen',\n",
       " 'Celotti, Mr. Francesco',\n",
       " 'Christmann, Mr. Emil',\n",
       " 'Andreasson, Mr. Paul Edvin',\n",
       " 'Chaffee, Mr. Herbert Fuller',\n",
       " 'Dean, Mr. Bertram Frank',\n",
       " 'Coxon, Mr. Daniel',\n",
       " 'Shorney, Mr. Charles Joseph',\n",
       " 'Goldschmidt, Mr. George B',\n",
       " 'Greenfield, Mr. William Bertram',\n",
       " 'Doling, Mrs. John T (Ada Julia Bone)',\n",
       " 'Kantor, Mr. Sinai',\n",
       " 'Petranec, Miss. Matilda',\n",
       " 'Petroff, Mr. Pastcho (\"Pentcho\")',\n",
       " 'White, Mr. Richard Frasar',\n",
       " 'Johansson, Mr. Gustaf Joel',\n",
       " 'Gustafsson, Mr. Anders Vilhelm',\n",
       " 'Mionoff, Mr. Stoytcho',\n",
       " 'Salkjelsvik, Miss. Anna Kristine',\n",
       " 'Moss, Mr. Albert Johan',\n",
       " 'Rekic, Mr. Tido',\n",
       " 'Moran, Miss. Bertha',\n",
       " 'Porter, Mr. Walter Chamberlain',\n",
       " 'Zabour, Miss. Hileni',\n",
       " 'Barton, Mr. David John',\n",
       " 'Jussila, Miss. Katriina',\n",
       " 'Attalah, Miss. Malake',\n",
       " 'Pekoniemi, Mr. Edvard',\n",
       " 'Connors, Mr. Patrick',\n",
       " 'Turpin, Mr. William John Robert',\n",
       " 'Baxter, Mr. Quigg Edmond',\n",
       " 'Andersson, Miss. Ellis Anna Maria',\n",
       " 'Hickman, Mr. Stanley George',\n",
       " 'Moore, Mr. Leonard Charles',\n",
       " 'Nasser, Mr. Nicholas',\n",
       " 'Webber, Miss. Susan',\n",
       " 'White, Mr. Percival Wayland',\n",
       " 'Nicola-Yarred, Master. Elias',\n",
       " 'McMahon, Mr. Martin',\n",
       " 'Madsen, Mr. Fridtjof Arne',\n",
       " 'Peter, Miss. Anna',\n",
       " 'Ekstrom, Mr. Johan',\n",
       " 'Drazenoic, Mr. Jozef',\n",
       " 'Coelho, Mr. Domingos Fernandeo',\n",
       " 'Robins, Mrs. Alexander A (Grace Charity Laury)',\n",
       " 'Weisz, Mrs. Leopold (Mathilde Francoise Pede)',\n",
       " 'Sobey, Mr. Samuel James Hayden',\n",
       " 'Richard, Mr. Emile',\n",
       " 'Newsom, Miss. Helen Monypeny',\n",
       " 'Futrelle, Mr. Jacques Heath',\n",
       " 'Osen, Mr. Olaf Elon',\n",
       " 'Giglio, Mr. Victor',\n",
       " 'Boulos, Mrs. Joseph (Sultana)',\n",
       " 'Nysten, Miss. Anna Sofia',\n",
       " 'Hakkarainen, Mrs. Pekka Pietari (Elin Matilda Dolck)',\n",
       " 'Burke, Mr. Jeremiah',\n",
       " 'Andrew, Mr. Edgardo Samuel',\n",
       " 'Nicholls, Mr. Joseph Charles',\n",
       " 'Andersson, Mr. August Edvard (\"Wennerstrom\")',\n",
       " 'Ford, Miss. Robina Maggie \"Ruby\"',\n",
       " 'Navratil, Mr. Michel (\"Louis M Hoffman\")',\n",
       " 'Byles, Rev. Thomas Roussel Davids',\n",
       " 'Bateman, Rev. Robert James',\n",
       " 'Pears, Mrs. Thomas (Edith Wearne)',\n",
       " 'Meo, Mr. Alfonzo',\n",
       " 'van Billiard, Mr. Austin Blyler',\n",
       " 'Olsen, Mr. Ole Martin',\n",
       " 'Williams, Mr. Charles Duane',\n",
       " 'Gilnagh, Miss. Katherine \"Katie\"',\n",
       " 'Corn, Mr. Harry',\n",
       " 'Smiljanic, Mr. Mile',\n",
       " 'Sage, Master. Thomas Henry',\n",
       " 'Cribb, Mr. John Hatfield',\n",
       " 'Watt, Mrs. James (Elizabeth \"Bessie\" Inglis Milne)',\n",
       " 'Bengtsson, Mr. John Viktor',\n",
       " 'Calic, Mr. Jovo',\n",
       " 'Panula, Master. Eino Viljami',\n",
       " 'Goldsmith, Master. Frank John William \"Frankie\"',\n",
       " 'Chibnall, Mrs. (Edith Martha Bowerman)',\n",
       " 'Skoog, Mrs. William (Anna Bernhardina Karlsson)',\n",
       " 'Baumann, Mr. John D',\n",
       " 'Ling, Mr. Lee',\n",
       " 'Van der hoef, Mr. Wyckoff',\n",
       " 'Rice, Master. Arthur',\n",
       " 'Johnson, Miss. Eleanor Ileen',\n",
       " 'Sivola, Mr. Antti Wilhelm',\n",
       " 'Smith, Mr. James Clinch',\n",
       " 'Klasen, Mr. Klas Albin',\n",
       " 'Lefebre, Master. Henry Forbes',\n",
       " 'Isham, Miss. Ann Elizabeth',\n",
       " 'Hale, Mr. Reginald',\n",
       " 'Leonard, Mr. Lionel',\n",
       " 'Sage, Miss. Constance Gladys',\n",
       " 'Pernot, Mr. Rene',\n",
       " 'Asplund, Master. Clarence Gustaf Hugo',\n",
       " 'Becker, Master. Richard F',\n",
       " 'Kink-Heilmann, Miss. Luise Gretchen',\n",
       " 'Rood, Mr. Hugh Roscoe',\n",
       " 'O\\'Brien, Mrs. Thomas (Johanna \"Hannah\" Godfrey)',\n",
       " 'Romaine, Mr. Charles Hallace (\"Mr C Rolmane\")',\n",
       " 'Bourke, Mr. John',\n",
       " 'Turcin, Mr. Stjepan',\n",
       " 'Pinsky, Mrs. (Rosa)',\n",
       " 'Carbines, Mr. William',\n",
       " 'Andersen-Jensen, Miss. Carla Christine Nielsine',\n",
       " 'Navratil, Master. Michel M',\n",
       " 'Brown, Mrs. James Joseph (Margaret Tobin)',\n",
       " 'Lurette, Miss. Elise',\n",
       " 'Mernagh, Mr. Robert',\n",
       " 'Olsen, Mr. Karl Siegwart Andreas',\n",
       " 'Madigan, Miss. Margaret \"Maggie\"',\n",
       " 'Yrois, Miss. Henriette (\"Mrs Harbeck\")',\n",
       " 'Vande Walle, Mr. Nestor Cyriel',\n",
       " 'Sage, Mr. Frederick',\n",
       " 'Johanson, Mr. Jakob Alfred',\n",
       " 'Youseff, Mr. Gerious',\n",
       " 'Cohen, Mr. Gurshon \"Gus\"',\n",
       " 'Strom, Miss. Telma Matilda',\n",
       " 'Backstrom, Mr. Karl Alfred',\n",
       " 'Albimona, Mr. Nassef Cassem',\n",
       " 'Carr, Miss. Helen \"Ellen\"',\n",
       " 'Blank, Mr. Henry',\n",
       " 'Ali, Mr. Ahmed',\n",
       " 'Cameron, Miss. Clear Annie',\n",
       " 'Perkin, Mr. John Henry',\n",
       " 'Givard, Mr. Hans Kristensen',\n",
       " 'Kiernan, Mr. Philip',\n",
       " 'Newell, Miss. Madeleine',\n",
       " 'Honkanen, Miss. Eliina',\n",
       " 'Jacobsohn, Mr. Sidney Samuel',\n",
       " 'Bazzani, Miss. Albina',\n",
       " 'Harris, Mr. Walter',\n",
       " 'Sunderland, Mr. Victor Francis',\n",
       " 'Bracken, Mr. James H',\n",
       " 'Green, Mr. George Henry',\n",
       " 'Nenkoff, Mr. Christo',\n",
       " 'Hoyt, Mr. Frederick Maxfield',\n",
       " 'Berglund, Mr. Karl Ivar Sven',\n",
       " 'Mellors, Mr. William John',\n",
       " 'Lovell, Mr. John Hall (\"Henry\")',\n",
       " 'Fahlstrom, Mr. Arne Jonas',\n",
       " 'Lefebre, Miss. Mathilde',\n",
       " 'Harris, Mrs. Henry Birkhardt (Irene Wallach)',\n",
       " 'Larsson, Mr. Bengt Edvin',\n",
       " 'Sjostedt, Mr. Ernst Adolf',\n",
       " 'Asplund, Miss. Lillian Gertrud',\n",
       " 'Leyson, Mr. Robert William Norman',\n",
       " 'Harknett, Miss. Alice Phoebe',\n",
       " 'Hold, Mr. Stephen',\n",
       " 'Collyer, Miss. Marjorie \"Lottie\"',\n",
       " 'Pengelly, Mr. Frederick William',\n",
       " 'Hunt, Mr. George Henry',\n",
       " 'Zabour, Miss. Thamine',\n",
       " 'Murphy, Miss. Katherine \"Kate\"',\n",
       " 'Coleridge, Mr. Reginald Charles',\n",
       " 'Maenpaa, Mr. Matti Alexanteri',\n",
       " 'Attalah, Mr. Sleiman',\n",
       " 'Minahan, Dr. William Edward',\n",
       " 'Lindahl, Miss. Agda Thorilda Viktoria',\n",
       " 'Hamalainen, Mrs. William (Anna)',\n",
       " 'Beckwith, Mr. Richard Leonard',\n",
       " 'Carter, Rev. Ernest Courtenay',\n",
       " 'Reed, Mr. James George',\n",
       " 'Strom, Mrs. Wilhelm (Elna Matilda Persson)',\n",
       " 'Stead, Mr. William Thomas',\n",
       " 'Lobb, Mr. William Arthur',\n",
       " 'Rosblom, Mrs. Viktor (Helena Wilhelmina)',\n",
       " 'Touma, Mrs. Darwis (Hanne Youssef Razi)',\n",
       " 'Thorne, Mrs. Gertrude Maybelle',\n",
       " 'Cherry, Miss. Gladys',\n",
       " 'Ward, Miss. Anna',\n",
       " 'Parrish, Mrs. (Lutie Davis)',\n",
       " 'Smith, Mr. Thomas',\n",
       " 'Asplund, Master. Edvin Rojj Felix',\n",
       " 'Taussig, Mr. Emil',\n",
       " 'Harrison, Mr. William',\n",
       " 'Henry, Miss. Delia',\n",
       " 'Reeves, Mr. David',\n",
       " 'Panula, Mr. Ernesti Arvid',\n",
       " 'Persson, Mr. Ernst Ulrik',\n",
       " 'Graham, Mrs. William Thompson (Edith Junkins)',\n",
       " 'Bissette, Miss. Amelia',\n",
       " 'Cairns, Mr. Alexander',\n",
       " 'Tornquist, Mr. William Henry',\n",
       " 'Mellinger, Mrs. (Elizabeth Anne Maidment)',\n",
       " 'Natsch, Mr. Charles H',\n",
       " 'Healy, Miss. Hanora \"Nora\"',\n",
       " 'Andrews, Miss. Kornelia Theodosia',\n",
       " 'Lindblom, Miss. Augusta Charlotta',\n",
       " 'Parkes, Mr. Francis \"Frank\"',\n",
       " 'Rice, Master. Eric',\n",
       " 'Abbott, Mrs. Stanton (Rosa Hunt)',\n",
       " 'Duane, Mr. Frank',\n",
       " 'Olsson, Mr. Nils Johan Goransson',\n",
       " 'de Pelsmaeker, Mr. Alfons',\n",
       " 'Dorking, Mr. Edward Arthur',\n",
       " 'Smith, Mr. Richard William',\n",
       " 'Stankovic, Mr. Ivan',\n",
       " 'de Mulder, Mr. Theodore',\n",
       " 'Naidenoff, Mr. Penko',\n",
       " 'Hosono, Mr. Masabumi',\n",
       " 'Connolly, Miss. Kate',\n",
       " 'Barber, Miss. Ellen \"Nellie\"',\n",
       " 'Bishop, Mrs. Dickinson H (Helen Walton)',\n",
       " 'Levy, Mr. Rene Jacques',\n",
       " 'Haas, Miss. Aloisia',\n",
       " 'Mineff, Mr. Ivan',\n",
       " 'Lewy, Mr. Ervin G',\n",
       " 'Hanna, Mr. Mansour',\n",
       " 'Allison, Miss. Helen Loraine',\n",
       " 'Saalfeld, Mr. Adolphe',\n",
       " 'Baxter, Mrs. James (Helene DeLaudeniere Chaput)',\n",
       " 'Kelly, Miss. Anna Katherine \"Annie Kate\"',\n",
       " 'McCoy, Mr. Bernard',\n",
       " 'Johnson, Mr. William Cahoone Jr',\n",
       " 'Keane, Miss. Nora A',\n",
       " 'Williams, Mr. Howard Hugh \"Harry\"',\n",
       " 'Allison, Master. Hudson Trevor',\n",
       " 'Fleming, Miss. Margaret',\n",
       " 'Penasco y Castellana, Mrs. Victor de Satode (Maria Josefa Perez de Soto y Vallejo)',\n",
       " 'Abelson, Mr. Samuel',\n",
       " 'Francatelli, Miss. Laura Mabel',\n",
       " 'Hays, Miss. Margaret Bechstein',\n",
       " 'Ryerson, Miss. Emily Borie',\n",
       " 'Lahtinen, Mrs. William (Anna Sylfven)',\n",
       " 'Hendekovic, Mr. Ignjac',\n",
       " 'Hart, Mr. Benjamin',\n",
       " 'Nilsson, Miss. Helmina Josefina',\n",
       " 'Kantor, Mrs. Sinai (Miriam Sternin)',\n",
       " 'Moraweck, Dr. Ernest',\n",
       " 'Wick, Miss. Mary Natalie',\n",
       " 'Spedden, Mrs. Frederic Oakley (Margaretta Corning Stone)',\n",
       " 'Dennis, Mr. Samuel',\n",
       " 'Danoff, Mr. Yoto',\n",
       " 'Slayter, Miss. Hilda Mary',\n",
       " 'Caldwell, Mrs. Albert Francis (Sylvia Mae Harbaugh)',\n",
       " 'Sage, Mr. George John Jr',\n",
       " 'Young, Miss. Marie Grice',\n",
       " 'Nysveen, Mr. Johan Hansen',\n",
       " 'Ball, Mrs. (Ada E Hall)',\n",
       " 'Goldsmith, Mrs. Frank John (Emily Alice Brown)',\n",
       " 'Hippach, Miss. Jean Gertrude',\n",
       " 'McCoy, Miss. Agnes',\n",
       " 'Partner, Mr. Austen',\n",
       " 'Graham, Mr. George Edward',\n",
       " 'Vander Planke, Mr. Leo Edmondus',\n",
       " 'Frauenthal, Mrs. Henry William (Clara Heinsheimer)',\n",
       " 'Denkoff, Mr. Mitto',\n",
       " 'Pears, Mr. Thomas Clinton',\n",
       " 'Burns, Miss. Elizabeth Margaret',\n",
       " 'Dahl, Mr. Karl Edwart',\n",
       " 'Blackwell, Mr. Stephen Weart',\n",
       " 'Navratil, Master. Edmond Roger',\n",
       " 'Fortune, Miss. Alice Elizabeth',\n",
       " 'Collander, Mr. Erik Gustaf',\n",
       " 'Sedgwick, Mr. Charles Frederick Waddington',\n",
       " 'Fox, Mr. Stanley Hubert',\n",
       " 'Brown, Miss. Amelia \"Mildred\"',\n",
       " 'Smith, Miss. Marion Elsie',\n",
       " 'Davison, Mrs. Thomas Henry (Mary E Finck)',\n",
       " 'Coutts, Master. William Loch \"William\"',\n",
       " 'Dimic, Mr. Jovan',\n",
       " 'Odahl, Mr. Nils Martin',\n",
       " 'Williams-Lambert, Mr. Fletcher Fellows',\n",
       " 'Elias, Mr. Tannous',\n",
       " 'Arnold-Franchi, Mr. Josef',\n",
       " 'Yousif, Mr. Wazli',\n",
       " 'Vanden Steen, Mr. Leo Peter',\n",
       " 'Bowerman, Miss. Elsie Edith',\n",
       " 'Funk, Miss. Annie Clemmer',\n",
       " 'McGovern, Miss. Mary',\n",
       " 'Mockler, Miss. Helen Mary \"Ellie\"',\n",
       " 'Skoog, Mr. Wilhelm',\n",
       " 'del Carlo, Mr. Sebastiano',\n",
       " 'Barbara, Mrs. (Catherine David)',\n",
       " 'Asim, Mr. Adola',\n",
       " \"O'Brien, Mr. Thomas\",\n",
       " 'Adahl, Mr. Mauritz Nils Martin',\n",
       " 'Warren, Mrs. Frank Manley (Anna Sophia Atkinson)',\n",
       " 'Moussa, Mrs. (Mantoura Boulos)',\n",
       " 'Jermyn, Miss. Annie',\n",
       " 'Aubart, Mme. Leontine Pauline',\n",
       " 'Harder, Mr. George Achilles',\n",
       " 'Wiklund, Mr. Jakob Alfred',\n",
       " 'Beavan, Mr. William Thomas',\n",
       " 'Ringhini, Mr. Sante',\n",
       " 'Palsson, Miss. Stina Viola',\n",
       " 'Meyer, Mrs. Edgar Joseph (Leila Saks)',\n",
       " 'Landergren, Miss. Aurora Adelia',\n",
       " 'Widener, Mr. Harry Elkins',\n",
       " 'Betros, Mr. Tannous',\n",
       " 'Gustafsson, Mr. Karl Gideon',\n",
       " 'Bidois, Miss. Rosalie',\n",
       " 'Nakid, Miss. Maria (\"Mary\")',\n",
       " 'Tikkanen, Mr. Juho',\n",
       " 'Holverson, Mrs. Alexander Oskar (Mary Aline Towner)',\n",
       " 'Plotcharsky, Mr. Vasil',\n",
       " 'Davies, Mr. Charles Henry',\n",
       " 'Goodwin, Master. Sidney Leonard',\n",
       " 'Buss, Miss. Kate',\n",
       " 'Sadlier, Mr. Matthew',\n",
       " 'Lehmann, Miss. Bertha',\n",
       " 'Carter, Mr. William Ernest',\n",
       " 'Jansson, Mr. Carl Olof',\n",
       " 'Gustafsson, Mr. Johan Birger',\n",
       " 'Newell, Miss. Marjorie',\n",
       " 'Sandstrom, Mrs. Hjalmar (Agnes Charlotta Bengtsson)',\n",
       " 'Johansson, Mr. Erik',\n",
       " 'Olsson, Miss. Elina',\n",
       " 'McKane, Mr. Peter David',\n",
       " 'Pain, Dr. Alfred',\n",
       " 'Trout, Mrs. William H (Jessie L)',\n",
       " 'Niskanen, Mr. Juha',\n",
       " 'Adams, Mr. John',\n",
       " 'Jussila, Miss. Mari Aina',\n",
       " 'Hakkarainen, Mr. Pekka Pietari',\n",
       " 'Oreskovic, Miss. Marija',\n",
       " 'Gale, Mr. Shadrach',\n",
       " 'Widegren, Mr. Carl/Charles Peter',\n",
       " 'Richards, Master. William Rowe',\n",
       " 'Birkeland, Mr. Hans Martin Monsen',\n",
       " 'Lefebre, Miss. Ida',\n",
       " 'Sdycoff, Mr. Todor',\n",
       " 'Hart, Mr. Henry',\n",
       " 'Minahan, Miss. Daisy E',\n",
       " 'Cunningham, Mr. Alfred Fleming',\n",
       " 'Sundman, Mr. Johan Julian',\n",
       " 'Meek, Mrs. Thomas (Annie Louise Rowley)',\n",
       " 'Drew, Mrs. James Vivian (Lulu Thorne Christian)',\n",
       " 'Silven, Miss. Lyyli Karoliina',\n",
       " 'Matthews, Mr. William John',\n",
       " 'Van Impe, Miss. Catharina',\n",
       " 'Gheorgheff, Mr. Stanio',\n",
       " 'Charters, Mr. David',\n",
       " 'Zimmerman, Mr. Leo',\n",
       " 'Danbom, Mrs. Ernst Gilbert (Anna Sigrid Maria Brogren)',\n",
       " 'Rosblom, Mr. Viktor Richard',\n",
       " 'Wiseman, Mr. Phillippe',\n",
       " 'Clarke, Mrs. Charles V (Ada Maria Winfield)',\n",
       " 'Phillips, Miss. Kate Florence (\"Mrs Kate Louise Phillips Marshall\")',\n",
       " 'Flynn, Mr. James',\n",
       " 'Pickard, Mr. Berk (Berk Trembisky)',\n",
       " 'Bjornstrom-Steffansson, Mr. Mauritz Hakan',\n",
       " 'Thorneycroft, Mrs. Percival (Florence Kate White)',\n",
       " 'Louch, Mrs. Charles Alexander (Alice Adelaide Slow)',\n",
       " 'Kallio, Mr. Nikolai Erland',\n",
       " 'Silvey, Mr. William Baird',\n",
       " 'Carter, Miss. Lucile Polk',\n",
       " 'Ford, Miss. Doolina Margaret \"Daisy\"',\n",
       " 'Richards, Mrs. Sidney (Emily Hocking)',\n",
       " 'Fortune, Mr. Mark',\n",
       " 'Kvillner, Mr. Johan Henrik Johannesson',\n",
       " 'Hart, Mrs. Benjamin (Esther Ada Bloomfield)',\n",
       " 'Hampe, Mr. Leon',\n",
       " 'Petterson, Mr. Johan Emil',\n",
       " 'Reynaldo, Ms. Encarnacion',\n",
       " 'Johannesen-Bratthammer, Mr. Bernt',\n",
       " 'Dodge, Master. Washington',\n",
       " 'Mellinger, Miss. Madeleine Violet',\n",
       " 'Seward, Mr. Frederic Kimber',\n",
       " 'Baclini, Miss. Marie Catherine',\n",
       " 'Peuchen, Major. Arthur Godfrey',\n",
       " 'West, Mr. Edwy Arthur',\n",
       " 'Hagland, Mr. Ingvald Olai Olsen',\n",
       " 'Foreman, Mr. Benjamin Laventall',\n",
       " 'Goldenberg, Mr. Samuel L',\n",
       " 'Peduzzi, Mr. Joseph',\n",
       " 'Jalsevac, Mr. Ivan',\n",
       " 'Millet, Mr. Francis Davis',\n",
       " 'Kenyon, Mrs. Frederick R (Marion)',\n",
       " 'Toomey, Miss. Ellen',\n",
       " \"O'Connor, Mr. Maurice\",\n",
       " 'Anderson, Mr. Harry',\n",
       " 'Morley, Mr. William',\n",
       " 'Gee, Mr. Arthur H',\n",
       " 'Milling, Mr. Jacob Christian',\n",
       " 'Maisner, Mr. Simon',\n",
       " 'Goncalves, Mr. Manuel Estanslas',\n",
       " 'Campbell, Mr. William',\n",
       " 'Smart, Mr. John Montgomery',\n",
       " 'Scanlan, Mr. James',\n",
       " 'Baclini, Miss. Helene Barbara',\n",
       " 'Keefe, Mr. Arthur',\n",
       " 'Cacic, Mr. Luka',\n",
       " 'West, Mrs. Edwy Arthur (Ada Mary Worth)',\n",
       " 'Jerwan, Mrs. Amin S (Marie Marthe Thuillard)',\n",
       " 'Strandberg, Miss. Ida Sofia',\n",
       " 'Clifford, Mr. George Quincy',\n",
       " 'Renouf, Mr. Peter Henry',\n",
       " 'Braund, Mr. Lewis Richard',\n",
       " 'Karlsson, Mr. Nils August',\n",
       " 'Hirvonen, Miss. Hildur E',\n",
       " 'Goodwin, Master. Harold Victor',\n",
       " 'Frost, Mr. Anthony Wood \"Archie\"',\n",
       " 'Rouse, Mr. Richard Henry',\n",
       " 'Turkula, Mrs. (Hedwig)',\n",
       " 'Bishop, Mr. Dickinson H',\n",
       " 'Lefebre, Miss. Jeannie',\n",
       " 'Hoyt, Mrs. Frederick Maxfield (Jane Anne Forby)',\n",
       " 'Kent, Mr. Edward Austin',\n",
       " 'Somerton, Mr. Francis William',\n",
       " 'Coutts, Master. Eden Leslie \"Neville\"',\n",
       " 'Hagland, Mr. Konrad Mathias Reiersen',\n",
       " 'Windelov, Mr. Einar',\n",
       " 'Molson, Mr. Harry Markland',\n",
       " 'Artagaveytia, Mr. Ramon',\n",
       " 'Stanley, Mr. Edward Roland',\n",
       " 'Yousseff, Mr. Gerious',\n",
       " 'Eustis, Miss. Elizabeth Mussey',\n",
       " 'Shellard, Mr. Frederick William',\n",
       " 'Allison, Mrs. Hudson J C (Bessie Waldo Daniels)',\n",
       " 'Svensson, Mr. Olof',\n",
       " 'Calic, Mr. Petar',\n",
       " 'Canavan, Miss. Mary',\n",
       " \"O'Sullivan, Miss. Bridget Mary\",\n",
       " 'Laitinen, Miss. Kristina Sofia',\n",
       " 'Maioni, Miss. Roberta',\n",
       " 'Penasco y Castellana, Mr. Victor de Satode',\n",
       " 'Quick, Mrs. Frederick Charles (Jane Richards)',\n",
       " 'Bradley, Mr. George (\"George Arthur Brayton\")',\n",
       " 'Olsen, Mr. Henry Margido',\n",
       " 'Lang, Mr. Fang',\n",
       " 'Daly, Mr. Eugene Patrick',\n",
       " 'Webber, Mr. James',\n",
       " 'McGough, Mr. James Robert',\n",
       " 'Rothschild, Mrs. Martin (Elizabeth L. Barrett)',\n",
       " 'Coleff, Mr. Satio',\n",
       " 'Walker, Mr. William Anderson',\n",
       " 'Lemore, Mrs. (Amelia Milley)',\n",
       " 'Ryan, Mr. Patrick',\n",
       " 'Angle, Mrs. William A (Florence \"Mary\" Agnes Hughes)',\n",
       " 'Pavlovic, Mr. Stefo',\n",
       " 'Perreault, Miss. Anne',\n",
       " 'Vovk, Mr. Janko',\n",
       " 'Lahoud, Mr. Sarkis',\n",
       " 'Hippach, Mrs. Louis Albert (Ida Sophia Fischer)',\n",
       " 'Kassem, Mr. Fared',\n",
       " 'Farrell, Mr. James',\n",
       " 'Ridsdale, Miss. Lucy',\n",
       " 'Farthing, Mr. John',\n",
       " 'Salonen, Mr. Johan Werner',\n",
       " 'Hocking, Mr. Richard George',\n",
       " 'Quick, Miss. Phyllis May',\n",
       " 'Toufik, Mr. Nakli',\n",
       " 'Elias, Mr. Joseph Jr',\n",
       " 'Peter, Mrs. Catherine (Catherine Rizk)',\n",
       " 'Cacic, Miss. Marija',\n",
       " 'Hart, Miss. Eva Miriam',\n",
       " 'Butt, Major. Archibald Willingham',\n",
       " 'LeRoy, Miss. Bertha',\n",
       " 'Risien, Mr. Samuel Beard',\n",
       " 'Frolicher, Miss. Hedwig Margaritha',\n",
       " 'Crosby, Miss. Harriet R',\n",
       " 'Andersson, Miss. Ingeborg Constanzia',\n",
       " 'Andersson, Miss. Sigrid Elisabeth',\n",
       " 'Beane, Mr. Edward',\n",
       " 'Douglas, Mr. Walter Donald',\n",
       " 'Nicholson, Mr. Arthur Ernest',\n",
       " 'Beane, Mrs. Edward (Ethel Clarke)',\n",
       " 'Padro y Manent, Mr. Julian',\n",
       " 'Goldsmith, Mr. Frank John',\n",
       " 'Davies, Master. John Morgan Jr',\n",
       " 'Thayer, Mr. John Borland Jr',\n",
       " 'Sharp, Mr. Percival James R',\n",
       " \"O'Brien, Mr. Timothy\",\n",
       " 'Leeni, Mr. Fahim (\"Philip Zenni\")',\n",
       " 'Ohman, Miss. Velin',\n",
       " 'Wright, Mr. George',\n",
       " 'Duff Gordon, Lady. (Lucille Christiana Sutherland) (\"Mrs Morgan\")',\n",
       " 'Robbins, Mr. Victor',\n",
       " 'Taussig, Mrs. Emil (Tillie Mandelbaum)',\n",
       " 'de Messemaeker, Mrs. Guillaume Joseph (Emma)',\n",
       " 'Morrow, Mr. Thomas Rowan',\n",
       " 'Sivic, Mr. Husein',\n",
       " 'Norman, Mr. Robert Douglas',\n",
       " 'Simmons, Mr. John',\n",
       " 'Meanwell, Miss. (Marion Ogden)',\n",
       " 'Davies, Mr. Alfred J',\n",
       " 'Stoytcheff, Mr. Ilia',\n",
       " 'Palsson, Mrs. Nils (Alma Cornelia Berglund)',\n",
       " 'Doharr, Mr. Tannous',\n",
       " 'Jonsson, Mr. Carl',\n",
       " 'Harris, Mr. George',\n",
       " 'Appleton, Mrs. Edward Dale (Charlotte Lamson)',\n",
       " 'Flynn, Mr. John Irwin (\"Irving\")',\n",
       " 'Kelly, Miss. Mary',\n",
       " 'Rush, Mr. Alfred George John',\n",
       " 'Patchett, Mr. George',\n",
       " 'Garside, Miss. Ethel',\n",
       " 'Silvey, Mrs. William Baird (Alice Munger)',\n",
       " 'Caram, Mrs. Joseph (Maria Elias)',\n",
       " 'Jussila, Mr. Eiriik',\n",
       " 'Christy, Miss. Julie Rachel',\n",
       " 'Thayer, Mrs. John Borland (Marian Longstreth Morris)',\n",
       " 'Downton, Mr. William James',\n",
       " 'Ross, Mr. John Hugo',\n",
       " 'Paulner, Mr. Uscher',\n",
       " 'Taussig, Miss. Ruth',\n",
       " 'Jarvis, Mr. John Denzil',\n",
       " 'Frolicher-Stehli, Mr. Maxmillian',\n",
       " 'Gilinski, Mr. Eliezer',\n",
       " 'Murdlin, Mr. Joseph',\n",
       " 'Rintamaki, Mr. Matti',\n",
       " 'Stephenson, Mrs. Walter Bertram (Martha Eustis)',\n",
       " 'Elsbury, Mr. William James',\n",
       " 'Bourke, Miss. Mary',\n",
       " 'Chapman, Mr. John Henry',\n",
       " 'Van Impe, Mr. Jean Baptiste',\n",
       " 'Leitch, Miss. Jessie Wills',\n",
       " 'Johnson, Mr. Alfred',\n",
       " 'Boulos, Mr. Hanna',\n",
       " 'Duff Gordon, Sir. Cosmo Edmund (\"Mr Morgan\")',\n",
       " 'Jacobsohn, Mrs. Sidney Samuel (Amy Frances Christy)',\n",
       " 'Slabenoff, Mr. Petco',\n",
       " 'Harrington, Mr. Charles H',\n",
       " 'Torber, Mr. Ernst William',\n",
       " 'Homer, Mr. Harry (\"Mr E Haven\")',\n",
       " 'Lindell, Mr. Edvard Bengtsson',\n",
       " 'Karaic, Mr. Milan',\n",
       " 'Daniel, Mr. Robert Williams',\n",
       " 'Laroche, Mrs. Joseph (Juliette Marie Louise Lafargue)',\n",
       " 'Shutes, Miss. Elizabeth W',\n",
       " 'Andersson, Mrs. Anders Johan (Alfrida Konstantia Brogren)',\n",
       " 'Jardin, Mr. Jose Neto',\n",
       " 'Murphy, Miss. Margaret Jane',\n",
       " 'Horgan, Mr. John',\n",
       " 'Brocklebank, Mr. William Alfred',\n",
       " 'Herman, Miss. Alice',\n",
       " 'Danbom, Mr. Ernst Gilbert',\n",
       " 'Lobb, Mrs. William Arthur (Cordelia K Stanlick)',\n",
       " 'Becker, Miss. Marion Louise',\n",
       " 'Gavey, Mr. Lawrence',\n",
       " 'Yasbeck, Mr. Antoni',\n",
       " 'Kimball, Mr. Edwin Nelson Jr',\n",
       " 'Nakid, Mr. Sahid',\n",
       " 'Hansen, Mr. Henry Damsgaard',\n",
       " 'Bowen, Mr. David John \"Dai\"',\n",
       " 'Sutton, Mr. Frederick',\n",
       " 'Kirkland, Rev. Charles Leonard',\n",
       " 'Longley, Miss. Gretchen Fiske',\n",
       " 'Bostandyeff, Mr. Guentcho',\n",
       " \"O'Connell, Mr. Patrick D\",\n",
       " 'Barkworth, Mr. Algernon Henry Wilson',\n",
       " 'Lundahl, Mr. Johan Svensson',\n",
       " 'Stahelin-Maeglin, Dr. Max',\n",
       " 'Parr, Mr. William Henry Marsh',\n",
       " 'Skoog, Miss. Mabel',\n",
       " 'Davis, Miss. Mary',\n",
       " 'Leinonen, Mr. Antti Gustaf',\n",
       " 'Collyer, Mr. Harvey',\n",
       " 'Panula, Mrs. Juha (Maria Emilia Ojala)',\n",
       " 'Thorneycroft, Mr. Percival',\n",
       " 'Jensen, Mr. Hans Peder',\n",
       " 'Sagesser, Mlle. Emma',\n",
       " 'Skoog, Miss. Margit Elizabeth',\n",
       " 'Foo, Mr. Choong',\n",
       " 'Baclini, Miss. Eugenie',\n",
       " 'Harper, Mr. Henry Sleeper',\n",
       " 'Cor, Mr. Liudevit',\n",
       " 'Simonius-Blumer, Col. Oberst Alfons',\n",
       " 'Willey, Mr. Edward',\n",
       " 'Stanley, Miss. Amy Zillah Elsie',\n",
       " 'Mitkoff, Mr. Mito',\n",
       " 'Doling, Miss. Elsie',\n",
       " 'Kalvik, Mr. Johannes Halvorsen',\n",
       " 'O\\'Leary, Miss. Hanora \"Norah\"',\n",
       " 'Hegarty, Miss. Hanora \"Nora\"',\n",
       " 'Hickman, Mr. Leonard Mark',\n",
       " 'Radeff, Mr. Alexander',\n",
       " 'Bourke, Mrs. John (Catherine)',\n",
       " 'Eitemiller, Mr. George Floyd',\n",
       " 'Newell, Mr. Arthur Webster',\n",
       " 'Frauenthal, Dr. Henry William',\n",
       " 'Badt, Mr. Mohamed',\n",
       " 'Colley, Mr. Edward Pomeroy',\n",
       " 'Coleff, Mr. Peju',\n",
       " 'Lindqvist, Mr. Eino William',\n",
       " 'Hickman, Mr. Lewis',\n",
       " 'Butler, Mr. Reginald Fenton',\n",
       " 'Rommetvedt, Mr. Knud Paust',\n",
       " 'Cook, Mr. Jacob',\n",
       " 'Taylor, Mrs. Elmer Zebley (Juliet Cummins Wright)',\n",
       " 'Brown, Mrs. Thomas William Solomon (Elizabeth Catherine Ford)',\n",
       " 'Davidson, Mr. Thornton',\n",
       " 'Mitchell, Mr. Henry Michael',\n",
       " 'Wilhelms, Mr. Charles',\n",
       " 'Watson, Mr. Ennis Hastings',\n",
       " 'Edvardsson, Mr. Gustaf Hjalmar',\n",
       " 'Sawyer, Mr. Frederick Charles',\n",
       " 'Turja, Miss. Anna Sofia',\n",
       " 'Goodwin, Mrs. Frederick (Augusta Tyler)',\n",
       " 'Cardeza, Mr. Thomas Drake Martinez',\n",
       " 'Peters, Miss. Katie',\n",
       " 'Hassab, Mr. Hammad',\n",
       " 'Olsvigen, Mr. Thor Anderson',\n",
       " 'Goodwin, Mr. Charles Edward',\n",
       " 'Brown, Mr. Thomas William Solomon',\n",
       " 'Laroche, Mr. Joseph Philippe Lemercier',\n",
       " 'Panula, Mr. Jaako Arnold',\n",
       " 'Dakic, Mr. Branko',\n",
       " 'Fischer, Mr. Eberhard Thelander',\n",
       " 'Madill, Miss. Georgette Alexandra',\n",
       " 'Dick, Mr. Albert Adrian',\n",
       " 'Karun, Miss. Manca',\n",
       " 'Lam, Mr. Ali',\n",
       " 'Saad, Mr. Khalil',\n",
       " 'Weir, Col. John',\n",
       " 'Chapman, Mr. Charles Henry',\n",
       " 'Kelly, Mr. James',\n",
       " 'Mullens, Miss. Katherine \"Katie\"',\n",
       " 'Thayer, Mr. John Borland',\n",
       " 'Humblen, Mr. Adolf Mathias Nicolai Olsen',\n",
       " 'Astor, Mrs. John Jacob (Madeleine Talmadge Force)',\n",
       " 'Silverthorne, Mr. Spencer Victor',\n",
       " 'Barbara, Miss. Saiide',\n",
       " 'Gallagher, Mr. Martin',\n",
       " 'Hansen, Mr. Henrik Juul',\n",
       " 'Morley, Mr. Henry Samuel (\"Mr Henry Marshall\")',\n",
       " 'Kelly, Mrs. Florence \"Fannie\"',\n",
       " 'Calderhead, Mr. Edward Pennington',\n",
       " 'Cleaver, Miss. Alice',\n",
       " 'Moubarek, Master. Halim Gonios (\"William George\")',\n",
       " 'Mayne, Mlle. Berthe Antonine (\"Mrs de Villiers\")',\n",
       " 'Klaber, Mr. Herman',\n",
       " 'Taylor, Mr. Elmer Zebley',\n",
       " 'Larsson, Mr. August Viktor',\n",
       " 'Greenberg, Mr. Samuel',\n",
       " 'Soholt, Mr. Peter Andreas Lauritz Andersen',\n",
       " 'Endres, Miss. Caroline Louise',\n",
       " 'Troutt, Miss. Edwina Celia \"Winnie\"',\n",
       " 'McEvoy, Mr. Michael',\n",
       " 'Johnson, Mr. Malkolm Joackim',\n",
       " 'Harper, Miss. Annie Jessie \"Nina\"',\n",
       " 'Jensen, Mr. Svend Lauritz',\n",
       " 'Gillespie, Mr. William Henry',\n",
       " 'Hodges, Mr. Henry Price',\n",
       " 'Chambers, Mr. Norman Campbell',\n",
       " 'Oreskovic, Mr. Luka',\n",
       " 'Renouf, Mrs. Peter Henry (Lillian Jefferys)',\n",
       " 'Mannion, Miss. Margareth',\n",
       " 'Bryhl, Mr. Kurt Arnold Gottfrid',\n",
       " 'Ilmakangas, Miss. Pieta Sofia',\n",
       " 'Allen, Miss. Elisabeth Walton',\n",
       " 'Hassan, Mr. Houssein G N',\n",
       " 'Knight, Mr. Robert J',\n",
       " 'Berriman, Mr. William John',\n",
       " 'Troupiansky, Mr. Moses Aaron',\n",
       " 'Williams, Mr. Leslie',\n",
       " 'Ford, Mrs. Edward (Margaret Ann Watson)',\n",
       " 'Lesurer, Mr. Gustave J',\n",
       " 'Ivanoff, Mr. Kanio',\n",
       " 'Nankoff, Mr. Minko',\n",
       " 'Hawksford, Mr. Walter James',\n",
       " 'Cavendish, Mr. Tyrell William',\n",
       " 'Ryerson, Miss. Susan Parker \"Suzette\"',\n",
       " 'McNamee, Mr. Neal',\n",
       " 'Stranden, Mr. Juho',\n",
       " 'Crosby, Capt. Edward Gifford',\n",
       " 'Abbott, Mr. Rossmore Edward',\n",
       " 'Sinkkonen, Miss. Anna',\n",
       " 'Marvin, Mr. Daniel Warner',\n",
       " 'Connaghton, Mr. Michael',\n",
       " 'Wells, Miss. Joan',\n",
       " 'Moor, Master. Meier',\n",
       " 'Vande Velde, Mr. Johannes Joseph',\n",
       " 'Jonkoff, Mr. Lalio',\n",
       " 'Herman, Mrs. Samuel (Jane Laver)',\n",
       " 'Hamalainen, Master. Viljo',\n",
       " 'Carlsson, Mr. August Sigfrid',\n",
       " 'Bailey, Mr. Percy Andrew',\n",
       " 'Theobald, Mr. Thomas Leonard',\n",
       " 'Rothes, the Countess. of (Lucy Noel Martha Dyer-Edwards)',\n",
       " 'Garfirth, Mr. John',\n",
       " 'Nirva, Mr. Iisakki Antino Aijo',\n",
       " 'Barah, Mr. Hanna Assi',\n",
       " 'Carter, Mrs. William Ernest (Lucile Polk)',\n",
       " 'Eklund, Mr. Hans Linus',\n",
       " 'Hogeboom, Mrs. John C (Anna Andrews)',\n",
       " 'Brewe, Dr. Arthur Jackson',\n",
       " 'Mangan, Miss. Mary',\n",
       " 'Moran, Mr. Daniel J',\n",
       " 'Gronnestad, Mr. Daniel Danielsen',\n",
       " 'Lievens, Mr. Rene Aime',\n",
       " 'Jensen, Mr. Niels Peder',\n",
       " 'Mack, Mrs. (Mary)',\n",
       " 'Elias, Mr. Dibo',\n",
       " 'Hocking, Mrs. Elizabeth (Eliza Needs)',\n",
       " 'Myhrman, Mr. Pehr Fabian Oliver Malkolm',\n",
       " 'Tobin, Mr. Roger',\n",
       " 'Emanuel, Miss. Virginia Ethel',\n",
       " 'Kilgannon, Mr. Thomas J',\n",
       " 'Robert, Mrs. Edward Scott (Elisabeth Walton McMillan)',\n",
       " 'Ayoub, Miss. Banoura',\n",
       " 'Dick, Mrs. Albert Adrian (Vera Gillespie)',\n",
       " 'Long, Mr. Milton Clyde',\n",
       " 'Johnston, Mr. Andrew G',\n",
       " 'Ali, Mr. William',\n",
       " 'Harmer, Mr. Abraham (David Lishin)',\n",
       " 'Sjoblom, Miss. Anna Sofia',\n",
       " 'Rice, Master. George Hugh',\n",
       " 'Dean, Master. Bertram Vere',\n",
       " 'Guggenheim, Mr. Benjamin',\n",
       " 'Keane, Mr. Andrew \"Andy\"',\n",
       " 'Gaskell, Mr. Alfred',\n",
       " 'Sage, Miss. Stella Anna',\n",
       " 'Hoyt, Mr. William Fisher',\n",
       " 'Dantcheff, Mr. Ristiu',\n",
       " 'Otter, Mr. Richard',\n",
       " 'Leader, Dr. Alice (Farnham)',\n",
       " 'Osman, Mrs. Mara',\n",
       " 'Ibrahim Shawah, Mr. Yousseff',\n",
       " 'Van Impe, Mrs. Jean Baptiste (Rosalie Paula Govaert)',\n",
       " 'Ponesell, Mr. Martin',\n",
       " 'Collyer, Mrs. Harvey (Charlotte Annie Tate)',\n",
       " 'Carter, Master. William Thornton II',\n",
       " 'Thomas, Master. Assad Alexander',\n",
       " 'Hedman, Mr. Oskar Arvid',\n",
       " 'Johansson, Mr. Karl Johan',\n",
       " 'Andrews, Mr. Thomas Jr',\n",
       " 'Pettersson, Miss. Ellen Natalia',\n",
       " 'Meyer, Mr. August',\n",
       " 'Chambers, Mrs. Norman Campbell (Bertha Griggs)',\n",
       " 'Alexander, Mr. William',\n",
       " 'Lester, Mr. James',\n",
       " 'Slemen, Mr. Richard James',\n",
       " 'Andersson, Miss. Ebba Iris Alfrida',\n",
       " 'Tomlin, Mr. Ernest Portage',\n",
       " 'Fry, Mr. Richard',\n",
       " 'Heininen, Miss. Wendla Maria',\n",
       " 'Mallet, Mr. Albert',\n",
       " 'Holm, Mr. John Fredrik Alexander',\n",
       " 'Skoog, Master. Karl Thorsten',\n",
       " 'Hays, Mrs. Charles Melville (Clara Jennings Gregg)',\n",
       " 'Lulic, Mr. Nikola',\n",
       " 'Reuchlin, Jonkheer. John George',\n",
       " 'Moor, Mrs. (Beila)',\n",
       " 'Panula, Master. Urho Abraham',\n",
       " 'Flynn, Mr. John',\n",
       " 'Lam, Mr. Len',\n",
       " 'Mallet, Master. Andre',\n",
       " 'McCormack, Mr. Thomas Joseph',\n",
       " 'Stone, Mrs. George Nelson (Martha Evelyn)',\n",
       " 'Yasbeck, Mrs. Antoni (Selini Alexander)',\n",
       " 'Richards, Master. George Sibley',\n",
       " 'Saad, Mr. Amin',\n",
       " 'Augustsson, Mr. Albert',\n",
       " 'Allum, Mr. Owen George',\n",
       " 'Compton, Miss. Sara Rebecca',\n",
       " 'Pasic, Mr. Jakob',\n",
       " 'Sirota, Mr. Maurice',\n",
       " 'Chip, Mr. Chang',\n",
       " 'Marechal, Mr. Pierre',\n",
       " 'Alhomaki, Mr. Ilmari Rudolf',\n",
       " 'Mudd, Mr. Thomas Charles',\n",
       " 'Serepeca, Miss. Augusta',\n",
       " 'Lemberopolous, Mr. Peter L',\n",
       " 'Culumovic, Mr. Jeso',\n",
       " 'Abbing, Mr. Anthony',\n",
       " 'Sage, Mr. Douglas Bullen',\n",
       " 'Markoff, Mr. Marin',\n",
       " 'Harper, Rev. John',\n",
       " 'Goldenberg, Mrs. Samuel L (Edwiga Grabowska)',\n",
       " 'Andersson, Master. Sigvard Harald Elias',\n",
       " 'Svensson, Mr. Johan',\n",
       " 'Boulos, Miss. Nourelain',\n",
       " 'Lines, Miss. Mary Conover',\n",
       " 'Carter, Mrs. Ernest Courtenay (Lilian Hughes)',\n",
       " 'Aks, Mrs. Sam (Leah Rosen)',\n",
       " 'Wick, Mrs. George Dennick (Mary Hitchcock)',\n",
       " 'Daly, Mr. Peter Denis ',\n",
       " 'Baclini, Mrs. Solomon (Latifa Qurban)',\n",
       " 'Razi, Mr. Raihed',\n",
       " 'Hansen, Mr. Claus Peter',\n",
       " 'Giles, Mr. Frederick Edward',\n",
       " 'Swift, Mrs. Frederick Joel (Margaret Welles Barron)',\n",
       " 'Sage, Miss. Dorothy Edith \"Dolly\"',\n",
       " 'Gill, Mr. John William',\n",
       " 'Bystrom, Mrs. (Karolina)',\n",
       " 'Duran y More, Miss. Asuncion',\n",
       " 'Roebling, Mr. Washington Augustus II',\n",
       " 'van Melkebeke, Mr. Philemon',\n",
       " 'Johnson, Master. Harold Theodor',\n",
       " 'Balkic, Mr. Cerin',\n",
       " 'Beckwith, Mrs. Richard Leonard (Sallie Monypeny)',\n",
       " 'Carlsson, Mr. Frans Olof',\n",
       " 'Vander Cruyssen, Mr. Victor',\n",
       " 'Abelson, Mrs. Samuel (Hannah Wizosky)',\n",
       " 'Najib, Miss. Adele Kiamie \"Jane\"',\n",
       " 'Gustafsson, Mr. Alfred Ossian',\n",
       " 'Petroff, Mr. Nedelio',\n",
       " 'Laleff, Mr. Kristo',\n",
       " 'Potter, Mrs. Thomas Jr (Lily Alexenia Wilson)',\n",
       " 'Shelley, Mrs. William (Imanita Parrish Hall)',\n",
       " 'Markun, Mr. Johann',\n",
       " 'Dahlberg, Miss. Gerda Ulrika',\n",
       " 'Banfield, Mr. Frederick James',\n",
       " 'Sutehall, Mr. Henry Jr',\n",
       " 'Rice, Mrs. William (Margaret Norton)',\n",
       " 'Montvila, Rev. Juozas',\n",
       " 'Graham, Miss. Margaret Edith',\n",
       " 'Johnston, Miss. Catherine Helen \"Carrie\"',\n",
       " 'Behr, Mr. Karl Howell',\n",
       " 'Dooley, Mr. Patrick']"
      ]
     },
     "execution_count": 14,
     "metadata": {},
     "output_type": "execute_result"
    }
   ],
   "execution_count": 14
  },
  {
   "metadata": {},
   "cell_type": "markdown",
   "source": "### Selecting columns : selecting multiple columns",
   "id": "6e9af8db85fcc7f3"
  },
  {
   "metadata": {
    "ExecuteTime": {
     "end_time": "2025-05-02T05:10:56.439151Z",
     "start_time": "2025-05-02T05:10:56.437196Z"
    }
   },
   "cell_type": "code",
   "source": "import polars.selectors as cs # columns selecting 할 때 도움을 주는 API 불러오기",
   "id": "74b1c810264e494b",
   "outputs": [],
   "execution_count": 15
  },
  {
   "metadata": {
    "ExecuteTime": {
     "end_time": "2025-05-02T05:11:24.088687Z",
     "start_time": "2025-05-02T05:11:24.086117Z"
    }
   },
   "cell_type": "code",
   "source": [
    "# 모든 columns 선택\n",
    "(\n",
    "    df\n",
    "    .select(\n",
    "        pl.all()\n",
    "    )\n",
    "    .head()\n",
    ")"
   ],
   "id": "474364f9175e05a5",
   "outputs": [
    {
     "data": {
      "text/plain": [
       "shape: (5, 12)\n",
       "┌─────────────┬──────────┬────────┬───────────────────┬───┬───────────┬─────────┬───────┬──────────┐\n",
       "│ PassengerId ┆ Survived ┆ Pclass ┆ Name              ┆ … ┆ Ticket    ┆ Fare    ┆ Cabin ┆ Embarked │\n",
       "│ ---         ┆ ---      ┆ ---    ┆ ---               ┆   ┆ ---       ┆ ---     ┆ ---   ┆ ---      │\n",
       "│ i64         ┆ i64      ┆ i64    ┆ str               ┆   ┆ str       ┆ f64     ┆ str   ┆ str      │\n",
       "╞═════════════╪══════════╪════════╪═══════════════════╪═══╪═══════════╪═════════╪═══════╪══════════╡\n",
       "│ 1           ┆ 0        ┆ 3      ┆ Braund, Mr. Owen  ┆ … ┆ A/5 21171 ┆ 7.25    ┆ null  ┆ S        │\n",
       "│             ┆          ┆        ┆ Harris            ┆   ┆           ┆         ┆       ┆          │\n",
       "│ 2           ┆ 1        ┆ 1      ┆ Cumings, Mrs.     ┆ … ┆ PC 17599  ┆ 71.2833 ┆ C85   ┆ C        │\n",
       "│             ┆          ┆        ┆ John Bradley (Fl… ┆   ┆           ┆         ┆       ┆          │\n",
       "│ 3           ┆ 1        ┆ 3      ┆ Heikkinen, Miss.  ┆ … ┆ STON/O2.  ┆ 7.925   ┆ null  ┆ S        │\n",
       "│             ┆          ┆        ┆ Laina             ┆   ┆ 3101282   ┆         ┆       ┆          │\n",
       "│ 4           ┆ 1        ┆ 1      ┆ Futrelle, Mrs.    ┆ … ┆ 113803    ┆ 53.1    ┆ C123  ┆ S        │\n",
       "│             ┆          ┆        ┆ Jacques Heath (…  ┆   ┆           ┆         ┆       ┆          │\n",
       "│ 5           ┆ 0        ┆ 3      ┆ Allen, Mr.        ┆ … ┆ 373450    ┆ 8.05    ┆ null  ┆ S        │\n",
       "│             ┆          ┆        ┆ William Henry     ┆   ┆           ┆         ┆       ┆          │\n",
       "└─────────────┴──────────┴────────┴───────────────────┴───┴───────────┴─────────┴───────┴──────────┘"
      ],
      "text/html": [
       "<div><style>\n",
       ".dataframe > thead > tr,\n",
       ".dataframe > tbody > tr {\n",
       "  text-align: right;\n",
       "  white-space: pre-wrap;\n",
       "}\n",
       "</style>\n",
       "<small>shape: (5, 12)</small><table border=\"1\" class=\"dataframe\"><thead><tr><th>PassengerId</th><th>Survived</th><th>Pclass</th><th>Name</th><th>Sex</th><th>Age</th><th>SibSp</th><th>Parch</th><th>Ticket</th><th>Fare</th><th>Cabin</th><th>Embarked</th></tr><tr><td>i64</td><td>i64</td><td>i64</td><td>str</td><td>str</td><td>f64</td><td>i64</td><td>i64</td><td>str</td><td>f64</td><td>str</td><td>str</td></tr></thead><tbody><tr><td>1</td><td>0</td><td>3</td><td>&quot;Braund, Mr. Owen Harris&quot;</td><td>&quot;male&quot;</td><td>22.0</td><td>1</td><td>0</td><td>&quot;A/5 21171&quot;</td><td>7.25</td><td>null</td><td>&quot;S&quot;</td></tr><tr><td>2</td><td>1</td><td>1</td><td>&quot;Cumings, Mrs. John Bradley (Fl…</td><td>&quot;female&quot;</td><td>38.0</td><td>1</td><td>0</td><td>&quot;PC 17599&quot;</td><td>71.2833</td><td>&quot;C85&quot;</td><td>&quot;C&quot;</td></tr><tr><td>3</td><td>1</td><td>3</td><td>&quot;Heikkinen, Miss. Laina&quot;</td><td>&quot;female&quot;</td><td>26.0</td><td>0</td><td>0</td><td>&quot;STON/O2. 3101282&quot;</td><td>7.925</td><td>null</td><td>&quot;S&quot;</td></tr><tr><td>4</td><td>1</td><td>1</td><td>&quot;Futrelle, Mrs. Jacques Heath (…</td><td>&quot;female&quot;</td><td>35.0</td><td>1</td><td>0</td><td>&quot;113803&quot;</td><td>53.1</td><td>&quot;C123&quot;</td><td>&quot;S&quot;</td></tr><tr><td>5</td><td>0</td><td>3</td><td>&quot;Allen, Mr. William Henry&quot;</td><td>&quot;male&quot;</td><td>35.0</td><td>0</td><td>0</td><td>&quot;373450&quot;</td><td>8.05</td><td>null</td><td>&quot;S&quot;</td></tr></tbody></table></div>"
      ]
     },
     "execution_count": 17,
     "metadata": {},
     "output_type": "execute_result"
    }
   ],
   "execution_count": 17
  },
  {
   "metadata": {
    "ExecuteTime": {
     "end_time": "2025-05-02T05:12:04.209760Z",
     "start_time": "2025-05-02T05:12:04.205465Z"
    }
   },
   "cell_type": "code",
   "source": [
    "# 특정 열 제외\n",
    "(\n",
    "    df\n",
    "    .select(\n",
    "        pl.exclude('Age', 'Survived', 'Pclass')\n",
    "    )\n",
    "    .head()\n",
    ")"
   ],
   "id": "48532c2bedcc74d9",
   "outputs": [
    {
     "data": {
      "text/plain": [
       "shape: (5, 9)\n",
       "┌─────────────┬──────────────────────┬────────┬───────┬───┬───────────┬─────────┬───────┬──────────┐\n",
       "│ PassengerId ┆ Name                 ┆ Sex    ┆ SibSp ┆ … ┆ Ticket    ┆ Fare    ┆ Cabin ┆ Embarked │\n",
       "│ ---         ┆ ---                  ┆ ---    ┆ ---   ┆   ┆ ---       ┆ ---     ┆ ---   ┆ ---      │\n",
       "│ i64         ┆ str                  ┆ str    ┆ i64   ┆   ┆ str       ┆ f64     ┆ str   ┆ str      │\n",
       "╞═════════════╪══════════════════════╪════════╪═══════╪═══╪═══════════╪═════════╪═══════╪══════════╡\n",
       "│ 1           ┆ Braund, Mr. Owen     ┆ male   ┆ 1     ┆ … ┆ A/5 21171 ┆ 7.25    ┆ null  ┆ S        │\n",
       "│             ┆ Harris               ┆        ┆       ┆   ┆           ┆         ┆       ┆          │\n",
       "│ 2           ┆ Cumings, Mrs. John   ┆ female ┆ 1     ┆ … ┆ PC 17599  ┆ 71.2833 ┆ C85   ┆ C        │\n",
       "│             ┆ Bradley (Fl…         ┆        ┆       ┆   ┆           ┆         ┆       ┆          │\n",
       "│ 3           ┆ Heikkinen, Miss.     ┆ female ┆ 0     ┆ … ┆ STON/O2.  ┆ 7.925   ┆ null  ┆ S        │\n",
       "│             ┆ Laina                ┆        ┆       ┆   ┆ 3101282   ┆         ┆       ┆          │\n",
       "│ 4           ┆ Futrelle, Mrs.       ┆ female ┆ 1     ┆ … ┆ 113803    ┆ 53.1    ┆ C123  ┆ S        │\n",
       "│             ┆ Jacques Heath (…     ┆        ┆       ┆   ┆           ┆         ┆       ┆          │\n",
       "│ 5           ┆ Allen, Mr. William   ┆ male   ┆ 0     ┆ … ┆ 373450    ┆ 8.05    ┆ null  ┆ S        │\n",
       "│             ┆ Henry                ┆        ┆       ┆   ┆           ┆         ┆       ┆          │\n",
       "└─────────────┴──────────────────────┴────────┴───────┴───┴───────────┴─────────┴───────┴──────────┘"
      ],
      "text/html": [
       "<div><style>\n",
       ".dataframe > thead > tr,\n",
       ".dataframe > tbody > tr {\n",
       "  text-align: right;\n",
       "  white-space: pre-wrap;\n",
       "}\n",
       "</style>\n",
       "<small>shape: (5, 9)</small><table border=\"1\" class=\"dataframe\"><thead><tr><th>PassengerId</th><th>Name</th><th>Sex</th><th>SibSp</th><th>Parch</th><th>Ticket</th><th>Fare</th><th>Cabin</th><th>Embarked</th></tr><tr><td>i64</td><td>str</td><td>str</td><td>i64</td><td>i64</td><td>str</td><td>f64</td><td>str</td><td>str</td></tr></thead><tbody><tr><td>1</td><td>&quot;Braund, Mr. Owen Harris&quot;</td><td>&quot;male&quot;</td><td>1</td><td>0</td><td>&quot;A/5 21171&quot;</td><td>7.25</td><td>null</td><td>&quot;S&quot;</td></tr><tr><td>2</td><td>&quot;Cumings, Mrs. John Bradley (Fl…</td><td>&quot;female&quot;</td><td>1</td><td>0</td><td>&quot;PC 17599&quot;</td><td>71.2833</td><td>&quot;C85&quot;</td><td>&quot;C&quot;</td></tr><tr><td>3</td><td>&quot;Heikkinen, Miss. Laina&quot;</td><td>&quot;female&quot;</td><td>0</td><td>0</td><td>&quot;STON/O2. 3101282&quot;</td><td>7.925</td><td>null</td><td>&quot;S&quot;</td></tr><tr><td>4</td><td>&quot;Futrelle, Mrs. Jacques Heath (…</td><td>&quot;female&quot;</td><td>1</td><td>0</td><td>&quot;113803&quot;</td><td>53.1</td><td>&quot;C123&quot;</td><td>&quot;S&quot;</td></tr><tr><td>5</td><td>&quot;Allen, Mr. William Henry&quot;</td><td>&quot;male&quot;</td><td>0</td><td>0</td><td>&quot;373450&quot;</td><td>8.05</td><td>null</td><td>&quot;S&quot;</td></tr></tbody></table></div>"
      ]
     },
     "execution_count": 18,
     "metadata": {},
     "output_type": "execute_result"
    }
   ],
   "execution_count": 18
  },
  {
   "metadata": {},
   "cell_type": "markdown",
   "source": "#### Selecting columns with a regex\n",
   "id": "6bc91c1d01235f69"
  },
  {
   "metadata": {},
   "cell_type": "markdown",
   "source": [
    "regex starts with `^` and ends with `$` <p>\n",
    "looks for columns starting with `P` and uses the regex wildcard `.*` to show `P` can be followed by any character."
   ],
   "id": "afbdb315fb84f657"
  },
  {
   "metadata": {
    "ExecuteTime": {
     "end_time": "2025-05-02T05:16:53.347894Z",
     "start_time": "2025-05-02T05:16:53.344501Z"
    }
   },
   "cell_type": "code",
   "source": [
    "(\n",
    "    df\n",
    "    .select(\n",
    "        \"^P.*$\"\n",
    "    )\n",
    "    .head(3)\n",
    ")"
   ],
   "id": "140d0122c6756b9c",
   "outputs": [
    {
     "data": {
      "text/plain": [
       "shape: (3, 3)\n",
       "┌─────────────┬────────┬───────┐\n",
       "│ PassengerId ┆ Pclass ┆ Parch │\n",
       "│ ---         ┆ ---    ┆ ---   │\n",
       "│ i64         ┆ i64    ┆ i64   │\n",
       "╞═════════════╪════════╪═══════╡\n",
       "│ 1           ┆ 3      ┆ 0     │\n",
       "│ 2           ┆ 1      ┆ 0     │\n",
       "│ 3           ┆ 3      ┆ 0     │\n",
       "└─────────────┴────────┴───────┘"
      ],
      "text/html": [
       "<div><style>\n",
       ".dataframe > thead > tr,\n",
       ".dataframe > tbody > tr {\n",
       "  text-align: right;\n",
       "  white-space: pre-wrap;\n",
       "}\n",
       "</style>\n",
       "<small>shape: (3, 3)</small><table border=\"1\" class=\"dataframe\"><thead><tr><th>PassengerId</th><th>Pclass</th><th>Parch</th></tr><tr><td>i64</td><td>i64</td><td>i64</td></tr></thead><tbody><tr><td>1</td><td>3</td><td>0</td></tr><tr><td>2</td><td>1</td><td>0</td></tr><tr><td>3</td><td>3</td><td>0</td></tr></tbody></table></div>"
      ]
     },
     "execution_count": 19,
     "metadata": {},
     "output_type": "execute_result"
    }
   ],
   "execution_count": 19
  },
  {
   "metadata": {
    "ExecuteTime": {
     "end_time": "2025-05-02T05:17:54.730001Z",
     "start_time": "2025-05-02T05:17:54.724901Z"
    }
   },
   "cell_type": "code",
   "source": [
    "# regex can apply transformation to thees columns.\n",
    "(\n",
    "    df\n",
    "    .select(\n",
    "        pl.col(\"^P.*$\").max()\n",
    "    )\n",
    ")"
   ],
   "id": "5997e68575497573",
   "outputs": [
    {
     "data": {
      "text/plain": [
       "shape: (1, 3)\n",
       "┌─────────────┬────────┬───────┐\n",
       "│ PassengerId ┆ Pclass ┆ Parch │\n",
       "│ ---         ┆ ---    ┆ ---   │\n",
       "│ i64         ┆ i64    ┆ i64   │\n",
       "╞═════════════╪════════╪═══════╡\n",
       "│ 891         ┆ 3      ┆ 6     │\n",
       "└─────────────┴────────┴───────┘"
      ],
      "text/html": [
       "<div><style>\n",
       ".dataframe > thead > tr,\n",
       ".dataframe > tbody > tr {\n",
       "  text-align: right;\n",
       "  white-space: pre-wrap;\n",
       "}\n",
       "</style>\n",
       "<small>shape: (1, 3)</small><table border=\"1\" class=\"dataframe\"><thead><tr><th>PassengerId</th><th>Pclass</th><th>Parch</th></tr><tr><td>i64</td><td>i64</td><td>i64</td></tr></thead><tbody><tr><td>891</td><td>3</td><td>6</td></tr></tbody></table></div>"
      ]
     },
     "execution_count": 20,
     "metadata": {},
     "output_type": "execute_result"
    }
   ],
   "execution_count": 20
  },
  {
   "metadata": {},
   "cell_type": "markdown",
   "source": "#### Selecting columns based on dtype.",
   "id": "d00c7a1f4d897fdb"
  },
  {
   "metadata": {
    "ExecuteTime": {
     "end_time": "2025-05-02T05:20:05.155605Z",
     "start_time": "2025-05-02T05:20:05.152743Z"
    }
   },
   "cell_type": "code",
   "source": [
    "(\n",
    "    df\n",
    "    .select(\n",
    "        pl.col(pl.Utf8)\n",
    "    )\n",
    "    .head()\n",
    ")"
   ],
   "id": "e90fefbe41151387",
   "outputs": [
    {
     "data": {
      "text/plain": [
       "shape: (5, 5)\n",
       "┌─────────────────────────────────┬────────┬──────────────────┬───────┬──────────┐\n",
       "│ Name                            ┆ Sex    ┆ Ticket           ┆ Cabin ┆ Embarked │\n",
       "│ ---                             ┆ ---    ┆ ---              ┆ ---   ┆ ---      │\n",
       "│ str                             ┆ str    ┆ str              ┆ str   ┆ str      │\n",
       "╞═════════════════════════════════╪════════╪══════════════════╪═══════╪══════════╡\n",
       "│ Braund, Mr. Owen Harris         ┆ male   ┆ A/5 21171        ┆ null  ┆ S        │\n",
       "│ Cumings, Mrs. John Bradley (Fl… ┆ female ┆ PC 17599         ┆ C85   ┆ C        │\n",
       "│ Heikkinen, Miss. Laina          ┆ female ┆ STON/O2. 3101282 ┆ null  ┆ S        │\n",
       "│ Futrelle, Mrs. Jacques Heath (… ┆ female ┆ 113803           ┆ C123  ┆ S        │\n",
       "│ Allen, Mr. William Henry        ┆ male   ┆ 373450           ┆ null  ┆ S        │\n",
       "└─────────────────────────────────┴────────┴──────────────────┴───────┴──────────┘"
      ],
      "text/html": [
       "<div><style>\n",
       ".dataframe > thead > tr,\n",
       ".dataframe > tbody > tr {\n",
       "  text-align: right;\n",
       "  white-space: pre-wrap;\n",
       "}\n",
       "</style>\n",
       "<small>shape: (5, 5)</small><table border=\"1\" class=\"dataframe\"><thead><tr><th>Name</th><th>Sex</th><th>Ticket</th><th>Cabin</th><th>Embarked</th></tr><tr><td>str</td><td>str</td><td>str</td><td>str</td><td>str</td></tr></thead><tbody><tr><td>&quot;Braund, Mr. Owen Harris&quot;</td><td>&quot;male&quot;</td><td>&quot;A/5 21171&quot;</td><td>null</td><td>&quot;S&quot;</td></tr><tr><td>&quot;Cumings, Mrs. John Bradley (Fl…</td><td>&quot;female&quot;</td><td>&quot;PC 17599&quot;</td><td>&quot;C85&quot;</td><td>&quot;C&quot;</td></tr><tr><td>&quot;Heikkinen, Miss. Laina&quot;</td><td>&quot;female&quot;</td><td>&quot;STON/O2. 3101282&quot;</td><td>null</td><td>&quot;S&quot;</td></tr><tr><td>&quot;Futrelle, Mrs. Jacques Heath (…</td><td>&quot;female&quot;</td><td>&quot;113803&quot;</td><td>&quot;C123&quot;</td><td>&quot;S&quot;</td></tr><tr><td>&quot;Allen, Mr. William Henry&quot;</td><td>&quot;male&quot;</td><td>&quot;373450&quot;</td><td>null</td><td>&quot;S&quot;</td></tr></tbody></table></div>"
      ]
     },
     "execution_count": 21,
     "metadata": {},
     "output_type": "execute_result"
    }
   ],
   "execution_count": 21
  },
  {
   "metadata": {
    "ExecuteTime": {
     "end_time": "2025-05-02T05:21:23.530481Z",
     "start_time": "2025-05-02T05:21:23.527396Z"
    }
   },
   "cell_type": "code",
   "source": [
    "(\n",
    "    df\n",
    "    .select(\n",
    "        pl.col([pl.Utf8, pl.Float64])\n",
    "    )\n",
    "    .head()\n",
    ")"
   ],
   "id": "9bcb4ba442b19fc",
   "outputs": [
    {
     "data": {
      "text/plain": [
       "shape: (5, 7)\n",
       "┌─────────────────────────────────┬────────┬──────┬──────────────────┬─────────┬───────┬──────────┐\n",
       "│ Name                            ┆ Sex    ┆ Age  ┆ Ticket           ┆ Fare    ┆ Cabin ┆ Embarked │\n",
       "│ ---                             ┆ ---    ┆ ---  ┆ ---              ┆ ---     ┆ ---   ┆ ---      │\n",
       "│ str                             ┆ str    ┆ f64  ┆ str              ┆ f64     ┆ str   ┆ str      │\n",
       "╞═════════════════════════════════╪════════╪══════╪══════════════════╪═════════╪═══════╪══════════╡\n",
       "│ Braund, Mr. Owen Harris         ┆ male   ┆ 22.0 ┆ A/5 21171        ┆ 7.25    ┆ null  ┆ S        │\n",
       "│ Cumings, Mrs. John Bradley (Fl… ┆ female ┆ 38.0 ┆ PC 17599         ┆ 71.2833 ┆ C85   ┆ C        │\n",
       "│ Heikkinen, Miss. Laina          ┆ female ┆ 26.0 ┆ STON/O2. 3101282 ┆ 7.925   ┆ null  ┆ S        │\n",
       "│ Futrelle, Mrs. Jacques Heath (… ┆ female ┆ 35.0 ┆ 113803           ┆ 53.1    ┆ C123  ┆ S        │\n",
       "│ Allen, Mr. William Henry        ┆ male   ┆ 35.0 ┆ 373450           ┆ 8.05    ┆ null  ┆ S        │\n",
       "└─────────────────────────────────┴────────┴──────┴──────────────────┴─────────┴───────┴──────────┘"
      ],
      "text/html": [
       "<div><style>\n",
       ".dataframe > thead > tr,\n",
       ".dataframe > tbody > tr {\n",
       "  text-align: right;\n",
       "  white-space: pre-wrap;\n",
       "}\n",
       "</style>\n",
       "<small>shape: (5, 7)</small><table border=\"1\" class=\"dataframe\"><thead><tr><th>Name</th><th>Sex</th><th>Age</th><th>Ticket</th><th>Fare</th><th>Cabin</th><th>Embarked</th></tr><tr><td>str</td><td>str</td><td>f64</td><td>str</td><td>f64</td><td>str</td><td>str</td></tr></thead><tbody><tr><td>&quot;Braund, Mr. Owen Harris&quot;</td><td>&quot;male&quot;</td><td>22.0</td><td>&quot;A/5 21171&quot;</td><td>7.25</td><td>null</td><td>&quot;S&quot;</td></tr><tr><td>&quot;Cumings, Mrs. John Bradley (Fl…</td><td>&quot;female&quot;</td><td>38.0</td><td>&quot;PC 17599&quot;</td><td>71.2833</td><td>&quot;C85&quot;</td><td>&quot;C&quot;</td></tr><tr><td>&quot;Heikkinen, Miss. Laina&quot;</td><td>&quot;female&quot;</td><td>26.0</td><td>&quot;STON/O2. 3101282&quot;</td><td>7.925</td><td>null</td><td>&quot;S&quot;</td></tr><tr><td>&quot;Futrelle, Mrs. Jacques Heath (…</td><td>&quot;female&quot;</td><td>35.0</td><td>&quot;113803&quot;</td><td>53.1</td><td>&quot;C123&quot;</td><td>&quot;S&quot;</td></tr><tr><td>&quot;Allen, Mr. William Henry&quot;</td><td>&quot;male&quot;</td><td>35.0</td><td>&quot;373450&quot;</td><td>8.05</td><td>null</td><td>&quot;S&quot;</td></tr></tbody></table></div>"
      ]
     },
     "execution_count": 22,
     "metadata": {},
     "output_type": "execute_result"
    }
   ],
   "execution_count": 22
  },
  {
   "metadata": {},
   "cell_type": "markdown",
   "source": "### Selecting columns: Transforming and adding a column",
   "id": "f93c1464faaaf3ef"
  },
  {
   "metadata": {},
   "cell_type": "markdown",
   "source": [
    "* transform an `existing column` in place using `with_columns`\n",
    "* add a columns with constant values using `pl.lit`"
   ],
   "id": "21eed9f6fad194c2"
  },
  {
   "metadata": {},
   "cell_type": "markdown",
   "source": "#### Transforming an existing column",
   "id": "8496536c4afcf305"
  },
  {
   "metadata": {
    "ExecuteTime": {
     "end_time": "2025-05-02T05:25:36.267221Z",
     "start_time": "2025-05-02T05:25:36.264453Z"
    }
   },
   "cell_type": "code",
   "source": [
    "(\n",
    "    df\n",
    "    .with_columns(\n",
    "        pl.col('Fare').round(0)\n",
    "    )\n",
    "    .head(3)\n",
    ")"
   ],
   "id": "1537f6937ff2b7ff",
   "outputs": [
    {
     "data": {
      "text/plain": [
       "shape: (3, 12)\n",
       "┌─────────────┬──────────┬────────┬──────────────────────┬───┬───────────┬──────┬───────┬──────────┐\n",
       "│ PassengerId ┆ Survived ┆ Pclass ┆ Name                 ┆ … ┆ Ticket    ┆ Fare ┆ Cabin ┆ Embarked │\n",
       "│ ---         ┆ ---      ┆ ---    ┆ ---                  ┆   ┆ ---       ┆ ---  ┆ ---   ┆ ---      │\n",
       "│ i64         ┆ i64      ┆ i64    ┆ str                  ┆   ┆ str       ┆ f64  ┆ str   ┆ str      │\n",
       "╞═════════════╪══════════╪════════╪══════════════════════╪═══╪═══════════╪══════╪═══════╪══════════╡\n",
       "│ 1           ┆ 0        ┆ 3      ┆ Braund, Mr. Owen     ┆ … ┆ A/5 21171 ┆ 7.0  ┆ null  ┆ S        │\n",
       "│             ┆          ┆        ┆ Harris               ┆   ┆           ┆      ┆       ┆          │\n",
       "│ 2           ┆ 1        ┆ 1      ┆ Cumings, Mrs. John   ┆ … ┆ PC 17599  ┆ 71.0 ┆ C85   ┆ C        │\n",
       "│             ┆          ┆        ┆ Bradley (Fl…         ┆   ┆           ┆      ┆       ┆          │\n",
       "│ 3           ┆ 1        ┆ 3      ┆ Heikkinen, Miss.     ┆ … ┆ STON/O2.  ┆ 8.0  ┆ null  ┆ S        │\n",
       "│             ┆          ┆        ┆ Laina                ┆   ┆ 3101282   ┆      ┆       ┆          │\n",
       "└─────────────┴──────────┴────────┴──────────────────────┴───┴───────────┴──────┴───────┴──────────┘"
      ],
      "text/html": [
       "<div><style>\n",
       ".dataframe > thead > tr,\n",
       ".dataframe > tbody > tr {\n",
       "  text-align: right;\n",
       "  white-space: pre-wrap;\n",
       "}\n",
       "</style>\n",
       "<small>shape: (3, 12)</small><table border=\"1\" class=\"dataframe\"><thead><tr><th>PassengerId</th><th>Survived</th><th>Pclass</th><th>Name</th><th>Sex</th><th>Age</th><th>SibSp</th><th>Parch</th><th>Ticket</th><th>Fare</th><th>Cabin</th><th>Embarked</th></tr><tr><td>i64</td><td>i64</td><td>i64</td><td>str</td><td>str</td><td>f64</td><td>i64</td><td>i64</td><td>str</td><td>f64</td><td>str</td><td>str</td></tr></thead><tbody><tr><td>1</td><td>0</td><td>3</td><td>&quot;Braund, Mr. Owen Harris&quot;</td><td>&quot;male&quot;</td><td>22.0</td><td>1</td><td>0</td><td>&quot;A/5 21171&quot;</td><td>7.0</td><td>null</td><td>&quot;S&quot;</td></tr><tr><td>2</td><td>1</td><td>1</td><td>&quot;Cumings, Mrs. John Bradley (Fl…</td><td>&quot;female&quot;</td><td>38.0</td><td>1</td><td>0</td><td>&quot;PC 17599&quot;</td><td>71.0</td><td>&quot;C85&quot;</td><td>&quot;C&quot;</td></tr><tr><td>3</td><td>1</td><td>3</td><td>&quot;Heikkinen, Miss. Laina&quot;</td><td>&quot;female&quot;</td><td>26.0</td><td>0</td><td>0</td><td>&quot;STON/O2. 3101282&quot;</td><td>8.0</td><td>null</td><td>&quot;S&quot;</td></tr></tbody></table></div>"
      ]
     },
     "execution_count": 24,
     "metadata": {},
     "output_type": "execute_result"
    }
   ],
   "execution_count": 24
  },
  {
   "metadata": {},
   "cell_type": "markdown",
   "source": [
    "* select에서 변경하면 'fare'만 나오는데\n",
    "* with_columns에서 변경하면 fare와 함께 모든 컬럼 나옴."
   ],
   "id": "5a497478533122dc"
  },
  {
   "metadata": {},
   "cell_type": "markdown",
   "source": [
    "#### Adding a new column from an existing column\n",
    "\n",
    "We can create a new column from an existing column by renaming it with `alias`"
   ],
   "id": "8e3f5bd3732d08a5"
  },
  {
   "metadata": {
    "ExecuteTime": {
     "end_time": "2025-05-02T05:27:48.443753Z",
     "start_time": "2025-05-02T05:27:48.440651Z"
    }
   },
   "cell_type": "code",
   "source": [
    "(\n",
    "    df\n",
    "    .with_columns(\n",
    "        pl.col('Fare').round(0).alias('컬럼이름변경') # 기존 컬럼은 남아있고 변경된 컬럼이 새로운 이름이 생겨서 따로 생긴다.\n",
    "    )\n",
    "    .head()\n",
    ")"
   ],
   "id": "66520f2d614f8a40",
   "outputs": [
    {
     "data": {
      "text/plain": [
       "shape: (5, 13)\n",
       "┌─────────────┬──────────┬────────┬────────────────┬───┬─────────┬───────┬──────────┬──────────────┐\n",
       "│ PassengerId ┆ Survived ┆ Pclass ┆ Name           ┆ … ┆ Fare    ┆ Cabin ┆ Embarked ┆ 컬럼이름변경 │\n",
       "│ ---         ┆ ---      ┆ ---    ┆ ---            ┆   ┆ ---     ┆ ---   ┆ ---      ┆ ---          │\n",
       "│ i64         ┆ i64      ┆ i64    ┆ str            ┆   ┆ f64     ┆ str   ┆ str      ┆ f64          │\n",
       "╞═════════════╪══════════╪════════╪════════════════╪═══╪═════════╪═══════╪══════════╪══════════════╡\n",
       "│ 1           ┆ 0        ┆ 3      ┆ Braund, Mr.    ┆ … ┆ 7.25    ┆ null  ┆ S        ┆ 7.0          │\n",
       "│             ┆          ┆        ┆ Owen Harris    ┆   ┆         ┆       ┆          ┆              │\n",
       "│ 2           ┆ 1        ┆ 1      ┆ Cumings, Mrs.  ┆ … ┆ 71.2833 ┆ C85   ┆ C        ┆ 71.0         │\n",
       "│             ┆          ┆        ┆ John Bradley   ┆   ┆         ┆       ┆          ┆              │\n",
       "│             ┆          ┆        ┆ (Fl…           ┆   ┆         ┆       ┆          ┆              │\n",
       "│ 3           ┆ 1        ┆ 3      ┆ Heikkinen,     ┆ … ┆ 7.925   ┆ null  ┆ S        ┆ 8.0          │\n",
       "│             ┆          ┆        ┆ Miss. Laina    ┆   ┆         ┆       ┆          ┆              │\n",
       "│ 4           ┆ 1        ┆ 1      ┆ Futrelle, Mrs. ┆ … ┆ 53.1    ┆ C123  ┆ S        ┆ 53.0         │\n",
       "│             ┆          ┆        ┆ Jacques Heath  ┆   ┆         ┆       ┆          ┆              │\n",
       "│             ┆          ┆        ┆ (…             ┆   ┆         ┆       ┆          ┆              │\n",
       "│ 5           ┆ 0        ┆ 3      ┆ Allen, Mr.     ┆ … ┆ 8.05    ┆ null  ┆ S        ┆ 8.0          │\n",
       "│             ┆          ┆        ┆ William Henry  ┆   ┆         ┆       ┆          ┆              │\n",
       "└─────────────┴──────────┴────────┴────────────────┴───┴─────────┴───────┴──────────┴──────────────┘"
      ],
      "text/html": [
       "<div><style>\n",
       ".dataframe > thead > tr,\n",
       ".dataframe > tbody > tr {\n",
       "  text-align: right;\n",
       "  white-space: pre-wrap;\n",
       "}\n",
       "</style>\n",
       "<small>shape: (5, 13)</small><table border=\"1\" class=\"dataframe\"><thead><tr><th>PassengerId</th><th>Survived</th><th>Pclass</th><th>Name</th><th>Sex</th><th>Age</th><th>SibSp</th><th>Parch</th><th>Ticket</th><th>Fare</th><th>Cabin</th><th>Embarked</th><th>컬럼이름변경</th></tr><tr><td>i64</td><td>i64</td><td>i64</td><td>str</td><td>str</td><td>f64</td><td>i64</td><td>i64</td><td>str</td><td>f64</td><td>str</td><td>str</td><td>f64</td></tr></thead><tbody><tr><td>1</td><td>0</td><td>3</td><td>&quot;Braund, Mr. Owen Harris&quot;</td><td>&quot;male&quot;</td><td>22.0</td><td>1</td><td>0</td><td>&quot;A/5 21171&quot;</td><td>7.25</td><td>null</td><td>&quot;S&quot;</td><td>7.0</td></tr><tr><td>2</td><td>1</td><td>1</td><td>&quot;Cumings, Mrs. John Bradley (Fl…</td><td>&quot;female&quot;</td><td>38.0</td><td>1</td><td>0</td><td>&quot;PC 17599&quot;</td><td>71.2833</td><td>&quot;C85&quot;</td><td>&quot;C&quot;</td><td>71.0</td></tr><tr><td>3</td><td>1</td><td>3</td><td>&quot;Heikkinen, Miss. Laina&quot;</td><td>&quot;female&quot;</td><td>26.0</td><td>0</td><td>0</td><td>&quot;STON/O2. 3101282&quot;</td><td>7.925</td><td>null</td><td>&quot;S&quot;</td><td>8.0</td></tr><tr><td>4</td><td>1</td><td>1</td><td>&quot;Futrelle, Mrs. Jacques Heath (…</td><td>&quot;female&quot;</td><td>35.0</td><td>1</td><td>0</td><td>&quot;113803&quot;</td><td>53.1</td><td>&quot;C123&quot;</td><td>&quot;S&quot;</td><td>53.0</td></tr><tr><td>5</td><td>0</td><td>3</td><td>&quot;Allen, Mr. William Henry&quot;</td><td>&quot;male&quot;</td><td>35.0</td><td>0</td><td>0</td><td>&quot;373450&quot;</td><td>8.05</td><td>null</td><td>&quot;S&quot;</td><td>8.0</td></tr></tbody></table></div>"
      ]
     },
     "execution_count": 25,
     "metadata": {},
     "output_type": "execute_result"
    }
   ],
   "execution_count": 25
  },
  {
   "metadata": {
    "ExecuteTime": {
     "end_time": "2025-05-02T05:30:06.831570Z",
     "start_time": "2025-05-02T05:30:06.827225Z"
    }
   },
   "cell_type": "code",
   "source": [
    "(\n",
    "    df\n",
    "    .with_columns(\n",
    "        (pl.col('Age') + pl.col('Fare')).alias('AgePlusFare')\n",
    "    )\n",
    "    .head(3)\n",
    ")"
   ],
   "id": "3365ed53cd9a9ac0",
   "outputs": [
    {
     "data": {
      "text/plain": [
       "shape: (3, 13)\n",
       "┌─────────────┬──────────┬────────┬─────────────────┬───┬─────────┬───────┬──────────┬─────────────┐\n",
       "│ PassengerId ┆ Survived ┆ Pclass ┆ Name            ┆ … ┆ Fare    ┆ Cabin ┆ Embarked ┆ AgePlusFare │\n",
       "│ ---         ┆ ---      ┆ ---    ┆ ---             ┆   ┆ ---     ┆ ---   ┆ ---      ┆ ---         │\n",
       "│ i64         ┆ i64      ┆ i64    ┆ str             ┆   ┆ f64     ┆ str   ┆ str      ┆ f64         │\n",
       "╞═════════════╪══════════╪════════╪═════════════════╪═══╪═════════╪═══════╪══════════╪═════════════╡\n",
       "│ 1           ┆ 0        ┆ 3      ┆ Braund, Mr.     ┆ … ┆ 7.25    ┆ null  ┆ S        ┆ 29.25       │\n",
       "│             ┆          ┆        ┆ Owen Harris     ┆   ┆         ┆       ┆          ┆             │\n",
       "│ 2           ┆ 1        ┆ 1      ┆ Cumings, Mrs.   ┆ … ┆ 71.2833 ┆ C85   ┆ C        ┆ 109.2833    │\n",
       "│             ┆          ┆        ┆ John Bradley    ┆   ┆         ┆       ┆          ┆             │\n",
       "│             ┆          ┆        ┆ (Fl…            ┆   ┆         ┆       ┆          ┆             │\n",
       "│ 3           ┆ 1        ┆ 3      ┆ Heikkinen,      ┆ … ┆ 7.925   ┆ null  ┆ S        ┆ 33.925      │\n",
       "│             ┆          ┆        ┆ Miss. Laina     ┆   ┆         ┆       ┆          ┆             │\n",
       "└─────────────┴──────────┴────────┴─────────────────┴───┴─────────┴───────┴──────────┴─────────────┘"
      ],
      "text/html": [
       "<div><style>\n",
       ".dataframe > thead > tr,\n",
       ".dataframe > tbody > tr {\n",
       "  text-align: right;\n",
       "  white-space: pre-wrap;\n",
       "}\n",
       "</style>\n",
       "<small>shape: (3, 13)</small><table border=\"1\" class=\"dataframe\"><thead><tr><th>PassengerId</th><th>Survived</th><th>Pclass</th><th>Name</th><th>Sex</th><th>Age</th><th>SibSp</th><th>Parch</th><th>Ticket</th><th>Fare</th><th>Cabin</th><th>Embarked</th><th>AgePlusFare</th></tr><tr><td>i64</td><td>i64</td><td>i64</td><td>str</td><td>str</td><td>f64</td><td>i64</td><td>i64</td><td>str</td><td>f64</td><td>str</td><td>str</td><td>f64</td></tr></thead><tbody><tr><td>1</td><td>0</td><td>3</td><td>&quot;Braund, Mr. Owen Harris&quot;</td><td>&quot;male&quot;</td><td>22.0</td><td>1</td><td>0</td><td>&quot;A/5 21171&quot;</td><td>7.25</td><td>null</td><td>&quot;S&quot;</td><td>29.25</td></tr><tr><td>2</td><td>1</td><td>1</td><td>&quot;Cumings, Mrs. John Bradley (Fl…</td><td>&quot;female&quot;</td><td>38.0</td><td>1</td><td>0</td><td>&quot;PC 17599&quot;</td><td>71.2833</td><td>&quot;C85&quot;</td><td>&quot;C&quot;</td><td>109.2833</td></tr><tr><td>3</td><td>1</td><td>3</td><td>&quot;Heikkinen, Miss. Laina&quot;</td><td>&quot;female&quot;</td><td>26.0</td><td>0</td><td>0</td><td>&quot;STON/O2. 3101282&quot;</td><td>7.925</td><td>null</td><td>&quot;S&quot;</td><td>33.925</td></tr></tbody></table></div>"
      ]
     },
     "execution_count": 26,
     "metadata": {},
     "output_type": "execute_result"
    }
   ],
   "execution_count": 26
  },
  {
   "metadata": {},
   "cell_type": "markdown",
   "source": "#### Adding a new column with a constant value",
   "id": "d49de765e8ca2015"
  },
  {
   "metadata": {},
   "cell_type": "markdown",
   "source": "`pl.lit(값)` => 고정된 값을 모든 행에 적용할 때 사용",
   "id": "88f348a86947684b"
  },
  {
   "metadata": {
    "ExecuteTime": {
     "end_time": "2025-05-02T05:32:11.047726Z",
     "start_time": "2025-05-02T05:32:11.045177Z"
    }
   },
   "cell_type": "code",
   "source": [
    "(\n",
    "    df\n",
    "    .with_columns(\n",
    "        pl.lit(\"yes\").alias('aboard')\n",
    "    )\n",
    "    .select(\n",
    "        'Name', 'aboard'\n",
    "    )\n",
    "    .head()\n",
    ")"
   ],
   "id": "d06cd49e30caba57",
   "outputs": [
    {
     "data": {
      "text/plain": [
       "shape: (5, 2)\n",
       "┌─────────────────────────────────┬────────┐\n",
       "│ Name                            ┆ aboard │\n",
       "│ ---                             ┆ ---    │\n",
       "│ str                             ┆ str    │\n",
       "╞═════════════════════════════════╪════════╡\n",
       "│ Braund, Mr. Owen Harris         ┆ yes    │\n",
       "│ Cumings, Mrs. John Bradley (Fl… ┆ yes    │\n",
       "│ Heikkinen, Miss. Laina          ┆ yes    │\n",
       "│ Futrelle, Mrs. Jacques Heath (… ┆ yes    │\n",
       "│ Allen, Mr. William Henry        ┆ yes    │\n",
       "└─────────────────────────────────┴────────┘"
      ],
      "text/html": [
       "<div><style>\n",
       ".dataframe > thead > tr,\n",
       ".dataframe > tbody > tr {\n",
       "  text-align: right;\n",
       "  white-space: pre-wrap;\n",
       "}\n",
       "</style>\n",
       "<small>shape: (5, 2)</small><table border=\"1\" class=\"dataframe\"><thead><tr><th>Name</th><th>aboard</th></tr><tr><td>str</td><td>str</td></tr></thead><tbody><tr><td>&quot;Braund, Mr. Owen Harris&quot;</td><td>&quot;yes&quot;</td></tr><tr><td>&quot;Cumings, Mrs. John Bradley (Fl…</td><td>&quot;yes&quot;</td></tr><tr><td>&quot;Heikkinen, Miss. Laina&quot;</td><td>&quot;yes&quot;</td></tr><tr><td>&quot;Futrelle, Mrs. Jacques Heath (…</td><td>&quot;yes&quot;</td></tr><tr><td>&quot;Allen, Mr. William Henry&quot;</td><td>&quot;yes&quot;</td></tr></tbody></table></div>"
      ]
     },
     "execution_count": 27,
     "metadata": {},
     "output_type": "execute_result"
    }
   ],
   "execution_count": 27
  },
  {
   "metadata": {},
   "cell_type": "markdown",
   "source": "### Selecting columns: Transforming and adding multiple columns",
   "id": "10e41308e13923ca"
  },
  {
   "metadata": {
    "ExecuteTime": {
     "end_time": "2025-05-02T05:37:22.297061Z",
     "start_time": "2025-05-02T05:37:22.293851Z"
    }
   },
   "cell_type": "code",
   "source": [
    "(\n",
    "    df\n",
    "    .with_columns(\n",
    "        (pl.col('Age') + pl.col('Fare')).alias('AgePlusFare'),\n",
    "        pl.col('Fare').round(0)\n",
    "    )\n",
    "    .select(\n",
    "        'Age', 'Fare', 'AgePlusFare'\n",
    "    )\n",
    "    .head()\n",
    ")"
   ],
   "id": "14dbe4c379f53dbc",
   "outputs": [
    {
     "data": {
      "text/plain": [
       "shape: (5, 3)\n",
       "┌──────┬──────┬─────────────┐\n",
       "│ Age  ┆ Fare ┆ AgePlusFare │\n",
       "│ ---  ┆ ---  ┆ ---         │\n",
       "│ f64  ┆ f64  ┆ f64         │\n",
       "╞══════╪══════╪═════════════╡\n",
       "│ 22.0 ┆ 7.0  ┆ 29.25       │\n",
       "│ 38.0 ┆ 71.0 ┆ 109.2833    │\n",
       "│ 26.0 ┆ 8.0  ┆ 33.925      │\n",
       "│ 35.0 ┆ 53.0 ┆ 88.1        │\n",
       "│ 35.0 ┆ 8.0  ┆ 43.05       │\n",
       "└──────┴──────┴─────────────┘"
      ],
      "text/html": [
       "<div><style>\n",
       ".dataframe > thead > tr,\n",
       ".dataframe > tbody > tr {\n",
       "  text-align: right;\n",
       "  white-space: pre-wrap;\n",
       "}\n",
       "</style>\n",
       "<small>shape: (5, 3)</small><table border=\"1\" class=\"dataframe\"><thead><tr><th>Age</th><th>Fare</th><th>AgePlusFare</th></tr><tr><td>f64</td><td>f64</td><td>f64</td></tr></thead><tbody><tr><td>22.0</td><td>7.0</td><td>29.25</td></tr><tr><td>38.0</td><td>71.0</td><td>109.2833</td></tr><tr><td>26.0</td><td>8.0</td><td>33.925</td></tr><tr><td>35.0</td><td>53.0</td><td>88.1</td></tr><tr><td>35.0</td><td>8.0</td><td>43.05</td></tr></tbody></table></div>"
      ]
     },
     "execution_count": 31,
     "metadata": {},
     "output_type": "execute_result"
    }
   ],
   "execution_count": 31
  },
  {
   "metadata": {
    "ExecuteTime": {
     "end_time": "2025-05-02T05:40:18.707507Z",
     "start_time": "2025-05-02T05:40:18.704574Z"
    }
   },
   "cell_type": "code",
   "source": [
    "(\n",
    "    df\n",
    "    .with_columns(\n",
    "        pl.col(pl.Float64).round(0).name.suffix(\"_round\")\n",
    "    )\n",
    "    .select(\n",
    "        'Age', 'Age_round', 'Fare', 'Fare_round'\n",
    "    )\n",
    "    .head()\n",
    ")"
   ],
   "id": "86f2f1208ca918d",
   "outputs": [
    {
     "data": {
      "text/plain": [
       "shape: (5, 4)\n",
       "┌──────┬───────────┬─────────┬────────────┐\n",
       "│ Age  ┆ Age_round ┆ Fare    ┆ Fare_round │\n",
       "│ ---  ┆ ---       ┆ ---     ┆ ---        │\n",
       "│ f64  ┆ f64       ┆ f64     ┆ f64        │\n",
       "╞══════╪═══════════╪═════════╪════════════╡\n",
       "│ 22.0 ┆ 22.0      ┆ 7.25    ┆ 7.0        │\n",
       "│ 38.0 ┆ 38.0      ┆ 71.2833 ┆ 71.0       │\n",
       "│ 26.0 ┆ 26.0      ┆ 7.925   ┆ 8.0        │\n",
       "│ 35.0 ┆ 35.0      ┆ 53.1    ┆ 53.0       │\n",
       "│ 35.0 ┆ 35.0      ┆ 8.05    ┆ 8.0        │\n",
       "└──────┴───────────┴─────────┴────────────┘"
      ],
      "text/html": [
       "<div><style>\n",
       ".dataframe > thead > tr,\n",
       ".dataframe > tbody > tr {\n",
       "  text-align: right;\n",
       "  white-space: pre-wrap;\n",
       "}\n",
       "</style>\n",
       "<small>shape: (5, 4)</small><table border=\"1\" class=\"dataframe\"><thead><tr><th>Age</th><th>Age_round</th><th>Fare</th><th>Fare_round</th></tr><tr><td>f64</td><td>f64</td><td>f64</td><td>f64</td></tr></thead><tbody><tr><td>22.0</td><td>22.0</td><td>7.25</td><td>7.0</td></tr><tr><td>38.0</td><td>38.0</td><td>71.2833</td><td>71.0</td></tr><tr><td>26.0</td><td>26.0</td><td>7.925</td><td>8.0</td></tr><tr><td>35.0</td><td>35.0</td><td>53.1</td><td>53.0</td></tr><tr><td>35.0</td><td>35.0</td><td>8.05</td><td>8.0</td></tr></tbody></table></div>"
      ]
     },
     "execution_count": 32,
     "metadata": {},
     "output_type": "execute_result"
    }
   ],
   "execution_count": 32
  },
  {
   "metadata": {},
   "cell_type": "markdown",
   "source": "### Selecting columns: Adding a new columns based on mapping or condition",
   "id": "74351f20cc2344b7"
  },
  {
   "metadata": {},
   "cell_type": "markdown",
   "source": "#### Add a new column based on a mapping from another column",
   "id": "e62cf7868879fcbb"
  },
  {
   "metadata": {
    "ExecuteTime": {
     "end_time": "2025-05-02T05:44:52.478404Z",
     "start_time": "2025-05-02T05:44:52.474511Z"
    }
   },
   "cell_type": "code",
   "source": [
    "(\n",
    "    df\n",
    "    .select(\n",
    "        'Embarked'\n",
    "    )\n",
    "    .unique()\n",
    ")"
   ],
   "id": "49557e092cc30453",
   "outputs": [
    {
     "data": {
      "text/plain": [
       "shape: (4, 1)\n",
       "┌──────────┐\n",
       "│ Embarked │\n",
       "│ ---      │\n",
       "│ str      │\n",
       "╞══════════╡\n",
       "│ C        │\n",
       "│ null     │\n",
       "│ S        │\n",
       "│ Q        │\n",
       "└──────────┘"
      ],
      "text/html": [
       "<div><style>\n",
       ".dataframe > thead > tr,\n",
       ".dataframe > tbody > tr {\n",
       "  text-align: right;\n",
       "  white-space: pre-wrap;\n",
       "}\n",
       "</style>\n",
       "<small>shape: (4, 1)</small><table border=\"1\" class=\"dataframe\"><thead><tr><th>Embarked</th></tr><tr><td>str</td></tr></thead><tbody><tr><td>&quot;C&quot;</td></tr><tr><td>null</td></tr><tr><td>&quot;S&quot;</td></tr><tr><td>&quot;Q&quot;</td></tr></tbody></table></div>"
      ]
     },
     "execution_count": 37,
     "metadata": {},
     "output_type": "execute_result"
    }
   ],
   "execution_count": 37
  },
  {
   "metadata": {
    "ExecuteTime": {
     "end_time": "2025-05-02T05:47:21.800999Z",
     "start_time": "2025-05-02T05:47:21.798037Z"
    }
   },
   "cell_type": "code",
   "source": [
    "# replace the values\n",
    "\n",
    "replace_dict = {\n",
    "    \"S\" : \"Southampton\",\n",
    "    \"C\" : \"Cherbourg\"\n",
    "}\n",
    "\n",
    "(\n",
    "    df\n",
    "    .with_columns(\n",
    "        pl.col(\"Embarked\").replace(replace_dict).alias(\"Embarked_full\")\n",
    "    )\n",
    "    .select(\n",
    "        \"Embarked\", \"Embarked_full\"\n",
    "    )\n",
    "    .head(5)\n",
    ")"
   ],
   "id": "9aa572513bca84f7",
   "outputs": [
    {
     "data": {
      "text/plain": [
       "shape: (5, 2)\n",
       "┌──────────┬───────────────┐\n",
       "│ Embarked ┆ Embarked_full │\n",
       "│ ---      ┆ ---           │\n",
       "│ str      ┆ str           │\n",
       "╞══════════╪═══════════════╡\n",
       "│ S        ┆ Southampton   │\n",
       "│ C        ┆ Cherbourg     │\n",
       "│ S        ┆ Southampton   │\n",
       "│ S        ┆ Southampton   │\n",
       "│ S        ┆ Southampton   │\n",
       "└──────────┴───────────────┘"
      ],
      "text/html": [
       "<div><style>\n",
       ".dataframe > thead > tr,\n",
       ".dataframe > tbody > tr {\n",
       "  text-align: right;\n",
       "  white-space: pre-wrap;\n",
       "}\n",
       "</style>\n",
       "<small>shape: (5, 2)</small><table border=\"1\" class=\"dataframe\"><thead><tr><th>Embarked</th><th>Embarked_full</th></tr><tr><td>str</td><td>str</td></tr></thead><tbody><tr><td>&quot;S&quot;</td><td>&quot;Southampton&quot;</td></tr><tr><td>&quot;C&quot;</td><td>&quot;Cherbourg&quot;</td></tr><tr><td>&quot;S&quot;</td><td>&quot;Southampton&quot;</td></tr><tr><td>&quot;S&quot;</td><td>&quot;Southampton&quot;</td></tr><tr><td>&quot;S&quot;</td><td>&quot;Southampton&quot;</td></tr></tbody></table></div>"
      ]
     },
     "execution_count": 39,
     "metadata": {},
     "output_type": "execute_result"
    }
   ],
   "execution_count": 39
  },
  {
   "metadata": {
    "ExecuteTime": {
     "end_time": "2025-05-02T05:50:20.335251Z",
     "start_time": "2025-05-02T05:50:20.330404Z"
    }
   },
   "cell_type": "code",
   "source": [
    "# repalce value to other dtypes\n",
    "replace_dict = {\n",
    "    1:'first',\n",
    "    2:'second',\n",
    "    3:'third'\n",
    "}\n",
    "\n",
    "(\n",
    "    df\n",
    "    .with_columns(\n",
    "        pl.col('Pclass').replace_strict(replace_dict, return_dtype=pl.String).alias('class_name')\n",
    "    )\n",
    "    .select(\n",
    "        'Pclass', 'class_name'\n",
    "    )\n",
    "    .head()\n",
    ")"
   ],
   "id": "e2f5de5eb7f22c0a",
   "outputs": [
    {
     "data": {
      "text/plain": [
       "shape: (5, 2)\n",
       "┌────────┬────────────┐\n",
       "│ Pclass ┆ class_name │\n",
       "│ ---    ┆ ---        │\n",
       "│ i64    ┆ str        │\n",
       "╞════════╪════════════╡\n",
       "│ 3      ┆ third      │\n",
       "│ 1      ┆ first      │\n",
       "│ 3      ┆ third      │\n",
       "│ 1      ┆ first      │\n",
       "│ 3      ┆ third      │\n",
       "└────────┴────────────┘"
      ],
      "text/html": [
       "<div><style>\n",
       ".dataframe > thead > tr,\n",
       ".dataframe > tbody > tr {\n",
       "  text-align: right;\n",
       "  white-space: pre-wrap;\n",
       "}\n",
       "</style>\n",
       "<small>shape: (5, 2)</small><table border=\"1\" class=\"dataframe\"><thead><tr><th>Pclass</th><th>class_name</th></tr><tr><td>i64</td><td>str</td></tr></thead><tbody><tr><td>3</td><td>&quot;third&quot;</td></tr><tr><td>1</td><td>&quot;first&quot;</td></tr><tr><td>3</td><td>&quot;third&quot;</td></tr><tr><td>1</td><td>&quot;first&quot;</td></tr><tr><td>3</td><td>&quot;third&quot;</td></tr></tbody></table></div>"
      ]
     },
     "execution_count": 40,
     "metadata": {},
     "output_type": "execute_result"
    }
   ],
   "execution_count": 40
  },
  {
   "metadata": {},
   "cell_type": "markdown",
   "source": "#### Add a new column based on a condition on another column",
   "id": "c8255a7227b0a399"
  },
  {
   "metadata": {},
   "cell_type": "markdown",
   "source": "`pl.when.then.otherwise` -> define a new column based on a condition on nore or more other columns.",
   "id": "2ee103ad03b64513"
  },
  {
   "metadata": {
    "ExecuteTime": {
     "end_time": "2025-05-02T05:57:31.844226Z",
     "start_time": "2025-05-02T05:57:31.841563Z"
    }
   },
   "cell_type": "code",
   "source": [
    "(\n",
    "    df\n",
    "    .select(\n",
    "        pl.all(),\n",
    "        pl.when(pl.col('Pclass') == 1)\n",
    "        .then(1)\n",
    "        .otherwise(0)\n",
    "        .alias(\"First_class?\")\n",
    "    )\n",
    "    .select(\n",
    "        pl.col('Pclass'), pl.col('First_class?')\n",
    "    )\n",
    "    .head()\n",
    ")"
   ],
   "id": "9e3a5365e5ce30ea",
   "outputs": [
    {
     "data": {
      "text/plain": [
       "shape: (5, 2)\n",
       "┌────────┬──────────────┐\n",
       "│ Pclass ┆ First_class? │\n",
       "│ ---    ┆ ---          │\n",
       "│ i64    ┆ i32          │\n",
       "╞════════╪══════════════╡\n",
       "│ 3      ┆ 0            │\n",
       "│ 1      ┆ 1            │\n",
       "│ 3      ┆ 0            │\n",
       "│ 1      ┆ 1            │\n",
       "│ 3      ┆ 0            │\n",
       "└────────┴──────────────┘"
      ],
      "text/html": [
       "<div><style>\n",
       ".dataframe > thead > tr,\n",
       ".dataframe > tbody > tr {\n",
       "  text-align: right;\n",
       "  white-space: pre-wrap;\n",
       "}\n",
       "</style>\n",
       "<small>shape: (5, 2)</small><table border=\"1\" class=\"dataframe\"><thead><tr><th>Pclass</th><th>First_class?</th></tr><tr><td>i64</td><td>i32</td></tr></thead><tbody><tr><td>3</td><td>0</td></tr><tr><td>1</td><td>1</td></tr><tr><td>3</td><td>0</td></tr><tr><td>1</td><td>1</td></tr><tr><td>3</td><td>0</td></tr></tbody></table></div>"
      ]
     },
     "execution_count": 47,
     "metadata": {},
     "output_type": "execute_result"
    }
   ],
   "execution_count": 47
  },
  {
   "metadata": {
    "ExecuteTime": {
     "end_time": "2025-05-02T05:58:44.432861Z",
     "start_time": "2025-05-02T05:58:44.428731Z"
    }
   },
   "cell_type": "code",
   "source": [
    "(\n",
    "    df\n",
    "    .select(\n",
    "        \"Pclass\",\n",
    "        pl.when(\n",
    "             pl.col(\"Pclass\") == 1\n",
    "        )\n",
    "        .then(pl.lit(\"first\"))\n",
    "        .otherwise(pl.lit(\"not_first\"))\n",
    "        .alias(\"first_class\")\n",
    "    )\n",
    "    .select(\"Pclass\",\"first_class\")\n",
    "    .head(2)\n",
    ")"
   ],
   "id": "7c4e0151113b5237",
   "outputs": [
    {
     "data": {
      "text/plain": [
       "shape: (2, 2)\n",
       "┌────────┬─────────────┐\n",
       "│ Pclass ┆ first_class │\n",
       "│ ---    ┆ ---         │\n",
       "│ i64    ┆ str         │\n",
       "╞════════╪═════════════╡\n",
       "│ 3      ┆ not_first   │\n",
       "│ 1      ┆ first       │\n",
       "└────────┴─────────────┘"
      ],
      "text/html": [
       "<div><style>\n",
       ".dataframe > thead > tr,\n",
       ".dataframe > tbody > tr {\n",
       "  text-align: right;\n",
       "  white-space: pre-wrap;\n",
       "}\n",
       "</style>\n",
       "<small>shape: (2, 2)</small><table border=\"1\" class=\"dataframe\"><thead><tr><th>Pclass</th><th>first_class</th></tr><tr><td>i64</td><td>str</td></tr></thead><tbody><tr><td>3</td><td>&quot;not_first&quot;</td></tr><tr><td>1</td><td>&quot;first&quot;</td></tr></tbody></table></div>"
      ]
     },
     "execution_count": 48,
     "metadata": {},
     "output_type": "execute_result"
    }
   ],
   "execution_count": 48
  },
  {
   "metadata": {
    "ExecuteTime": {
     "end_time": "2025-05-02T06:06:12.383206Z",
     "start_time": "2025-05-02T06:06:12.380406Z"
    }
   },
   "cell_type": "code",
   "source": [
    "(\n",
    "    df\n",
    "    .select(\n",
    "        pl.col(\"Pclass\"),\n",
    "        pl.col('Age'),\n",
    "        pl.when(\n",
    "            pl.col('Pclass') == 1,\n",
    "            pl.col('Age') < 30\n",
    "        )\n",
    "        .then(1)\n",
    "        .otherwise(0)\n",
    "        .alias(\"new\")\n",
    "    )\n",
    "    .tail()\n",
    ")"
   ],
   "id": "6adee3b9064939f3",
   "outputs": [
    {
     "data": {
      "text/plain": [
       "shape: (5, 3)\n",
       "┌────────┬──────┬─────┐\n",
       "│ Pclass ┆ Age  ┆ new │\n",
       "│ ---    ┆ ---  ┆ --- │\n",
       "│ i64    ┆ f64  ┆ i32 │\n",
       "╞════════╪══════╪═════╡\n",
       "│ 2      ┆ 27.0 ┆ 0   │\n",
       "│ 1      ┆ 19.0 ┆ 1   │\n",
       "│ 3      ┆ null ┆ 0   │\n",
       "│ 1      ┆ 26.0 ┆ 1   │\n",
       "│ 3      ┆ 32.0 ┆ 0   │\n",
       "└────────┴──────┴─────┘"
      ],
      "text/html": [
       "<div><style>\n",
       ".dataframe > thead > tr,\n",
       ".dataframe > tbody > tr {\n",
       "  text-align: right;\n",
       "  white-space: pre-wrap;\n",
       "}\n",
       "</style>\n",
       "<small>shape: (5, 3)</small><table border=\"1\" class=\"dataframe\"><thead><tr><th>Pclass</th><th>Age</th><th>new</th></tr><tr><td>i64</td><td>f64</td><td>i32</td></tr></thead><tbody><tr><td>2</td><td>27.0</td><td>0</td></tr><tr><td>1</td><td>19.0</td><td>1</td></tr><tr><td>3</td><td>null</td><td>0</td></tr><tr><td>1</td><td>26.0</td><td>1</td></tr><tr><td>3</td><td>32.0</td><td>0</td></tr></tbody></table></div>"
      ]
     },
     "execution_count": 50,
     "metadata": {},
     "output_type": "execute_result"
    }
   ],
   "execution_count": 50
  },
  {
   "metadata": {
    "ExecuteTime": {
     "end_time": "2025-05-02T06:06:21.128929Z",
     "start_time": "2025-05-02T06:06:21.124481Z"
    }
   },
   "cell_type": "code",
   "source": [
    "(\n",
    "    df\n",
    "    .select(\n",
    "        pl.col(\"Pclass\"),\n",
    "        pl.col(\"Age\"),\n",
    "        pl.when(\n",
    "            pl.col(\"Pclass\") == 1,\n",
    "            pl.col(\"Age\")<30\n",
    "        )\n",
    "        .then(1)\n",
    "        .when(\n",
    "            pl.col(\"Pclass\") == 1,\n",
    "            pl.col(\"Age\")>=30\n",
    "        )\n",
    "        .then(2)\n",
    "        .otherwise(0)\n",
    "        .alias(\"age_class\")\n",
    "    )\n",
    "    .head(5)\n",
    ")"
   ],
   "id": "426ee53c8c8ae095",
   "outputs": [
    {
     "data": {
      "text/plain": [
       "shape: (5, 3)\n",
       "┌────────┬──────┬───────────┐\n",
       "│ Pclass ┆ Age  ┆ age_class │\n",
       "│ ---    ┆ ---  ┆ ---       │\n",
       "│ i64    ┆ f64  ┆ i32       │\n",
       "╞════════╪══════╪═══════════╡\n",
       "│ 3      ┆ 22.0 ┆ 0         │\n",
       "│ 1      ┆ 38.0 ┆ 2         │\n",
       "│ 3      ┆ 26.0 ┆ 0         │\n",
       "│ 1      ┆ 35.0 ┆ 2         │\n",
       "│ 3      ┆ 35.0 ┆ 0         │\n",
       "└────────┴──────┴───────────┘"
      ],
      "text/html": [
       "<div><style>\n",
       ".dataframe > thead > tr,\n",
       ".dataframe > tbody > tr {\n",
       "  text-align: right;\n",
       "  white-space: pre-wrap;\n",
       "}\n",
       "</style>\n",
       "<small>shape: (5, 3)</small><table border=\"1\" class=\"dataframe\"><thead><tr><th>Pclass</th><th>Age</th><th>age_class</th></tr><tr><td>i64</td><td>f64</td><td>i32</td></tr></thead><tbody><tr><td>3</td><td>22.0</td><td>0</td></tr><tr><td>1</td><td>38.0</td><td>2</td></tr><tr><td>3</td><td>26.0</td><td>0</td></tr><tr><td>1</td><td>35.0</td><td>2</td></tr><tr><td>3</td><td>35.0</td><td>0</td></tr></tbody></table></div>"
      ]
     },
     "execution_count": 51,
     "metadata": {},
     "output_type": "execute_result"
    }
   ],
   "execution_count": 51
  },
  {
   "metadata": {},
   "cell_type": "markdown",
   "source": "### Sorting",
   "id": "7a53d70a0d25efc5"
  },
  {
   "metadata": {},
   "cell_type": "code",
   "outputs": [],
   "execution_count": null,
   "source": "",
   "id": "a4f87d5b9dbbf285"
  }
 ],
 "metadata": {
  "kernelspec": {
   "display_name": "Python 3",
   "language": "python",
   "name": "python3"
  },
  "language_info": {
   "codemirror_mode": {
    "name": "ipython",
    "version": 2
   },
   "file_extension": ".py",
   "mimetype": "text/x-python",
   "name": "python",
   "nbconvert_exporter": "python",
   "pygments_lexer": "ipython2",
   "version": "2.7.6"
  }
 },
 "nbformat": 4,
 "nbformat_minor": 5
}
