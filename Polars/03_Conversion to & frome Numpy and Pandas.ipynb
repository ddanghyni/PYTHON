{
 "cells": [
  {
   "metadata": {},
   "cell_type": "markdown",
   "source": "## 03_ Polars to Numpy and Pandas",
   "id": "3c78260dd62796c2"
  },
  {
   "metadata": {
    "ExecuteTime": {
     "end_time": "2025-05-02T02:20:59.336622Z",
     "start_time": "2025-05-02T02:20:58.669102Z"
    }
   },
   "cell_type": "code",
   "source": [
    "import pandas as pd\n",
    "import numpy as np\n",
    "import polars as pl"
   ],
   "id": "893030b32eda788c",
   "outputs": [],
   "execution_count": 1
  },
  {
   "metadata": {
    "ExecuteTime": {
     "end_time": "2025-05-02T02:23:43.199383Z",
     "start_time": "2025-05-02T02:23:43.197575Z"
    }
   },
   "cell_type": "code",
   "source": "csv_file = \"./data/titanic.csv\"",
   "id": "65a7ad25fea5118e",
   "outputs": [],
   "execution_count": 2
  },
  {
   "metadata": {
    "ExecuteTime": {
     "end_time": "2025-05-02T02:23:59.479451Z",
     "start_time": "2025-05-02T02:23:59.426140Z"
    }
   },
   "cell_type": "code",
   "source": [
    "df = pl.read_csv(csv_file)\n",
    "df.head(3)"
   ],
   "id": "652c8617cda5fd56",
   "outputs": [
    {
     "data": {
      "text/plain": [
       "shape: (3, 12)\n",
       "┌─────────────┬──────────┬────────┬───────────────────┬───┬───────────┬─────────┬───────┬──────────┐\n",
       "│ PassengerId ┆ Survived ┆ Pclass ┆ Name              ┆ … ┆ Ticket    ┆ Fare    ┆ Cabin ┆ Embarked │\n",
       "│ ---         ┆ ---      ┆ ---    ┆ ---               ┆   ┆ ---       ┆ ---     ┆ ---   ┆ ---      │\n",
       "│ i64         ┆ i64      ┆ i64    ┆ str               ┆   ┆ str       ┆ f64     ┆ str   ┆ str      │\n",
       "╞═════════════╪══════════╪════════╪═══════════════════╪═══╪═══════════╪═════════╪═══════╪══════════╡\n",
       "│ 1           ┆ 0        ┆ 3      ┆ Braund, Mr. Owen  ┆ … ┆ A/5 21171 ┆ 7.25    ┆ null  ┆ S        │\n",
       "│             ┆          ┆        ┆ Harris            ┆   ┆           ┆         ┆       ┆          │\n",
       "│ 2           ┆ 1        ┆ 1      ┆ Cumings, Mrs.     ┆ … ┆ PC 17599  ┆ 71.2833 ┆ C85   ┆ C        │\n",
       "│             ┆          ┆        ┆ John Bradley (Fl… ┆   ┆           ┆         ┆       ┆          │\n",
       "│ 3           ┆ 1        ┆ 3      ┆ Heikkinen, Miss.  ┆ … ┆ STON/O2.  ┆ 7.925   ┆ null  ┆ S        │\n",
       "│             ┆          ┆        ┆ Laina             ┆   ┆ 3101282   ┆         ┆       ┆          │\n",
       "└─────────────┴──────────┴────────┴───────────────────┴───┴───────────┴─────────┴───────┴──────────┘"
      ],
      "text/html": [
       "<div><style>\n",
       ".dataframe > thead > tr,\n",
       ".dataframe > tbody > tr {\n",
       "  text-align: right;\n",
       "  white-space: pre-wrap;\n",
       "}\n",
       "</style>\n",
       "<small>shape: (3, 12)</small><table border=\"1\" class=\"dataframe\"><thead><tr><th>PassengerId</th><th>Survived</th><th>Pclass</th><th>Name</th><th>Sex</th><th>Age</th><th>SibSp</th><th>Parch</th><th>Ticket</th><th>Fare</th><th>Cabin</th><th>Embarked</th></tr><tr><td>i64</td><td>i64</td><td>i64</td><td>str</td><td>str</td><td>f64</td><td>i64</td><td>i64</td><td>str</td><td>f64</td><td>str</td><td>str</td></tr></thead><tbody><tr><td>1</td><td>0</td><td>3</td><td>&quot;Braund, Mr. Owen Harris&quot;</td><td>&quot;male&quot;</td><td>22.0</td><td>1</td><td>0</td><td>&quot;A/5 21171&quot;</td><td>7.25</td><td>null</td><td>&quot;S&quot;</td></tr><tr><td>2</td><td>1</td><td>1</td><td>&quot;Cumings, Mrs. John Bradley (Fl…</td><td>&quot;female&quot;</td><td>38.0</td><td>1</td><td>0</td><td>&quot;PC 17599&quot;</td><td>71.2833</td><td>&quot;C85&quot;</td><td>&quot;C&quot;</td></tr><tr><td>3</td><td>1</td><td>3</td><td>&quot;Heikkinen, Miss. Laina&quot;</td><td>&quot;female&quot;</td><td>26.0</td><td>0</td><td>0</td><td>&quot;STON/O2. 3101282&quot;</td><td>7.925</td><td>null</td><td>&quot;S&quot;</td></tr></tbody></table></div>"
      ]
     },
     "execution_count": 3,
     "metadata": {},
     "output_type": "execute_result"
    }
   ],
   "execution_count": 3
  },
  {
   "metadata": {},
   "cell_type": "markdown",
   "source": "### Convert a `DataFrame` to Numpy",
   "id": "37b3efb12e7162af"
  },
  {
   "metadata": {
    "ExecuteTime": {
     "end_time": "2025-05-02T02:24:47.534464Z",
     "start_time": "2025-05-02T02:24:47.532155Z"
    }
   },
   "cell_type": "code",
   "source": [
    "arr = df.to_numpy()\n",
    "\n",
    "print(arr)"
   ],
   "id": "cd7ba8fbcd61183",
   "outputs": [
    {
     "name": "stdout",
     "output_type": "stream",
     "text": [
      "[[1 0 3 ... 7.25 None 'S']\n",
      " [2 1 1 ... 71.2833 'C85' 'C']\n",
      " [3 1 3 ... 7.925 None 'S']\n",
      " ...\n",
      " [889 0 3 ... 23.45 None 'S']\n",
      " [890 1 1 ... 30.0 'C148' 'C']\n",
      " [891 0 3 ... 7.75 None 'Q']]\n"
     ]
    }
   ],
   "execution_count": 5
  },
  {
   "metadata": {
    "ExecuteTime": {
     "end_time": "2025-05-02T02:24:59.460915Z",
     "start_time": "2025-05-02T02:24:59.458599Z"
    }
   },
   "cell_type": "code",
   "source": "arr",
   "id": "86090060282d622c",
   "outputs": [
    {
     "data": {
      "text/plain": [
       "array([[1, 0, 3, ..., 7.25, None, 'S'],\n",
       "       [2, 1, 1, ..., 71.2833, 'C85', 'C'],\n",
       "       [3, 1, 3, ..., 7.925, None, 'S'],\n",
       "       ...,\n",
       "       [889, 0, 3, ..., 23.45, None, 'S'],\n",
       "       [890, 1, 1, ..., 30.0, 'C148', 'C'],\n",
       "       [891, 0, 3, ..., 7.75, None, 'Q']], shape=(891, 12), dtype=object)"
      ]
     },
     "execution_count": 6,
     "metadata": {},
     "output_type": "execute_result"
    }
   ],
   "execution_count": 6
  },
  {
   "metadata": {
    "ExecuteTime": {
     "end_time": "2025-05-02T02:26:19.684147Z",
     "start_time": "2025-05-02T02:26:19.668941Z"
    }
   },
   "cell_type": "code",
   "source": [
    "# select only int64 dtypes\n",
    "floats_array = (\n",
    "    df\n",
    "    .select(\n",
    "        pl.col(pl.Float64)\n",
    "    )\n",
    "    .to_numpy()\n",
    ")\n",
    "\n",
    "floats_array"
   ],
   "id": "9132b72a6f4bb63d",
   "outputs": [
    {
     "data": {
      "text/plain": [
       "array([[22.    ,  7.25  ],\n",
       "       [38.    , 71.2833],\n",
       "       [26.    ,  7.925 ],\n",
       "       ...,\n",
       "       [    nan, 23.45  ],\n",
       "       [26.    , 30.    ],\n",
       "       [32.    ,  7.75  ]], shape=(891, 2))"
      ]
     },
     "execution_count": 7,
     "metadata": {},
     "output_type": "execute_result"
    }
   ],
   "execution_count": 7
  },
  {
   "metadata": {},
   "cell_type": "markdown",
   "source": "### Convert Numpy to a `DataFrame`",
   "id": "98ebb096d6f8d3a2"
  },
  {
   "metadata": {
    "ExecuteTime": {
     "end_time": "2025-05-02T02:29:25.255701Z",
     "start_time": "2025-05-02T02:29:25.250966Z"
    }
   },
   "cell_type": "code",
   "source": [
    "rand_arry = np.random.standard_normal((5, 3)) # 표준정규분포에서 5by3 배열을 반환\n",
    "(\n",
    "    pl.DataFrame(\n",
    "        data = rand_arry\n",
    "    )\n",
    ")"
   ],
   "id": "99d5f7c4a6664c69",
   "outputs": [
    {
     "data": {
      "text/plain": [
       "shape: (5, 3)\n",
       "┌───────────┬───────────┬───────────┐\n",
       "│ column_0  ┆ column_1  ┆ column_2  │\n",
       "│ ---       ┆ ---       ┆ ---       │\n",
       "│ f64       ┆ f64       ┆ f64       │\n",
       "╞═══════════╪═══════════╪═══════════╡\n",
       "│ -0.813232 ┆ -0.352641 ┆ 1.293133  │\n",
       "│ 0.004917  ┆ -1.148668 ┆ 1.238054  │\n",
       "│ -0.997678 ┆ -1.10032  ┆ -0.358986 │\n",
       "│ -1.30495  ┆ 0.817637  ┆ -0.479864 │\n",
       "│ 0.521279  ┆ -1.618157 ┆ 0.88571   │\n",
       "└───────────┴───────────┴───────────┘"
      ],
      "text/html": [
       "<div><style>\n",
       ".dataframe > thead > tr,\n",
       ".dataframe > tbody > tr {\n",
       "  text-align: right;\n",
       "  white-space: pre-wrap;\n",
       "}\n",
       "</style>\n",
       "<small>shape: (5, 3)</small><table border=\"1\" class=\"dataframe\"><thead><tr><th>column_0</th><th>column_1</th><th>column_2</th></tr><tr><td>f64</td><td>f64</td><td>f64</td></tr></thead><tbody><tr><td>-0.813232</td><td>-0.352641</td><td>1.293133</td></tr><tr><td>0.004917</td><td>-1.148668</td><td>1.238054</td></tr><tr><td>-0.997678</td><td>-1.10032</td><td>-0.358986</td></tr><tr><td>-1.30495</td><td>0.817637</td><td>-0.479864</td></tr><tr><td>0.521279</td><td>-1.618157</td><td>0.88571</td></tr></tbody></table></div>"
      ]
     },
     "execution_count": 9,
     "metadata": {},
     "output_type": "execute_result"
    }
   ],
   "execution_count": 9
  },
  {
   "metadata": {
    "ExecuteTime": {
     "end_time": "2025-05-02T02:30:15.471802Z",
     "start_time": "2025-05-02T02:30:15.467701Z"
    }
   },
   "cell_type": "code",
   "source": [
    "rand_arry_2 = np.random.normal(loc = 5, scale = 3, size = (5, 3))\n",
    "(\n",
    "    pl.DataFrame(\n",
    "        data = rand_arry_2\n",
    "    )\n",
    ")"
   ],
   "id": "3d02d0b9f197051d",
   "outputs": [
    {
     "data": {
      "text/plain": [
       "shape: (5, 3)\n",
       "┌──────────┬──────────┬──────────┐\n",
       "│ column_0 ┆ column_1 ┆ column_2 │\n",
       "│ ---      ┆ ---      ┆ ---      │\n",
       "│ f64      ┆ f64      ┆ f64      │\n",
       "╞══════════╪══════════╪══════════╡\n",
       "│ 7.428179 ┆ 3.283313 ┆ 2.829938 │\n",
       "│ 5.749804 ┆ 9.286592 ┆ 3.766065 │\n",
       "│ 5.758608 ┆ 6.604653 ┆ 1.87158  │\n",
       "│ 9.982422 ┆ 7.314474 ┆ 6.320806 │\n",
       "│ 7.01874  ┆ 1.528935 ┆ 9.264549 │\n",
       "└──────────┴──────────┴──────────┘"
      ],
      "text/html": [
       "<div><style>\n",
       ".dataframe > thead > tr,\n",
       ".dataframe > tbody > tr {\n",
       "  text-align: right;\n",
       "  white-space: pre-wrap;\n",
       "}\n",
       "</style>\n",
       "<small>shape: (5, 3)</small><table border=\"1\" class=\"dataframe\"><thead><tr><th>column_0</th><th>column_1</th><th>column_2</th></tr><tr><td>f64</td><td>f64</td><td>f64</td></tr></thead><tbody><tr><td>7.428179</td><td>3.283313</td><td>2.829938</td></tr><tr><td>5.749804</td><td>9.286592</td><td>3.766065</td></tr><tr><td>5.758608</td><td>6.604653</td><td>1.87158</td></tr><tr><td>9.982422</td><td>7.314474</td><td>6.320806</td></tr><tr><td>7.01874</td><td>1.528935</td><td>9.264549</td></tr></tbody></table></div>"
      ]
     },
     "execution_count": 10,
     "metadata": {},
     "output_type": "execute_result"
    }
   ],
   "execution_count": 10
  },
  {
   "metadata": {
    "ExecuteTime": {
     "end_time": "2025-05-02T02:31:42.502655Z",
     "start_time": "2025-05-02T02:31:42.500348Z"
    }
   },
   "cell_type": "code",
   "source": [
    "arr = np.ones(10)\n",
    "print(arr)\n",
    "\n",
    "print(pl.Series(\"a\", arr))\n",
    "(\n",
    "    print(\n",
    "        pl.DataFrame(\n",
    "            data = arr\n",
    "        )\n",
    "    )\n",
    ")"
   ],
   "id": "e1b9c706c0ac1f",
   "outputs": [
    {
     "name": "stdout",
     "output_type": "stream",
     "text": [
      "[1. 1. 1. 1. 1. 1. 1. 1. 1. 1.]\n",
      "shape: (10,)\n",
      "Series: 'a' [f64]\n",
      "[\n",
      "\t1.0\n",
      "\t1.0\n",
      "\t1.0\n",
      "\t1.0\n",
      "\t1.0\n",
      "\t1.0\n",
      "\t1.0\n",
      "\t1.0\n",
      "\t1.0\n",
      "\t1.0\n",
      "]\n",
      "shape: (10, 1)\n",
      "┌──────────┐\n",
      "│ column_0 │\n",
      "│ ---      │\n",
      "│ f64      │\n",
      "╞══════════╡\n",
      "│ 1.0      │\n",
      "│ 1.0      │\n",
      "│ 1.0      │\n",
      "│ 1.0      │\n",
      "│ 1.0      │\n",
      "│ 1.0      │\n",
      "│ 1.0      │\n",
      "│ 1.0      │\n",
      "│ 1.0      │\n",
      "│ 1.0      │\n",
      "└──────────┘\n"
     ]
    }
   ],
   "execution_count": 13
  },
  {
   "metadata": {},
   "cell_type": "markdown",
   "source": "### Convert a `Series` to Numpy",
   "id": "a82fe3b06d700991"
  },
  {
   "metadata": {
    "ExecuteTime": {
     "end_time": "2025-05-02T02:32:28.486028Z",
     "start_time": "2025-05-02T02:32:28.481944Z"
    }
   },
   "cell_type": "code",
   "source": [
    "(\n",
    "    df['Age']\n",
    "    .head()\n",
    "    .to_numpy()\n",
    ")"
   ],
   "id": "fb707455dbfd52f8",
   "outputs": [
    {
     "data": {
      "text/plain": [
       "array([22., 38., 26., 35., 35., nan, 54.,  2., 27., 14.])"
      ]
     },
     "execution_count": 14,
     "metadata": {},
     "output_type": "execute_result"
    }
   ],
   "execution_count": 14
  },
  {
   "metadata": {
    "ExecuteTime": {
     "end_time": "2025-05-02T02:33:44.684842Z",
     "start_time": "2025-05-02T02:33:44.679482Z"
    }
   },
   "cell_type": "code",
   "source": [
    "(\n",
    "    df['Age']\n",
    "    .cast(pl.Int64)\n",
    "    .head()\n",
    "    .to_numpy()\n",
    ")"
   ],
   "id": "22bc3772a8dd4ed2",
   "outputs": [
    {
     "data": {
      "text/plain": [
       "array([22., 38., 26., 35., 35., nan, 54.,  2., 27., 14.])"
      ]
     },
     "execution_count": 15,
     "metadata": {},
     "output_type": "execute_result"
    }
   ],
   "execution_count": 15
  },
  {
   "metadata": {},
   "cell_type": "markdown",
   "source": "### Convert a `DataFrame` to Pandas",
   "id": "d193659e8cc89084"
  },
  {
   "metadata": {
    "ExecuteTime": {
     "end_time": "2025-05-02T02:36:44.028225Z",
     "start_time": "2025-05-02T02:36:44.008671Z"
    }
   },
   "cell_type": "code",
   "source": [
    "(\n",
    "    df\n",
    "    .to_pandas()\n",
    "    .head()\n",
    ")"
   ],
   "id": "8c0820d06e226906",
   "outputs": [
    {
     "data": {
      "text/plain": [
       "   PassengerId  Survived  Pclass  \\\n",
       "0            1         0       3   \n",
       "1            2         1       1   \n",
       "2            3         1       3   \n",
       "3            4         1       1   \n",
       "4            5         0       3   \n",
       "\n",
       "                                                Name     Sex   Age  SibSp  \\\n",
       "0                            Braund, Mr. Owen Harris    male  22.0      1   \n",
       "1  Cumings, Mrs. John Bradley (Florence Briggs Th...  female  38.0      1   \n",
       "2                             Heikkinen, Miss. Laina  female  26.0      0   \n",
       "3       Futrelle, Mrs. Jacques Heath (Lily May Peel)  female  35.0      1   \n",
       "4                           Allen, Mr. William Henry    male  35.0      0   \n",
       "\n",
       "   Parch            Ticket     Fare Cabin Embarked  \n",
       "0      0         A/5 21171   7.2500  None        S  \n",
       "1      0          PC 17599  71.2833   C85        C  \n",
       "2      0  STON/O2. 3101282   7.9250  None        S  \n",
       "3      0            113803  53.1000  C123        S  \n",
       "4      0            373450   8.0500  None        S  "
      ],
      "text/html": [
       "<div>\n",
       "<style scoped>\n",
       "    .dataframe tbody tr th:only-of-type {\n",
       "        vertical-align: middle;\n",
       "    }\n",
       "\n",
       "    .dataframe tbody tr th {\n",
       "        vertical-align: top;\n",
       "    }\n",
       "\n",
       "    .dataframe thead th {\n",
       "        text-align: right;\n",
       "    }\n",
       "</style>\n",
       "<table border=\"1\" class=\"dataframe\">\n",
       "  <thead>\n",
       "    <tr style=\"text-align: right;\">\n",
       "      <th></th>\n",
       "      <th>PassengerId</th>\n",
       "      <th>Survived</th>\n",
       "      <th>Pclass</th>\n",
       "      <th>Name</th>\n",
       "      <th>Sex</th>\n",
       "      <th>Age</th>\n",
       "      <th>SibSp</th>\n",
       "      <th>Parch</th>\n",
       "      <th>Ticket</th>\n",
       "      <th>Fare</th>\n",
       "      <th>Cabin</th>\n",
       "      <th>Embarked</th>\n",
       "    </tr>\n",
       "  </thead>\n",
       "  <tbody>\n",
       "    <tr>\n",
       "      <th>0</th>\n",
       "      <td>1</td>\n",
       "      <td>0</td>\n",
       "      <td>3</td>\n",
       "      <td>Braund, Mr. Owen Harris</td>\n",
       "      <td>male</td>\n",
       "      <td>22.0</td>\n",
       "      <td>1</td>\n",
       "      <td>0</td>\n",
       "      <td>A/5 21171</td>\n",
       "      <td>7.2500</td>\n",
       "      <td>None</td>\n",
       "      <td>S</td>\n",
       "    </tr>\n",
       "    <tr>\n",
       "      <th>1</th>\n",
       "      <td>2</td>\n",
       "      <td>1</td>\n",
       "      <td>1</td>\n",
       "      <td>Cumings, Mrs. John Bradley (Florence Briggs Th...</td>\n",
       "      <td>female</td>\n",
       "      <td>38.0</td>\n",
       "      <td>1</td>\n",
       "      <td>0</td>\n",
       "      <td>PC 17599</td>\n",
       "      <td>71.2833</td>\n",
       "      <td>C85</td>\n",
       "      <td>C</td>\n",
       "    </tr>\n",
       "    <tr>\n",
       "      <th>2</th>\n",
       "      <td>3</td>\n",
       "      <td>1</td>\n",
       "      <td>3</td>\n",
       "      <td>Heikkinen, Miss. Laina</td>\n",
       "      <td>female</td>\n",
       "      <td>26.0</td>\n",
       "      <td>0</td>\n",
       "      <td>0</td>\n",
       "      <td>STON/O2. 3101282</td>\n",
       "      <td>7.9250</td>\n",
       "      <td>None</td>\n",
       "      <td>S</td>\n",
       "    </tr>\n",
       "    <tr>\n",
       "      <th>3</th>\n",
       "      <td>4</td>\n",
       "      <td>1</td>\n",
       "      <td>1</td>\n",
       "      <td>Futrelle, Mrs. Jacques Heath (Lily May Peel)</td>\n",
       "      <td>female</td>\n",
       "      <td>35.0</td>\n",
       "      <td>1</td>\n",
       "      <td>0</td>\n",
       "      <td>113803</td>\n",
       "      <td>53.1000</td>\n",
       "      <td>C123</td>\n",
       "      <td>S</td>\n",
       "    </tr>\n",
       "    <tr>\n",
       "      <th>4</th>\n",
       "      <td>5</td>\n",
       "      <td>0</td>\n",
       "      <td>3</td>\n",
       "      <td>Allen, Mr. William Henry</td>\n",
       "      <td>male</td>\n",
       "      <td>35.0</td>\n",
       "      <td>0</td>\n",
       "      <td>0</td>\n",
       "      <td>373450</td>\n",
       "      <td>8.0500</td>\n",
       "      <td>None</td>\n",
       "      <td>S</td>\n",
       "    </tr>\n",
       "  </tbody>\n",
       "</table>\n",
       "</div>"
      ]
     },
     "execution_count": 16,
     "metadata": {},
     "output_type": "execute_result"
    }
   ],
   "execution_count": 16
  },
  {
   "metadata": {},
   "cell_type": "markdown",
   "source": "### Calling `pd.DataFrame` on a Polars `DataFrame`",
   "id": "217152a845effc76"
  },
  {
   "metadata": {
    "ExecuteTime": {
     "end_time": "2025-05-02T02:38:54.432557Z",
     "start_time": "2025-05-02T02:38:54.430262Z"
    }
   },
   "cell_type": "code",
   "source": [
    "df_pandas = (\n",
    "    pd.DataFrame(df)\n",
    "    .head(3)\n",
    ")"
   ],
   "id": "c5ffd4a48f4a0f65",
   "outputs": [],
   "execution_count": 17
  },
  {
   "metadata": {
    "ExecuteTime": {
     "end_time": "2025-05-02T02:38:59.237027Z",
     "start_time": "2025-05-02T02:38:59.231942Z"
    }
   },
   "cell_type": "code",
   "source": "df_pandas",
   "id": "a8e07083f20f444e",
   "outputs": [
    {
     "data": {
      "text/plain": [
       "  0  1  2                                                  3       4     5   \\\n",
       "0  1  0  3                            Braund, Mr. Owen Harris    male  22.0   \n",
       "1  2  1  1  Cumings, Mrs. John Bradley (Florence Briggs Th...  female  38.0   \n",
       "2  3  1  3                             Heikkinen, Miss. Laina  female  26.0   \n",
       "\n",
       "  6  7                 8        9     10 11  \n",
       "0  1  0         A/5 21171     7.25  None  S  \n",
       "1  1  0          PC 17599  71.2833   C85  C  \n",
       "2  0  0  STON/O2. 3101282    7.925  None  S  "
      ],
      "text/html": [
       "<div>\n",
       "<style scoped>\n",
       "    .dataframe tbody tr th:only-of-type {\n",
       "        vertical-align: middle;\n",
       "    }\n",
       "\n",
       "    .dataframe tbody tr th {\n",
       "        vertical-align: top;\n",
       "    }\n",
       "\n",
       "    .dataframe thead th {\n",
       "        text-align: right;\n",
       "    }\n",
       "</style>\n",
       "<table border=\"1\" class=\"dataframe\">\n",
       "  <thead>\n",
       "    <tr style=\"text-align: right;\">\n",
       "      <th></th>\n",
       "      <th>0</th>\n",
       "      <th>1</th>\n",
       "      <th>2</th>\n",
       "      <th>3</th>\n",
       "      <th>4</th>\n",
       "      <th>5</th>\n",
       "      <th>6</th>\n",
       "      <th>7</th>\n",
       "      <th>8</th>\n",
       "      <th>9</th>\n",
       "      <th>10</th>\n",
       "      <th>11</th>\n",
       "    </tr>\n",
       "  </thead>\n",
       "  <tbody>\n",
       "    <tr>\n",
       "      <th>0</th>\n",
       "      <td>1</td>\n",
       "      <td>0</td>\n",
       "      <td>3</td>\n",
       "      <td>Braund, Mr. Owen Harris</td>\n",
       "      <td>male</td>\n",
       "      <td>22.0</td>\n",
       "      <td>1</td>\n",
       "      <td>0</td>\n",
       "      <td>A/5 21171</td>\n",
       "      <td>7.25</td>\n",
       "      <td>None</td>\n",
       "      <td>S</td>\n",
       "    </tr>\n",
       "    <tr>\n",
       "      <th>1</th>\n",
       "      <td>2</td>\n",
       "      <td>1</td>\n",
       "      <td>1</td>\n",
       "      <td>Cumings, Mrs. John Bradley (Florence Briggs Th...</td>\n",
       "      <td>female</td>\n",
       "      <td>38.0</td>\n",
       "      <td>1</td>\n",
       "      <td>0</td>\n",
       "      <td>PC 17599</td>\n",
       "      <td>71.2833</td>\n",
       "      <td>C85</td>\n",
       "      <td>C</td>\n",
       "    </tr>\n",
       "    <tr>\n",
       "      <th>2</th>\n",
       "      <td>3</td>\n",
       "      <td>1</td>\n",
       "      <td>3</td>\n",
       "      <td>Heikkinen, Miss. Laina</td>\n",
       "      <td>female</td>\n",
       "      <td>26.0</td>\n",
       "      <td>0</td>\n",
       "      <td>0</td>\n",
       "      <td>STON/O2. 3101282</td>\n",
       "      <td>7.925</td>\n",
       "      <td>None</td>\n",
       "      <td>S</td>\n",
       "    </tr>\n",
       "  </tbody>\n",
       "</table>\n",
       "</div>"
      ]
     },
     "execution_count": 18,
     "metadata": {},
     "output_type": "execute_result"
    }
   ],
   "execution_count": 18
  },
  {
   "metadata": {
    "ExecuteTime": {
     "end_time": "2025-05-02T02:39:35.765203Z",
     "start_time": "2025-05-02T02:39:35.755926Z"
    }
   },
   "cell_type": "code",
   "source": [
    "# Convert pandas df to polars\n",
    "(\n",
    "    pl.from_pandas(\n",
    "        df_pandas\n",
    "    )\n",
    ")"
   ],
   "id": "150f259d8097ee28",
   "outputs": [
    {
     "data": {
      "text/plain": [
       "shape: (3, 12)\n",
       "┌─────┬─────┬─────┬─────────────────────────────────┬───┬──────────────────┬─────────┬──────┬─────┐\n",
       "│ 0   ┆ 1   ┆ 2   ┆ 3                               ┆ … ┆ 8                ┆ 9       ┆ 10   ┆ 11  │\n",
       "│ --- ┆ --- ┆ --- ┆ ---                             ┆   ┆ ---              ┆ ---     ┆ ---  ┆ --- │\n",
       "│ i64 ┆ i64 ┆ i64 ┆ str                             ┆   ┆ str              ┆ f64     ┆ str  ┆ str │\n",
       "╞═════╪═════╪═════╪═════════════════════════════════╪═══╪══════════════════╪═════════╪══════╪═════╡\n",
       "│ 1   ┆ 0   ┆ 3   ┆ Braund, Mr. Owen Harris         ┆ … ┆ A/5 21171        ┆ 7.25    ┆ null ┆ S   │\n",
       "│ 2   ┆ 1   ┆ 1   ┆ Cumings, Mrs. John Bradley (Fl… ┆ … ┆ PC 17599         ┆ 71.2833 ┆ C85  ┆ C   │\n",
       "│ 3   ┆ 1   ┆ 3   ┆ Heikkinen, Miss. Laina          ┆ … ┆ STON/O2. 3101282 ┆ 7.925   ┆ null ┆ S   │\n",
       "└─────┴─────┴─────┴─────────────────────────────────┴───┴──────────────────┴─────────┴──────┴─────┘"
      ],
      "text/html": [
       "<div><style>\n",
       ".dataframe > thead > tr,\n",
       ".dataframe > tbody > tr {\n",
       "  text-align: right;\n",
       "  white-space: pre-wrap;\n",
       "}\n",
       "</style>\n",
       "<small>shape: (3, 12)</small><table border=\"1\" class=\"dataframe\"><thead><tr><th>0</th><th>1</th><th>2</th><th>3</th><th>4</th><th>5</th><th>6</th><th>7</th><th>8</th><th>9</th><th>10</th><th>11</th></tr><tr><td>i64</td><td>i64</td><td>i64</td><td>str</td><td>str</td><td>f64</td><td>i64</td><td>i64</td><td>str</td><td>f64</td><td>str</td><td>str</td></tr></thead><tbody><tr><td>1</td><td>0</td><td>3</td><td>&quot;Braund, Mr. Owen Harris&quot;</td><td>&quot;male&quot;</td><td>22.0</td><td>1</td><td>0</td><td>&quot;A/5 21171&quot;</td><td>7.25</td><td>null</td><td>&quot;S&quot;</td></tr><tr><td>2</td><td>1</td><td>1</td><td>&quot;Cumings, Mrs. John Bradley (Fl…</td><td>&quot;female&quot;</td><td>38.0</td><td>1</td><td>0</td><td>&quot;PC 17599&quot;</td><td>71.2833</td><td>&quot;C85&quot;</td><td>&quot;C&quot;</td></tr><tr><td>3</td><td>1</td><td>3</td><td>&quot;Heikkinen, Miss. Laina&quot;</td><td>&quot;female&quot;</td><td>26.0</td><td>0</td><td>0</td><td>&quot;STON/O2. 3101282&quot;</td><td>7.925</td><td>null</td><td>&quot;S&quot;</td></tr></tbody></table></div>"
      ]
     },
     "execution_count": 19,
     "metadata": {},
     "output_type": "execute_result"
    }
   ],
   "execution_count": 19
  },
  {
   "metadata": {},
   "cell_type": "code",
   "outputs": [],
   "execution_count": null,
   "source": "",
   "id": "d7d2ab0e208db13c"
  }
 ],
 "metadata": {
  "kernelspec": {
   "display_name": "Python 3",
   "language": "python",
   "name": "python3"
  },
  "language_info": {
   "codemirror_mode": {
    "name": "ipython",
    "version": 2
   },
   "file_extension": ".py",
   "mimetype": "text/x-python",
   "name": "python",
   "nbconvert_exporter": "python",
   "pygments_lexer": "ipython2",
   "version": "2.7.6"
  }
 },
 "nbformat": 4,
 "nbformat_minor": 5
}
