{
 "cells": [
  {
   "cell_type": "markdown",
   "id": "d910ee57-0819-40f3-b345-0deece619afa",
   "metadata": {},
   "source": [
    "## What is a Polars `DataFrame`?\n",
    "In this lecture we have a high-level look at a Polars `DataFrame` and learn:\n",
    "- how to access important metadata\n",
    "- how to compare schema\n",
    "- how Polars stores data with Apache Arrow\n",
    "- what happens when we modify a `DataFrame`"
   ]
  },
  {
   "cell_type": "code",
   "id": "a350b0f1-ff14-4097-94a2-a4f937b89fcd",
   "metadata": {
    "tags": [],
    "ExecuteTime": {
     "end_time": "2025-03-28T08:58:36.229018Z",
     "start_time": "2025-03-28T08:58:36.066555Z"
    }
   },
   "source": [
    "import polars as pl\n",
    "import numpy as np"
   ],
   "outputs": [],
   "execution_count": 1
  },
  {
   "cell_type": "code",
   "id": "ee7a4ca2-4a74-41c0-8640-501a2f16a6e6",
   "metadata": {
    "tags": [],
    "ExecuteTime": {
     "end_time": "2025-03-28T08:58:40.445634Z",
     "start_time": "2025-03-28T08:58:40.444114Z"
    }
   },
   "source": [
    "csv_file = \"../data/titanic.csv\""
   ],
   "outputs": [],
   "execution_count": 2
  },
  {
   "cell_type": "code",
   "id": "a1c1b14e-6642-43ec-8185-2e0924d8ca85",
   "metadata": {
    "tags": [],
    "ExecuteTime": {
     "end_time": "2025-03-28T08:58:41.085758Z",
     "start_time": "2025-03-28T08:58:41.063151Z"
    }
   },
   "source": [
    "df = pl.read_csv(csv_file)\n",
    "df.head(3)"
   ],
   "outputs": [
    {
     "data": {
      "text/plain": [
       "shape: (3, 12)\n",
       "┌─────────────┬──────────┬────────┬───────────────────┬───┬───────────┬─────────┬───────┬──────────┐\n",
       "│ PassengerId ┆ Survived ┆ Pclass ┆ Name              ┆ … ┆ Ticket    ┆ Fare    ┆ Cabin ┆ Embarked │\n",
       "│ ---         ┆ ---      ┆ ---    ┆ ---               ┆   ┆ ---       ┆ ---     ┆ ---   ┆ ---      │\n",
       "│ i64         ┆ i64      ┆ i64    ┆ str               ┆   ┆ str       ┆ f64     ┆ str   ┆ str      │\n",
       "╞═════════════╪══════════╪════════╪═══════════════════╪═══╪═══════════╪═════════╪═══════╪══════════╡\n",
       "│ 1           ┆ 0        ┆ 3      ┆ Braund, Mr. Owen  ┆ … ┆ A/5 21171 ┆ 7.25    ┆ null  ┆ S        │\n",
       "│             ┆          ┆        ┆ Harris            ┆   ┆           ┆         ┆       ┆          │\n",
       "│ 2           ┆ 1        ┆ 1      ┆ Cumings, Mrs.     ┆ … ┆ PC 17599  ┆ 71.2833 ┆ C85   ┆ C        │\n",
       "│             ┆          ┆        ┆ John Bradley (Fl… ┆   ┆           ┆         ┆       ┆          │\n",
       "│ 3           ┆ 1        ┆ 3      ┆ Heikkinen, Miss.  ┆ … ┆ STON/O2.  ┆ 7.925   ┆ null  ┆ S        │\n",
       "│             ┆          ┆        ┆ Laina             ┆   ┆ 3101282   ┆         ┆       ┆          │\n",
       "└─────────────┴──────────┴────────┴───────────────────┴───┴───────────┴─────────┴───────┴──────────┘"
      ],
      "text/html": [
       "<div><style>\n",
       ".dataframe > thead > tr,\n",
       ".dataframe > tbody > tr {\n",
       "  text-align: right;\n",
       "  white-space: pre-wrap;\n",
       "}\n",
       "</style>\n",
       "<small>shape: (3, 12)</small><table border=\"1\" class=\"dataframe\"><thead><tr><th>PassengerId</th><th>Survived</th><th>Pclass</th><th>Name</th><th>Sex</th><th>Age</th><th>SibSp</th><th>Parch</th><th>Ticket</th><th>Fare</th><th>Cabin</th><th>Embarked</th></tr><tr><td>i64</td><td>i64</td><td>i64</td><td>str</td><td>str</td><td>f64</td><td>i64</td><td>i64</td><td>str</td><td>f64</td><td>str</td><td>str</td></tr></thead><tbody><tr><td>1</td><td>0</td><td>3</td><td>&quot;Braund, Mr. Owen Harris&quot;</td><td>&quot;male&quot;</td><td>22.0</td><td>1</td><td>0</td><td>&quot;A/5 21171&quot;</td><td>7.25</td><td>null</td><td>&quot;S&quot;</td></tr><tr><td>2</td><td>1</td><td>1</td><td>&quot;Cumings, Mrs. John Bradley (Fl…</td><td>&quot;female&quot;</td><td>38.0</td><td>1</td><td>0</td><td>&quot;PC 17599&quot;</td><td>71.2833</td><td>&quot;C85&quot;</td><td>&quot;C&quot;</td></tr><tr><td>3</td><td>1</td><td>3</td><td>&quot;Heikkinen, Miss. Laina&quot;</td><td>&quot;female&quot;</td><td>26.0</td><td>0</td><td>0</td><td>&quot;STON/O2. 3101282&quot;</td><td>7.925</td><td>null</td><td>&quot;S&quot;</td></tr></tbody></table></div>"
      ]
     },
     "execution_count": 3,
     "metadata": {},
     "output_type": "execute_result"
    }
   ],
   "execution_count": 3
  },
  {
   "cell_type": "markdown",
   "id": "65dfc421-2bde-42d7-b3d2-64ec4a20a291",
   "metadata": {},
   "source": [
    "A Polars `DataFrame`:\n",
    "- is a tabular dataset stored in an Arrow Table (see below)\n",
    "- has a height and a width\n",
    "- has unique string column names\n",
    "- has a data type for each column\n",
    "- has methods for transforming the data stored in the Arrow Table"
   ]
  },
  {
   "cell_type": "markdown",
   "id": "4151d339-2df2-4669-8522-99339d06ce56",
   "metadata": {},
   "source": [
    "We can get the height (number of rows) and width (number of columns) as attributes"
   ]
  },
  {
   "cell_type": "code",
   "id": "ea66a40c-1a5d-4ec9-b60b-9c076c932102",
   "metadata": {
    "ExecuteTime": {
     "end_time": "2025-03-28T08:59:00.757603Z",
     "start_time": "2025-03-28T08:59:00.754958Z"
    }
   },
   "source": [
    "df.width"
   ],
   "outputs": [
    {
     "data": {
      "text/plain": [
       "12"
      ]
     },
     "execution_count": 4,
     "metadata": {},
     "output_type": "execute_result"
    }
   ],
   "execution_count": 4
  },
  {
   "cell_type": "code",
   "id": "f89fd9b5-a49f-49e4-9cec-20cce7f1f96c",
   "metadata": {
    "ExecuteTime": {
     "end_time": "2025-03-28T08:59:01.563218Z",
     "start_time": "2025-03-28T08:59:01.560356Z"
    }
   },
   "source": [
    "df.height"
   ],
   "outputs": [
    {
     "data": {
      "text/plain": [
       "891"
      ]
     },
     "execution_count": 5,
     "metadata": {},
     "output_type": "execute_result"
    }
   ],
   "execution_count": 5
  },
  {
   "metadata": {
    "ExecuteTime": {
     "end_time": "2025-03-28T08:59:10.674222Z",
     "start_time": "2025-03-28T08:59:10.671819Z"
    }
   },
   "cell_type": "code",
   "source": "df.shape",
   "id": "751a140fdd197018",
   "outputs": [
    {
     "data": {
      "text/plain": [
       "(891, 12)"
      ]
     },
     "execution_count": 6,
     "metadata": {},
     "output_type": "execute_result"
    }
   ],
   "execution_count": 6
  },
  {
   "cell_type": "markdown",
   "id": "731ff417-4da4-4121-bc46-a80835f423bc",
   "metadata": {},
   "source": [
    "## Data type schema\n",
    "\n",
    "Every column in a `DataFrame` has a data type called a `dtype`.\n",
    "\n",
    "We can get a `pl.Schema` that maps column names to dtypes with the `.schema` attribute"
   ]
  },
  {
   "metadata": {
    "ExecuteTime": {
     "end_time": "2025-03-28T08:59:31.199093Z",
     "start_time": "2025-03-28T08:59:31.195660Z"
    }
   },
   "cell_type": "code",
   "source": "df.schema",
   "id": "65336b5e58bfdad7",
   "outputs": [
    {
     "data": {
      "text/plain": [
       "Schema([('PassengerId', Int64),\n",
       "        ('Survived', Int64),\n",
       "        ('Pclass', Int64),\n",
       "        ('Name', String),\n",
       "        ('Sex', String),\n",
       "        ('Age', Float64),\n",
       "        ('SibSp', Int64),\n",
       "        ('Parch', Int64),\n",
       "        ('Ticket', String),\n",
       "        ('Fare', Float64),\n",
       "        ('Cabin', String),\n",
       "        ('Embarked', String)])"
      ]
     },
     "execution_count": 8,
     "metadata": {},
     "output_type": "execute_result"
    }
   ],
   "execution_count": 8
  },
  {
   "cell_type": "markdown",
   "id": "e00b552a-09c3-4cc7-9699-ae7099bb0c46",
   "metadata": {},
   "source": [
    "The `schema` has a Polars type `pl.Schema`. We can also create a `pl.Schema` manually"
   ]
  },
  {
   "cell_type": "code",
   "id": "d8f607db-ecb6-40f0-91fa-f970d0d6befd",
   "metadata": {
    "ExecuteTime": {
     "end_time": "2025-03-28T08:59:56.767928Z",
     "start_time": "2025-03-28T08:59:56.765077Z"
    }
   },
   "source": [
    "pl.Schema(\n",
    "    [\n",
    "        (\"a\", pl.Int64), \n",
    "        (\"b\", pl.Float64)\n",
    "    ]\n",
    ")"
   ],
   "outputs": [
    {
     "data": {
      "text/plain": [
       "Schema([('a', Int64), ('b', Float64)])"
      ]
     },
     "execution_count": 10,
     "metadata": {},
     "output_type": "execute_result"
    }
   ],
   "execution_count": 10
  },
  {
   "cell_type": "markdown",
   "id": "3a4fb711-9ccb-47d2-b831-b5f4d470e28c",
   "metadata": {},
   "source": [
    "When testing data pipelines a common task is to compare the output `schema` with an expected schema. While we can do a quick comparison with `==` a more important point for effective debugging is to explain what any differences are if there are differences. \n",
    "\n",
    "Below we define a function that can do this comparison and report on the differences. Note that there is nothing Polars-specific about this code, it uses Python methods throughout"
   ]
  },
  {
   "cell_type": "code",
   "id": "a495fce8-7bf8-4624-9740-466c4b8f08dd",
   "metadata": {
    "ExecuteTime": {
     "end_time": "2025-03-28T09:00:03.861873Z",
     "start_time": "2025-03-28T09:00:03.858530Z"
    }
   },
   "source": [
    "def compare_polars_schema(\n",
    "        df_schema:pl.Schema, \n",
    "        target_schema: pl.Schema\n",
    "):\n",
    "    \"\"\"\n",
    "    Compare two pl.Schema and report on any differences\n",
    "    Args:\n",
    "        df_schema (OrderedDict): The schema of our DataFrame\n",
    "        target_schema (OrderedDict): The target schema of our DataFrame that we are comparing to\n",
    "    \n",
    "    Returns:\n",
    "        Dict containing comparison details, with keys indicating the type of difference\n",
    "    \"\"\"\n",
    "    # Check if they are the same\n",
    "    if df_schema == target_schema:\n",
    "        return {\"match\": True}\n",
    "    \n",
    "    # Otherwise do a detailed comparison\n",
    "    comparison_result = {\n",
    "        \"match\": False,\n",
    "        \"differences\": {}\n",
    "    }\n",
    "    \n",
    "    # Check keys\n",
    "    df_keys = set(df_schema.keys())\n",
    "    target_keys = set(target_schema.keys())\n",
    "    \n",
    "    # Check for missing or extra keys\n",
    "    missing_in_target_schema = df_keys - target_keys\n",
    "    missing_in_df_schema = target_keys - df_keys\n",
    "    \n",
    "    if missing_in_target_schema:\n",
    "        comparison_result[\"differences\"][\"keys_missing_in_target\"] = list(missing_in_target_schema)\n",
    "    \n",
    "    if missing_in_df_schema:\n",
    "        comparison_result[\"differences\"][\"keys_missing_in_df\"] = list(missing_in_df_schema)\n",
    "    \n",
    "    # Check common keys for dtype differences\n",
    "    common_keys = df_keys.intersection(target_keys)\n",
    "    \n",
    "    dtype_differences = {}\n",
    "    for key in common_keys:\n",
    "        if df_schema[key] != target_schema[key]:\n",
    "            dtype_differences[key] = {\n",
    "                \"df_type\": str(df_schema[key]),\n",
    "                \"target_type\": str(target_schema[key])\n",
    "            }\n",
    "    \n",
    "    if dtype_differences:\n",
    "        comparison_result[\"differences\"][\"dtype_mismatches\"] = dtype_differences\n",
    "    \n",
    "    return comparison_result"
   ],
   "outputs": [],
   "execution_count": 12
  },
  {
   "cell_type": "markdown",
   "id": "2b4de138-b78e-4755-aa2c-cca97fd8e560",
   "metadata": {},
   "source": [
    "We now do an example to see what the output looks like"
   ]
  },
  {
   "cell_type": "code",
   "id": "b3ac8b4a-943e-4901-aba5-20494d7c1c80",
   "metadata": {
    "ExecuteTime": {
     "end_time": "2025-03-28T09:00:07.951367Z",
     "start_time": "2025-03-28T09:00:07.949107Z"
    }
   },
   "source": [
    "# Example usage\n",
    "def schema_comparison_example():\n",
    "    # Create a sample DataFrame\n",
    "    df = pl.DataFrame(\n",
    "        {\n",
    "            \"col1\":[0,1],\n",
    "            \"col2\":[0.0,1.0],\n",
    "            \"col3\":[\"0\",\"1\"],\n",
    "        }\n",
    "    )\n",
    "    df_schema = df.schema\n",
    "    # Create a target with a mismatched schema compared to df\n",
    "    target_schema = pl.Schema([\n",
    "        (\"col1\", pl.Int64),\n",
    "        (\"col2\", pl.Float32),\n",
    "        (\"col4\", pl.Date),\n",
    "    ])\n",
    "    \n",
    "    # Compare the schema\n",
    "    comparison = compare_polars_schema(df_schema=df.schema, target_schema=target_schema)\n",
    "    print(comparison)"
   ],
   "outputs": [],
   "execution_count": 13
  },
  {
   "cell_type": "markdown",
   "id": "f45e628f-7915-46f6-ac61-879028cf13b3",
   "metadata": {},
   "source": [
    "And then we run the example"
   ]
  },
  {
   "cell_type": "code",
   "id": "9e132077-5f9a-4723-9947-18002f16f173",
   "metadata": {
    "ExecuteTime": {
     "end_time": "2025-03-28T09:00:14.072822Z",
     "start_time": "2025-03-28T09:00:14.069437Z"
    }
   },
   "source": [
    "schema_comparison_example()"
   ],
   "outputs": [
    {
     "name": "stdout",
     "output_type": "stream",
     "text": [
      "{'match': False, 'differences': {'keys_missing_in_target': ['col3'], 'keys_missing_in_df': ['col4'], 'dtype_mismatches': {'col2': {'df_type': 'Float64', 'target_type': 'Float32'}}}}\n"
     ]
    }
   ],
   "execution_count": 14
  },
  {
   "cell_type": "markdown",
   "id": "b7c9d084-18b7-4604-8628-35a73fa57a18",
   "metadata": {},
   "source": [
    "In an actual testing suite we would of course raise an `Exception` if the schema didn't match the target rather than just printing the output.\n",
    "\n",
    "As well as `schema` there is also a `dtypes` attribute (as in Pandas). However, this gives a `list` of dtypes with no column names"
   ]
  },
  {
   "cell_type": "code",
   "id": "d723eaef-e948-410d-b108-c3ae9acc9ea9",
   "metadata": {
    "tags": [],
    "ExecuteTime": {
     "end_time": "2025-03-28T09:00:18.854460Z",
     "start_time": "2025-03-28T09:00:18.851641Z"
    }
   },
   "source": [
    "df.dtypes"
   ],
   "outputs": [
    {
     "data": {
      "text/plain": [
       "[Int64,\n",
       " Int64,\n",
       " Int64,\n",
       " String,\n",
       " String,\n",
       " Float64,\n",
       " Int64,\n",
       " Int64,\n",
       " String,\n",
       " Float64,\n",
       " String,\n",
       " String]"
      ]
     },
     "execution_count": 15,
     "metadata": {},
     "output_type": "execute_result"
    }
   ],
   "execution_count": 15
  },
  {
   "cell_type": "markdown",
   "id": "10dd4917-18e1-472f-a943-9ca369047d32",
   "metadata": {},
   "source": [
    "A `Series` also has a data type attribute"
   ]
  },
  {
   "cell_type": "code",
   "id": "350e16ff-e27b-485f-a978-641dbb846f96",
   "metadata": {
    "tags": [],
    "ExecuteTime": {
     "end_time": "2025-03-28T09:00:21.715932Z",
     "start_time": "2025-03-28T09:00:21.712816Z"
    }
   },
   "source": [
    "df['Name'].dtype"
   ],
   "outputs": [
    {
     "data": {
      "text/plain": [
       "String"
      ]
     },
     "execution_count": 16,
     "metadata": {},
     "output_type": "execute_result"
    }
   ],
   "execution_count": 16
  },
  {
   "cell_type": "markdown",
   "id": "c0988c35-d159-45de-9d83-984bf8ab0733",
   "metadata": {},
   "source": [
    "### Supertypes\n",
    "We can group the dtypes into groups:\n",
    "- integers e.g. pl.Int8,pl.Int16 etc\n",
    "- floats pl.Float32,pl.Float64\n",
    "- string pl.String\n",
    "- boolean pl.Boolean\n",
    "- datetime pl.Datetime,pl.Date etc\n",
    "\n",
    "Polars also has a concept of supertypes. Supertypes occur where we are trying to do an operation involving columns that have different types. If the dtypes of these columns have a supertype all columns are cast to that type to do the operation. \n",
    "\n",
    "Supertypes are defined on a given pair of dtypes rather than being universal. Here are some simple examples:\n",
    "- pl.Int8 & pl.Int16 -> pl.Int16\n",
    "- pl.Float32 & pl.Float64 -> pl.Float64\n",
    "\n",
    "There are also rules in place for other combinations e.g.:\n",
    "- pl.Int64 & pl.Boolean -> pl.Boolean\n",
    "- pl.Int32 & pl.Float32 -> pl.Float64 (following a convention set by Numpy)\n",
    "- any dtype & pl.String -> pl.String (any column can be cast to string)\n",
    "\n",
    "We see an example of a supertype in the exercises."
   ]
  },
  {
   "cell_type": "markdown",
   "id": "ba54ff62-ebcf-4773-aaab-7899378b63cf",
   "metadata": {},
   "source": [
    "## Apache Arrow\n",
    "\n",
    "A classic Pandas `DataFrame` stores its data in Numpy arrays. In Polars the data is stored in an Arrow Table. \n",
    "\n",
    "> I refer to *classic* Pandas meaning basically pre-version 2.0 of Pandas that was the dominant `DataFrame` for more than a decade. These days the different versions of Pandas differ so much that it becomes challenging to make comparisons of what you can do in each, especially for someone like me who has barely used Pandas in recent years.\n",
    "\n",
    "We can see this Arrow Table by calling `to_arrow` - this is a cheap operation as it is just viewing the underlying data"
   ]
  },
  {
   "cell_type": "code",
   "id": "1512cf66-861b-49cc-b5b2-e14876b3a2ad",
   "metadata": {
    "ExecuteTime": {
     "end_time": "2025-03-28T09:00:49.797034Z",
     "start_time": "2025-03-28T09:00:49.076081Z"
    }
   },
   "source": [
    "df.to_arrow()"
   ],
   "outputs": [
    {
     "data": {
      "text/plain": [
       "pyarrow.Table\n",
       "PassengerId: int64\n",
       "Survived: int64\n",
       "Pclass: int64\n",
       "Name: large_string\n",
       "Sex: large_string\n",
       "Age: double\n",
       "SibSp: int64\n",
       "Parch: int64\n",
       "Ticket: large_string\n",
       "Fare: double\n",
       "Cabin: large_string\n",
       "Embarked: large_string\n",
       "----\n",
       "PassengerId: [[1,2,3,4,5,...,54,55,56,57,58],[59,60,61,62,63,...,116,117,118,119,120],...,[830,831,832,833,834,...,884,885,886,887,888],[889,890,891]]\n",
       "Survived: [[0,1,1,1,0,...,1,0,1,1,0],[1,0,0,1,0,...,0,0,0,0,0],...,[1,1,1,0,0,...,0,0,0,0,1],[0,1,0]]\n",
       "Pclass: [[3,1,3,1,3,...,2,1,1,2,3],[2,3,3,1,1,...,3,3,2,1,3],...,[1,3,2,3,3,...,2,3,3,2,1],[3,1,3]]\n",
       "Name: [[\"Braund, Mr. Owen Harris\",\"Cumings, Mrs. John Bradley (Florence Briggs Thayer)\",\"Heikkinen, Miss. Laina\",\"Futrelle, Mrs. Jacques Heath (Lily May Peel)\",\"Allen, Mr. William Henry\",...,\"Faunthorpe, Mrs. Lizzie (Elizabeth Anne Wilkinson)\",\"Ostby, Mr. Engelhart Cornelius\",\"Woolner, Mr. Hugh\",\"Rugg, Miss. Emily\",\"Novel, Mr. Mansouer\"],[\"West, Miss. Constance Mirium\",\"Goodwin, Master. William Frederick\",\"Sirayanian, Mr. Orsen\",\"Icard, Miss. Amelie\",\"Harris, Mr. Henry Birkhardt\",...,\"Pekoniemi, Mr. Edvard\",\"Connors, Mr. Patrick\",\"Turpin, Mr. William John Robert\",\"Baxter, Mr. Quigg Edmond\",\"Andersson, Miss. Ellis Anna Maria\"],...,[\"Stone, Mrs. George Nelson (Martha Evelyn)\",\"Yasbeck, Mrs. Antoni (Selini Alexander)\",\"Richards, Master. George Sibley\",\"Saad, Mr. Amin\",\"Augustsson, Mr. Albert\",...,\"Banfield, Mr. Frederick James\",\"Sutehall, Mr. Henry Jr\",\"Rice, Mrs. William (Margaret Norton)\",\"Montvila, Rev. Juozas\",\"Graham, Miss. Margaret Edith\"],[\"Johnston, Miss. Catherine Helen \"Carrie\"\",\"Behr, Mr. Karl Howell\",\"Dooley, Mr. Patrick\"]]\n",
       "Sex: [[\"male\",\"female\",\"female\",\"female\",\"male\",...,\"female\",\"male\",\"male\",\"female\",\"male\"],[\"female\",\"male\",\"male\",\"female\",\"male\",...,\"male\",\"male\",\"male\",\"male\",\"female\"],...,[\"female\",\"female\",\"male\",\"male\",\"male\",...,\"male\",\"male\",\"female\",\"male\",\"female\"],[\"female\",\"male\",\"male\"]]\n",
       "Age: [[22,38,26,35,35,...,29,65,null,21,28.5],[5,11,22,38,45,...,21,70.5,29,24,2],...,[62,15,0.83,null,23,...,28,25,39,27,19],[null,26,32]]\n",
       "SibSp: [[1,1,0,1,0,...,1,0,0,0,0],[1,5,0,0,1,...,0,0,1,0,4],...,[0,1,1,0,0,...,0,0,0,0,0],[1,0,0]]\n",
       "Parch: [[0,0,0,0,0,...,0,1,0,0,0],[2,2,0,0,0,...,0,0,0,1,2],...,[0,0,1,0,0,...,0,0,5,0,0],[2,0,0]]\n",
       "Ticket: [[\"A/5 21171\",\"PC 17599\",\"STON/O2. 3101282\",\"113803\",\"373450\",...,\"2926\",\"113509\",\"19947\",\"C.A. 31026\",\"2697\"],[\"C.A. 34651\",\"CA 2144\",\"2669\",\"113572\",\"36973\",...,\"STON/O 2. 3101294\",\"370369\",\"11668\",\"PC 17558\",\"347082\"],...,[\"113572\",\"2659\",\"29106\",\"2671\",\"347468\",...,\"C.A./SOTON 34068\",\"SOTON/OQ 392076\",\"382652\",\"211536\",\"112053\"],[\"W./C. 6607\",\"111369\",\"370376\"]]\n",
       "Fare: [[7.25,71.2833,7.925,53.1,8.05,...,26,61.9792,35.5,10.5,7.2292],[27.75,46.9,7.2292,80,83.475,...,7.925,7.75,21,247.5208,31.275],...,[80,14.4542,18.75,7.2292,7.8542,...,10.5,7.05,29.125,13,30],[23.45,30,7.75]]\n",
       "..."
      ]
     },
     "execution_count": 17,
     "metadata": {},
     "output_type": "execute_result"
    }
   ],
   "execution_count": 17
  },
  {
   "cell_type": "markdown",
   "id": "ceb223ed-509e-4723-9158-8f40ca9975c3",
   "metadata": {},
   "source": [
    "An Arrow Table is a collection of Arrow Arrays - these are one-dimensional vectors that are the fundamental data store. We can see the Arrow Array for a column by calling `to_arrow` on a `Series`"
   ]
  },
  {
   "cell_type": "code",
   "id": "1a39e53b-e698-4408-b003-b8670e0494df",
   "metadata": {
    "ExecuteTime": {
     "end_time": "2025-03-28T09:00:53.697407Z",
     "start_time": "2025-03-28T09:00:53.694457Z"
    }
   },
   "source": [
    "df[\"Age\"].to_arrow()"
   ],
   "outputs": [
    {
     "data": {
      "text/plain": [
       "<pyarrow.lib.DoubleArray object at 0x107a13dc0>\n",
       "[\n",
       "  22,\n",
       "  38,\n",
       "  26,\n",
       "  35,\n",
       "  35,\n",
       "  null,\n",
       "  54,\n",
       "  2,\n",
       "  27,\n",
       "  14,\n",
       "  ...\n",
       "  33,\n",
       "  22,\n",
       "  28,\n",
       "  25,\n",
       "  39,\n",
       "  27,\n",
       "  19,\n",
       "  null,\n",
       "  26,\n",
       "  32\n",
       "]"
      ]
     },
     "execution_count": 18,
     "metadata": {},
     "output_type": "execute_result"
    }
   ],
   "execution_count": 18
  },
  {
   "metadata": {
    "ExecuteTime": {
     "end_time": "2025-03-28T09:01:14.233955Z",
     "start_time": "2025-03-28T09:01:14.228524Z"
    }
   },
   "cell_type": "code",
   "source": "np.sqrt(df[\"Age\"]) # can use numpy functions on Arrow Arrays",
   "id": "ef9c730e4be49a1",
   "outputs": [
    {
     "data": {
      "text/plain": [
       "shape: (891,)\n",
       "Series: 'Age' [f64]\n",
       "[\n",
       "\t4.690416\n",
       "\t6.164414\n",
       "\t5.09902\n",
       "\t5.91608\n",
       "\t5.91608\n",
       "\t…\n",
       "\t5.196152\n",
       "\t4.358899\n",
       "\tnull\n",
       "\t5.09902\n",
       "\t5.656854\n",
       "]"
      ],
      "text/html": [
       "<div><style>\n",
       ".dataframe > thead > tr,\n",
       ".dataframe > tbody > tr {\n",
       "  text-align: right;\n",
       "  white-space: pre-wrap;\n",
       "}\n",
       "</style>\n",
       "<small>shape: (891,)</small><table border=\"1\" class=\"dataframe\"><thead><tr><th>Age</th></tr><tr><td>f64</td></tr></thead><tbody><tr><td>4.690416</td></tr><tr><td>6.164414</td></tr><tr><td>5.09902</td></tr><tr><td>5.91608</td></tr><tr><td>5.91608</td></tr><tr><td>&hellip;</td></tr><tr><td>5.196152</td></tr><tr><td>4.358899</td></tr><tr><td>null</td></tr><tr><td>5.09902</td></tr><tr><td>5.656854</td></tr></tbody></table></div>"
      ]
     },
     "execution_count": 19,
     "metadata": {},
     "output_type": "execute_result"
    }
   ],
   "execution_count": 19
  },
  {
   "cell_type": "markdown",
   "id": "4287c0c3-be08-498b-bb77-41752a9bae18",
   "metadata": {},
   "source": [
    "### What is Apache Arrow?\n",
    "Apache Arrow is an open source cross-language project to store tabular data in-memory. Apache Arrow is both:\n",
    "- a specificiation for how data should be represented in memory\n",
    "- a set of libraries in different languages that implement that specification\n",
    "\n",
    "\n",
    "### Why does `Polars` use `Apache Arrow`?\n",
    "The Apache Arrow project developed when it became clear that Numpy arrays - designed for scientific computing - are not the optimal data store for tabular data.\n",
    "\n",
    "Arrow allows for:\n",
    "- a standardised way of representing data across packages and languages\n",
    "- sharing data without copying between processes (known as \"zero-copy\")\n",
    "- faster vectorised calculations\n",
    "- working with larger-than-memory data in chunks\n",
    "- consistent representation of missing data\n",
    "- built-in support for string data\n",
    "- built-in support for nested data\n",
    "\n",
    "Overall, Polars can process data more quickly and with less memory usage because of Arrow.\n",
    "\n",
    "### What are the downsides of `Apache Arrow`?\n",
    "The design of Arrow is optimised for operations on one-dimensional columns, whreas the design of Numpy is optimised for operations on multi-dimensional arrays. This tradeoff means some kinds of operations will be slower with Arrow data compared to Numpy:\n",
    "- transposing a dataframe\n",
    "- doing matrix multiplication/linear algebra on a `dataframe`\n",
    "\n",
    "For this kind of use case - where calculations require accessing data by row and column - it may be faster to convert to a Numpy array.\n",
    "\n",
    "### So what is the relationship between a Polars `DataFrame` and Arrow data?\n",
    "A Polars `DataFrame` holds references to an Arrow Table which holds references to Arrow Arrays. We can think of a Polars `DataFrame` being a lightweight object that points to the lightweight Arrow Table which points to the heavyweight Arrow Arrays (heavyweight because they hold the actual data). \n",
    "\n",
    "This detached structure means we can make changes to the cheap `DataFrame` wrapper and copy none (or a minimal amount) of the data in the Arrow Arrays. \n",
    "\n",
    "We now do some examples of how we can do quick operations because they don't change the data. For this we create a large `DataFrame` with random values (note how we can populate a `DataFrame` directly from a numpy array)"
   ]
  },
  {
   "cell_type": "code",
   "id": "365c9314-7b5a-4229-a139-2bc51726abef",
   "metadata": {
    "ExecuteTime": {
     "end_time": "2025-03-28T09:02:21.863980Z",
     "start_time": "2025-03-28T09:02:20.269126Z"
    }
   },
   "source": [
    "df_shape = (1_000_000,100)\n",
    "df_polars = pl.DataFrame(\n",
    "    np.random.standard_normal(df_shape)\n",
    ")\n",
    "df_polars.head(3)"
   ],
   "outputs": [
    {
     "data": {
      "text/plain": [
       "shape: (3, 100)\n",
       "┌───────────┬───────────┬───────────┬───────────┬───┬───────────┬───────────┬───────────┬──────────┐\n",
       "│ column_0  ┆ column_1  ┆ column_2  ┆ column_3  ┆ … ┆ column_96 ┆ column_97 ┆ column_98 ┆ column_9 │\n",
       "│ ---       ┆ ---       ┆ ---       ┆ ---       ┆   ┆ ---       ┆ ---       ┆ ---       ┆ 9        │\n",
       "│ f64       ┆ f64       ┆ f64       ┆ f64       ┆   ┆ f64       ┆ f64       ┆ f64       ┆ ---      │\n",
       "│           ┆           ┆           ┆           ┆   ┆           ┆           ┆           ┆ f64      │\n",
       "╞═══════════╪═══════════╪═══════════╪═══════════╪═══╪═══════════╪═══════════╪═══════════╪══════════╡\n",
       "│ 0.401969  ┆ 0.549111  ┆ -0.60348  ┆ -0.565217 ┆ … ┆ 1.353614  ┆ -0.148553 ┆ 2.666534  ┆ 0.060067 │\n",
       "│ -0.569646 ┆ -0.028009 ┆ 1.401577  ┆ -0.581498 ┆ … ┆ 0.779948  ┆ 2.159051  ┆ -0.021476 ┆ -0.16580 │\n",
       "│           ┆           ┆           ┆           ┆   ┆           ┆           ┆           ┆ 6        │\n",
       "│ 0.124984  ┆ -0.545322 ┆ -0.593737 ┆ 0.168139  ┆ … ┆ 0.124709  ┆ -0.711741 ┆ 0.350382  ┆ -0.18292 │\n",
       "│           ┆           ┆           ┆           ┆   ┆           ┆           ┆           ┆ 8        │\n",
       "└───────────┴───────────┴───────────┴───────────┴───┴───────────┴───────────┴───────────┴──────────┘"
      ],
      "text/html": [
       "<div><style>\n",
       ".dataframe > thead > tr,\n",
       ".dataframe > tbody > tr {\n",
       "  text-align: right;\n",
       "  white-space: pre-wrap;\n",
       "}\n",
       "</style>\n",
       "<small>shape: (3, 100)</small><table border=\"1\" class=\"dataframe\"><thead><tr><th>column_0</th><th>column_1</th><th>column_2</th><th>column_3</th><th>column_4</th><th>column_5</th><th>column_6</th><th>column_7</th><th>column_8</th><th>column_9</th><th>column_10</th><th>column_11</th><th>column_12</th><th>column_13</th><th>column_14</th><th>column_15</th><th>column_16</th><th>column_17</th><th>column_18</th><th>column_19</th><th>column_20</th><th>column_21</th><th>column_22</th><th>column_23</th><th>column_24</th><th>column_25</th><th>column_26</th><th>column_27</th><th>column_28</th><th>column_29</th><th>column_30</th><th>column_31</th><th>column_32</th><th>column_33</th><th>column_34</th><th>column_35</th><th>column_36</th><th>&hellip;</th><th>column_63</th><th>column_64</th><th>column_65</th><th>column_66</th><th>column_67</th><th>column_68</th><th>column_69</th><th>column_70</th><th>column_71</th><th>column_72</th><th>column_73</th><th>column_74</th><th>column_75</th><th>column_76</th><th>column_77</th><th>column_78</th><th>column_79</th><th>column_80</th><th>column_81</th><th>column_82</th><th>column_83</th><th>column_84</th><th>column_85</th><th>column_86</th><th>column_87</th><th>column_88</th><th>column_89</th><th>column_90</th><th>column_91</th><th>column_92</th><th>column_93</th><th>column_94</th><th>column_95</th><th>column_96</th><th>column_97</th><th>column_98</th><th>column_99</th></tr><tr><td>f64</td><td>f64</td><td>f64</td><td>f64</td><td>f64</td><td>f64</td><td>f64</td><td>f64</td><td>f64</td><td>f64</td><td>f64</td><td>f64</td><td>f64</td><td>f64</td><td>f64</td><td>f64</td><td>f64</td><td>f64</td><td>f64</td><td>f64</td><td>f64</td><td>f64</td><td>f64</td><td>f64</td><td>f64</td><td>f64</td><td>f64</td><td>f64</td><td>f64</td><td>f64</td><td>f64</td><td>f64</td><td>f64</td><td>f64</td><td>f64</td><td>f64</td><td>f64</td><td>&hellip;</td><td>f64</td><td>f64</td><td>f64</td><td>f64</td><td>f64</td><td>f64</td><td>f64</td><td>f64</td><td>f64</td><td>f64</td><td>f64</td><td>f64</td><td>f64</td><td>f64</td><td>f64</td><td>f64</td><td>f64</td><td>f64</td><td>f64</td><td>f64</td><td>f64</td><td>f64</td><td>f64</td><td>f64</td><td>f64</td><td>f64</td><td>f64</td><td>f64</td><td>f64</td><td>f64</td><td>f64</td><td>f64</td><td>f64</td><td>f64</td><td>f64</td><td>f64</td><td>f64</td></tr></thead><tbody><tr><td>0.401969</td><td>0.549111</td><td>-0.60348</td><td>-0.565217</td><td>-0.017172</td><td>-1.800017</td><td>-0.435738</td><td>1.822096</td><td>-1.725269</td><td>-0.015223</td><td>-1.401739</td><td>-0.352787</td><td>-1.179195</td><td>1.103873</td><td>-0.542957</td><td>-0.489364</td><td>1.767422</td><td>-0.376739</td><td>0.202385</td><td>-0.225297</td><td>0.833543</td><td>-1.006501</td><td>0.138366</td><td>0.314155</td><td>0.153404</td><td>-0.126023</td><td>-1.216006</td><td>-1.077871</td><td>0.547019</td><td>-1.329078</td><td>-0.26293</td><td>0.605772</td><td>-0.875689</td><td>-0.814478</td><td>0.617151</td><td>1.238756</td><td>-0.9687</td><td>&hellip;</td><td>-0.976554</td><td>-0.688245</td><td>-1.708425</td><td>-1.250049</td><td>0.185938</td><td>0.355974</td><td>-0.213328</td><td>-1.514451</td><td>-0.990595</td><td>-1.467074</td><td>0.576029</td><td>0.530613</td><td>-0.325089</td><td>1.522109</td><td>1.348162</td><td>-0.934342</td><td>-0.141484</td><td>-1.145944</td><td>0.619144</td><td>-1.218595</td><td>1.345548</td><td>-0.062254</td><td>-0.25316</td><td>0.265145</td><td>-0.084599</td><td>0.725055</td><td>0.0299</td><td>-1.406469</td><td>0.768375</td><td>-0.845368</td><td>0.578795</td><td>0.403301</td><td>0.431864</td><td>1.353614</td><td>-0.148553</td><td>2.666534</td><td>0.060067</td></tr><tr><td>-0.569646</td><td>-0.028009</td><td>1.401577</td><td>-0.581498</td><td>-0.532146</td><td>0.805015</td><td>1.022268</td><td>0.278073</td><td>0.94441</td><td>0.422146</td><td>-0.371931</td><td>1.657003</td><td>0.38758</td><td>0.515825</td><td>1.014199</td><td>0.501339</td><td>-0.718018</td><td>1.077795</td><td>0.760942</td><td>-0.248247</td><td>-0.841206</td><td>0.737351</td><td>1.893553</td><td>-0.740845</td><td>0.062942</td><td>0.252624</td><td>-0.563097</td><td>-0.545996</td><td>0.731725</td><td>-0.813116</td><td>0.050579</td><td>-1.142736</td><td>0.174429</td><td>1.395617</td><td>0.135473</td><td>0.157613</td><td>-0.432439</td><td>&hellip;</td><td>-1.416626</td><td>0.745029</td><td>-0.855919</td><td>2.25391</td><td>-0.019712</td><td>-0.343971</td><td>-0.388375</td><td>0.80826</td><td>0.39645</td><td>0.192193</td><td>0.006363</td><td>-0.013049</td><td>0.101021</td><td>0.408987</td><td>-0.53343</td><td>-0.508581</td><td>-1.276594</td><td>-1.548005</td><td>-1.982354</td><td>0.103259</td><td>0.242304</td><td>-1.041436</td><td>1.093893</td><td>-0.307963</td><td>0.239851</td><td>-0.511633</td><td>1.821618</td><td>1.048238</td><td>0.622409</td><td>-0.180233</td><td>-0.032442</td><td>2.093378</td><td>1.065154</td><td>0.779948</td><td>2.159051</td><td>-0.021476</td><td>-0.165806</td></tr><tr><td>0.124984</td><td>-0.545322</td><td>-0.593737</td><td>0.168139</td><td>-0.542188</td><td>-0.113282</td><td>-1.563304</td><td>0.552518</td><td>0.393507</td><td>0.191684</td><td>0.034226</td><td>0.381065</td><td>0.318101</td><td>0.274702</td><td>-0.22882</td><td>1.37846</td><td>1.112151</td><td>-0.322584</td><td>0.447412</td><td>0.245791</td><td>0.065148</td><td>-1.177527</td><td>-0.076449</td><td>-1.012626</td><td>-0.350088</td><td>0.885792</td><td>-1.002062</td><td>-0.522666</td><td>-1.036793</td><td>-1.075158</td><td>1.254257</td><td>1.186244</td><td>0.227165</td><td>0.0298</td><td>-0.415397</td><td>0.037935</td><td>0.894448</td><td>&hellip;</td><td>-0.221115</td><td>1.806728</td><td>0.195727</td><td>-0.234613</td><td>-0.474907</td><td>-0.213013</td><td>-2.609018</td><td>1.571085</td><td>-1.884189</td><td>1.655369</td><td>-0.031662</td><td>-0.102235</td><td>-0.1138</td><td>1.122104</td><td>-0.661939</td><td>0.752962</td><td>0.191886</td><td>0.085603</td><td>-0.532099</td><td>0.815944</td><td>0.739223</td><td>-0.1934</td><td>0.660126</td><td>-0.717946</td><td>0.973634</td><td>-0.624099</td><td>-1.949118</td><td>0.67249</td><td>1.017536</td><td>-0.224681</td><td>1.373867</td><td>-1.099503</td><td>0.722346</td><td>0.124709</td><td>-0.711741</td><td>0.350382</td><td>-0.182928</td></tr></tbody></table></div>"
      ]
     },
     "execution_count": 20,
     "metadata": {},
     "output_type": "execute_result"
    }
   ],
   "execution_count": 20
  },
  {
   "cell_type": "markdown",
   "id": "c6791c74-a83d-4646-89a9-9ee12bfb79d6",
   "metadata": {},
   "source": [
    "And we confirm the `DataFrame` is the correct shape"
   ]
  },
  {
   "cell_type": "code",
   "id": "d72dd959-f7db-4489-a533-873375dbf9b9",
   "metadata": {
    "ExecuteTime": {
     "end_time": "2025-03-28T09:02:32.473966Z",
     "start_time": "2025-03-28T09:02:32.471541Z"
    }
   },
   "source": [
    "df_polars.shape"
   ],
   "outputs": [
    {
     "data": {
      "text/plain": [
       "(1000000, 100)"
      ]
     },
     "execution_count": 21,
     "metadata": {},
     "output_type": "execute_result"
    }
   ],
   "execution_count": 21
  },
  {
   "cell_type": "markdown",
   "id": "329da875-91a8-41ca-a444-0579739e41a2",
   "metadata": {},
   "source": [
    "### Dropping a column\n",
    "We see how long it takes to drop a column from a Polars `DataFrame`. \n",
    "\n",
    "> We use the IPython `timeit` module to time performance in a cell. By default `timeit` runs the target code many times to get statistics of how long it takes. The default number of iterations tend to be more than necessary. We can control the number of iterations with the -n and -r arguments. The total number of iterations is then n*r. Here we do 1*3 = 3 iterations"
   ]
  },
  {
   "cell_type": "code",
   "id": "b039c1f3-98e0-4721-9556-0a6a5c1248c5",
   "metadata": {
    "ExecuteTime": {
     "end_time": "2025-03-28T09:02:36.371479Z",
     "start_time": "2025-03-28T09:02:36.367405Z"
    }
   },
   "source": [
    "%%timeit -n1 -r3\n",
    "df_polars.drop(\"column_0\")"
   ],
   "outputs": [
    {
     "name": "stdout",
     "output_type": "stream",
     "text": [
      "The slowest run took 16.28 times longer than the fastest. This could mean that an intermediate result is being cached.\n",
      "385 μs ± 393 μs per loop (mean ± std. dev. of 3 runs, 1 loop each)\n"
     ]
    }
   ],
   "execution_count": 22
  },
  {
   "cell_type": "markdown",
   "id": "6dc1b9f5-2f12-4869-a476-e418fcf65e89",
   "metadata": {},
   "source": [
    "> You may get a warning about some runs being much faster than others. Generally it's best to just run a few times until you get a run with consistent timings so the warning disappears. \n",
    "\n",
    "Polars does this `drop` very fast (and much faster than Pandas). This is because Polars just creates a new `DataFrame` object (a cheap operation) that points to all the Arrow Arrays except `column_0`. Polars basically just loops through the list of column names for this operation!\n",
    "\n",
    "### Renaming a column\n",
    "We have a similar fast performance whenever we change some part of a `DataFrame` that does not affect the actual data in the columns. For example, if we rename a column..."
   ]
  },
  {
   "cell_type": "code",
   "id": "77a4fc38-3a4d-4fe0-854d-98bb8474c7ad",
   "metadata": {
    "ExecuteTime": {
     "end_time": "2025-03-28T09:02:47.774218Z",
     "start_time": "2025-03-28T09:02:47.770565Z"
    }
   },
   "source": [
    "%%timeit -n1 -r3\n",
    "df_polars.rename({\"column_0\":\"a\"})"
   ],
   "outputs": [
    {
     "name": "stdout",
     "output_type": "stream",
     "text": [
      "The slowest run took 19.56 times longer than the fastest. This could mean that an intermediate result is being cached.\n",
      "280 μs ± 339 μs per loop (mean ± std. dev. of 3 runs, 1 loop each)\n"
     ]
    }
   ],
   "execution_count": 23
  },
  {
   "cell_type": "markdown",
   "id": "4dcb10f0-9b99-4ada-9339-6d143b0a79aa",
   "metadata": {},
   "source": [
    "Polars again does this very fast because it just updates the column name and checks the column names are still unique.\n",
    "\n",
    "### Cloning a `DataFrame`\n",
    "Or if we create a new `DataFrame` by cloning"
   ]
  },
  {
   "cell_type": "code",
   "id": "89c5b73f-9e65-4d5b-98ea-3af13778f781",
   "metadata": {
    "ExecuteTime": {
     "end_time": "2025-03-28T09:02:54.489223Z",
     "start_time": "2025-03-28T09:02:54.486073Z"
    }
   },
   "source": [
    "%%timeit -n1 -r3\n",
    "df_polars.clone()"
   ],
   "outputs": [
    {
     "name": "stdout",
     "output_type": "stream",
     "text": [
      "The slowest run took 14.55 times longer than the fastest. This could mean that an intermediate result is being cached.\n",
      "9.15 μs ± 9.83 μs per loop (mean ± std. dev. of 3 runs, 1 loop each)\n"
     ]
    }
   ],
   "execution_count": 24
  },
  {
   "cell_type": "markdown",
   "id": "12c09d0d-dbc1-4f47-8d73-32f648e7bd79",
   "metadata": {},
   "source": [
    "In this case Polars has created a new `DataFrame` object that points at the same Arrow Table.\n",
    "### Updating a cloned `DataFrame`\n",
    "\n",
    "Although the new and old `DataFrames` initially point at the same Arrow Table we do not need to worry about changes to one affecting the other.\n",
    "\n",
    "If we make changes to a value in one of the `DataFrames` - say the new `DataFrame` - then the new `DataFrame` will:\n",
    "- copy the data in **the column that has changed** to a new Arrow Array\n",
    "- create a new Arrow Table that points to the updated Arrow Array along with the unchanged Arrow Arrays\n",
    "\n",
    "So now we have:\n",
    "- two `DataFrames` that point to:\n",
    "- two Arrow Tables that point to:\n",
    "- the same Array Arrays for the unchanged columns and different Arrow Arrays for the changed column\n",
    "\n",
    "In this way we create a new `DataFrame` but **only ever have to copy data in columns that change**. We see how changes to the new `DataFrame` do not affect the old `DataFrame` in this example where we change the first value in the first row"
   ]
  },
  {
   "cell_type": "code",
   "execution_count": null,
   "id": "978ed8f1-f0df-4f73-b404-663d52296066",
   "metadata": {},
   "outputs": [],
   "source": [
    "df_polars2 = df_polars.clone()\n",
    "df_polars2[0,0] = 1000\n",
    "df_polars2[0,0]"
   ]
  },
  {
   "cell_type": "markdown",
   "id": "81803749-c609-4d2e-aaa9-547da34aa04d",
   "metadata": {},
   "source": [
    "In the original `DataFrame` we still have the original value"
   ]
  },
  {
   "cell_type": "code",
   "execution_count": null,
   "id": "475a6ef9-6b94-4289-af6d-cd7930b48c58",
   "metadata": {},
   "outputs": [],
   "source": [
    "df_polars[0,0]"
   ]
  },
  {
   "cell_type": "markdown",
   "id": "79e3ba51-b738-4c99-9186-39b5104e9f30",
   "metadata": {
    "collapsed": true,
    "jupyter": {
     "outputs_hidden": true
    },
    "tags": []
   },
   "source": [
    "## Exercises\n",
    "In the exercises you will develop your understanding of:\n",
    "- getting the dtypes of a `DataFrame`\n",
    "- getting the dtypes of a `Series`\n",
    "\n",
    "### Exercise 1 \n",
    "\n",
    "What are the dtypes of this `DataFrame`?"
   ]
  },
  {
   "cell_type": "code",
   "execution_count": null,
   "id": "62401a6d-8351-4c4e-930b-84502c7945f8",
   "metadata": {
    "tags": []
   },
   "outputs": [],
   "source": [
    "df = pl.DataFrame(\n",
    "    {\n",
    "        'a':[0,1,2],\n",
    "        'b':[0,1,2.0]\n",
    "    },\n",
    "    strict=False\n",
    ")\n",
    "# df<blank>"
   ]
  },
  {
   "cell_type": "markdown",
   "id": "b0ce3abc-9a1e-4d3c-8a3d-73bc05f6fe86",
   "metadata": {},
   "source": [
    "Note the `strict=True` argument here: this tells Polars that if the types in one of the columns are not homogenous then it should use the supertype"
   ]
  },
  {
   "cell_type": "markdown",
   "id": "cdd5fe6e-d4bc-4e81-81e3-a520ed4ecfc6",
   "metadata": {},
   "source": [
    "Create an expected schema where `a` is `pl.Int64` and `b` is `pl.Int64`"
   ]
  },
  {
   "cell_type": "code",
   "execution_count": null,
   "id": "9b7ece37-2433-46cc-8cbc-33881b8c14ab",
   "metadata": {},
   "outputs": [],
   "source": [
    "# target_schema = "
   ]
  },
  {
   "cell_type": "markdown",
   "id": "b599595e-4cab-48ee-aa79-0238c8685f6e",
   "metadata": {},
   "source": [
    "Compare the actual and expected schemas to find any differences"
   ]
  },
  {
   "cell_type": "code",
   "execution_count": null,
   "id": "7504bf18-7edd-40a9-bc0a-05351411513b",
   "metadata": {},
   "outputs": [],
   "source": []
  },
  {
   "cell_type": "markdown",
   "id": "9cfb86a5-9c0c-4aae-b4a3-ebb029dcb684",
   "metadata": {},
   "source": [
    "Correct the schema and check the comparison again"
   ]
  },
  {
   "cell_type": "code",
   "execution_count": null,
   "id": "ed6fff25-a565-45a3-a53d-dd26df0ff98c",
   "metadata": {},
   "outputs": [],
   "source": []
  },
  {
   "cell_type": "markdown",
   "id": "eeb8821a-8e1a-4686-aed1-229329c515f7",
   "metadata": {},
   "source": [
    "## Solutions\n",
    "\n",
    "### Solution to Exercise 1\n",
    "What are the dtypes of this `DataFrame`?"
   ]
  },
  {
   "cell_type": "code",
   "execution_count": null,
   "id": "b53002fb-546b-407c-9551-fe7c73a5cdf3",
   "metadata": {
    "jupyter": {
     "source_hidden": true
    },
    "tags": []
   },
   "outputs": [],
   "source": [
    "df = pl.DataFrame(\n",
    "    {'a':[0,1,2],'b':[0,1,2.0]},\n",
    "    strict=False\n",
    ")\n",
    "df.schema"
   ]
  },
  {
   "cell_type": "markdown",
   "id": "0e1041b0-3236-4545-b9cb-ba012ca04a59",
   "metadata": {},
   "source": [
    "Create an expected dtype where `a` is `pl.Int64` and `b` is `pl.Int64`"
   ]
  },
  {
   "cell_type": "code",
   "execution_count": null,
   "id": "1156b359-a4f4-451f-83be-7a69383e78c6",
   "metadata": {
    "jupyter": {
     "source_hidden": true
    }
   },
   "outputs": [],
   "source": [
    "target_schema = pl.Schema([(\"a\", pl.Int64), (\"b\", pl.Int64)])"
   ]
  },
  {
   "cell_type": "markdown",
   "id": "c0c703ba-069c-40a3-9272-7b513cde8816",
   "metadata": {},
   "source": [
    "Compare the actual and expected schemas to find any differences"
   ]
  },
  {
   "cell_type": "code",
   "execution_count": null,
   "id": "5038e308-d30f-4397-9247-3989543a9c2f",
   "metadata": {
    "jupyter": {
     "source_hidden": true
    }
   },
   "outputs": [],
   "source": [
    "compare_polars_schema(\n",
    "    df_schema=df.schema,\n",
    "    target_schema=target_schema\n",
    ")"
   ]
  },
  {
   "cell_type": "markdown",
   "id": "ee5b4e71-ee04-4c30-b016-4fd4afb78ec0",
   "metadata": {},
   "source": [
    "Correct the schema and check the comparison again"
   ]
  },
  {
   "cell_type": "code",
   "execution_count": null,
   "id": "086bf34e-c5e7-425a-83dc-91123ca592fe",
   "metadata": {
    "jupyter": {
     "source_hidden": true
    }
   },
   "outputs": [],
   "source": [
    "target_schema = pl.Schema([(\"a\", pl.Int64), (\"b\", pl.Float64)])"
   ]
  },
  {
   "cell_type": "code",
   "execution_count": null,
   "id": "b607042c-9f8d-42c7-8138-728e5a47dd52",
   "metadata": {
    "jupyter": {
     "source_hidden": true
    }
   },
   "outputs": [],
   "source": [
    "compare_polars_schema(\n",
    "    df_schema=df.schema,\n",
    "    target_schema=target_schema\n",
    ")"
   ]
  }
 ],
 "metadata": {
  "kernelspec": {
   "display_name": "Python 3 (ipykernel)",
   "language": "python",
   "name": "python3"
  },
  "language_info": {
   "codemirror_mode": {
    "name": "ipython",
    "version": 3
   },
   "file_extension": ".py",
   "mimetype": "text/x-python",
   "name": "python",
   "nbconvert_exporter": "python",
   "pygments_lexer": "ipython3",
   "version": "3.10.1"
  }
 },
 "nbformat": 4,
 "nbformat_minor": 5
}
