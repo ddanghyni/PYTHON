{
 "cells": [
  {
   "cell_type": "markdown",
   "id": "674913ae-6d37-4d8f-882c-ae2a95292a43",
   "metadata": {},
   "source": [
    "# Conversion to & from Numpy and Pandas\n",
    "By the end of this lecture you will be able to:\n",
    "- convert between Polars and Numpy\n",
    "- convert between Polars and Pandas\n",
    "\n",
    "Key functionality in this notebook requires that your Pandas version is 2.0+ (automated testing is carried out with the latest version of Pandas on PyPi).\n",
    "\n",
    "Use `pl.show_versions()` to check your installation"
   ]
  },
  {
   "cell_type": "code",
   "id": "a350b0f1-ff14-4097-94a2-a4f937b89fcd",
   "metadata": {
    "tags": [],
    "ExecuteTime": {
     "end_time": "2025-03-28T09:06:53.985153Z",
     "start_time": "2025-03-28T09:06:53.107677Z"
    }
   },
   "source": [
    "import polars as pl\n",
    "import numpy as np\n",
    "import pandas as pd"
   ],
   "outputs": [],
   "execution_count": 1
  },
  {
   "cell_type": "code",
   "id": "ee7a4ca2-4a74-41c0-8640-501a2f16a6e6",
   "metadata": {
    "tags": [],
    "ExecuteTime": {
     "end_time": "2025-03-28T09:06:53.989629Z",
     "start_time": "2025-03-28T09:06:53.988033Z"
    }
   },
   "source": [
    "csv_file = \"../data/titanic.csv\""
   ],
   "outputs": [],
   "execution_count": 2
  },
  {
   "cell_type": "code",
   "id": "a1c1b14e-6642-43ec-8185-2e0924d8ca85",
   "metadata": {
    "tags": [],
    "ExecuteTime": {
     "end_time": "2025-03-28T09:06:54.102078Z",
     "start_time": "2025-03-28T09:06:54.088933Z"
    }
   },
   "source": [
    "df = pl.read_csv(csv_file)\n",
    "df.head(3)"
   ],
   "outputs": [
    {
     "data": {
      "text/plain": [
       "shape: (3, 12)\n",
       "┌─────────────┬──────────┬────────┬───────────────────┬───┬───────────┬─────────┬───────┬──────────┐\n",
       "│ PassengerId ┆ Survived ┆ Pclass ┆ Name              ┆ … ┆ Ticket    ┆ Fare    ┆ Cabin ┆ Embarked │\n",
       "│ ---         ┆ ---      ┆ ---    ┆ ---               ┆   ┆ ---       ┆ ---     ┆ ---   ┆ ---      │\n",
       "│ i64         ┆ i64      ┆ i64    ┆ str               ┆   ┆ str       ┆ f64     ┆ str   ┆ str      │\n",
       "╞═════════════╪══════════╪════════╪═══════════════════╪═══╪═══════════╪═════════╪═══════╪══════════╡\n",
       "│ 1           ┆ 0        ┆ 3      ┆ Braund, Mr. Owen  ┆ … ┆ A/5 21171 ┆ 7.25    ┆ null  ┆ S        │\n",
       "│             ┆          ┆        ┆ Harris            ┆   ┆           ┆         ┆       ┆          │\n",
       "│ 2           ┆ 1        ┆ 1      ┆ Cumings, Mrs.     ┆ … ┆ PC 17599  ┆ 71.2833 ┆ C85   ┆ C        │\n",
       "│             ┆          ┆        ┆ John Bradley (Fl… ┆   ┆           ┆         ┆       ┆          │\n",
       "│ 3           ┆ 1        ┆ 3      ┆ Heikkinen, Miss.  ┆ … ┆ STON/O2.  ┆ 7.925   ┆ null  ┆ S        │\n",
       "│             ┆          ┆        ┆ Laina             ┆   ┆ 3101282   ┆         ┆       ┆          │\n",
       "└─────────────┴──────────┴────────┴───────────────────┴───┴───────────┴─────────┴───────┴──────────┘"
      ],
      "text/html": [
       "<div><style>\n",
       ".dataframe > thead > tr,\n",
       ".dataframe > tbody > tr {\n",
       "  text-align: right;\n",
       "  white-space: pre-wrap;\n",
       "}\n",
       "</style>\n",
       "<small>shape: (3, 12)</small><table border=\"1\" class=\"dataframe\"><thead><tr><th>PassengerId</th><th>Survived</th><th>Pclass</th><th>Name</th><th>Sex</th><th>Age</th><th>SibSp</th><th>Parch</th><th>Ticket</th><th>Fare</th><th>Cabin</th><th>Embarked</th></tr><tr><td>i64</td><td>i64</td><td>i64</td><td>str</td><td>str</td><td>f64</td><td>i64</td><td>i64</td><td>str</td><td>f64</td><td>str</td><td>str</td></tr></thead><tbody><tr><td>1</td><td>0</td><td>3</td><td>&quot;Braund, Mr. Owen Harris&quot;</td><td>&quot;male&quot;</td><td>22.0</td><td>1</td><td>0</td><td>&quot;A/5 21171&quot;</td><td>7.25</td><td>null</td><td>&quot;S&quot;</td></tr><tr><td>2</td><td>1</td><td>1</td><td>&quot;Cumings, Mrs. John Bradley (Fl…</td><td>&quot;female&quot;</td><td>38.0</td><td>1</td><td>0</td><td>&quot;PC 17599&quot;</td><td>71.2833</td><td>&quot;C85&quot;</td><td>&quot;C&quot;</td></tr><tr><td>3</td><td>1</td><td>3</td><td>&quot;Heikkinen, Miss. Laina&quot;</td><td>&quot;female&quot;</td><td>26.0</td><td>0</td><td>0</td><td>&quot;STON/O2. 3101282&quot;</td><td>7.925</td><td>null</td><td>&quot;S&quot;</td></tr></tbody></table></div>"
      ]
     },
     "execution_count": 3,
     "metadata": {},
     "output_type": "execute_result"
    }
   ],
   "execution_count": 3
  },
  {
   "cell_type": "markdown",
   "id": "5c2b3e34-d707-4f38-910c-6f01c220b612",
   "metadata": {},
   "source": [
    "## Convert a `DataFrame` to Numpy\n",
    "\n",
    "To convert a `DataFrame` to Numpy use the `to_numpy` method. This clones (copies) the data."
   ]
  },
  {
   "cell_type": "code",
   "id": "72d5aa02-673d-4009-9c7c-32d1b6156e6d",
   "metadata": {
    "tags": [],
    "ExecuteTime": {
     "end_time": "2025-03-28T09:06:58.142412Z",
     "start_time": "2025-03-28T09:06:58.137552Z"
    }
   },
   "source": [
    "arr = df.to_numpy()\n",
    "arr"
   ],
   "outputs": [
    {
     "data": {
      "text/plain": [
       "array([[1, 0, 3, ..., 7.25, None, 'S'],\n",
       "       [2, 1, 1, ..., 71.2833, 'C85', 'C'],\n",
       "       [3, 1, 3, ..., 7.925, None, 'S'],\n",
       "       ...,\n",
       "       [889, 0, 3, ..., 23.45, None, 'S'],\n",
       "       [890, 1, 1, ..., 30.0, 'C148', 'C'],\n",
       "       [891, 0, 3, ..., 7.75, None, 'Q']], shape=(891, 12), dtype=object)"
      ]
     },
     "execution_count": 4,
     "metadata": {},
     "output_type": "execute_result"
    }
   ],
   "execution_count": 4
  },
  {
   "cell_type": "markdown",
   "id": "cec4f71e-88bf-4301-ae28-f3bf95ba94c6",
   "metadata": {},
   "source": [
    "This conversion turns each row into a Numpy `ndarray` and vertically stacks these row-arrays.\n",
    "\n",
    "As the `DataFrame` has a mix of types the Numpy array has an `object` dtype."
   ]
  },
  {
   "cell_type": "markdown",
   "id": "4a6ff6d3-db5d-44b5-bf20-3a96d52bb7f4",
   "metadata": {},
   "source": [
    "If the columns have uniform numeric dtype then the Numpy array has the corresponding dtype.\n",
    "\n",
    "In this example we use `select` to choose the 64-bit floating point columns only for conversion to Numpy...\n",
    "\n",
    "> We cover `select` in more detail in the Section on Selecting columns and transforming dataframes."
   ]
  },
  {
   "cell_type": "code",
   "id": "25afb65b-f944-4587-9180-61ecf40e2257",
   "metadata": {
    "ExecuteTime": {
     "end_time": "2025-03-28T09:07:13.830278Z",
     "start_time": "2025-03-28T09:07:13.825023Z"
    }
   },
   "source": [
    "floats_array = (\n",
    "    df\n",
    "    .select(\n",
    "        pl.col(pl.Float64)\n",
    "    )\n",
    "    .to_numpy()\n",
    ")\n",
    "floats_array"
   ],
   "outputs": [
    {
     "data": {
      "text/plain": [
       "array([[22.    ,  7.25  ],\n",
       "       [38.    , 71.2833],\n",
       "       [26.    ,  7.925 ],\n",
       "       ...,\n",
       "       [    nan, 23.45  ],\n",
       "       [26.    , 30.    ],\n",
       "       [32.    ,  7.75  ]], shape=(891, 2))"
      ]
     },
     "execution_count": 5,
     "metadata": {},
     "output_type": "execute_result"
    }
   ],
   "execution_count": 5
  },
  {
   "cell_type": "markdown",
   "id": "58eaf306-4062-4daa-b10a-c9b76b20fbd7",
   "metadata": {},
   "source": [
    "... and we get a float Numpy array"
   ]
  },
  {
   "cell_type": "code",
   "execution_count": null,
   "id": "52ec4d84-519f-4c7c-aff0-90bc4cbf224c",
   "metadata": {},
   "outputs": [],
   "source": [
    "floats_array.dtype"
   ]
  },
  {
   "cell_type": "markdown",
   "id": "88d95d49-5803-4512-9fc7-87d565902df3",
   "metadata": {},
   "source": [
    "The Polars sequence dtypes `pl.List` and `pl.Array` are common ways to store sequences that might be passed to Numpy. We learn more about these in Section 4 of the course."
   ]
  },
  {
   "cell_type": "markdown",
   "id": "c9282f92-23f2-4f90-8b5d-77624b931d4d",
   "metadata": {},
   "source": [
    "## Convert Numpy to a `DataFrame`\n",
    "\n",
    "We can create a Polars `DataFrame` from a Numpy array"
   ]
  },
  {
   "cell_type": "code",
   "id": "982ba1d3-679d-482e-bd2a-1ba744b1a4e4",
   "metadata": {
    "ExecuteTime": {
     "end_time": "2025-03-28T09:07:25.187272Z",
     "start_time": "2025-03-28T09:07:25.183981Z"
    }
   },
   "source": [
    "rand_array = np.random.standard_normal((5,3))\n",
    "(\n",
    "    pl.DataFrame(\n",
    "        rand_array,\n",
    "    )\n",
    ")"
   ],
   "outputs": [
    {
     "data": {
      "text/plain": [
       "shape: (5, 3)\n",
       "┌───────────┬───────────┬───────────┐\n",
       "│ column_0  ┆ column_1  ┆ column_2  │\n",
       "│ ---       ┆ ---       ┆ ---       │\n",
       "│ f64       ┆ f64       ┆ f64       │\n",
       "╞═══════════╪═══════════╪═══════════╡\n",
       "│ 0.576848  ┆ 0.720959  ┆ -0.505837 │\n",
       "│ -1.857227 ┆ 0.210732  ┆ -0.127478 │\n",
       "│ 1.350123  ┆ 1.50132   ┆ -0.317879 │\n",
       "│ -0.716977 ┆ -0.001477 ┆ 1.273427  │\n",
       "│ 1.448649  ┆ -0.570372 ┆ 1.02473   │\n",
       "└───────────┴───────────┴───────────┘"
      ],
      "text/html": [
       "<div><style>\n",
       ".dataframe > thead > tr,\n",
       ".dataframe > tbody > tr {\n",
       "  text-align: right;\n",
       "  white-space: pre-wrap;\n",
       "}\n",
       "</style>\n",
       "<small>shape: (5, 3)</small><table border=\"1\" class=\"dataframe\"><thead><tr><th>column_0</th><th>column_1</th><th>column_2</th></tr><tr><td>f64</td><td>f64</td><td>f64</td></tr></thead><tbody><tr><td>0.576848</td><td>0.720959</td><td>-0.505837</td></tr><tr><td>-1.857227</td><td>0.210732</td><td>-0.127478</td></tr><tr><td>1.350123</td><td>1.50132</td><td>-0.317879</td></tr><tr><td>-0.716977</td><td>-0.001477</td><td>1.273427</td></tr><tr><td>1.448649</td><td>-0.570372</td><td>1.02473</td></tr></tbody></table></div>"
      ]
     },
     "execution_count": 6,
     "metadata": {},
     "output_type": "execute_result"
    }
   ],
   "execution_count": 6
  },
  {
   "cell_type": "markdown",
   "id": "2b3cecc2-597c-4ed8-82b7-fab6f244f809",
   "metadata": {},
   "source": [
    "We can optionally pass a list of column names to `pl.DataFrame` if we want to specify these.\n",
    "\n",
    "If we have a **1D** Numpy array we can create a Polars `Series` or `DataFrame` with zero-copy. We start by creating a 1D array of all ones"
   ]
  },
  {
   "cell_type": "code",
   "id": "6a75d91e-71d7-4f44-aba8-3bbaa1f17288",
   "metadata": {
    "ExecuteTime": {
     "end_time": "2025-03-28T09:07:36.529527Z",
     "start_time": "2025-03-28T09:07:36.526800Z"
    }
   },
   "source": [
    "arr = np.ones(10)\n",
    "arr.shape"
   ],
   "outputs": [
    {
     "data": {
      "text/plain": [
       "(10,)"
      ]
     },
     "execution_count": 7,
     "metadata": {},
     "output_type": "execute_result"
    }
   ],
   "execution_count": 7
  },
  {
   "cell_type": "markdown",
   "id": "58e6e410-61e2-4af7-ba7b-701bcd81c7db",
   "metadata": {},
   "source": [
    "We can then create a `Series` or `DataFrame` from a Numpy array with *zero-copy* of the data"
   ]
  },
  {
   "cell_type": "code",
   "id": "1c56363f-097b-426a-b9c3-6371f8551a3f",
   "metadata": {
    "ExecuteTime": {
     "end_time": "2025-03-28T09:07:40.344262Z",
     "start_time": "2025-03-28T09:07:40.340959Z"
    }
   },
   "source": [
    "# zero copy series conversion\n",
    "pl.Series(\"a\", arr)\n",
    "\n",
    "# zero copy DataFrame conversion\n",
    "pl.DataFrame(\n",
    "    {\n",
    "       \"a\": arr,\n",
    "    }\n",
    ")"
   ],
   "outputs": [
    {
     "data": {
      "text/plain": [
       "shape: (10, 1)\n",
       "┌─────┐\n",
       "│ a   │\n",
       "│ --- │\n",
       "│ f64 │\n",
       "╞═════╡\n",
       "│ 1.0 │\n",
       "│ 1.0 │\n",
       "│ 1.0 │\n",
       "│ 1.0 │\n",
       "│ 1.0 │\n",
       "│ 1.0 │\n",
       "│ 1.0 │\n",
       "│ 1.0 │\n",
       "│ 1.0 │\n",
       "│ 1.0 │\n",
       "└─────┘"
      ],
      "text/html": [
       "<div><style>\n",
       ".dataframe > thead > tr,\n",
       ".dataframe > tbody > tr {\n",
       "  text-align: right;\n",
       "  white-space: pre-wrap;\n",
       "}\n",
       "</style>\n",
       "<small>shape: (10, 1)</small><table border=\"1\" class=\"dataframe\"><thead><tr><th>a</th></tr><tr><td>f64</td></tr></thead><tbody><tr><td>1.0</td></tr><tr><td>1.0</td></tr><tr><td>1.0</td></tr><tr><td>1.0</td></tr><tr><td>1.0</td></tr><tr><td>1.0</td></tr><tr><td>1.0</td></tr><tr><td>1.0</td></tr><tr><td>1.0</td></tr><tr><td>1.0</td></tr></tbody></table></div>"
      ]
     },
     "execution_count": 8,
     "metadata": {},
     "output_type": "execute_result"
    }
   ],
   "execution_count": 8
  },
  {
   "cell_type": "markdown",
   "id": "73b4e387-2bb2-432b-bb13-72ff148560fe",
   "metadata": {},
   "source": [
    "Zero-copy means that the data - the array of ones - is only stored in one place in memory. Both Numpy and Polars are looking at this same place to get the data for the original Numpy array or the Polars `Series` or `DataFrame`. If (or when) one of these libraries transforms the data then it creates its own copy with the transformed data."
   ]
  },
  {
   "cell_type": "markdown",
   "id": "3ee68560-83bc-4d45-a3c2-8345c58cbe0c",
   "metadata": {},
   "source": [
    "## Convert a `Series` to Numpy\n",
    "Converting a `Series` to Numpy has more options than converting an entire `DataFrame`.\n",
    "\n",
    "To do a simple conversion where the data is cloned use `to_numpy` on the `Series`"
   ]
  },
  {
   "cell_type": "code",
   "id": "c8a05fa8-f4c5-44be-8e43-967bbe619216",
   "metadata": {
    "tags": [],
    "ExecuteTime": {
     "end_time": "2025-03-28T09:07:44.954853Z",
     "start_time": "2025-03-28T09:07:44.951018Z"
    }
   },
   "source": [
    "(\n",
    "    df['Age']\n",
    "    .head()\n",
    "    .to_numpy()\n",
    ")"
   ],
   "outputs": [
    {
     "data": {
      "text/plain": [
       "array([22., 38., 26., 35., 35., nan, 54.,  2., 27., 14.])"
      ]
     },
     "execution_count": 9,
     "metadata": {},
     "output_type": "execute_result"
    }
   ],
   "execution_count": 9
  },
  {
   "cell_type": "markdown",
   "id": "25e90b53-5f09-43ea-8f00-b881a49a6209",
   "metadata": {},
   "source": [
    "The `Age` column has a float dtype and so does the Numpy output. Note that the `null` value in the 7th position becomes a `NaN` in Numpy.\n",
    "\n",
    "Also be aware that an integer column containing `null` values is cast to float in Numpy. We show this here where we `cast` the float `Age` column to integer and then convert to Numpy"
   ]
  },
  {
   "cell_type": "code",
   "id": "bff56949-5f2e-439b-bf6f-1aa599a0b05d",
   "metadata": {
    "ExecuteTime": {
     "end_time": "2025-03-28T09:08:04.147308Z",
     "start_time": "2025-03-28T09:08:04.142264Z"
    }
   },
   "source": [
    "(\n",
    "    df['Age']\n",
    "    .cast(pl.Int32)\n",
    "    .head()\n",
    "    .to_numpy()\n",
    ")"
   ],
   "outputs": [
    {
     "data": {
      "text/plain": [
       "array([22., 38., 26., 35., 35., nan, 54.,  2., 27., 14.])"
      ]
     },
     "execution_count": 10,
     "metadata": {},
     "output_type": "execute_result"
    }
   ],
   "execution_count": 10
  },
  {
   "cell_type": "markdown",
   "id": "23fe66f4-a638-4669-b1ec-9325e00f093b",
   "metadata": {},
   "source": [
    "And here we get the same output as above.\n",
    "\n",
    "### Convert a `Series` to Numpy with zero-copy\n",
    "In some cases we can convert a `Series` to Numpy without copying (\"zero-copy\"). \n",
    "\n",
    "Zero-copy is only possible if there are no `null` or `NaN` values such as in the `Survived` column. If we want to ensure that conversion to Numpy happens with zero-copy - and raise an `Exception` if a copy is needed - we use the `allow_copy` argument"
   ]
  },
  {
   "metadata": {},
   "cell_type": "markdown",
   "source": [
    "> Zero-copy를 사용하는 이유는 메모리 효율성과 속도 최적화 때문입니다.\n",
    "데이터를 복사하지 않고 동일한 메모리 블록을 재사용하면, 불필요한 메모리 소비를 줄이고 데이터 변환이나 연산 시 소요되는 시간을 대폭 감소시킬 수 있습니다.\n",
    "예를 들어, Series에 null 또는 NaN 값이 없으면 이미 NumPy와 호환되는 형식으로 메모리에 저장되어 있기 때문에, 별도의 복사 없이 NumPy 배열로 바로 변환할 수 있습니다.\n",
    "이렇게 하면 대용량 데이터 처리 시 특히 유리하며, allow_copy 옵션을 통해 복사가 필요한 경우 예외를 발생시켜 개발자가 의도한 zero-copy 환경이 유지되도록 할 수 있습니다."
   ],
   "id": "a82047a44660ae7a"
  },
  {
   "cell_type": "code",
   "id": "b391eb3b-24d4-4076-9d10-af08f12bee2f",
   "metadata": {
    "tags": [],
    "ExecuteTime": {
     "end_time": "2025-03-28T09:08:15.001840Z",
     "start_time": "2025-03-28T09:08:14.998502Z"
    }
   },
   "source": [
    "arr = (\n",
    "    df['Survived']\n",
    "    .head()\n",
    "    .to_numpy(allow_copy=False)\n",
    ")\n",
    "arr"
   ],
   "outputs": [
    {
     "data": {
      "text/plain": [
       "array([0, 1, 1, 1, 0, 0, 0, 0, 1, 1])"
      ]
     },
     "execution_count": 11,
     "metadata": {},
     "output_type": "execute_result"
    }
   ],
   "execution_count": 11
  },
  {
   "cell_type": "markdown",
   "id": "9030bcbe-eb6e-41f6-b80c-15a3d7471d1b",
   "metadata": {},
   "source": [
    "If we try this zero-copy approach with the `Age` column - where there is a `null` value we get an `Exception`"
   ]
  },
  {
   "cell_type": "code",
   "id": "0ff0f012-7f48-4d55-a061-304a474354cd",
   "metadata": {
    "ExecuteTime": {
     "end_time": "2025-03-28T09:08:44.717801Z",
     "start_time": "2025-03-28T09:08:44.456459Z"
    }
   },
   "source": [
    "arr = (\n",
    "    df['Age']\n",
    "    .head()\n",
    "    .to_numpy(allow_copy=False)\n",
    ")\n",
    "arr"
   ],
   "outputs": [
    {
     "ename": "RuntimeError",
     "evalue": "copy not allowed: cannot convert to a NumPy array without copying data",
     "output_type": "error",
     "traceback": [
      "\u001B[0;31m---------------------------------------------------------------------------\u001B[0m",
      "\u001B[0;31mRuntimeError\u001B[0m                              Traceback (most recent call last)",
      "Cell \u001B[0;32mIn[12], line 4\u001B[0m\n\u001B[1;32m      1\u001B[0m arr \u001B[38;5;241m=\u001B[39m (\n\u001B[1;32m      2\u001B[0m     df[\u001B[38;5;124m'\u001B[39m\u001B[38;5;124mAge\u001B[39m\u001B[38;5;124m'\u001B[39m]\n\u001B[1;32m      3\u001B[0m     \u001B[38;5;241m.\u001B[39mhead()\n\u001B[0;32m----> 4\u001B[0m     \u001B[38;5;241m.\u001B[39mto_numpy(allow_copy\u001B[38;5;241m=\u001B[39m\u001B[38;5;28;01mFalse\u001B[39;00m)\n\u001B[1;32m      5\u001B[0m )\n\u001B[1;32m      6\u001B[0m arr\n",
      "File \u001B[0;32m~/miniconda3/envs/mlenv/lib/python3.12/site-packages/polars/series/series.py:4401\u001B[0m, in \u001B[0;36mSeries.to_numpy\u001B[0;34m(self, writable, allow_copy, use_pyarrow, zero_copy_only)\u001B[0m\n\u001B[1;32m   4395\u001B[0m         \u001B[38;5;28;01mraise\u001B[39;00m \u001B[38;5;167;01mValueError\u001B[39;00m(msg)\n\u001B[1;32m   4397\u001B[0m     \u001B[38;5;28;01mreturn\u001B[39;00m \u001B[38;5;28mself\u001B[39m\u001B[38;5;241m.\u001B[39mto_arrow()\u001B[38;5;241m.\u001B[39mto_numpy(\n\u001B[1;32m   4398\u001B[0m         zero_copy_only\u001B[38;5;241m=\u001B[39m\u001B[38;5;129;01mnot\u001B[39;00m allow_copy, writable\u001B[38;5;241m=\u001B[39mwritable\n\u001B[1;32m   4399\u001B[0m     )\n\u001B[0;32m-> 4401\u001B[0m \u001B[38;5;28;01mreturn\u001B[39;00m \u001B[38;5;28mself\u001B[39m\u001B[38;5;241m.\u001B[39m_s\u001B[38;5;241m.\u001B[39mto_numpy(writable\u001B[38;5;241m=\u001B[39mwritable, allow_copy\u001B[38;5;241m=\u001B[39mallow_copy)\n",
      "\u001B[0;31mRuntimeError\u001B[0m: copy not allowed: cannot convert to a NumPy array without copying data"
     ]
    }
   ],
   "execution_count": 12
  },
  {
   "cell_type": "markdown",
   "id": "436351d6-6a74-4023-87ea-aec8f6effecf",
   "metadata": {},
   "source": [
    "With zero-copy conversion the Numpy array is read-only so we cannot change the values in the Numpy array.\n",
    "\n",
    "In the following example we get an `Exception` when we try to change the values after a zero-copy operation on the `Survived` column"
   ]
  },
  {
   "cell_type": "code",
   "id": "7f401c96-7b23-4efa-a9a6-292ef41f2304",
   "metadata": {
    "tags": [],
    "ExecuteTime": {
     "end_time": "2025-03-28T09:10:14.610006Z",
     "start_time": "2025-03-28T09:10:14.598003Z"
    }
   },
   "source": [
    "arr = (\n",
    "    df['Survived']\n",
    "    .head()\n",
    "    .to_numpy(allow_copy=False)\n",
    ")\n",
    "arr[0] = 100"
   ],
   "outputs": [
    {
     "ename": "ValueError",
     "evalue": "assignment destination is read-only",
     "output_type": "error",
     "traceback": [
      "\u001B[0;31m---------------------------------------------------------------------------\u001B[0m",
      "\u001B[0;31mValueError\u001B[0m                                Traceback (most recent call last)",
      "Cell \u001B[0;32mIn[13], line 6\u001B[0m\n\u001B[1;32m      1\u001B[0m arr \u001B[38;5;241m=\u001B[39m (\n\u001B[1;32m      2\u001B[0m     df[\u001B[38;5;124m'\u001B[39m\u001B[38;5;124mSurvived\u001B[39m\u001B[38;5;124m'\u001B[39m]\n\u001B[1;32m      3\u001B[0m     \u001B[38;5;241m.\u001B[39mhead()\n\u001B[1;32m      4\u001B[0m     \u001B[38;5;241m.\u001B[39mto_numpy(allow_copy\u001B[38;5;241m=\u001B[39m\u001B[38;5;28;01mFalse\u001B[39;00m)\n\u001B[1;32m      5\u001B[0m )\n\u001B[0;32m----> 6\u001B[0m arr[\u001B[38;5;241m0\u001B[39m] \u001B[38;5;241m=\u001B[39m \u001B[38;5;241m100\u001B[39m\n",
      "\u001B[0;31mValueError\u001B[0m: assignment destination is read-only"
     ]
    }
   ],
   "execution_count": 13
  },
  {
   "cell_type": "markdown",
   "id": "b6f1eff4-379e-4146-b12b-2a4bfbb0d894",
   "metadata": {},
   "source": [
    "## Convert a `DataFrame` to Pandas\n",
    "\n",
    "### Convert to a Numpy-backed Pandas DataFrame\n",
    "Pandas has historically used Numpy arrays to represent its data in memory.\n",
    "\n",
    "To convert a `DataFrame` to Pandas with Numpy array use the `to_pandas` method. This clones the data similar to calling `to_numpy` on a `DataFrame` above.\n",
    "\n",
    "> This conversion to Pandas requires that you have `PyArrow` installed with `pip` or `conda`."
   ]
  },
  {
   "cell_type": "code",
   "id": "1baa03b6-c56c-497d-9d8d-a6709055b340",
   "metadata": {
    "tags": [],
    "ExecuteTime": {
     "end_time": "2025-03-28T09:10:21.225506Z",
     "start_time": "2025-03-28T09:10:21.213816Z"
    }
   },
   "source": [
    "(\n",
    "    df\n",
    "    .to_pandas()\n",
    "    .head(2)\n",
    ")"
   ],
   "outputs": [
    {
     "data": {
      "text/plain": [
       "   PassengerId  Survived  Pclass  \\\n",
       "0            1         0       3   \n",
       "1            2         1       1   \n",
       "\n",
       "                                                  Name     Sex   Age  SibSp  \\\n",
       "0                              Braund, Mr. Owen Harris    male  22.0      1   \n",
       "1  Cumings, Mrs. John Bradley (Florence Briggs Thayer)  female  38.0      1   \n",
       "\n",
       "   Parch     Ticket     Fare Cabin Embarked  \n",
       "0      0  A/5 21171   7.2500  None        S  \n",
       "1      0   PC 17599  71.2833   C85        C  "
      ],
      "text/html": [
       "<div>\n",
       "<style scoped>\n",
       "    .dataframe tbody tr th:only-of-type {\n",
       "        vertical-align: middle;\n",
       "    }\n",
       "\n",
       "    .dataframe tbody tr th {\n",
       "        vertical-align: top;\n",
       "    }\n",
       "\n",
       "    .dataframe thead th {\n",
       "        text-align: right;\n",
       "    }\n",
       "</style>\n",
       "<table border=\"1\" class=\"dataframe\">\n",
       "  <thead>\n",
       "    <tr style=\"text-align: right;\">\n",
       "      <th></th>\n",
       "      <th>PassengerId</th>\n",
       "      <th>Survived</th>\n",
       "      <th>Pclass</th>\n",
       "      <th>Name</th>\n",
       "      <th>Sex</th>\n",
       "      <th>Age</th>\n",
       "      <th>SibSp</th>\n",
       "      <th>Parch</th>\n",
       "      <th>Ticket</th>\n",
       "      <th>Fare</th>\n",
       "      <th>Cabin</th>\n",
       "      <th>Embarked</th>\n",
       "    </tr>\n",
       "  </thead>\n",
       "  <tbody>\n",
       "    <tr>\n",
       "      <th>0</th>\n",
       "      <td>1</td>\n",
       "      <td>0</td>\n",
       "      <td>3</td>\n",
       "      <td>Braund, Mr. Owen Harris</td>\n",
       "      <td>male</td>\n",
       "      <td>22.0</td>\n",
       "      <td>1</td>\n",
       "      <td>0</td>\n",
       "      <td>A/5 21171</td>\n",
       "      <td>7.2500</td>\n",
       "      <td>None</td>\n",
       "      <td>S</td>\n",
       "    </tr>\n",
       "    <tr>\n",
       "      <th>1</th>\n",
       "      <td>2</td>\n",
       "      <td>1</td>\n",
       "      <td>1</td>\n",
       "      <td>Cumings, Mrs. John Bradley (Florence Briggs Thayer)</td>\n",
       "      <td>female</td>\n",
       "      <td>38.0</td>\n",
       "      <td>1</td>\n",
       "      <td>0</td>\n",
       "      <td>PC 17599</td>\n",
       "      <td>71.2833</td>\n",
       "      <td>C85</td>\n",
       "      <td>C</td>\n",
       "    </tr>\n",
       "  </tbody>\n",
       "</table>\n",
       "</div>"
      ]
     },
     "execution_count": 14,
     "metadata": {},
     "output_type": "execute_result"
    }
   ],
   "execution_count": 14
  },
  {
   "cell_type": "markdown",
   "id": "ad9663cd-67cb-4441-97a2-93038f833ec9",
   "metadata": {},
   "source": [
    "### Convert to a PyArrow-backed Pandas `DataFrame`\n",
    "Since Pandas release 1.5.0 and Polars release 1.6.4 you can have a Pandas `DataFrame` backed by an Arrow Table. You can create a Pandas `DataFrame` that references the same Arrow Table as your Polars `DataFrame`"
   ]
  },
  {
   "cell_type": "code",
   "id": "fffbc1ec-8912-46c5-ba78-cb9425470dad",
   "metadata": {
    "tags": [],
    "ExecuteTime": {
     "end_time": "2025-03-28T09:10:54.656815Z",
     "start_time": "2025-03-28T09:10:54.648977Z"
    }
   },
   "source": [
    "(\n",
    "    df\n",
    "    .to_pandas(use_pyarrow_extension_array=True)\n",
    "    .head(2)\n",
    ")"
   ],
   "outputs": [
    {
     "data": {
      "text/plain": [
       "   PassengerId  Survived  Pclass  \\\n",
       "0            1         0       3   \n",
       "1            2         1       1   \n",
       "\n",
       "                                                  Name     Sex   Age  SibSp  \\\n",
       "0                              Braund, Mr. Owen Harris    male  22.0      1   \n",
       "1  Cumings, Mrs. John Bradley (Florence Briggs Thayer)  female  38.0      1   \n",
       "\n",
       "   Parch     Ticket     Fare Cabin Embarked  \n",
       "0      0  A/5 21171     7.25  <NA>        S  \n",
       "1      0   PC 17599  71.2833   C85        C  "
      ],
      "text/html": [
       "<div>\n",
       "<style scoped>\n",
       "    .dataframe tbody tr th:only-of-type {\n",
       "        vertical-align: middle;\n",
       "    }\n",
       "\n",
       "    .dataframe tbody tr th {\n",
       "        vertical-align: top;\n",
       "    }\n",
       "\n",
       "    .dataframe thead th {\n",
       "        text-align: right;\n",
       "    }\n",
       "</style>\n",
       "<table border=\"1\" class=\"dataframe\">\n",
       "  <thead>\n",
       "    <tr style=\"text-align: right;\">\n",
       "      <th></th>\n",
       "      <th>PassengerId</th>\n",
       "      <th>Survived</th>\n",
       "      <th>Pclass</th>\n",
       "      <th>Name</th>\n",
       "      <th>Sex</th>\n",
       "      <th>Age</th>\n",
       "      <th>SibSp</th>\n",
       "      <th>Parch</th>\n",
       "      <th>Ticket</th>\n",
       "      <th>Fare</th>\n",
       "      <th>Cabin</th>\n",
       "      <th>Embarked</th>\n",
       "    </tr>\n",
       "  </thead>\n",
       "  <tbody>\n",
       "    <tr>\n",
       "      <th>0</th>\n",
       "      <td>1</td>\n",
       "      <td>0</td>\n",
       "      <td>3</td>\n",
       "      <td>Braund, Mr. Owen Harris</td>\n",
       "      <td>male</td>\n",
       "      <td>22.0</td>\n",
       "      <td>1</td>\n",
       "      <td>0</td>\n",
       "      <td>A/5 21171</td>\n",
       "      <td>7.25</td>\n",
       "      <td>&lt;NA&gt;</td>\n",
       "      <td>S</td>\n",
       "    </tr>\n",
       "    <tr>\n",
       "      <th>1</th>\n",
       "      <td>2</td>\n",
       "      <td>1</td>\n",
       "      <td>1</td>\n",
       "      <td>Cumings, Mrs. John Bradley (Florence Briggs Thayer)</td>\n",
       "      <td>female</td>\n",
       "      <td>38.0</td>\n",
       "      <td>1</td>\n",
       "      <td>0</td>\n",
       "      <td>PC 17599</td>\n",
       "      <td>71.2833</td>\n",
       "      <td>C85</td>\n",
       "      <td>C</td>\n",
       "    </tr>\n",
       "  </tbody>\n",
       "</table>\n",
       "</div>"
      ]
     },
     "execution_count": 15,
     "metadata": {},
     "output_type": "execute_result"
    }
   ],
   "execution_count": 15
  },
  {
   "cell_type": "markdown",
   "id": "c135ccf4-85ac-42d4-b1db-58ab1c96bc6d",
   "metadata": {},
   "source": [
    "The advantage of using the pyarrow extension array is that creating the Pandas `DataFrame` is very cheap as it does not require copying data. \n",
    "\n",
    "If there is a function you want from Pandas you can do a quick transformation to Pandas, apply the function and revert back to Polars. This works in eager mode only of course.\n",
    "\n",
    "This PyArrow conversion is a new feature in both libraries so there may be incompatability with trickier features such as categorical or nested columns.\n",
    "\n",
    "Note that when you do **not** use the PyArrow extension approach the dtypes of the columns in Pandas are the standard Pandas dtypes. When you do use the PyArrow extension approach the the dtypes of the columns in Pandas are PyArrow dtypes"
   ]
  },
  {
   "cell_type": "code",
   "id": "b32948d2-be4f-4711-aa0d-2d0e944f0ad1",
   "metadata": {
    "tags": [],
    "ExecuteTime": {
     "end_time": "2025-03-28T09:12:02.239983Z",
     "start_time": "2025-03-28T09:12:02.236592Z"
    }
   },
   "source": [
    "# Without PyArrow dtypes\n",
    "df.to_pandas(use_pyarrow_extension_array=False).dtypes"
   ],
   "outputs": [
    {
     "data": {
      "text/plain": [
       "PassengerId      int64\n",
       "Survived         int64\n",
       "Pclass           int64\n",
       "Name            object\n",
       "Sex             object\n",
       "Age            float64\n",
       "SibSp            int64\n",
       "Parch            int64\n",
       "Ticket          object\n",
       "Fare           float64\n",
       "Cabin           object\n",
       "Embarked        object\n",
       "dtype: object"
      ]
     },
     "execution_count": 17,
     "metadata": {},
     "output_type": "execute_result"
    }
   ],
   "execution_count": 17
  },
  {
   "cell_type": "code",
   "id": "5a7f930a-a885-4916-9f49-feed0a44acdd",
   "metadata": {
    "tags": [],
    "ExecuteTime": {
     "end_time": "2025-03-28T09:11:59.988437Z",
     "start_time": "2025-03-28T09:11:59.983897Z"
    }
   },
   "source": [
    "# With PyArrow dtypes\n",
    "df.to_pandas(use_pyarrow_extension_array=True).dtypes"
   ],
   "outputs": [
    {
     "data": {
      "text/plain": [
       "PassengerId           int64[pyarrow]\n",
       "Survived              int64[pyarrow]\n",
       "Pclass                int64[pyarrow]\n",
       "Name           large_string[pyarrow]\n",
       "Sex            large_string[pyarrow]\n",
       "Age                  double[pyarrow]\n",
       "SibSp                 int64[pyarrow]\n",
       "Parch                 int64[pyarrow]\n",
       "Ticket         large_string[pyarrow]\n",
       "Fare                 double[pyarrow]\n",
       "Cabin          large_string[pyarrow]\n",
       "Embarked       large_string[pyarrow]\n",
       "dtype: object"
      ]
     },
     "execution_count": 16,
     "metadata": {},
     "output_type": "execute_result"
    }
   ],
   "execution_count": 16
  },
  {
   "cell_type": "markdown",
   "id": "ff6240e8-0320-406e-9597-dc9070301999",
   "metadata": {},
   "source": [
    "### Calling `pd.DataFrame` on a Polars `DataFrame`\n",
    "You can call `pd.DataFrame` on a Polars `DataFrame`"
   ]
  },
  {
   "cell_type": "code",
   "id": "861bacdd-68a7-4c0d-83e9-ed3fdbbd4f05",
   "metadata": {
    "tags": [],
    "ExecuteTime": {
     "end_time": "2025-03-28T09:13:39.382023Z",
     "start_time": "2025-03-28T09:13:39.378617Z"
    }
   },
   "source": [
    "df_pandas = (\n",
    "    pd.DataFrame(df)\n",
    "    .head(3)\n",
    ")"
   ],
   "outputs": [],
   "execution_count": 21
  },
  {
   "cell_type": "code",
   "id": "0c10d378-07d0-4f1b-a791-40d4a1305c8a",
   "metadata": {
    "ExecuteTime": {
     "end_time": "2025-03-28T09:13:40.591687Z",
     "start_time": "2025-03-28T09:13:40.587095Z"
    }
   },
   "source": [
    "df_pandas"
   ],
   "outputs": [
    {
     "data": {
      "text/plain": [
       "  0  1  2                                                    3       4     5   \\\n",
       "0  1  0  3                              Braund, Mr. Owen Harris    male  22.0   \n",
       "1  2  1  1  Cumings, Mrs. John Bradley (Florence Briggs Thayer)  female  38.0   \n",
       "2  3  1  3                               Heikkinen, Miss. Laina  female  26.0   \n",
       "\n",
       "  6  7                 8        9     10 11  \n",
       "0  1  0         A/5 21171     7.25  None  S  \n",
       "1  1  0          PC 17599  71.2833   C85  C  \n",
       "2  0  0  STON/O2. 3101282    7.925  None  S  "
      ],
      "text/html": [
       "<div>\n",
       "<style scoped>\n",
       "    .dataframe tbody tr th:only-of-type {\n",
       "        vertical-align: middle;\n",
       "    }\n",
       "\n",
       "    .dataframe tbody tr th {\n",
       "        vertical-align: top;\n",
       "    }\n",
       "\n",
       "    .dataframe thead th {\n",
       "        text-align: right;\n",
       "    }\n",
       "</style>\n",
       "<table border=\"1\" class=\"dataframe\">\n",
       "  <thead>\n",
       "    <tr style=\"text-align: right;\">\n",
       "      <th></th>\n",
       "      <th>0</th>\n",
       "      <th>1</th>\n",
       "      <th>2</th>\n",
       "      <th>3</th>\n",
       "      <th>4</th>\n",
       "      <th>5</th>\n",
       "      <th>6</th>\n",
       "      <th>7</th>\n",
       "      <th>8</th>\n",
       "      <th>9</th>\n",
       "      <th>10</th>\n",
       "      <th>11</th>\n",
       "    </tr>\n",
       "  </thead>\n",
       "  <tbody>\n",
       "    <tr>\n",
       "      <th>0</th>\n",
       "      <td>1</td>\n",
       "      <td>0</td>\n",
       "      <td>3</td>\n",
       "      <td>Braund, Mr. Owen Harris</td>\n",
       "      <td>male</td>\n",
       "      <td>22.0</td>\n",
       "      <td>1</td>\n",
       "      <td>0</td>\n",
       "      <td>A/5 21171</td>\n",
       "      <td>7.25</td>\n",
       "      <td>None</td>\n",
       "      <td>S</td>\n",
       "    </tr>\n",
       "    <tr>\n",
       "      <th>1</th>\n",
       "      <td>2</td>\n",
       "      <td>1</td>\n",
       "      <td>1</td>\n",
       "      <td>Cumings, Mrs. John Bradley (Florence Briggs Thayer)</td>\n",
       "      <td>female</td>\n",
       "      <td>38.0</td>\n",
       "      <td>1</td>\n",
       "      <td>0</td>\n",
       "      <td>PC 17599</td>\n",
       "      <td>71.2833</td>\n",
       "      <td>C85</td>\n",
       "      <td>C</td>\n",
       "    </tr>\n",
       "    <tr>\n",
       "      <th>2</th>\n",
       "      <td>3</td>\n",
       "      <td>1</td>\n",
       "      <td>3</td>\n",
       "      <td>Heikkinen, Miss. Laina</td>\n",
       "      <td>female</td>\n",
       "      <td>26.0</td>\n",
       "      <td>0</td>\n",
       "      <td>0</td>\n",
       "      <td>STON/O2. 3101282</td>\n",
       "      <td>7.925</td>\n",
       "      <td>None</td>\n",
       "      <td>S</td>\n",
       "    </tr>\n",
       "  </tbody>\n",
       "</table>\n",
       "</div>"
      ]
     },
     "execution_count": 22,
     "metadata": {},
     "output_type": "execute_result"
    }
   ],
   "execution_count": 22
  },
  {
   "cell_type": "markdown",
   "id": "b60e4c86-8f08-42e3-988b-c5ad4f1065ae",
   "metadata": {},
   "source": [
    "\n",
    "\n",
    "### Conversion from Pandas to Polars\n",
    "You can convert from Pandas to Polars by calling `pl.DataFrame` on the Pandas `DataFrame`"
   ]
  },
  {
   "cell_type": "code",
   "id": "f7fdd9b7-6f30-4412-a7d0-ea6e2654b0e6",
   "metadata": {
    "ExecuteTime": {
     "end_time": "2025-03-28T09:14:22.743082Z",
     "start_time": "2025-03-28T09:14:22.737833Z"
    }
   },
   "source": [
    "(\n",
    "    pl.DataFrame(\n",
    "        df.to_pandas()\n",
    "    )\n",
    "    .head(3)\n",
    ")"
   ],
   "outputs": [
    {
     "data": {
      "text/plain": [
       "shape: (3, 12)\n",
       "┌─────────────┬──────────┬────────┬───────────────────┬───┬───────────┬─────────┬───────┬──────────┐\n",
       "│ PassengerId ┆ Survived ┆ Pclass ┆ Name              ┆ … ┆ Ticket    ┆ Fare    ┆ Cabin ┆ Embarked │\n",
       "│ ---         ┆ ---      ┆ ---    ┆ ---               ┆   ┆ ---       ┆ ---     ┆ ---   ┆ ---      │\n",
       "│ i64         ┆ i64      ┆ i64    ┆ str               ┆   ┆ str       ┆ f64     ┆ str   ┆ str      │\n",
       "╞═════════════╪══════════╪════════╪═══════════════════╪═══╪═══════════╪═════════╪═══════╪══════════╡\n",
       "│ 1           ┆ 0        ┆ 3      ┆ Braund, Mr. Owen  ┆ … ┆ A/5 21171 ┆ 7.25    ┆ null  ┆ S        │\n",
       "│             ┆          ┆        ┆ Harris            ┆   ┆           ┆         ┆       ┆          │\n",
       "│ 2           ┆ 1        ┆ 1      ┆ Cumings, Mrs.     ┆ … ┆ PC 17599  ┆ 71.2833 ┆ C85   ┆ C        │\n",
       "│             ┆          ┆        ┆ John Bradley (Fl… ┆   ┆           ┆         ┆       ┆          │\n",
       "│ 3           ┆ 1        ┆ 3      ┆ Heikkinen, Miss.  ┆ … ┆ STON/O2.  ┆ 7.925   ┆ null  ┆ S        │\n",
       "│             ┆          ┆        ┆ Laina             ┆   ┆ 3101282   ┆         ┆       ┆          │\n",
       "└─────────────┴──────────┴────────┴───────────────────┴───┴───────────┴─────────┴───────┴──────────┘"
      ],
      "text/html": [
       "<div><style>\n",
       ".dataframe > thead > tr,\n",
       ".dataframe > tbody > tr {\n",
       "  text-align: right;\n",
       "  white-space: pre-wrap;\n",
       "}\n",
       "</style>\n",
       "<small>shape: (3, 12)</small><table border=\"1\" class=\"dataframe\"><thead><tr><th>PassengerId</th><th>Survived</th><th>Pclass</th><th>Name</th><th>Sex</th><th>Age</th><th>SibSp</th><th>Parch</th><th>Ticket</th><th>Fare</th><th>Cabin</th><th>Embarked</th></tr><tr><td>i64</td><td>i64</td><td>i64</td><td>str</td><td>str</td><td>f64</td><td>i64</td><td>i64</td><td>str</td><td>f64</td><td>str</td><td>str</td></tr></thead><tbody><tr><td>1</td><td>0</td><td>3</td><td>&quot;Braund, Mr. Owen Harris&quot;</td><td>&quot;male&quot;</td><td>22.0</td><td>1</td><td>0</td><td>&quot;A/5 21171&quot;</td><td>7.25</td><td>null</td><td>&quot;S&quot;</td></tr><tr><td>2</td><td>1</td><td>1</td><td>&quot;Cumings, Mrs. John Bradley (Fl…</td><td>&quot;female&quot;</td><td>38.0</td><td>1</td><td>0</td><td>&quot;PC 17599&quot;</td><td>71.2833</td><td>&quot;C85&quot;</td><td>&quot;C&quot;</td></tr><tr><td>3</td><td>1</td><td>3</td><td>&quot;Heikkinen, Miss. Laina&quot;</td><td>&quot;female&quot;</td><td>26.0</td><td>0</td><td>0</td><td>&quot;STON/O2. 3101282&quot;</td><td>7.925</td><td>null</td><td>&quot;S&quot;</td></tr></tbody></table></div>"
      ]
     },
     "execution_count": 25,
     "metadata": {},
     "output_type": "execute_result"
    }
   ],
   "execution_count": 25
  },
  {
   "cell_type": "markdown",
   "id": "cf0f7d1b-ed50-43b2-99bd-1885259d44bf",
   "metadata": {},
   "source": [
    "Note, however, that the `index` column is lost when converting to Polars."
   ]
  },
  {
   "cell_type": "markdown",
   "id": "be8b9c82-4197-413f-8198-6fd308127ab4",
   "metadata": {},
   "source": [
    "You can also call `pl.from_pandas` on a Pandas `DataFrame`"
   ]
  },
  {
   "cell_type": "code",
   "execution_count": null,
   "id": "6b8a1748-2852-46d3-a522-d4fe92fb80eb",
   "metadata": {},
   "outputs": [],
   "source": [
    "(\n",
    "    pl.from_pandas(\n",
    "        df.to_pandas()\n",
    "    ).head(3)\n",
    ")"
   ]
  },
  {
   "cell_type": "markdown",
   "id": "fe88d78d-105a-4a80-b80b-be641e2ab32f",
   "metadata": {},
   "source": [
    "Both approaches are equivalent."
   ]
  },
  {
   "cell_type": "markdown",
   "id": "0a01bf8e-7495-446b-acba-dce16645da77",
   "metadata": {},
   "source": [
    "## Convert a `Series` to Pandas\n",
    "You can convert a `Series` to Pandas with `to_pandas` which clones the data"
   ]
  },
  {
   "cell_type": "code",
   "execution_count": null,
   "id": "3139f054-e628-472b-b0f2-b6063605bccf",
   "metadata": {
    "tags": []
   },
   "outputs": [],
   "source": [
    "(\n",
    "    df['Age']\n",
    "    .to_pandas()\n",
    "    .head()\n",
    ")"
   ]
  },
  {
   "cell_type": "markdown",
   "id": "3a842e99-dd4c-4d3c-8523-a9f3c59c8820",
   "metadata": {},
   "source": [
    "Or you can again use the PyArrow extension type in Pandas for a zero-copy conversion"
   ]
  },
  {
   "cell_type": "code",
   "execution_count": null,
   "id": "d55383dd-7aec-405c-a63b-f008e024fde2",
   "metadata": {
    "tags": []
   },
   "outputs": [],
   "source": [
    "(\n",
    "    df['Age']\n",
    "    .to_pandas(use_pyarrow_extension_array=True)\n",
    "    .head()\n",
    ")"
   ]
  },
  {
   "cell_type": "markdown",
   "id": "b3b50bc1-aa7f-4e05-ba6f-65808e0ea75e",
   "metadata": {},
   "source": [
    "## Exercises\n",
    "\n",
    "No exercises for this lecture!"
   ]
  }
 ],
 "metadata": {
  "kernelspec": {
   "display_name": "Python 3 (ipykernel)",
   "language": "python",
   "name": "python3"
  },
  "language_info": {
   "codemirror_mode": {
    "name": "ipython",
    "version": 3
   },
   "file_extension": ".py",
   "mimetype": "text/x-python",
   "name": "python",
   "nbconvert_exporter": "python",
   "pygments_lexer": "ipython3",
   "version": "3.10.1"
  }
 },
 "nbformat": 4,
 "nbformat_minor": 5
}
