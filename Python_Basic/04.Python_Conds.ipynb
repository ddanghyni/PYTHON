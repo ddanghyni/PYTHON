{
 "cells": [
  {
   "metadata": {},
   "cell_type": "markdown",
   "source": [
    "## `if-else` 구문\n",
    "\n",
    "### Statement\n",
    "\n",
    "Python interpreter가 실행 가능한 문법에 옳은 문장들을 statement라 한다.\n",
    "앞 장에서 공부한 statement들과 더불어 조건문과 반복문을 공부해 보자.\n",
    "\n",
    "* ```1 + 2```\n",
    "* ```x = 7```\n",
    "* ```print(\"Hello\")```\n",
    "* ```newstring = \"ABCD\".lower()```\n",
    "* 조건문\n",
    "* 반복문"
   ],
   "id": "f1691a38eba457bf"
  },
  {
   "metadata": {},
   "cell_type": "markdown",
   "source": [
    "### 조건문\n",
    "\n",
    "프로그래머가 명시한 ```if```의 조건이 ```True```인가 ```False```인가에 따라 실행하는 문장(statement)이 달라지는 구문\n",
    " * 테스트 구문은 항상 ```True``` 혹은 ```False```로 계산된다.\n",
    "\n",
    "\n",
    " * ```if```절의 다음에는 만약 테스트 결과가 ```True```일 경우 실행될 코드 블록이 나타난다.\n",
    "    * 만약 테스트 구문이 ```False```로 판명나면 실행하지 않는다.\n",
    "\n",
    "\n",
    " * 추가적으로 만약 테스트 구문이 ```False```일 때 할 일을 나타낼 수 있다.\n",
    "    * 이에 해당되는 코드는 ```else``` 혹은 ```elif```의 구문에서 나타난다."
   ],
   "id": "9251112707298031"
  },
  {
   "metadata": {},
   "cell_type": "markdown",
   "source": [
    "### ```if else``` 문의 문법 구조\n",
    "\n",
    "<p> &#9635 문법 - 구문의 기본적인 구조는 다음과 같다.</p>\n",
    "\n",
    "```\n",
    "if 조건문:\n",
    "  조건문 결과가 True일 경우 해야 할 일\n",
    "else:\n",
    "  조건문 결과가 False일 경우 해야 할 일"
   ],
   "id": "dfae141d38fd7426"
  },
  {
   "metadata": {
    "ExecuteTime": {
     "end_time": "2025-03-09T06:29:42.200987Z",
     "start_time": "2025-03-09T06:29:42.198373Z"
    }
   },
   "cell_type": "code",
   "source": [
    "x = 15\n",
    "\n",
    "if x % 2 == 0:\n",
    "    print(\"Even\")\n",
    "else:\n",
    "    print(\"Odd\")"
   ],
   "id": "ed009784b0f707b0",
   "outputs": [
    {
     "name": "stdout",
     "output_type": "stream",
     "text": [
      "Odd\n"
     ]
    }
   ],
   "execution_count": 1
  },
  {
   "metadata": {},
   "cell_type": "markdown",
   "source": [
    "조건문 ```x % 2 == 0``` (x를 2로 나눈 나머지가 0인가)의 연산결과가 ```True```이면\n",
    "* ```print('Even')```을 실행\n",
    "\n",
    "```False```이면\n",
    "* ```print('Odd')```을 실행"
   ],
   "id": "8a7877d4aa55b9b5"
  },
  {
   "metadata": {
    "ExecuteTime": {
     "end_time": "2025-03-09T06:30:15.988372Z",
     "start_time": "2025-03-09T06:30:15.985684Z"
    }
   },
   "cell_type": "code",
   "source": [
    "for i in range(1, 11):\n",
    "    if i % 2 == 0:\n",
    "        print(i, \"Even\")\n",
    "    else:\n",
    "        print(i, \"Odd\")"
   ],
   "id": "c29b76ca027a6384",
   "outputs": [
    {
     "name": "stdout",
     "output_type": "stream",
     "text": [
      "1 Odd\n",
      "2 Even\n",
      "3 Odd\n",
      "4 Even\n",
      "5 Odd\n",
      "6 Even\n",
      "7 Odd\n",
      "8 Even\n",
      "9 Odd\n",
      "10 Even\n"
     ]
    }
   ],
   "execution_count": 2
  },
  {
   "metadata": {},
   "cell_type": "markdown",
   "source": [
    "<p> &#9635 주의점 </p>\n",
    "\n",
    "* ```if```의 조건문과 ```else```의 뒤에 ```:```를 붙인다.\n",
    "\n",
    "\n",
    "* ```if```문은 test 조건문이 ```True```일 경우에 실행되는 코드 블록을 포함함.\n",
    "\n",
    "\n",
    "* ```else``` 문은 ```if``` 문에있는 조건식이 ```0``` 또는 ```False``` 값으로 해석될 때 실행되는 코드 블록을 포함함.\n",
    "\n",
    "\n",
    "* ```if```문과 ```else```의 내용은 들여쓰기(indentation)를 해야 함.\n",
    "\n",
    "\n",
    "* 하나의 ```if```에 대응되는 ```else```는 한 개 혹은, 필요가 없을 경우 ```else``` 문은 생략 가능"
   ],
   "id": "f67f35163766b459"
  },
  {
   "metadata": {},
   "cell_type": "markdown",
   "source": [
    "<div class=\"alert alert-block alert-info\"> <b>NOTE</b> 코드가 간단할 경우, 줄을 바꿔 들여쓰기를 하지 않고, 다음과 같은 문법도 가능\n",
    "\n",
    "```\n",
    "if 조건문: 조건문 결과가 True일 경우 해야 할 일\n",
    "else: 조건문 결과가 False일 경우 해야 할 일\n",
    "```\n",
    "\n",
    "</div>"
   ],
   "id": "c92828bf4b36dcd5"
  },
  {
   "metadata": {
    "ExecuteTime": {
     "end_time": "2025-03-09T06:32:07.571241Z",
     "start_time": "2025-03-09T06:32:07.568398Z"
    }
   },
   "cell_type": "code",
   "source": [
    "my_age = 25\n",
    "if my_age >= 20 : print(\"You are adult\")\n",
    "else: print(\"You are not adult\")"
   ],
   "id": "6d8933c393626789",
   "outputs": [
    {
     "name": "stdout",
     "output_type": "stream",
     "text": [
      "You are adult\n"
     ]
    }
   ],
   "execution_count": 3
  },
  {
   "metadata": {},
   "cell_type": "markdown",
   "source": "<p> &#9635 예제 : 조건문 안에 <code>and</code>를 이용하여 여러 조건을 검사 </p>",
   "id": "21d9ab9fb566571f"
  },
  {
   "metadata": {
    "ExecuteTime": {
     "end_time": "2025-03-09T06:33:25.495315Z",
     "start_time": "2025-03-09T06:33:25.493114Z"
    }
   },
   "cell_type": "code",
   "source": [
    "x = 3\n",
    "y = 7\n",
    "if x < y and x < 0:\n",
    "    print(\"if\")  # and는 모두 참이어야지 True\n",
    "else: print(\"else\")"
   ],
   "id": "eb13415434820786",
   "outputs": [
    {
     "name": "stdout",
     "output_type": "stream",
     "text": [
      "else\n"
     ]
    }
   ],
   "execution_count": 4
  },
  {
   "metadata": {},
   "cell_type": "markdown",
   "source": "주어진 ```x```가 ```y```보다도 크고, ```z```보다도 큰 지 검사하고 싶을 때",
   "id": "b6be6f53026fcaf4"
  },
  {
   "metadata": {
    "ExecuteTime": {
     "end_time": "2025-03-09T06:37:14.294468Z",
     "start_time": "2025-03-09T06:37:06.502636Z"
    }
   },
   "cell_type": "code",
   "source": [
    "x ,y, z = map(int, input(\"Enter three numbers: \").split())\n",
    "\n",
    "if x > y and x > z:\n",
    "    print(\"x is the largest number\")"
   ],
   "id": "7e3493b6007021da",
   "outputs": [
    {
     "name": "stdout",
     "output_type": "stream",
     "text": [
      "x is the largest number\n"
     ]
    }
   ],
   "execution_count": 8
  },
  {
   "metadata": {},
   "cell_type": "markdown",
   "source": "<p> &#9635 다음의 예제에서는 파일의 확장자가 .csv, .tsv, .txt일 경우 올바른 파일 형식으로 간주하고, 그렇지 않으면 잘못된 형식이라고 출력한다. </p>",
   "id": "2b6a4e7c13780ba7"
  },
  {
   "metadata": {
    "ExecuteTime": {
     "end_time": "2025-03-09T06:44:45.507168Z",
     "start_time": "2025-03-09T06:44:40.863400Z"
    }
   },
   "cell_type": "code",
   "source": [
    "file_name = input(\"Enter file name: \")\n",
    "\n",
    "ends = file_name.split(\".\")\n",
    "\n",
    "if ends[-1] in [\"csv\", \"tsv\", \"txt\"]:\n",
    "    print(\"Valid file format\")\n",
    "else:\n",
    "    print(\"Invalid file format\")\n"
   ],
   "id": "9125d51342ee1544",
   "outputs": [
    {
     "name": "stdout",
     "output_type": "stream",
     "text": [
      "Valid file format\n"
     ]
    }
   ],
   "execution_count": 14
  },
  {
   "metadata": {
    "ExecuteTime": {
     "end_time": "2025-03-09T06:44:38.273151Z",
     "start_time": "2025-03-09T06:44:38.270557Z"
    }
   },
   "cell_type": "code",
   "source": [
    "filename = \"mydata.csv\"\n",
    "if filename.endswith(\".csv\") or filename.endswith(\".tsv\") or filename.endswith(\".txt\") :\n",
    "    print(\"Right file format\")\n",
    "else :\n",
    "    print(\"Wrong file format\")"
   ],
   "id": "2555071ea1707d82",
   "outputs": [
    {
     "name": "stdout",
     "output_type": "stream",
     "text": [
      "Right file format\n"
     ]
    }
   ],
   "execution_count": 13
  },
  {
   "metadata": {},
   "cell_type": "code",
   "outputs": [],
   "execution_count": null,
   "source": "",
   "id": "a579dcb33465bdc4"
  }
 ],
 "metadata": {
  "kernelspec": {
   "display_name": "Python 3",
   "language": "python",
   "name": "python3"
  },
  "language_info": {
   "codemirror_mode": {
    "name": "ipython",
    "version": 2
   },
   "file_extension": ".py",
   "mimetype": "text/x-python",
   "name": "python",
   "nbconvert_exporter": "python",
   "pygments_lexer": "ipython2",
   "version": "2.7.6"
  }
 },
 "nbformat": 4,
 "nbformat_minor": 5
}
