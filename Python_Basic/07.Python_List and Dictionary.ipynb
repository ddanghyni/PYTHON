{
 "cells": [
  {
   "metadata": {},
   "cell_type": "markdown",
   "source": [
    "# 7. List and Dictionary\n",
    "\n",
    "--------------\n",
    "\n",
    "앞에서 공부한 데이터 형들은 scalar로서 하나의 값을 가졌다.\n",
    "\n",
    "이 장에서는 여러 object들을 포함하는 container들에 대해 공부한다."
   ],
   "id": "cea962e4c5fe81b2"
  },
  {
   "metadata": {},
   "cell_type": "markdown",
   "source": [
    "## List와 tuple\n",
    "----------\n",
    "\n",
    "<p> <font color=#00008B> &#9635 리스트 (list) </font> - 파이썬에서 여러 원소들을 모아놓은 집합체로 순서가 있으며, 원소들을 **변경 가능하다**. </p>\n",
    "\n",
    "* ```[ ]```와 ```,```로 표현하는 데이터 형으로 여러 가지 형태의 정보를 하나의 리스트로 묶어서 나타냄\n",
    "* ```list``` 는 매우 유연하며, 다양한 상황에서 간편하게 활용될 수 있다."
   ],
   "id": "b07fe3fb95caa4fa"
  },
  {
   "metadata": {
    "ExecuteTime": {
     "end_time": "2025-03-16T14:48:30.009001Z",
     "start_time": "2025-03-16T14:48:30.006501Z"
    }
   },
   "cell_type": "code",
   "source": [
    "squares = [1, 4, 9, 16, 25]\n",
    "zoo_animal = ['tiger', 'lion', 'monkey']\n",
    "smith_info = ['Smith', 1990, 'london']\n",
    "lee_info = ['Lee', 2000, 'Seoul']\n",
    "customer = [smith_info, lee_info]"
   ],
   "id": "8a43a75f09d01e24",
   "outputs": [],
   "execution_count": 1
  },
  {
   "metadata": {
    "ExecuteTime": {
     "end_time": "2025-03-16T14:48:34.107895Z",
     "start_time": "2025-03-16T14:48:34.103691Z"
    }
   },
   "cell_type": "code",
   "source": "customer",
   "id": "fd9f5016fa2a5392",
   "outputs": [
    {
     "data": {
      "text/plain": [
       "[['Smith', 1990, 'london'], ['Lee', 2000, 'Seoul']]"
      ]
     },
     "execution_count": 2,
     "metadata": {},
     "output_type": "execute_result"
    }
   ],
   "execution_count": 2
  },
  {
   "metadata": {},
   "cell_type": "markdown",
   "source": "`len()` 함수를 이용하여 길이를 구함",
   "id": "30dc6cc323fc66e2"
  },
  {
   "metadata": {
    "ExecuteTime": {
     "end_time": "2025-03-16T14:48:58.892371Z",
     "start_time": "2025-03-16T14:48:58.889822Z"
    }
   },
   "cell_type": "code",
   "source": "len(squares)",
   "id": "2f1fbcc6bf744d3c",
   "outputs": [
    {
     "data": {
      "text/plain": [
       "5"
      ]
     },
     "execution_count": 3,
     "metadata": {},
     "output_type": "execute_result"
    }
   ],
   "execution_count": 3
  },
  {
   "metadata": {
    "ExecuteTime": {
     "end_time": "2025-03-16T14:49:11.163044Z",
     "start_time": "2025-03-16T14:49:11.160500Z"
    }
   },
   "cell_type": "code",
   "source": "len(customer)",
   "id": "c84172c23e97e7dc",
   "outputs": [
    {
     "data": {
      "text/plain": [
       "2"
      ]
     },
     "execution_count": 4,
     "metadata": {},
     "output_type": "execute_result"
    }
   ],
   "execution_count": 4
  },
  {
   "metadata": {
    "ExecuteTime": {
     "end_time": "2025-03-16T14:49:19.664508Z",
     "start_time": "2025-03-16T14:49:19.662166Z"
    }
   },
   "cell_type": "code",
   "source": "len(customer[0])",
   "id": "dc11c0ed92636c53",
   "outputs": [
    {
     "data": {
      "text/plain": [
       "3"
      ]
     },
     "execution_count": 6,
     "metadata": {},
     "output_type": "execute_result"
    }
   ],
   "execution_count": 6
  },
  {
   "metadata": {},
   "cell_type": "markdown",
   "source": "### List의 인덱스 (index)",
   "id": "652eb613f11f6f11"
  },
  {
   "metadata": {
    "ExecuteTime": {
     "end_time": "2025-03-16T14:50:10.383705Z",
     "start_time": "2025-03-16T14:50:10.381880Z"
    }
   },
   "cell_type": "code",
   "source": "squares = [1, 4, 9, 16, 25, 36, 49, 64, 81]",
   "id": "3c8a6fd35d402ea4",
   "outputs": [],
   "execution_count": 8
  },
  {
   "metadata": {},
   "cell_type": "markdown",
   "source": [
    "* index를 이용한 list 내의 원소 접근\n",
    "  * 첫 아이템의 index는 0부터 시작"
   ],
   "id": "306259b0163d0b58"
  },
  {
   "metadata": {
    "ExecuteTime": {
     "end_time": "2025-03-16T14:50:30.786623Z",
     "start_time": "2025-03-16T14:50:30.784166Z"
    }
   },
   "cell_type": "code",
   "source": "squares[0] #1",
   "id": "4e12bafa0632e5d1",
   "outputs": [
    {
     "data": {
      "text/plain": [
       "1"
      ]
     },
     "execution_count": 9,
     "metadata": {},
     "output_type": "execute_result"
    }
   ],
   "execution_count": 9
  },
  {
   "metadata": {
    "ExecuteTime": {
     "end_time": "2025-03-16T14:50:41.926119Z",
     "start_time": "2025-03-16T14:50:41.923969Z"
    }
   },
   "cell_type": "code",
   "source": [
    "# 가장 마지막\n",
    "squares[-1]"
   ],
   "id": "dd9f2dc189dcd2e1",
   "outputs": [
    {
     "data": {
      "text/plain": [
       "81"
      ]
     },
     "execution_count": 10,
     "metadata": {},
     "output_type": "execute_result"
    }
   ],
   "execution_count": 10
  },
  {
   "metadata": {
    "ExecuteTime": {
     "end_time": "2025-03-16T14:50:58.092499Z",
     "start_time": "2025-03-16T14:50:58.089671Z"
    }
   },
   "cell_type": "code",
   "source": [
    "# 마지막에서 두 번째\n",
    "squares[-2]"
   ],
   "id": "765b3aac20155f",
   "outputs": [
    {
     "data": {
      "text/plain": [
       "64"
      ]
     },
     "execution_count": 11,
     "metadata": {},
     "output_type": "execute_result"
    }
   ],
   "execution_count": 11
  },
  {
   "metadata": {},
   "cell_type": "markdown",
   "source": [
    "* 리스트는 `for`문에서 사용할 수 있다.\n",
    "    *  `range()`가 애초에 리스트 숫자열을 만들어줌 ㅇㅇ"
   ],
   "id": "9e2a3cd71dd15310"
  },
  {
   "metadata": {
    "ExecuteTime": {
     "end_time": "2025-03-16T14:51:50.321380Z",
     "start_time": "2025-03-16T14:51:50.319232Z"
    }
   },
   "cell_type": "code",
   "source": "list(range(0, 10))",
   "id": "abbab20817fe1a9b",
   "outputs": [
    {
     "data": {
      "text/plain": [
       "[0, 1, 2, 3, 4, 5, 6, 7, 8, 9]"
      ]
     },
     "execution_count": 13,
     "metadata": {},
     "output_type": "execute_result"
    }
   ],
   "execution_count": 13
  },
  {
   "metadata": {
    "ExecuteTime": {
     "end_time": "2025-03-16T14:53:31.820246Z",
     "start_time": "2025-03-16T14:53:31.817974Z"
    }
   },
   "cell_type": "code",
   "source": [
    "for i in squares:\n",
    "    if i != 81 :\n",
    "     print(i, end = \",\")\n",
    "    else:\n",
    "        print(i)"
   ],
   "id": "67cb6e3ae53f8b37",
   "outputs": [
    {
     "name": "stdout",
     "output_type": "stream",
     "text": [
      "1,4,9,16,25,36,49,64,81\n"
     ]
    }
   ],
   "execution_count": 16
  },
  {
   "metadata": {},
   "cell_type": "markdown",
   "source": [
    "### list의 slicing 연산\n",
    "\n",
    "<p> <font color=#00008B> &#9635 Slicing </font> - list를 잘라내어 sublist를 추출하는 과정 </p>"
   ],
   "id": "1ea056e8741ea57e"
  },
  {
   "metadata": {
    "ExecuteTime": {
     "end_time": "2025-03-16T14:54:01.178084Z",
     "start_time": "2025-03-16T14:54:01.176115Z"
    }
   },
   "cell_type": "code",
   "source": "squares = [1, 4, 9, 16, 25, 36, 49, 64, 81]",
   "id": "fcd51dd17d89332f",
   "outputs": [],
   "execution_count": 17
  },
  {
   "metadata": {
    "ExecuteTime": {
     "end_time": "2025-03-16T14:54:30.842468Z",
     "start_time": "2025-03-16T14:54:30.839964Z"
    }
   },
   "cell_type": "code",
   "source": [
    "# 인덱스 0의 item부터 인덱스 3의 item 이전까지\n",
    "squares[0:3]"
   ],
   "id": "18812e43ac5e1426",
   "outputs": [
    {
     "data": {
      "text/plain": [
       "[1, 4, 9]"
      ]
     },
     "execution_count": 18,
     "metadata": {},
     "output_type": "execute_result"
    }
   ],
   "execution_count": 18
  },
  {
   "metadata": {
    "ExecuteTime": {
     "end_time": "2025-03-16T14:54:57.994433Z",
     "start_time": "2025-03-16T14:54:57.991439Z"
    }
   },
   "cell_type": "code",
   "source": [
    "# 인덱스 3의 item부터 인덱스 6의 item 이전까지\n",
    "squares[3:6]"
   ],
   "id": "6b6aebb0101fcd67",
   "outputs": [
    {
     "data": {
      "text/plain": [
       "[16, 25, 36]"
      ]
     },
     "execution_count": 19,
     "metadata": {},
     "output_type": "execute_result"
    }
   ],
   "execution_count": 19
  },
  {
   "metadata": {
    "ExecuteTime": {
     "end_time": "2025-03-16T14:55:23.060749Z",
     "start_time": "2025-03-16T14:55:23.058064Z"
    }
   },
   "cell_type": "code",
   "source": [
    "# 인덱스 6의 item부터 마지막까지\n",
    "squares[6:]"
   ],
   "id": "35d14cbcf8dec68b",
   "outputs": [
    {
     "data": {
      "text/plain": [
       "[49, 64, 81]"
      ]
     },
     "execution_count": 20,
     "metadata": {},
     "output_type": "execute_result"
    }
   ],
   "execution_count": 20
  },
  {
   "metadata": {
    "ExecuteTime": {
     "end_time": "2025-03-16T14:55:54.134107Z",
     "start_time": "2025-03-16T14:55:54.131215Z"
    }
   },
   "cell_type": "code",
   "source": [
    "# 인덱스 0의 item부터 6의 item 이전까지 2의 간격으로\n",
    "squares[:6:2]"
   ],
   "id": "9ca96f7082e55deb",
   "outputs": [
    {
     "data": {
      "text/plain": [
       "[1, 9, 25]"
      ]
     },
     "execution_count": 21,
     "metadata": {},
     "output_type": "execute_result"
    }
   ],
   "execution_count": 21
  },
  {
   "metadata": {
    "ExecuteTime": {
     "end_time": "2025-03-16T14:57:19.672959Z",
     "start_time": "2025-03-16T14:57:19.670592Z"
    }
   },
   "cell_type": "code",
   "source": "squares[::-1]",
   "id": "56f80e697f87c540",
   "outputs": [
    {
     "data": {
      "text/plain": [
       "[81, 64, 49, 36, 25, 16, 9, 4, 1]"
      ]
     },
     "execution_count": 22,
     "metadata": {},
     "output_type": "execute_result"
    }
   ],
   "execution_count": 22
  },
  {
   "metadata": {},
   "cell_type": "markdown",
   "source": "* slicing을 하여도 원래의 list는 보존된다.",
   "id": "c9ad7c1944342d2a"
  },
  {
   "metadata": {},
   "cell_type": "markdown",
   "source": "### list 내용 변경",
   "id": "30fbf1b39a45fb1e"
  },
  {
   "metadata": {
    "ExecuteTime": {
     "end_time": "2025-03-16T14:58:17.104477Z",
     "start_time": "2025-03-16T14:58:17.102503Z"
    }
   },
   "cell_type": "code",
   "source": "squares = [1, 4, 10, 17, 25]",
   "id": "8480009f9456b51a",
   "outputs": [],
   "execution_count": 23
  },
  {
   "metadata": {
    "ExecuteTime": {
     "end_time": "2025-03-16T14:58:27.743568Z",
     "start_time": "2025-03-16T14:58:27.741391Z"
    }
   },
   "cell_type": "code",
   "source": [
    "squares[2] = 9\n",
    "print(squares)"
   ],
   "id": "fa278afa8901b28b",
   "outputs": [
    {
     "name": "stdout",
     "output_type": "stream",
     "text": [
      "[1, 4, 9, 17, 25]\n"
     ]
    }
   ],
   "execution_count": 24
  },
  {
   "metadata": {
    "ExecuteTime": {
     "end_time": "2025-03-16T14:58:57.010676Z",
     "start_time": "2025-03-16T14:58:57.008615Z"
    }
   },
   "cell_type": "code",
   "source": [
    "squares = squares + [36, 49, 64]\n",
    "print(squares)"
   ],
   "id": "8fd3e3026813b2b6",
   "outputs": [
    {
     "name": "stdout",
     "output_type": "stream",
     "text": [
      "[1, 4, 9, 17, 25, 36, 49, 64]\n"
     ]
    }
   ],
   "execution_count": 25
  },
  {
   "metadata": {
    "ExecuteTime": {
     "end_time": "2025-03-16T15:00:07.518669Z",
     "start_time": "2025-03-16T15:00:07.516008Z"
    }
   },
   "cell_type": "code",
   "source": [
    "squares.append(81)\n",
    "print(squares)"
   ],
   "id": "f1b4370a18bafa41",
   "outputs": [
    {
     "name": "stdout",
     "output_type": "stream",
     "text": [
      "[1, 4, 9, 17, 25, 36, 49, 64, 81, 81]\n"
     ]
    }
   ],
   "execution_count": 27
  },
  {
   "metadata": {
    "ExecuteTime": {
     "end_time": "2025-03-16T15:00:20.723265Z",
     "start_time": "2025-03-16T15:00:20.721527Z"
    }
   },
   "cell_type": "code",
   "source": "squares.append([90, 100])",
   "id": "5a6527c4a90b89eb",
   "outputs": [],
   "execution_count": 28
  },
  {
   "metadata": {
    "ExecuteTime": {
     "end_time": "2025-03-16T15:00:24.724107Z",
     "start_time": "2025-03-16T15:00:24.722542Z"
    }
   },
   "cell_type": "code",
   "source": "print(squares)",
   "id": "bb4227b07336c3ed",
   "outputs": [
    {
     "name": "stdout",
     "output_type": "stream",
     "text": [
      "[1, 4, 9, 17, 25, 36, 49, 64, 81, 81, [90, 100]]\n"
     ]
    }
   ],
   "execution_count": 29
  },
  {
   "metadata": {
    "ExecuteTime": {
     "end_time": "2025-03-16T15:01:08.464579Z",
     "start_time": "2025-03-16T15:01:08.462683Z"
    }
   },
   "cell_type": "code",
   "source": [
    "# squares.append(110, 120) -> error\n",
    "# append() 안에는 하나의 인자만 들어가야한다."
   ],
   "id": "99bf53bf96dad940",
   "outputs": [],
   "execution_count": 31
  },
  {
   "metadata": {
    "ExecuteTime": {
     "end_time": "2025-03-16T15:01:35.316625Z",
     "start_time": "2025-03-16T15:01:35.314860Z"
    }
   },
   "cell_type": "code",
   "source": [
    "# 두 개는 넣는 방법?\n",
    "squares.extend([11, 12])\n",
    "print(squares)"
   ],
   "id": "9244b6918c9aa1a8",
   "outputs": [
    {
     "name": "stdout",
     "output_type": "stream",
     "text": [
      "[1, 4, 9, 17, 25, 36, 49, 64, 81, 81, [90, 100], 11, 12]\n"
     ]
    }
   ],
   "execution_count": 32
  },
  {
   "metadata": {
    "ExecuteTime": {
     "end_time": "2025-03-16T15:02:03.505414Z",
     "start_time": "2025-03-16T15:02:03.503601Z"
    }
   },
   "cell_type": "code",
   "source": "squares.remove(1)",
   "id": "dcd37f5bacec48d6",
   "outputs": [],
   "execution_count": 33
  },
  {
   "metadata": {
    "ExecuteTime": {
     "end_time": "2025-03-16T15:02:11.721375Z",
     "start_time": "2025-03-16T15:02:11.719429Z"
    }
   },
   "cell_type": "code",
   "source": "print(squares)",
   "id": "2ff00d223b7661fd",
   "outputs": [
    {
     "name": "stdout",
     "output_type": "stream",
     "text": [
      "[4, 9, 17, 25, 36, 49, 64, 81, 81, [90, 100], 11, 12]\n"
     ]
    }
   ],
   "execution_count": 35
  },
  {
   "metadata": {
    "ExecuteTime": {
     "end_time": "2025-03-16T15:04:05.527166Z",
     "start_time": "2025-03-16T15:04:05.524602Z"
    }
   },
   "cell_type": "code",
   "source": [
    "print(squares)\n",
    "squares[-5:-1] = [] # 빈리스트를 넣어서 제거도 가능\n",
    "print(squares)"
   ],
   "id": "10d3f83bdec9a2a4",
   "outputs": [
    {
     "name": "stdout",
     "output_type": "stream",
     "text": [
      "[4, 9, 17, 25, 36, 49, 64, 81, 81, [90, 100], 11, 12]\n",
      "[4, 9, 17, 25, 36, 49, 64, 12]\n"
     ]
    }
   ],
   "execution_count": 42
  },
  {
   "metadata": {
    "ExecuteTime": {
     "end_time": "2025-03-16T15:04:40.659354Z",
     "start_time": "2025-03-16T15:04:40.656968Z"
    }
   },
   "cell_type": "code",
   "source": [
    "squares[-1] = [] # 삭제할려면 슬라이싱으로!!\n",
    "print(squares)"
   ],
   "id": "87e205eed984c94",
   "outputs": [
    {
     "name": "stdout",
     "output_type": "stream",
     "text": [
      "[4, 9, 17, 25, 36, 49, 64, []]\n"
     ]
    }
   ],
   "execution_count": 44
  },
  {
   "metadata": {
    "ExecuteTime": {
     "end_time": "2025-03-16T15:05:56.127110Z",
     "start_time": "2025-03-16T15:05:56.125497Z"
    }
   },
   "cell_type": "code",
   "source": [
    "squares[-1:] = []\n",
    "print(squares)"
   ],
   "id": "ee31762c56e0a0ec",
   "outputs": [
    {
     "name": "stdout",
     "output_type": "stream",
     "text": [
      "[4, 9, 17, 25, 36, 49, 64]\n"
     ]
    }
   ],
   "execution_count": 45
  },
  {
   "metadata": {},
   "cell_type": "markdown",
   "source": "### list 내의 list\n",
   "id": "4640a38df9f926a5"
  },
  {
   "metadata": {
    "ExecuteTime": {
     "end_time": "2025-03-16T15:06:39.331872Z",
     "start_time": "2025-03-16T15:06:39.328874Z"
    }
   },
   "cell_type": "code",
   "source": [
    "A = [[0, 1, 2, 3, 4], ['a', 'b']]\n",
    "A"
   ],
   "id": "1f2509f26dbaf916",
   "outputs": [
    {
     "data": {
      "text/plain": [
       "[[0, 1, 2, 3, 4], ['a', 'b']]"
      ]
     },
     "execution_count": 46,
     "metadata": {},
     "output_type": "execute_result"
    }
   ],
   "execution_count": 46
  },
  {
   "metadata": {
    "ExecuteTime": {
     "end_time": "2025-03-16T15:06:43.360500Z",
     "start_time": "2025-03-16T15:06:43.358219Z"
    }
   },
   "cell_type": "code",
   "source": "A[0]",
   "id": "a822db3bb8423104",
   "outputs": [
    {
     "data": {
      "text/plain": [
       "[0, 1, 2, 3, 4]"
      ]
     },
     "execution_count": 47,
     "metadata": {},
     "output_type": "execute_result"
    }
   ],
   "execution_count": 47
  },
  {
   "metadata": {
    "ExecuteTime": {
     "end_time": "2025-03-16T15:06:47.726264Z",
     "start_time": "2025-03-16T15:06:47.723467Z"
    }
   },
   "cell_type": "code",
   "source": "A[1]",
   "id": "6fc0e97c4bcb73a5",
   "outputs": [
    {
     "data": {
      "text/plain": [
       "['a', 'b']"
      ]
     },
     "execution_count": 48,
     "metadata": {},
     "output_type": "execute_result"
    }
   ],
   "execution_count": 48
  },
  {
   "metadata": {
    "ExecuteTime": {
     "end_time": "2025-03-16T15:06:56.961781Z",
     "start_time": "2025-03-16T15:06:56.958765Z"
    }
   },
   "cell_type": "code",
   "source": "A[0][1:]",
   "id": "ca484d327420dab1",
   "outputs": [
    {
     "data": {
      "text/plain": [
       "[1, 2, 3, 4]"
      ]
     },
     "execution_count": 50,
     "metadata": {},
     "output_type": "execute_result"
    }
   ],
   "execution_count": 50
  },
  {
   "metadata": {},
   "cell_type": "markdown",
   "source": [
    "### Unpacking\n",
    "\n",
    "리스트의 원소들을 꺼내오는 개념이다."
   ],
   "id": "16946ed41a0603e9"
  },
  {
   "metadata": {
    "ExecuteTime": {
     "end_time": "2025-03-16T15:08:05.820055Z",
     "start_time": "2025-03-16T15:08:05.817510Z"
    }
   },
   "cell_type": "code",
   "source": [
    "alist = [1, 2]\n",
    "first, second = alist\n",
    "print(first, second)"
   ],
   "id": "d3c25afa77dbca37",
   "outputs": [
    {
     "name": "stdout",
     "output_type": "stream",
     "text": [
      "1 2\n"
     ]
    }
   ],
   "execution_count": 51
  },
  {
   "metadata": {},
   "cell_type": "markdown",
   "source": [
    "**unpacking의 경우 변수가 리스트의 값의 개수를 맞춰야한다!!**\n",
    "\n",
    "```\n",
    "alist = [1, 2, 3, 4, 5]\n",
    "first, second = alist\n",
    "--> error!\n",
    "```\n",
    "**개수를 정확히 모르거나 유연하게 대처하고 싶을 경우 별포 식을 사용**"
   ],
   "id": "f3db26693977d7e1"
  },
  {
   "metadata": {
    "ExecuteTime": {
     "end_time": "2025-03-16T15:10:30.279132Z",
     "start_time": "2025-03-16T15:10:30.276814Z"
    }
   },
   "cell_type": "code",
   "source": [
    "alist = [1, 2, 3, 4, 5]\n",
    "first, second, *others = alist\n",
    "print(first, second, others)\n"
   ],
   "id": "ff4acae41bc61d96",
   "outputs": [
    {
     "name": "stdout",
     "output_type": "stream",
     "text": [
      "1 2 [3, 4, 5]\n"
     ]
    }
   ],
   "execution_count": 53
  },
  {
   "metadata": {},
   "cell_type": "markdown",
   "source": "### list concatenation (`+`), `extend`, `append`",
   "id": "b5dd94349d4ade73"
  },
  {
   "metadata": {
    "ExecuteTime": {
     "end_time": "2025-03-16T15:11:33.692860Z",
     "start_time": "2025-03-16T15:11:33.690594Z"
    }
   },
   "cell_type": "code",
   "source": [
    "x = [1, 2, 3]\n",
    "x.extend([4, 5, 6])\n",
    "print(x)"
   ],
   "id": "d807210e520a6f38",
   "outputs": [
    {
     "name": "stdout",
     "output_type": "stream",
     "text": [
      "[1, 2, 3, 4, 5, 6]\n"
     ]
    }
   ],
   "execution_count": 54
  },
  {
   "metadata": {
    "ExecuteTime": {
     "end_time": "2025-03-16T15:12:30.889908Z",
     "start_time": "2025-03-16T15:12:30.887620Z"
    }
   },
   "cell_type": "code",
   "source": [
    "# 하나씩 추가할 경우는 append를 많이 씀\n",
    "x = [1, 2, 3]\n",
    "x.append(0)\n",
    "print(x)"
   ],
   "id": "349b58e21de87e83",
   "outputs": [
    {
     "name": "stdout",
     "output_type": "stream",
     "text": [
      "[1, 2, 3, 0]\n"
     ]
    }
   ],
   "execution_count": 56
  },
  {
   "metadata": {
    "ExecuteTime": {
     "end_time": "2025-03-16T15:13:21.137027Z",
     "start_time": "2025-03-16T15:13:21.134731Z"
    }
   },
   "cell_type": "code",
   "source": [
    "# 중간에 넣는 경우는?\n",
    "x = [1, 2, 3]\n",
    "x.insert(0, 1)\n",
    "print(x)"
   ],
   "id": "3dcb7b44e0947d34",
   "outputs": [
    {
     "name": "stdout",
     "output_type": "stream",
     "text": [
      "[1, 1, 2, 3]\n"
     ]
    }
   ],
   "execution_count": 59
  },
  {
   "metadata": {},
   "cell_type": "markdown",
   "source": "### list의 다양한 method\n",
   "id": "36075db9e135c85f"
  },
  {
   "metadata": {
    "ExecuteTime": {
     "end_time": "2025-03-16T15:14:43.995434Z",
     "start_time": "2025-03-16T15:14:43.992598Z"
    }
   },
   "cell_type": "code",
   "source": "animals = ['dog', 'cat', 'duck', 'lion', 'snake', 'cat']",
   "id": "1adf26b3122d651f",
   "outputs": [],
   "execution_count": 65
  },
  {
   "metadata": {
    "ExecuteTime": {
     "end_time": "2025-03-16T15:14:24.193802Z",
     "start_time": "2025-03-16T15:14:24.191133Z"
    }
   },
   "cell_type": "code",
   "source": "animals.index('dog')",
   "id": "6bd85fd399ce410b",
   "outputs": [
    {
     "data": {
      "text/plain": [
       "0"
      ]
     },
     "execution_count": 63,
     "metadata": {},
     "output_type": "execute_result"
    }
   ],
   "execution_count": 63
  },
  {
   "metadata": {
    "ExecuteTime": {
     "end_time": "2025-03-16T15:14:50.923701Z",
     "start_time": "2025-03-16T15:14:50.921732Z"
    }
   },
   "cell_type": "code",
   "source": [
    "animals.remove('cat')\n",
    "print(animals)"
   ],
   "id": "496e16ca9a4ac464",
   "outputs": [
    {
     "name": "stdout",
     "output_type": "stream",
     "text": [
      "['dog', 'duck', 'lion', 'snake', 'cat']\n"
     ]
    }
   ],
   "execution_count": 66
  },
  {
   "metadata": {},
   "cell_type": "markdown",
   "source": [
    "* list data type은 다양한 method들을 포함하며 아래의 링크에서 확인\n",
    "* https://docs.python.org/3/tutorial/datastructures.html#more-on-lists\n"
   ],
   "id": "5f78292b126c34ed"
  },
  {
   "metadata": {},
   "cell_type": "markdown",
   "source": [
    "### List comprehension\n",
    "\n",
    "-----------------\n",
    "\n",
    "<p> <font color=#00008B> &#9635 List comprehension </font> - 기존 리스트의 각 원소에 식을 적용하고 결과를 수집하여 새로운 리스트를 만드는 과정으로, 기존 리스트의 값을 기반으로 새 리스트를 만들려는 경우 편리하다.</p>\n",
    "\n",
    "기본 문법은 다음과 같다.\n",
    "\n",
    "`[expression for item in iterable if condition]`\n",
    "\n",
    "`[expression for item_1 in iterable_1 for item_2 in iterable_2 ... for item_n in iterable_n if condition]`"
   ],
   "id": "e06930742a3c48b0"
  },
  {
   "metadata": {
    "ExecuteTime": {
     "end_time": "2025-03-16T15:17:26.395427Z",
     "start_time": "2025-03-16T15:17:26.393314Z"
    }
   },
   "cell_type": "code",
   "source": [
    "squares = [x ** 2 for x in range(1,4)]\n",
    "squares"
   ],
   "id": "295a0ba256f0b523",
   "outputs": [
    {
     "data": {
      "text/plain": [
       "[1, 4, 9]"
      ]
     },
     "execution_count": 67,
     "metadata": {},
     "output_type": "execute_result"
    }
   ],
   "execution_count": 67
  },
  {
   "metadata": {
    "ExecuteTime": {
     "end_time": "2025-03-16T15:18:07.544318Z",
     "start_time": "2025-03-16T15:18:07.541482Z"
    }
   },
   "cell_type": "code",
   "source": [
    "squares_ = []\n",
    "for x in range(1, 4):\n",
    "    squares_.append(x ** 2)\n",
    "squares_"
   ],
   "id": "b3e95d2ce6a151fc",
   "outputs": [
    {
     "data": {
      "text/plain": [
       "[1, 4, 9]"
      ]
     },
     "execution_count": 68,
     "metadata": {},
     "output_type": "execute_result"
    }
   ],
   "execution_count": 68
  },
  {
   "metadata": {
    "ExecuteTime": {
     "end_time": "2025-03-16T15:23:13.027797Z",
     "start_time": "2025-03-16T15:23:13.025608Z"
    }
   },
   "cell_type": "code",
   "source": [
    "# x, y 순서쌍 출력\n",
    "ans = []\n",
    "for x in [1, 2, 3]:\n",
    "    for y in [4, 5, 6]:\n",
    "        # print(f\"({x}, {y})\", end = \" \")\n",
    "        ans.extend([(x ,y)])\n",
    "ans"
   ],
   "id": "987a01aa84d0c640",
   "outputs": [
    {
     "data": {
      "text/plain": [
       "[(1, 4), (1, 5), (1, 6), (2, 4), (2, 5), (2, 6), (3, 4), (3, 5), (3, 6)]"
      ]
     },
     "execution_count": 75,
     "metadata": {},
     "output_type": "execute_result"
    }
   ],
   "execution_count": 75
  },
  {
   "metadata": {
    "ExecuteTime": {
     "end_time": "2025-03-16T15:22:18.660856Z",
     "start_time": "2025-03-16T15:22:18.658032Z"
    }
   },
   "cell_type": "code",
   "source": "[(x, y) for x in [1, 2, 3] for y in [4, 5, 6]]",
   "id": "68383f9be614b313",
   "outputs": [
    {
     "data": {
      "text/plain": [
       "[(1, 4), (1, 5), (1, 6), (2, 4), (2, 5), (2, 6), (3, 4), (3, 5), (3, 6)]"
      ]
     },
     "execution_count": 72,
     "metadata": {},
     "output_type": "execute_result"
    }
   ],
   "execution_count": 72
  },
  {
   "metadata": {
    "ExecuteTime": {
     "end_time": "2025-03-16T15:24:07.752242Z",
     "start_time": "2025-03-16T15:24:07.749368Z"
    }
   },
   "cell_type": "code",
   "source": "[abs(x) for x in [-1, -2, -3]]",
   "id": "452d9ac9120926e3",
   "outputs": [
    {
     "data": {
      "text/plain": [
       "[1, 2, 3]"
      ]
     },
     "execution_count": 76,
     "metadata": {},
     "output_type": "execute_result"
    }
   ],
   "execution_count": 76
  },
  {
   "metadata": {
    "ExecuteTime": {
     "end_time": "2025-03-16T15:25:05.065470Z",
     "start_time": "2025-03-16T15:25:05.062770Z"
    }
   },
   "cell_type": "code",
   "source": [
    "mixed = [1, 2, 'a', 3, 4.0]\n",
    "[x for x in mixed if type(x) == int]"
   ],
   "id": "a181552c7ac87639",
   "outputs": [
    {
     "data": {
      "text/plain": [
       "[1, 2, 3]"
      ]
     },
     "execution_count": 77,
     "metadata": {},
     "output_type": "execute_result"
    }
   ],
   "execution_count": 77
  },
  {
   "metadata": {},
   "cell_type": "markdown",
   "source": [
    "```else``` 혹은 `elif`와 함께 사용될 때는 문법이 조금 다르다.\n",
    "\n",
    "`[expression if condition else alternative_expression for item in iterable]`\n",
    "\n",
    "`[expression_1 if condition_1 elif condition_2 else expression_2 for item in iterable]`"
   ],
   "id": "7d434bc3472ac61b"
  },
  {
   "metadata": {
    "ExecuteTime": {
     "end_time": "2025-03-17T07:42:29.860136Z",
     "start_time": "2025-03-17T07:42:29.856529Z"
    }
   },
   "cell_type": "code",
   "source": [
    "integers = [1, 2, 3, 4, 5, 6, 7]\n",
    "[x ** 2 if x % 2 == 0 else x for x in integers]"
   ],
   "id": "cfebb68214f3436a",
   "outputs": [
    {
     "data": {
      "text/plain": [
       "[1, 4, 3, 16, 5, 36, 7]"
      ]
     },
     "execution_count": 1,
     "metadata": {},
     "output_type": "execute_result"
    }
   ],
   "execution_count": 1
  },
  {
   "metadata": {
    "ExecuteTime": {
     "end_time": "2025-03-17T07:46:23.707136Z",
     "start_time": "2025-03-17T07:46:23.704539Z"
    }
   },
   "cell_type": "code",
   "source": "[x ** 2 for x in integers if x % 2 == 0]",
   "id": "4c7cb83899157c68",
   "outputs": [
    {
     "data": {
      "text/plain": [
       "[4, 16, 36]"
      ]
     },
     "execution_count": 4,
     "metadata": {},
     "output_type": "execute_result"
    }
   ],
   "execution_count": 4
  },
  {
   "metadata": {
    "ExecuteTime": {
     "end_time": "2025-03-17T07:46:24.677984Z",
     "start_time": "2025-03-17T07:46:24.675422Z"
    }
   },
   "cell_type": "code",
   "source": [
    "result = map(lambda x : x ** 2, filter(lambda x : x % 2 == 0, integers))\n",
    "list(result)"
   ],
   "id": "4e98c6ddaaf8c9a9",
   "outputs": [
    {
     "data": {
      "text/plain": [
       "[4, 16, 36]"
      ]
     },
     "execution_count": 5,
     "metadata": {},
     "output_type": "execute_result"
    }
   ],
   "execution_count": 5
  },
  {
   "metadata": {},
   "cell_type": "markdown",
   "source": "\n",
   "id": "97844a83665563ff"
  },
  {
   "metadata": {},
   "cell_type": "markdown",
   "source": [
    "### `map()` 함수\n",
    "\n",
    "* 반복 가능한(iterable) 객체의 각 요소에 함수를 적용하여 새로운 객체를 반환하는 함수.\n",
    "* list, tuple, set 등 여러 자료형에서 사용 가능.\n",
    "* 반환 값은 map 객체이므로, list()로 변환해서 사용해야 하는 경우가 많다.\n",
    "\n",
    "```\n",
    "map(함수, 반복 가능한 객체 )\n",
    "```"
   ],
   "id": "611791bbb07e6cfe"
  },
  {
   "metadata": {
    "ExecuteTime": {
     "end_time": "2025-03-17T07:47:53.876910Z",
     "start_time": "2025-03-17T07:47:53.873980Z"
    }
   },
   "cell_type": "code",
   "source": [
    "num = [1, 2, 3, 4]\n",
    "re = map(lambda x : x ** 2, num)\n",
    "list(re)"
   ],
   "id": "6c5623492a10fccb",
   "outputs": [
    {
     "data": {
      "text/plain": [
       "[1, 4, 9, 16]"
      ]
     },
     "execution_count": 6,
     "metadata": {},
     "output_type": "execute_result"
    }
   ],
   "execution_count": 6
  },
  {
   "metadata": {},
   "cell_type": "markdown",
   "source": [
    "### Sorting - 정렬\n",
    "\n",
    "Python 리스트는 `sort()` method를 이용하여 정렬 가능"
   ],
   "id": "d1a7209804348f29"
  },
  {
   "metadata": {
    "ExecuteTime": {
     "end_time": "2025-03-16T15:30:04.120825Z",
     "start_time": "2025-03-16T15:30:04.118552Z"
    }
   },
   "cell_type": "code",
   "source": [
    "x = [4, 1, 2, 3]\n",
    "y = sorted(x)\n",
    "print(x)\n",
    "print(y)"
   ],
   "id": "91d9469550d3c6e0",
   "outputs": [
    {
     "name": "stdout",
     "output_type": "stream",
     "text": [
      "[4, 1, 2, 3]\n",
      "[1, 2, 3, 4]\n"
     ]
    }
   ],
   "execution_count": 88
  },
  {
   "metadata": {
    "ExecuteTime": {
     "end_time": "2025-03-16T15:30:08.666444Z",
     "start_time": "2025-03-16T15:30:08.664409Z"
    }
   },
   "cell_type": "code",
   "source": [
    "x.sort()\n",
    "print(x)"
   ],
   "id": "e08f23bda14afea3",
   "outputs": [
    {
     "name": "stdout",
     "output_type": "stream",
     "text": [
      "[1, 2, 3, 4]\n"
     ]
    }
   ],
   "execution_count": 89
  },
  {
   "metadata": {},
   "cell_type": "markdown",
   "source": [
    "### 랜덤 (random) 리스트\n",
    "\n",
    "아래 예제는 0과 1사이의 임의의 실수를 랜덤하게 4번 생성하여 리스트로 만들고자 한다.\n",
    "* ```random.random()```은 0과 1사이에서 uniform하게 분포된 랜덤 숫자를 반환\n",
    "* ```_```는 다시 사용하지 않을 dummy variable을 표현\n",
    "  * ```x```로 바꾸어도 상관없음"
   ],
   "id": "7408961f9e64b260"
  },
  {
   "metadata": {
    "ExecuteTime": {
     "end_time": "2025-03-16T15:35:51.356518Z",
     "start_time": "2025-03-16T15:35:51.354389Z"
    }
   },
   "cell_type": "code",
   "source": [
    "import random\n",
    "four_uniform_randoms = [int(random.random()*10) for _ in range (4)]\n",
    "# for _ in range(4) -> 단순히 4번 반복을 위한 _ 이다..!"
   ],
   "id": "764a8589f82d0b39",
   "outputs": [],
   "execution_count": 94
  },
  {
   "metadata": {
    "ExecuteTime": {
     "end_time": "2025-03-16T15:36:15.516443Z",
     "start_time": "2025-03-16T15:36:15.514508Z"
    }
   },
   "cell_type": "code",
   "source": "random.random() * 10",
   "id": "fe6476bfee49b8dc",
   "outputs": [
    {
     "data": {
      "text/plain": [
       "0.7940426421484048"
      ]
     },
     "execution_count": 97,
     "metadata": {},
     "output_type": "execute_result"
    }
   ],
   "execution_count": 97
  },
  {
   "metadata": {},
   "cell_type": "markdown",
   "source": [
    "랜덤 샘플 추출 (중복 허용하지 않음)\n",
    "* 0이상 60미만의 정수 중 중복을 허용하지 않고 6개의 랜덤 샘플을 추출"
   ],
   "id": "a407b5d90ceec18c"
  },
  {
   "metadata": {
    "ExecuteTime": {
     "end_time": "2025-03-17T02:20:11.552429Z",
     "start_time": "2025-03-17T02:20:11.549013Z"
    }
   },
   "cell_type": "code",
   "source": [
    "import random\n",
    "lottery_numbers = range(60)\n",
    "random.sample(lottery_numbers, 6)"
   ],
   "id": "85d3a50b09598237",
   "outputs": [
    {
     "data": {
      "text/plain": [
       "[33, 19, 43, 29, 38, 39]"
      ]
     },
     "execution_count": 2,
     "metadata": {},
     "output_type": "execute_result"
    }
   ],
   "execution_count": 2
  },
  {
   "metadata": {},
   "cell_type": "markdown",
   "source": [
    "랜덤 선택 (중복 허용)\n",
    "* 0이상 10미만의 수를 중복 허용하여 4번 추출\n",
    "* ```random.choice()```는 주어진 값들 중 임의의 하나의 값을 선택"
   ],
   "id": "1976b36519e55f70"
  },
  {
   "metadata": {
    "ExecuteTime": {
     "end_time": "2025-03-17T02:21:51.838582Z",
     "start_time": "2025-03-17T02:21:51.835769Z"
    }
   },
   "cell_type": "code",
   "source": [
    "random.choice(range(10))\n",
    "[random.choice(range(10)) for _ in range(4)]"
   ],
   "id": "241d942a105017c",
   "outputs": [
    {
     "data": {
      "text/plain": [
       "[1, 0, 8, 9]"
      ]
     },
     "execution_count": 6,
     "metadata": {},
     "output_type": "execute_result"
    }
   ],
   "execution_count": 6
  },
  {
   "metadata": {},
   "cell_type": "markdown",
   "source": [
    "### Tuple - 투플\n",
    "\n",
    "* Tuple은 list와 매우 비슷함\n",
    "  * 단 immutable\n",
    "  * 내용을 바꾸는 연산을 제외한 list의 많은 연산을 똑같이 수행 가능\n",
    "  * `[ ]`가 아닌 `( )` 혹은 아무런 괄호 없이 표현"
   ],
   "id": "bffa17c9389b58fa"
  },
  {
   "metadata": {
    "ExecuteTime": {
     "end_time": "2025-03-17T07:50:14.054641Z",
     "start_time": "2025-03-17T07:50:14.052155Z"
    }
   },
   "cell_type": "code",
   "source": [
    "my_tuple = (1, 2)\n",
    "my_tuple"
   ],
   "id": "fa8703fbd95cdcab",
   "outputs": [
    {
     "data": {
      "text/plain": [
       "(1, 2)"
      ]
     },
     "execution_count": 8,
     "metadata": {},
     "output_type": "execute_result"
    }
   ],
   "execution_count": 8
  },
  {
   "metadata": {
    "ExecuteTime": {
     "end_time": "2025-03-17T07:50:37.566282Z",
     "start_time": "2025-03-17T07:50:37.564477Z"
    }
   },
   "cell_type": "code",
   "source": "# my_tuple[1] = 3 -> 튜플은 값을 못 바꿈..",
   "id": "731c348ca2ce5550",
   "outputs": [],
   "execution_count": 9
  },
  {
   "metadata": {},
   "cell_type": "markdown",
   "source": "함수에서 여러 값을 같이 반환할 때 유용하다.",
   "id": "a2b04743e23fbb05"
  },
  {
   "metadata": {
    "ExecuteTime": {
     "end_time": "2025-03-17T07:51:33.124876Z",
     "start_time": "2025-03-17T07:51:33.122999Z"
    }
   },
   "cell_type": "code",
   "source": [
    "def sum_product(x ,y):\n",
    "    return x+y, x*y # (x + y, x * y)"
   ],
   "id": "cafded268cd71613",
   "outputs": [],
   "execution_count": 10
  },
  {
   "metadata": {
    "ExecuteTime": {
     "end_time": "2025-03-17T07:51:38.608136Z",
     "start_time": "2025-03-17T07:51:38.605959Z"
    }
   },
   "cell_type": "code",
   "source": "sum_product(1, 2)",
   "id": "da9f96fbe2414b04",
   "outputs": [
    {
     "data": {
      "text/plain": [
       "(3, 2)"
      ]
     },
     "execution_count": 11,
     "metadata": {},
     "output_type": "execute_result"
    }
   ],
   "execution_count": 11
  },
  {
   "metadata": {},
   "cell_type": "markdown",
   "source": [
    "## Iterator and generator\n",
    "\n",
    "----\n",
    "\n",
    "### Iterator\n",
    "\n",
    "<p> <font color=#00008B> &#9635 Container </font> - 여러 값들을 담고 있는 객체이며, 리스트, 투플, 문자열, 딕셔너리 등이 있다. </p>\n",
    "\n",
    "<p> <font color=#00008B> &#9635 Iterable </font> - <code>iter()</code> 함수를 통해, iterator를 반환할 수 있는 객체이며, 대부분의 container들이 해당된다. 이런 container들을 iterable container라고도 한다.\n",
    "\n",
    "<p> <font color=#00008B> &#9635 Iterator </font> - <code>next()</code> 한 번에 하나씩 다음 차례의 멤버를 반환할 수 있는 객체로서 <code>for</code> 루프에서 반복을 사용할 수 있도록 한다."
   ],
   "id": "a04437cf88dcb425"
  },
  {
   "metadata": {},
   "cell_type": "markdown",
   "source": "아래 코드에서 `student_list`는 여러 값을 담고 있는 container이며 `iter()` 함수를 적용할 수 있기 때문에 iterable container이다.",
   "id": "b0ec945562b54a72"
  },
  {
   "metadata": {
    "ExecuteTime": {
     "end_time": "2025-03-17T07:59:36.872799Z",
     "start_time": "2025-03-17T07:59:36.870999Z"
    }
   },
   "cell_type": "code",
   "source": "student_list = ['Kim', 'Lee', 'Jane', 'Park']",
   "id": "6e66c48ddfb08ae7",
   "outputs": [],
   "execution_count": 24
  },
  {
   "metadata": {},
   "cell_type": "markdown",
   "source": "`iter(student_list)`를 수행하면, iterator를 반환하며,",
   "id": "9370280053594ace"
  },
  {
   "metadata": {
    "ExecuteTime": {
     "end_time": "2025-03-17T07:59:57.012924Z",
     "start_time": "2025-03-17T07:59:57.010992Z"
    }
   },
   "cell_type": "code",
   "source": "iterator_obj = iter(student_list)",
   "id": "1c675355f014ad35",
   "outputs": [],
   "execution_count": 28
  },
  {
   "metadata": {
    "ExecuteTime": {
     "end_time": "2025-03-17T07:59:57.574680Z",
     "start_time": "2025-03-17T07:59:57.572124Z"
    }
   },
   "cell_type": "code",
   "source": "iterator_obj",
   "id": "92062c03d67e25c9",
   "outputs": [
    {
     "data": {
      "text/plain": [
       "<list_iterator at 0x108bd4be0>"
      ]
     },
     "execution_count": 29,
     "metadata": {},
     "output_type": "execute_result"
    }
   ],
   "execution_count": 29
  },
  {
   "metadata": {},
   "cell_type": "markdown",
   "source": "iterator는 `next()` 함수를 통해 다음 차례의 원소를 순차적으로 반환할 수 있다.",
   "id": "9d95be18e9a84bf7"
  },
  {
   "metadata": {
    "ExecuteTime": {
     "end_time": "2025-03-17T08:00:00.659356Z",
     "start_time": "2025-03-17T08:00:00.657219Z"
    }
   },
   "cell_type": "code",
   "source": [
    "print(next(iterator_obj))\n",
    "print(next(iterator_obj))\n",
    "print(next(iterator_obj))\n",
    "print(next(iterator_obj))"
   ],
   "id": "ff897c151c43712b",
   "outputs": [
    {
     "name": "stdout",
     "output_type": "stream",
     "text": [
      "Kim\n",
      "Lee\n",
      "Jane\n",
      "Park\n"
     ]
    }
   ],
   "execution_count": 30
  },
  {
   "metadata": {
    "ExecuteTime": {
     "end_time": "2025-03-17T07:59:41.218883Z",
     "start_time": "2025-03-17T07:59:41.216179Z"
    }
   },
   "cell_type": "code",
   "source": "[next(iterator_obj) for _ in range(len(student_list))]",
   "id": "11e36a47119a433b",
   "outputs": [
    {
     "data": {
      "text/plain": [
       "['Kim', 'Lee', 'Jane', 'Park']"
      ]
     },
     "execution_count": 26,
     "metadata": {},
     "output_type": "execute_result"
    }
   ],
   "execution_count": 26
  },
  {
   "metadata": {},
   "cell_type": "markdown",
   "source": [
    "### `enumerate`\n",
    "\n",
    "* enumerate을 이용하여 인덱스와 리스트의 값에 접근할 수 있다.\n",
    "* (index, value)로 이루어진 (generator와 매우 흡사한) iterator를 반환하여 ```for```문 등에서 사용 가능\n",
    "* list로 변환하여 활용하려면 ```list()```를 이용"
   ],
   "id": "22ce4082dde20198"
  },
  {
   "metadata": {
    "ExecuteTime": {
     "end_time": "2025-03-17T08:04:27.603738Z",
     "start_time": "2025-03-17T08:04:27.601791Z"
    }
   },
   "cell_type": "code",
   "source": [
    "print(student_list)\n",
    "for index, value in enumerate(student_list):\n",
    "    print(index, value)"
   ],
   "id": "3860edff33948e95",
   "outputs": [
    {
     "name": "stdout",
     "output_type": "stream",
     "text": [
      "['Kim', 'Lee', 'Jane', 'Park']\n",
      "0 Kim\n",
      "1 Lee\n",
      "2 Jane\n",
      "3 Park\n"
     ]
    }
   ],
   "execution_count": 37
  },
  {
   "metadata": {
    "ExecuteTime": {
     "end_time": "2025-03-17T08:04:12.028655Z",
     "start_time": "2025-03-17T08:04:12.025695Z"
    }
   },
   "cell_type": "code",
   "source": [
    "seasons = ['Spring', 'Summer', 'Fall', 'Winter']\n",
    "list(enumerate(seasons))"
   ],
   "id": "939dd24aa3a049c4",
   "outputs": [
    {
     "data": {
      "text/plain": [
       "[(0, 'Spring'), (1, 'Summer'), (2, 'Fall'), (3, 'Winter')]"
      ]
     },
     "execution_count": 36,
     "metadata": {},
     "output_type": "execute_result"
    }
   ],
   "execution_count": 36
  },
  {
   "metadata": {},
   "cell_type": "markdown",
   "source": [
    "list의 index를 기반으로 for문을 활용하려면 크게 다음의 두 가지 방법이 있다.\n",
    "\n",
    "두 방법은 같은 효과를 가지며 어떤 것을 활용해도 상관은 없지만 Python에서는 두 번째 방법을 많이 사용한다.\n",
    "\n",
    "* for i in range(len(some_list)):\n",
    "&nbsp;&nbsp;&nbsp;&nbsp;do something(i)&nbsp;&nbsp;&nbsp;&nbsp;     # not Pythonic\n",
    "\n",
    "* for i, _ in enumerate(some_list) :\n",
    "&nbsp;&nbsp;&nbsp;&nbsp;do something(i)&nbsp;&nbsp;&nbsp;&nbsp;  # Pythonic"
   ],
   "id": "2c2335a15e38f913"
  },
  {
   "metadata": {
    "ExecuteTime": {
     "end_time": "2025-03-17T08:09:45.930646Z",
     "start_time": "2025-03-17T08:09:45.928112Z"
    }
   },
   "cell_type": "code",
   "source": [
    "nums = [1, 2, 3, 4]\n",
    "ans = 0\n",
    "for i, _ in enumerate(nums):\n",
    "    ans = ans + nums[i]\n",
    "ans"
   ],
   "id": "e0a0c019edc828e2",
   "outputs": [
    {
     "data": {
      "text/plain": [
       "10"
      ]
     },
     "execution_count": 41,
     "metadata": {},
     "output_type": "execute_result"
    }
   ],
   "execution_count": 41
  },
  {
   "metadata": {},
   "cell_type": "markdown",
   "source": [
    "\n",
    "### zip\n",
    "\n",
    "* 두 개 이상의 리스트를 원소 별로 합쳐서 tuple들의 iterator로 생성\n",
    "  * ```enumerate```과 마찬가지로 generator와 흡사한 성질을 지님\n",
    "* iterator로 만들어지기 때문에 실체를 확인하려면 ```list()```를 이용하여 list로 만들어 확인"
   ],
   "id": "dbd841386a5236ba"
  },
  {
   "metadata": {
    "ExecuteTime": {
     "end_time": "2025-03-17T08:10:50.128338Z",
     "start_time": "2025-03-17T08:10:50.125672Z"
    }
   },
   "cell_type": "code",
   "source": [
    "x = [1, 2, 3]\n",
    "y = [4, 5, 6]\n",
    "list(zip(x, y))"
   ],
   "id": "7acdc084f230cc84",
   "outputs": [
    {
     "data": {
      "text/plain": [
       "[(1, 4), (2, 5), (3, 6)]"
      ]
     },
     "execution_count": 42,
     "metadata": {},
     "output_type": "execute_result"
    }
   ],
   "execution_count": 42
  },
  {
   "metadata": {},
   "cell_type": "markdown",
   "source": [
    "## Dictionary\n",
    "------\n",
    "<p> <font color=#00008B> &#9635  Dictionary </font> -  key : value 형태의 대응 관계를 나타내는 자료형 </p>\n",
    "\n",
    "* Dictionary는 list처럼 여러 원소들을 하나의 collection으로 사용\n",
    "  * List에서는 index를 통하여 원소에 접근하였지만, dictionary에서는 key를 통하여 접근\n",
    "* Dictionary의 기본 구조\n",
    "  * ```{key1: element1, key2: element2, … }```\n",
    "* key는 일반적으로 string이나 숫자를 사용\n",
    "  * 예제 – 학생 이름과 점수\n",
    "   * ```{'Tom': 92, 'Jane': 95, 'Amy': 73, 'Nick': 81}```\n",
    "   * 학생 이름이 key로 사용되었으며, 점수가 값으로 사용됨\n",
    "* dictionary는 key의 순서가 중요하지 않음(unordered)"
   ],
   "id": "e2493fd6ef75b00"
  },
  {
   "metadata": {},
   "cell_type": "markdown",
   "source": "### Key를 통한 접근",
   "id": "f5f2bb037dd98871"
  },
  {
   "metadata": {
    "ExecuteTime": {
     "end_time": "2025-03-17T08:14:01.235515Z",
     "start_time": "2025-03-17T08:14:01.233479Z"
    }
   },
   "cell_type": "code",
   "source": [
    "scores = {\n",
    "    'Tom' : 92,\n",
    "    'Kim' : 100,\n",
    "    'Lee' : 80,\n",
    "    'Park' : 70\n",
    "}\n",
    "\n",
    "scores"
   ],
   "id": "663638cf02b71944",
   "outputs": [
    {
     "data": {
      "text/plain": [
       "{'Tom': 92, 'Kim': 100, 'Lee': 80, 'Park': 70}"
      ]
     },
     "execution_count": 51,
     "metadata": {},
     "output_type": "execute_result"
    }
   ],
   "execution_count": 51
  },
  {
   "metadata": {
    "ExecuteTime": {
     "end_time": "2025-03-17T08:14:02.464115Z",
     "start_time": "2025-03-17T08:14:02.461347Z"
    }
   },
   "cell_type": "code",
   "source": "scores['Kim']",
   "id": "f814ba71aa804bd9",
   "outputs": [
    {
     "data": {
      "text/plain": [
       "100"
      ]
     },
     "execution_count": 52,
     "metadata": {},
     "output_type": "execute_result"
    }
   ],
   "execution_count": 52
  },
  {
   "metadata": {},
   "cell_type": "markdown",
   "source": "* list에서와 같이 key를 통하여 원소의 내용을 바꿀 수 있음 (mutable",
   "id": "3a88207556fc1212"
  },
  {
   "metadata": {
    "ExecuteTime": {
     "end_time": "2025-03-17T08:14:03.995640Z",
     "start_time": "2025-03-17T08:14:03.992837Z"
    }
   },
   "cell_type": "code",
   "source": [
    "scores['Lee'] = 86\n",
    "scores"
   ],
   "id": "ad75187934a71bdc",
   "outputs": [
    {
     "data": {
      "text/plain": [
       "{'Tom': 92, 'Kim': 100, 'Lee': 86, 'Park': 70}"
      ]
     },
     "execution_count": 53,
     "metadata": {},
     "output_type": "execute_result"
    }
   ],
   "execution_count": 53
  },
  {
   "metadata": {},
   "cell_type": "markdown",
   "source": "* 기존에 'Robin'이 없으므로 새로운 원소 추가",
   "id": "91dd7ec7be6d9679"
  },
  {
   "metadata": {
    "ExecuteTime": {
     "end_time": "2025-03-17T08:14:37.374237Z",
     "start_time": "2025-03-17T08:14:37.372027Z"
    }
   },
   "cell_type": "code",
   "source": [
    "scores['Robin'] = 50\n",
    "scores"
   ],
   "id": "1e8cfb36d109540c",
   "outputs": [
    {
     "data": {
      "text/plain": [
       "{'Tom': 92, 'Kim': 100, 'Lee': 86, 'Park': 70, 'Robin': 50}"
      ]
     },
     "execution_count": 54,
     "metadata": {},
     "output_type": "execute_result"
    }
   ],
   "execution_count": 54
  },
  {
   "metadata": {},
   "cell_type": "markdown",
   "source": "* 기존의 원소 제거",
   "id": "78e14687d3d1ca81"
  },
  {
   "metadata": {
    "ExecuteTime": {
     "end_time": "2025-03-17T08:15:00.976621Z",
     "start_time": "2025-03-17T08:15:00.974244Z"
    }
   },
   "cell_type": "code",
   "source": [
    "del scores['Robin']\n",
    "scores"
   ],
   "id": "f0499587edddc8c6",
   "outputs": [
    {
     "data": {
      "text/plain": [
       "{'Tom': 92, 'Kim': 100, 'Lee': 86, 'Park': 70}"
      ]
     },
     "execution_count": 55,
     "metadata": {},
     "output_type": "execute_result"
    }
   ],
   "execution_count": 55
  },
  {
   "metadata": {},
   "cell_type": "markdown",
   "source": "### 유용한 method들",
   "id": "73f470d6b9918e78"
  },
  {
   "metadata": {
    "ExecuteTime": {
     "end_time": "2025-03-17T08:15:58.060161Z",
     "start_time": "2025-03-17T08:15:58.058087Z"
    }
   },
   "cell_type": "code",
   "source": [
    "print(scores.keys())\n",
    "print(scores.values())\n",
    "print(scores.items())"
   ],
   "id": "63d13259502c41db",
   "outputs": [
    {
     "name": "stdout",
     "output_type": "stream",
     "text": [
      "dict_keys(['Tom', 'Kim', 'Lee', 'Park'])\n",
      "dict_values([92, 100, 86, 70])\n",
      "dict_items([('Tom', 92), ('Kim', 100), ('Lee', 86), ('Park', 70)])\n"
     ]
    }
   ],
   "execution_count": 56
  },
  {
   "metadata": {},
   "cell_type": "markdown",
   "source": [
    "### dictionanry를 이용한 `for` 구문\n",
    "dictionary를 직접 ```for```문에 이용하면 key를 바탕으로 ```for```문이 실행된다."
   ],
   "id": "f4f1b885b879f262"
  },
  {
   "metadata": {
    "ExecuteTime": {
     "end_time": "2025-03-17T08:16:31.583428Z",
     "start_time": "2025-03-17T08:16:31.580767Z"
    }
   },
   "cell_type": "code",
   "source": "scores",
   "id": "4f89f329dff339e",
   "outputs": [
    {
     "data": {
      "text/plain": [
       "{'Tom': 92, 'Kim': 100, 'Lee': 86, 'Park': 70}"
      ]
     },
     "execution_count": 57,
     "metadata": {},
     "output_type": "execute_result"
    }
   ],
   "execution_count": 57
  },
  {
   "metadata": {
    "ExecuteTime": {
     "end_time": "2025-03-17T08:17:31.358686Z",
     "start_time": "2025-03-17T08:17:31.356586Z"
    }
   },
   "cell_type": "code",
   "source": [
    "for i in scores: # i에 key가 들어감\n",
    "    print(i, scores[i])"
   ],
   "id": "d70c1fd83b29b863",
   "outputs": [
    {
     "name": "stdout",
     "output_type": "stream",
     "text": [
      "Tom 92\n",
      "Kim 100\n",
      "Lee 86\n",
      "Park 70\n"
     ]
    }
   ],
   "execution_count": 59
  },
  {
   "metadata": {},
   "cell_type": "markdown",
   "source": [
    "key와 value를 모두 필요로 할 때는 ```.items()```를 이용한다. 따라서 위의 코드들은 아래처럼 이용하는 것이 효율적이다.\n",
    "  * 가장 활용도가 높고 효율이 좋음\n",
    "  * list에서 ```enumerate()```과 비슷한 역할"
   ],
   "id": "3a95bbd15b06d307"
  },
  {
   "metadata": {
    "ExecuteTime": {
     "end_time": "2025-03-17T08:18:16.862130Z",
     "start_time": "2025-03-17T08:18:16.860038Z"
    }
   },
   "cell_type": "code",
   "source": [
    "for k, v in scores.items():\n",
    "    print(k, v)"
   ],
   "id": "88568c3c3f8b5ad8",
   "outputs": [
    {
     "name": "stdout",
     "output_type": "stream",
     "text": [
      "Tom 92\n",
      "Kim 100\n",
      "Lee 86\n",
      "Park 70\n"
     ]
    }
   ],
   "execution_count": 60
  },
  {
   "metadata": {
    "ExecuteTime": {
     "end_time": "2025-03-17T08:19:09.457855Z",
     "start_time": "2025-03-17T08:19:09.455273Z"
    }
   },
   "cell_type": "code",
   "source": "sum([1, 2, 3])",
   "id": "ed23a81c4c9b70dd",
   "outputs": [
    {
     "data": {
      "text/plain": [
       "6"
      ]
     },
     "execution_count": 61,
     "metadata": {},
     "output_type": "execute_result"
    }
   ],
   "execution_count": 61
  },
  {
   "metadata": {},
   "cell_type": "markdown",
   "source": "만약 value만 필요하다면 key 부분은 ```_```로 받을 수 있다.",
   "id": "de370e51a321c035"
  },
  {
   "metadata": {
    "ExecuteTime": {
     "end_time": "2025-03-17T08:20:36.303043Z",
     "start_time": "2025-03-17T08:20:36.300354Z"
    }
   },
   "cell_type": "code",
   "source": [
    "ans = 0\n",
    "for _, v in scores.items():\n",
    "    ans = ans + v\n",
    "\n",
    "ans"
   ],
   "id": "e0b3513cd5bdda77",
   "outputs": [
    {
     "data": {
      "text/plain": [
       "348"
      ]
     },
     "execution_count": 63,
     "metadata": {},
     "output_type": "execute_result"
    }
   ],
   "execution_count": 63
  },
  {
   "metadata": {
    "ExecuteTime": {
     "end_time": "2025-03-17T08:25:19.140639Z",
     "start_time": "2025-03-17T08:25:19.138257Z"
    }
   },
   "cell_type": "code",
   "source": [
    "# map은 변환 느낌...\n",
    "list(map(lambda x:x**2, [x for _, x in scores.items()]))"
   ],
   "id": "aaaf0bba6680d48b",
   "outputs": [
    {
     "data": {
      "text/plain": [
       "[8464, 10000, 7396, 4900]"
      ]
     },
     "execution_count": 74,
     "metadata": {},
     "output_type": "execute_result"
    }
   ],
   "execution_count": 74
  }
 ],
 "metadata": {
  "kernelspec": {
   "display_name": "Python 3",
   "language": "python",
   "name": "python3"
  },
  "language_info": {
   "codemirror_mode": {
    "name": "ipython",
    "version": 2
   },
   "file_extension": ".py",
   "mimetype": "text/x-python",
   "name": "python",
   "nbconvert_exporter": "python",
   "pygments_lexer": "ipython2",
   "version": "2.7.6"
  }
 },
 "nbformat": 4,
 "nbformat_minor": 5
}
