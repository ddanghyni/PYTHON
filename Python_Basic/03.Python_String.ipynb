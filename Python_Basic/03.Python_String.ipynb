{
 "cells": [
  {
   "metadata": {},
   "cell_type": "markdown",
   "source": "## 문자열 (string) 더 살펴보기",
   "id": "1ee86515649b85d7"
  },
  {
   "metadata": {},
   "cell_type": "markdown",
   "source": [
    "## 문자열 개요\n",
    "\n",
    "* 문자열은 문자들로 이루어진 단어나 문장 등을 의미한다.\n",
    "\n",
    "* 파이썬에서는 문자열(string)을 쉽게 다룰 수 있다.\n",
    "\n",
    "* 앞에서 설명하였듯이, 문자열을 표현할 때는 큰 따옴표나 작은 따옴표를 이용한다."
   ],
   "id": "94932935897690bd"
  },
  {
   "metadata": {
    "ExecuteTime": {
     "end_time": "2025-03-09T05:58:13.614691Z",
     "start_time": "2025-03-09T05:58:13.612357Z"
    }
   },
   "cell_type": "code",
   "source": [
    "name = 'Kim Sang Hyun'\n",
    "name_2 = \"Kim Sang Hyun\"\n",
    "print(name, name_2)"
   ],
   "id": "3a4057bc6ea88841",
   "outputs": [
    {
     "name": "stdout",
     "output_type": "stream",
     "text": [
      "Kim Sang Hyun Kim Sang Hyun\n"
     ]
    }
   ],
   "execution_count": 1
  },
  {
   "metadata": {},
   "cell_type": "markdown",
   "source": [
    "<div class=\"alert alert-block alert-danger\">\n",
    "<b>에러:</b> 문자열은 다른 숫자들과의 사칙연산에 이용할 수 없다.\n",
    "</div>"
   ],
   "id": "a1440b78c8f9cbd6"
  },
  {
   "metadata": {
    "ExecuteTime": {
     "end_time": "2025-03-09T05:58:56.053449Z",
     "start_time": "2025-03-09T05:58:55.918108Z"
    }
   },
   "cell_type": "code",
   "source": [
    "age = \"45\"\n",
    "\n",
    "print(age + 1)"
   ],
   "id": "cac1a021abd41ccf",
   "outputs": [
    {
     "ename": "TypeError",
     "evalue": "can only concatenate str (not \"int\") to str",
     "output_type": "error",
     "traceback": [
      "\u001B[0;31m---------------------------------------------------------------------------\u001B[0m",
      "\u001B[0;31mTypeError\u001B[0m                                 Traceback (most recent call last)",
      "Cell \u001B[0;32mIn[2], line 3\u001B[0m\n\u001B[1;32m      1\u001B[0m age \u001B[38;5;241m=\u001B[39m \u001B[38;5;124m\"\u001B[39m\u001B[38;5;124m45\u001B[39m\u001B[38;5;124m\"\u001B[39m\n\u001B[0;32m----> 3\u001B[0m \u001B[38;5;28mprint\u001B[39m(age \u001B[38;5;241m+\u001B[39m \u001B[38;5;241m1\u001B[39m)\n",
      "\u001B[0;31mTypeError\u001B[0m: can only concatenate str (not \"int\") to str"
     ]
    }
   ],
   "execution_count": 2
  },
  {
   "metadata": {
    "ExecuteTime": {
     "end_time": "2025-03-09T06:00:03.027467Z",
     "start_time": "2025-03-09T05:59:59.800633Z"
    }
   },
   "cell_type": "code",
   "source": [
    "age = input(\"나이를 입력하세요: \")\n",
    "\n",
    "print(int(age) + 1) # input으로 들어온 문자열 숫자를 int()로 변환하여 계산"
   ],
   "id": "99447cf20575ddfd",
   "outputs": [
    {
     "name": "stdout",
     "output_type": "stream",
     "text": [
      "55\n"
     ]
    }
   ],
   "execution_count": 4
  },
  {
   "metadata": {},
   "cell_type": "markdown",
   "source": "긴 문자열을 입력할 때는 다음과 같이 사용하기도 한다.",
   "id": "be0317e186ce9904"
  },
  {
   "metadata": {
    "ExecuteTime": {
     "end_time": "2025-03-09T06:00:54.571438Z",
     "start_time": "2025-03-09T06:00:54.569139Z"
    }
   },
   "cell_type": "code",
   "source": [
    "long_string ='''\n",
    "It was the best of times, it was the worst of times,\n",
    "it was the age of wisdom, it was the age of foolishness,\n",
    "it was the epoch of belief, it was the epoch of incredulity,\n",
    "it was the season of Light, it was the season of Darkness,\n",
    "it was the spring of hope, it was the winter of despair,\n",
    "we had everything before us, we had nothing before us,\n",
    "we were all going direct to Heaven, we were all going direct the other way -\n",
    "in short, the period was so far like the present period,\n",
    "that some of its noisiest authorities insisted on its being received,\n",
    "for good or for evil, in the superlative degree of comparison only.\n",
    "\n",
    "Tale of Two Cities\n",
    "by Charles Dickens\n",
    "'''"
   ],
   "id": "2189e337912e7d1",
   "outputs": [],
   "execution_count": 8
  },
  {
   "metadata": {},
   "cell_type": "markdown",
   "source": [
    "### 문자열 연결 (concatenation)\n",
    "\n",
    "Python에서 문자열은 ```+``` 기호를 이용하여 쉽게 연결할 수 있다.\n",
    "* 다음은 이름 `\"Sanghyun\"`과 공백 글자 `\" \"`, 성 `\"Kim\"`을 연결하여 출력하는 예제이다."
   ],
   "id": "5c7d0af6cdedc399"
  },
  {
   "metadata": {
    "ExecuteTime": {
     "end_time": "2025-03-09T06:02:22.272027Z",
     "start_time": "2025-03-09T06:02:15.314229Z"
    }
   },
   "cell_type": "code",
   "source": [
    "first_name = input('이름: ')\n",
    "last_name = input('성: ')\n",
    "full_name = first_name + ' ' + last_name\n",
    "print(full_name)"
   ],
   "id": "4ddaa6c30003127b",
   "outputs": [
    {
     "name": "stdout",
     "output_type": "stream",
     "text": [
      "상현 김\n"
     ]
    }
   ],
   "execution_count": 9
  },
  {
   "metadata": {},
   "cell_type": "markdown",
   "source": "숫자형 값을 같이 연결하고 싶을 경우 ```str```이라는 함수를 이용하여 문자열로 변경 후 연결하면 편리하다.",
   "id": "bd7f95e222a8ddf3"
  },
  {
   "metadata": {
    "ExecuteTime": {
     "end_time": "2025-03-09T06:04:24.067050Z",
     "start_time": "2025-03-09T06:04:24.064039Z"
    }
   },
   "cell_type": "code",
   "source": [
    "x = 25\n",
    "print(\"I am \" + str(x) + \" years old\")\n",
    "print(f'I am {x} years old')"
   ],
   "id": "1db63c1d2537b4fc",
   "outputs": [
    {
     "name": "stdout",
     "output_type": "stream",
     "text": [
      "I am 25 years old\n",
      "I am 25 years old\n"
     ]
    }
   ],
   "execution_count": 13
  },
  {
   "metadata": {},
   "cell_type": "markdown",
   "source": [
    "### 인덱스를 통한 특정 문자 접근\n",
    "\n",
    "<p> <font color=#00008B> &#9635 인덱스 (index) </font> - 문자열이나 리스트 등에서 각 원소의 위치를 나타내는 숫자</p>\n",
    "\n",
    "\n",
    "* 인덱스를 통하여 문자열의 특정 문자에 쉽게 접근할 수 있다.\n",
    "* 첫 번째 문자의 인덱스는 0부터 시작함 (1이 아님)\n",
    "* 인덱스는 정수만 가능..!\n",
    "\n"
   ],
   "id": "a78f1d83f5b8c7d9"
  },
  {
   "metadata": {
    "ExecuteTime": {
     "end_time": "2025-03-09T06:06:14.390171Z",
     "start_time": "2025-03-09T06:06:14.387377Z"
    }
   },
   "cell_type": "code",
   "source": [
    "my_words = \"Hello, World!\"\n",
    "\n",
    "second_letter = my_words[1] # 파이썬은 index가 0부터 시작\n",
    "print(second_letter)"
   ],
   "id": "2013d64a79d11503",
   "outputs": [
    {
     "name": "stdout",
     "output_type": "stream",
     "text": [
      "e\n"
     ]
    }
   ],
   "execution_count": 14
  },
  {
   "metadata": {
    "ExecuteTime": {
     "end_time": "2025-03-09T06:07:46.795597Z",
     "start_time": "2025-03-09T06:07:46.786331Z"
    }
   },
   "cell_type": "code",
   "source": [
    "i = 4 /2\n",
    "print(type(i), i)\n",
    "test = my_words[i]\n",
    "print(test)"
   ],
   "id": "6192f24f7dcce80e",
   "outputs": [
    {
     "name": "stdout",
     "output_type": "stream",
     "text": [
      "<class 'float'> 2.0\n"
     ]
    },
    {
     "ename": "TypeError",
     "evalue": "string indices must be integers, not 'float'",
     "output_type": "error",
     "traceback": [
      "\u001B[0;31m---------------------------------------------------------------------------\u001B[0m",
      "\u001B[0;31mTypeError\u001B[0m                                 Traceback (most recent call last)",
      "Cell \u001B[0;32mIn[16], line 3\u001B[0m\n\u001B[1;32m      1\u001B[0m i \u001B[38;5;241m=\u001B[39m \u001B[38;5;241m4\u001B[39m \u001B[38;5;241m/\u001B[39m\u001B[38;5;241m2\u001B[39m\n\u001B[1;32m      2\u001B[0m \u001B[38;5;28mprint\u001B[39m(\u001B[38;5;28mtype\u001B[39m(i), i)\n\u001B[0;32m----> 3\u001B[0m test \u001B[38;5;241m=\u001B[39m my_words[i]\n\u001B[1;32m      4\u001B[0m \u001B[38;5;28mprint\u001B[39m(test)\n",
      "\u001B[0;31mTypeError\u001B[0m: string indices must be integers, not 'float'"
     ]
    }
   ],
   "execution_count": 16
  },
  {
   "metadata": {
    "ExecuteTime": {
     "end_time": "2025-03-09T06:08:21.976720Z",
     "start_time": "2025-03-09T06:08:21.975018Z"
    }
   },
   "cell_type": "code",
   "source": [
    "test = my_words[int(i)]\n",
    "print(test)"
   ],
   "id": "f3160dde4fc63208",
   "outputs": [
    {
     "name": "stdout",
     "output_type": "stream",
     "text": [
      "l\n"
     ]
    }
   ],
   "execution_count": 17
  },
  {
   "metadata": {},
   "cell_type": "markdown",
   "source": [
    "#### Method와 Function (함수)\n",
    "\n",
    "* 함수 (function) - 특정 기능을 수행하기 위해 작성된 코드 블록\n",
    "* 메서드 (method)  - 특정 클래스에 종속되어 그 클래스로 생성된 객체에서만 호출할 수 있는 함수\n",
    "\n",
    "\n",
    "\n",
    "* Python에 내장된 많은 method와 function들은 다양한 기능을 제공한다.\n",
    "  * method와 function은 일부 다른 특징이 있지만, 근본적인 작동 원리는 비슷하다.\n",
    "* ```lower()```와 ```upper()``` 등의 method는 dot(`.`)을 이용하며 특정 객체(object), 여기서는 특정 문자열(string)에 종속되어 있다고 한다.\n",
    "* ```str()```, ```len()``` 등은 dot(`.`)을 이용하지 않으며, 이는 특정 객체에 종속되어 있지 않다.\n",
    "   *  괄호 안에 인자로서 여러 형태의 데이터형이 올 수 있음\n",
    "* 함수에 대해서는 나중에 자세히 다루도록 한다."
   ],
   "id": "c2c1221cb23a847b"
  },
  {
   "metadata": {},
   "cell_type": "markdown",
   "source": [
    "#### `len()`\n",
    "* built - in 함수로 문자열이나 리스트의 길이를 구할 때 사용"
   ],
   "id": "f7557758dcbdf92"
  },
  {
   "metadata": {
    "ExecuteTime": {
     "end_time": "2025-03-09T06:10:48.058552Z",
     "start_time": "2025-03-09T06:10:48.054701Z"
    }
   },
   "cell_type": "code",
   "source": [
    "my_name = 'Kim Sang Hyun'\n",
    "len(my_name) # 공백도 포함하여 counting"
   ],
   "id": "9148c99c55f589c",
   "outputs": [
    {
     "data": {
      "text/plain": [
       "13"
      ]
     },
     "execution_count": 19,
     "metadata": {},
     "output_type": "execute_result"
    }
   ],
   "execution_count": 19
  },
  {
   "metadata": {},
   "cell_type": "markdown",
   "source": [
    "#### ```lower()```, ```upper()```\n",
    "* 소문자 혹은 대문자로 바꾸어주는 method\n",
    "* 문자열 뒤에 마침표(.)와 함께 사용\n",
    "    * ```lower()```, ```upper()``` 등은 생성한 문자열에 종속된 method로써 python에서 제공함\n",
    "* 변수에 저장된 문자열과 따옴표로 표현된 문자열 모두에 method를 적용할 수 있다."
   ],
   "id": "e172d90acee0e738"
  },
  {
   "metadata": {
    "ExecuteTime": {
     "end_time": "2025-03-09T06:11:31.014385Z",
     "start_time": "2025-03-09T06:11:31.011997Z"
    }
   },
   "cell_type": "code",
   "source": [
    "print(my_name.lower())\n",
    "print(my_name.upper())"
   ],
   "id": "a71a7c9f8be08f41",
   "outputs": [
    {
     "name": "stdout",
     "output_type": "stream",
     "text": [
      "kim sang hyun\n",
      "KIM SANG HYUN\n"
     ]
    }
   ],
   "execution_count": 21
  },
  {
   "metadata": {},
   "cell_type": "markdown",
   "source": [
    "#### `str()`\n",
    "* 다른 데이터형을 문자열로 바꾸기"
   ],
   "id": "5660d3a7ea8a4e4e"
  },
  {
   "metadata": {
    "ExecuteTime": {
     "end_time": "2025-03-09T06:12:47.686532Z",
     "start_time": "2025-03-09T06:12:47.684283Z"
    }
   },
   "cell_type": "code",
   "source": [
    "last_year = \"2024\"\n",
    "tmp = int(last_year)\n",
    "\n",
    "this_year = tmp + 1\n",
    "\n",
    "print(this_year)"
   ],
   "id": "51806f32ff5ddb63",
   "outputs": [
    {
     "name": "stdout",
     "output_type": "stream",
     "text": [
      "2025\n"
     ]
    }
   ],
   "execution_count": 22
  },
  {
   "metadata": {},
   "cell_type": "markdown",
   "source": "#### ```endswith()```와 ```startswith()```",
   "id": "887c60cb25ab7f09"
  },
  {
   "metadata": {
    "ExecuteTime": {
     "end_time": "2025-03-09T06:14:23.504496Z",
     "start_time": "2025-03-09T06:14:23.502644Z"
    }
   },
   "cell_type": "code",
   "source": [
    "my_name = 'Kim Sang Hyun'\n",
    "\n",
    "print(my_name.endswith('n'))\n",
    "print(my_name.endswith('un'))"
   ],
   "id": "c5a233a58a0dfb56",
   "outputs": [
    {
     "name": "stdout",
     "output_type": "stream",
     "text": [
      "True\n",
      "True\n"
     ]
    }
   ],
   "execution_count": 24
  },
  {
   "metadata": {
    "ExecuteTime": {
     "end_time": "2025-03-09T06:14:33.230048Z",
     "start_time": "2025-03-09T06:14:33.228140Z"
    }
   },
   "cell_type": "code",
   "source": "print(my_name.startswith('n'))",
   "id": "4efcb532510e5a52",
   "outputs": [
    {
     "name": "stdout",
     "output_type": "stream",
     "text": [
      "False\n"
     ]
    }
   ],
   "execution_count": 25
  },
  {
   "metadata": {
    "ExecuteTime": {
     "end_time": "2025-03-09T06:14:52.083073Z",
     "start_time": "2025-03-09T06:14:52.080574Z"
    }
   },
   "cell_type": "code",
   "source": "print(my_name.startswith('Kim S'))",
   "id": "faf302a12185a53c",
   "outputs": [
    {
     "name": "stdout",
     "output_type": "stream",
     "text": [
      "True\n"
     ]
    }
   ],
   "execution_count": 26
  },
  {
   "metadata": {},
   "cell_type": "markdown",
   "source": [
    "#### ```strip()```\n",
    "* 문자열 앞, 뒤의 빈 공간(white space)을 제거"
   ],
   "id": "54daef6ec704ae37"
  },
  {
   "metadata": {
    "ExecuteTime": {
     "end_time": "2025-03-09T06:15:55.484155Z",
     "start_time": "2025-03-09T06:15:55.481244Z"
    }
   },
   "cell_type": "code",
   "source": "\" Introduction to Python    \".strip()",
   "id": "2965db54ef9a3d46",
   "outputs": [
    {
     "data": {
      "text/plain": [
       "'Introduction to Python'"
      ]
     },
     "execution_count": 27,
     "metadata": {},
     "output_type": "execute_result"
    }
   ],
   "execution_count": 27
  },
  {
   "metadata": {
    "ExecuteTime": {
     "end_time": "2025-03-09T06:18:27.160962Z",
     "start_time": "2025-03-09T06:18:27.157467Z"
    }
   },
   "cell_type": "code",
   "source": "\" Introduction to Python    \".rstrip()",
   "id": "6743b184d0aad996",
   "outputs": [
    {
     "data": {
      "text/plain": [
       "' Introduction to Python'"
      ]
     },
     "execution_count": 30,
     "metadata": {},
     "output_type": "execute_result"
    }
   ],
   "execution_count": 30
  },
  {
   "metadata": {
    "ExecuteTime": {
     "end_time": "2025-03-09T06:18:37.377471Z",
     "start_time": "2025-03-09T06:18:37.374162Z"
    }
   },
   "cell_type": "code",
   "source": "\" Introduction to Python    \".lstrip()",
   "id": "a2f5c3c32a6fd1e0",
   "outputs": [
    {
     "data": {
      "text/plain": [
       "'Introduction to Python    '"
      ]
     },
     "execution_count": 31,
     "metadata": {},
     "output_type": "execute_result"
    }
   ],
   "execution_count": 31
  },
  {
   "metadata": {},
   "cell_type": "markdown",
   "source": [
    "#### ```split()```\n",
    "* 문자열을 공백 혹은 주어진 규칙을 바탕으로 분리하여 리스트로 반환한다.\n",
    "  * 리스트에 대해서는 추후 공부할 예정"
   ],
   "id": "7d3d5c1d5fa6f306"
  },
  {
   "metadata": {
    "ExecuteTime": {
     "end_time": "2025-03-09T06:16:28.079781Z",
     "start_time": "2025-03-09T06:16:28.077111Z"
    }
   },
   "cell_type": "code",
   "source": "\"How are you? I am fine, and you?\".split()",
   "id": "3986aab9e102bd59",
   "outputs": [
    {
     "data": {
      "text/plain": [
       "['How', 'are', 'you?', 'I', 'am', 'fine,', 'and', 'you?']"
      ]
     },
     "execution_count": 28,
     "metadata": {},
     "output_type": "execute_result"
    }
   ],
   "execution_count": 28
  },
  {
   "metadata": {
    "ExecuteTime": {
     "end_time": "2025-03-09T06:16:39.505368Z",
     "start_time": "2025-03-09T06:16:39.502327Z"
    }
   },
   "cell_type": "code",
   "source": "\"Split_this_string_please\".split(\"_\")",
   "id": "a25f8b6c7a59faa9",
   "outputs": [
    {
     "data": {
      "text/plain": [
       "['Split', 'this', 'string', 'please']"
      ]
     },
     "execution_count": 29,
     "metadata": {},
     "output_type": "execute_result"
    }
   ],
   "execution_count": 29
  }
 ],
 "metadata": {
  "kernelspec": {
   "display_name": "Python 3",
   "language": "python",
   "name": "python3"
  },
  "language_info": {
   "codemirror_mode": {
    "name": "ipython",
    "version": 2
   },
   "file_extension": ".py",
   "mimetype": "text/x-python",
   "name": "python",
   "nbconvert_exporter": "python",
   "pygments_lexer": "ipython2",
   "version": "2.7.6"
  }
 },
 "nbformat": 4,
 "nbformat_minor": 5
}
