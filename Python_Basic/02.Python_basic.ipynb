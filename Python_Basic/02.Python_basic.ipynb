{
 "cells": [
  {
   "metadata": {},
   "cell_type": "markdown",
   "source": "## 2. Python Basic\n",
   "id": "191f97f1e799f93b"
  },
  {
   "metadata": {},
   "cell_type": "markdown",
   "source": [
    "## Python 프로그램 개요\n",
    "--------------------------\n",
    "* Python 프로그램의 소스 코드는 일련의 정의와 명령문으로 구성된다.\n",
    "\n",
    "\n",
    "* Python 프로그램이나 소스 코드는 스크립트(script)라고도 불림.\n",
    "\n",
    "\n",
    "* 프로그램을 작성하는 사람이 command 혹은 statement라고 불리는 문장들을 작성하여, 이 문장들을 통해 Python 인터프리터가 프로그램 작성자의 목적에 맞는 일을 하도록 지시한다.\n",
    "\n",
    "\n",
    "* 다음은 print 문장을 이용한 간단한 프로그램이다."
   ],
   "id": "e90278ac4c7d30e2"
  },
  {
   "metadata": {
    "ExecuteTime": {
     "end_time": "2025-03-08T09:01:56.406354Z",
     "start_time": "2025-03-08T09:01:56.403389Z"
    }
   },
   "cell_type": "code",
   "source": "print(\"Hello, World!\")",
   "id": "80b53674d634d774",
   "outputs": [
    {
     "name": "stdout",
     "output_type": "stream",
     "text": [
      "Hello, World!\n"
     ]
    }
   ],
   "execution_count": 1
  },
  {
   "metadata": {},
   "cell_type": "markdown",
   "source": [
    "### 데이터 타입\n",
    "\n",
    "프로그래밍에 사용되는 데이터들은 데이터 타입 (데이터 형)을 구분한다.\n",
    "\n",
    "Python에는 크게 세 가지 데이터 타입이 존재\n",
    "* 숫자형\n",
    "  * ```5```, ```10.3```, ```-2```, ```-1.02```\n",
    "  * 사칙연산 등을 수행할 수 있음\n",
    "  * 숫자형 데이터는 다시 정수형과 실수형으로 구분할 수 있다.\n",
    "\n",
    "\n",
    "* 문자열\n",
    "  * ```\"apple\"```, ```\"Hello, world!\"```, ```'Yeungnam University'```, ```\"15\"```\n",
    "  * 큰 따옴표나 작은 따옴표로 표현\n",
    "\n",
    "* 부울(Bool)\n",
    "  * ```True```, ```False```"
   ],
   "id": "f59df709da784e5e"
  },
  {
   "metadata": {},
   "cell_type": "markdown",
   "source": [
    "### 수치와 연산\n",
    "\n",
    "* 숫자형 데이터에는 사칙연산이나 나머지, 제곱 등의 연산을 적용할 수 있다.\n",
    "* IPython 콘솔은 마치 계산기처럼 이용 가능하다.\n"
   ],
   "id": "863a9f0bd6a69c32"
  },
  {
   "metadata": {
    "ExecuteTime": {
     "end_time": "2025-03-08T09:31:15.563272Z",
     "start_time": "2025-03-08T09:31:15.560890Z"
    }
   },
   "cell_type": "code",
   "source": "3 - 4",
   "id": "a63df19e8004a3d7",
   "outputs": [
    {
     "data": {
      "text/plain": [
       "-1"
      ]
     },
     "execution_count": 4,
     "metadata": {},
     "output_type": "execute_result"
    }
   ],
   "execution_count": 4
  },
  {
   "metadata": {
    "ExecuteTime": {
     "end_time": "2025-03-08T09:31:23.269980Z",
     "start_time": "2025-03-08T09:31:23.266956Z"
    }
   },
   "cell_type": "code",
   "source": "3 * 4",
   "id": "49c4fff5508669e2",
   "outputs": [
    {
     "data": {
      "text/plain": [
       "12"
      ]
     },
     "execution_count": 5,
     "metadata": {},
     "output_type": "execute_result"
    }
   ],
   "execution_count": 5
  },
  {
   "metadata": {},
   "cell_type": "markdown",
   "source": "* 정수끼리 나누기 연산의 결과는 실수로 나타난다.",
   "id": "73a1ed2319f7dd10"
  },
  {
   "metadata": {
    "ExecuteTime": {
     "end_time": "2025-03-08T09:32:32.616170Z",
     "start_time": "2025-03-08T09:32:32.612513Z"
    }
   },
   "cell_type": "code",
   "source": [
    "a = 3 / 4\n",
    "print(a)\n",
    "type(a)"
   ],
   "id": "29f0841820aad89",
   "outputs": [
    {
     "name": "stdout",
     "output_type": "stream",
     "text": [
      "0.75\n"
     ]
    },
    {
     "data": {
      "text/plain": [
       "float"
      ]
     },
     "execution_count": 6,
     "metadata": {},
     "output_type": "execute_result"
    }
   ],
   "execution_count": 6
  },
  {
   "metadata": {},
   "cell_type": "markdown",
   "source": "* 만약 나누기의 정수 부분만나타내려면 다음을 이용한다.",
   "id": "e887b2eeb4186899"
  },
  {
   "metadata": {
    "ExecuteTime": {
     "end_time": "2025-03-08T09:33:20.458274Z",
     "start_time": "2025-03-08T09:33:20.454965Z"
    }
   },
   "cell_type": "code",
   "source": [
    "a = 7 // 4\n",
    "print(a)\n",
    "type(a)"
   ],
   "id": "cc4369cfbaa7a692",
   "outputs": [
    {
     "name": "stdout",
     "output_type": "stream",
     "text": [
      "1\n"
     ]
    },
    {
     "data": {
      "text/plain": [
       "int"
      ]
     },
     "execution_count": 7,
     "metadata": {},
     "output_type": "execute_result"
    }
   ],
   "execution_count": 7
  },
  {
   "metadata": {
    "ExecuteTime": {
     "end_time": "2025-03-08T09:34:03.343289Z",
     "start_time": "2025-03-08T09:34:03.339674Z"
    }
   },
   "cell_type": "code",
   "source": [
    "# 추가적으로 다음과 같이 사용하기도 한다.ㅎ\n",
    "a =  7 / 4\n",
    "print(int(a))"
   ],
   "id": "4c55fae42435139a",
   "outputs": [
    {
     "name": "stdout",
     "output_type": "stream",
     "text": [
      "1\n"
     ]
    }
   ],
   "execution_count": 8
  },
  {
   "metadata": {},
   "cell_type": "markdown",
   "source": "제곱이나 거듭제곱은 ```**```를 이용한다. 다른 프로그램 언어에서는 제곱을 표현할 때 ```^```를 사용하는 경우가 많으므로, 혼동하지 않도록 주의한다.",
   "id": "35d5fd3599b9e418"
  },
  {
   "metadata": {
    "ExecuteTime": {
     "end_time": "2025-03-08T09:36:14.437647Z",
     "start_time": "2025-03-08T09:36:14.434253Z"
    }
   },
   "cell_type": "code",
   "source": "5 ** 2",
   "id": "ea5dbc2b6078cfaa",
   "outputs": [
    {
     "data": {
      "text/plain": [
       "25"
      ]
     },
     "execution_count": 11,
     "metadata": {},
     "output_type": "execute_result"
    }
   ],
   "execution_count": 11
  },
  {
   "metadata": {
    "ExecuteTime": {
     "end_time": "2025-03-08T09:36:23.739170Z",
     "start_time": "2025-03-08T09:36:23.735985Z"
    }
   },
   "cell_type": "code",
   "source": "2 ** 3",
   "id": "25f38d037e39e52b",
   "outputs": [
    {
     "data": {
      "text/plain": [
       "8"
      ]
     },
     "execution_count": 12,
     "metadata": {},
     "output_type": "execute_result"
    }
   ],
   "execution_count": 12
  },
  {
   "metadata": {
    "ExecuteTime": {
     "end_time": "2025-03-08T09:36:35.951939Z",
     "start_time": "2025-03-08T09:36:35.949040Z"
    }
   },
   "cell_type": "code",
   "source": "2 ** (1 / 2)",
   "id": "53917bcf55a2eb18",
   "outputs": [
    {
     "data": {
      "text/plain": [
       "1.4142135623730951"
      ]
     },
     "execution_count": 13,
     "metadata": {},
     "output_type": "execute_result"
    }
   ],
   "execution_count": 13
  },
  {
   "metadata": {},
   "cell_type": "markdown",
   "source": [
    "## 변수\n",
    "\n",
    "------------------------\n",
    "\n",
    "* 변수는 값을 나타내는 기호 또는 이름을 말한다.\n",
    "  * 변수는 컴퓨터 프로그래밍의 가장 기본적인 구성요소로 반드시 잘 이해해 두어야 한다.\n",
    "  * 프로그램을 처음 시작하는 경우, 변수를 왜 사용해야 하는지 이해하기 힘든 경우도 있으니, 주의깊게 아래 내용을 살펴보자.\n",
    "\n",
    "\n",
    "\n",
    "* 계산을 하다보면 특정 변수를 생성하여 값을 지정하고 변수를 통하여 수식을 계산하는 것이 더 편리할 경우가 많다.\n",
    "  * 수학 문제를 풀 때, x나 y와 같은 변수 기호를 이용하여, 문제를 더 간결하게 표현하는 것과 비슷한 원리이다."
   ],
   "id": "efab46fc896bfaff"
  },
  {
   "metadata": {},
   "cell_type": "markdown",
   "source": [
    "### 변수 생성의 기본 방법\n",
    "\n",
    "* 수학에서 $x=10$과 같이 변수와 그 값을 지정하듯이 Python에서도 등호(```=```)를 이용하여 변수의 값을 지정한다.\n",
    "\n",
    "\n",
    "* 변수의 이름, 변수명은 기본적인 규칙을 지키는 선에서 마음대로 지어주면 된다.\n",
    "   * 이 규칙에 대해서는 잠시 후에 살펴본다.\n",
    "\n",
    "\n",
    "* 대입 연산에서는 반드시 왼쪽에 변수명이 등장한다."
   ],
   "id": "f3e5a8f5e028283f"
  },
  {
   "metadata": {},
   "cell_type": "markdown",
   "source": [
    "정수형 변수 지정\n",
    " * 다음을 '`my_integer`는 10과 같다'고 해석을 해서는 안 된다. '`my_integer`에 10을 대입한다'와 같이 해석한다.\n",
    "\n",
    " * 정의된 변수를 코드 셀에 다시 타이핑하여 값의 내용을 출력하도록 하였다."
   ],
   "id": "278361faca263185"
  },
  {
   "metadata": {
    "ExecuteTime": {
     "end_time": "2025-03-08T09:38:24.133262Z",
     "start_time": "2025-03-08T09:38:24.130561Z"
    }
   },
   "cell_type": "code",
   "source": [
    "my_integer = 10\n",
    "my_integer"
   ],
   "id": "868bb65e1d0d8840",
   "outputs": [
    {
     "data": {
      "text/plain": [
       "10"
      ]
     },
     "execution_count": 14,
     "metadata": {},
     "output_type": "execute_result"
    }
   ],
   "execution_count": 14
  },
  {
   "metadata": {},
   "cell_type": "markdown",
   "source": "실수형 변수 지정",
   "id": "9b7ef1f92980f7bd"
  },
  {
   "metadata": {
    "ExecuteTime": {
     "end_time": "2025-03-08T10:03:16.965190Z",
     "start_time": "2025-03-08T10:03:16.962643Z"
    }
   },
   "cell_type": "code",
   "source": [
    "my_number = 5.12\n",
    "my_number"
   ],
   "id": "f532cdaf365a1800",
   "outputs": [
    {
     "data": {
      "text/plain": [
       "5.12"
      ]
     },
     "execution_count": 15,
     "metadata": {},
     "output_type": "execute_result"
    }
   ],
   "execution_count": 15
  },
  {
   "metadata": {},
   "cell_type": "markdown",
   "source": "문자열 변수 지정",
   "id": "63652914c6cadb92"
  },
  {
   "metadata": {
    "ExecuteTime": {
     "end_time": "2025-03-08T10:03:43.842843Z",
     "start_time": "2025-03-08T10:03:43.840359Z"
    }
   },
   "cell_type": "code",
   "source": [
    "my_string = \"Sanghyun\"\n",
    "my_string"
   ],
   "id": "ea601367f8f72668",
   "outputs": [
    {
     "data": {
      "text/plain": [
       "'Sanghyun'"
      ]
     },
     "execution_count": 16,
     "metadata": {},
     "output_type": "execute_result"
    }
   ],
   "execution_count": 16
  },
  {
   "metadata": {},
   "cell_type": "markdown",
   "source": "부울형 변수 지정",
   "id": "cec177f33381aad8"
  },
  {
   "metadata": {
    "ExecuteTime": {
     "end_time": "2025-03-08T10:04:12.222238Z",
     "start_time": "2025-03-08T10:04:12.219679Z"
    }
   },
   "cell_type": "code",
   "source": [
    "my_bool = True\n",
    "my_bool"
   ],
   "id": "c71a20ab8af2d2c5",
   "outputs": [
    {
     "data": {
      "text/plain": [
       "True"
      ]
     },
     "execution_count": 17,
     "metadata": {},
     "output_type": "execute_result"
    }
   ],
   "execution_count": 17
  },
  {
   "metadata": {
    "ExecuteTime": {
     "end_time": "2025-03-08T10:04:20.606010Z",
     "start_time": "2025-03-08T10:04:20.603201Z"
    }
   },
   "cell_type": "code",
   "source": [
    "my_bool_2 = False\n",
    "my_bool_2"
   ],
   "id": "d30dbba51d7f111b",
   "outputs": [
    {
     "data": {
      "text/plain": [
       "False"
      ]
     },
     "execution_count": 18,
     "metadata": {},
     "output_type": "execute_result"
    }
   ],
   "execution_count": 18
  },
  {
   "metadata": {},
   "cell_type": "markdown",
   "source": [
    "<div class=\"alert alert-block alert-danger\">\n",
    "<b>에러:</b>\n",
    "    존재하지 않는 변수를 사용하려고 하면 NameError가 발생한다.\n",
    "</div>"
   ],
   "id": "cc5eff3e1ddbcbd"
  },
  {
   "metadata": {},
   "cell_type": "markdown",
   "source": "위의 예제들처럼 대입 연산의 오른쪽에는 상수값이 오거나, 다음의 예제들처럼 기존의 변수 혹은 기존의 변수를 이용한 식 등이 올 수 있다.",
   "id": "d66206c109b38b31"
  },
  {
   "metadata": {
    "ExecuteTime": {
     "end_time": "2025-03-08T10:06:05.289103Z",
     "start_time": "2025-03-08T10:06:05.286245Z"
    }
   },
   "cell_type": "code",
   "source": [
    "my_second_integer = my_integer + 5\n",
    "my_second_integer"
   ],
   "id": "fd7e650385ddb801",
   "outputs": [
    {
     "data": {
      "text/plain": [
       "15"
      ]
     },
     "execution_count": 19,
     "metadata": {},
     "output_type": "execute_result"
    }
   ],
   "execution_count": 19
  },
  {
   "metadata": {
    "ExecuteTime": {
     "end_time": "2025-03-08T10:06:31.811803Z",
     "start_time": "2025-03-08T10:06:31.808776Z"
    }
   },
   "cell_type": "code",
   "source": [
    "width = 10\n",
    "height = 20\n",
    "rectangle_area = width * height\n",
    "rectangle_area"
   ],
   "id": "e01fb175bce2de8f",
   "outputs": [
    {
     "data": {
      "text/plain": [
       "200"
      ]
     },
     "execution_count": 20,
     "metadata": {},
     "output_type": "execute_result"
    }
   ],
   "execution_count": 20
  },
  {
   "metadata": {},
   "cell_type": "markdown",
   "source": [
    "### 변수와 객체\n",
    "\n",
    "* Python에 존재하는 거의 모든 것들은 객체 (object)라는 형태로 존재한다.\n",
    "  * 숫자, 문자열, 리스트, dictionary 등이 있으며, 이 과목을 통해 자세히 살펴볼 것이다.\n",
    "* 변수는 이러한 객체들에 이름을 붙여, 추후에 참조하여 더 복잡한 연산에 사용할 수 있도록 하는 역할을 한다.\n",
    "  * 객체는 데이터의 실질적인 존재, 변수 혹은 변수명은 그 존재를 지칭하는 이름이라고 생각하자."
   ],
   "id": "eee6f40a043ac067"
  },
  {
   "metadata": {},
   "cell_type": "markdown",
   "source": [
    "### 변수명 규칙\n",
    "\n",
    "* Python 변수명은 문자나 _로 시작\n",
    "  * ```_the_string```\n",
    "  * ```my_variable```\n",
    "* 첫 글자가 아닌 나머지 부분은 문자, 숫자, `_`가 올 수 있음\n",
    "  * ```password1```\n",
    "  * ```n00b```\n",
    "  * ```un_der_score```\n",
    "* 대소문자 구별 : ```X```와 ```x```는 서로 다른 변수"
   ],
   "id": "611c9151051dc1ed"
  },
  {
   "metadata": {},
   "cell_type": "markdown",
   "source": [
    "변수명을 짓는 방법\n",
    "\n",
    " * 알아보기 쉽게 짓는다.\n",
    "   * ```interestrate``` -> ```interest_rate```\n",
    "     * 소문자와 밑줄을 이용한 이런 표기법을 snake case라고 한다.\n",
    "   * 반면 (나중에 공부할) 클래스의 이름은 PerfectTool과 같이 각 단어의 첫 글자를 대문자로 하는 것이 보통이다.\n",
    "     * Pascal case 혹은 camel case라고 한다.\n",
    " * 무슨 변수를 나타내는지 이해할 수 있도록 짓는다.\n",
    "   * ```abcdefg``` : 아무 의미 없어 보이며 이렇게 짓지 않음\n",
    "   * ```average_num_students``` : 변수명이 다소 긴 것처럼 느껴지지만, 학생 수의 평균을 의미하는 변수임을 추측할 수 있음"
   ],
   "id": "5c3d42989c390b7e"
  },
  {
   "metadata": {},
   "cell_type": "markdown",
   "source": [
    "### 변수 지정에 있어 Python의 특징\n",
    "\n",
    "* 많은 다른 프로그래밍 언어의 경우 변수형을 따로 선언해 주어야 함. 예를 들어, C언어 등의 경우\n",
    "  * `int n = 10`\n",
    "    * 정수(integer)형 변수\n",
    "  * `double x = 2.12`\n",
    "    * double precision을 가지는 실수형 변수\n",
    "  * `char c = 'a'`\n",
    "    * 문자(character)형 변수\n",
    "\n",
    "\n",
    "\n",
    "* Python은 int, double, char 등과 같은 변수형에 대한 키워드(keyword)를 따로 선언해 주지 않는다.\n",
    "  * 프로그래머는 변수형을 일일이 입력할 필요가 없으니 편리한 점이 있음\n"
   ],
   "id": "6b6b3681b6ec3a22"
  },
  {
   "metadata": {},
   "cell_type": "markdown",
   "source": [
    "### Dynamic types\n",
    "\n",
    "* Python에서는 데이터 type을 따로 명시하는 것이 아니기 때문에, 프로그램 중간에 데이터 type이 바뀔 수 있다.\n",
    "  * `x = 10`\n",
    "    …\n",
    "\n",
    "    `x = 'John'`\n",
    "\n",
    "    …\n",
    "\n",
    "    `x = True`\n",
    "\n",
    "\n",
    "* 그러나, 하나의 변수가 한 프로그램 내에서 데이터 타입이 변하는 것은 바람직하지 않으며, 동일한 데이터 타입을 유지하도록 한다.\n",
    "\n",
    "* 반면 변수의 값은 계속 변할 수 있다.\n"
   ],
   "id": "dafae1a2b03d7a5c"
  },
  {
   "metadata": {},
   "cell_type": "markdown",
   "source": [
    "### Multiple assignment\n",
    "\n",
    "Python에서는 다음과 같이 여러 개의 변수에 여러 값들을 한 번에 지정할 수 있다.\n",
    "* 첫 라인에서는 ```x```에 2를, ```y```에 3을 대입하고,\n",
    "* 다음 라인에서 ```x```에 ```y```의 값인 3을, ```y```에 ```x```의 값인 2를 다시 재지정한다."
   ],
   "id": "463ecc31bd6718e"
  },
  {
   "metadata": {
    "ExecuteTime": {
     "end_time": "2025-03-08T10:11:44.909945Z",
     "start_time": "2025-03-08T10:11:44.907377Z"
    }
   },
   "cell_type": "code",
   "source": [
    "x = 2 ; y = 3\n",
    "\n",
    "print(\"변경 전\", x, y)\n",
    "\n",
    "tmp = x\n",
    "x = y\n",
    "y = tmp\n",
    "\n",
    "print(\"변경 후\", x, y)"
   ],
   "id": "497f45040ded29ad",
   "outputs": [
    {
     "name": "stdout",
     "output_type": "stream",
     "text": [
      "변경 전 2 3\n",
      "변경 후 3 2\n"
     ]
    }
   ],
   "execution_count": 22
  },
  {
   "metadata": {},
   "cell_type": "markdown",
   "source": [
    "### 문자열 입력 받기\n",
    "\n",
    "```input()``` 함수를 사용하여 콘솔로부터 문자열을 입력 받을 수 있음\n",
    "\n",
    "* python 2.x에서는 ```raw_input()``` 함수를 이용한다.\n",
    "\n",
    "아래 예제는 간단해 보이지만, 처음 겪는 사람은 다소 헷갈리 수 있다.\n",
    "\n",
    "아래의 명령을 실행하면, 키보드 입력을 기다리는 화면이 나타난다.\n",
    "* 자유롭게 타이핑을 한 후 엔터를 치고 결과를 확인해 보자."
   ],
   "id": "e9f934c5bf00d4a1"
  },
  {
   "metadata": {
    "ExecuteTime": {
     "end_time": "2025-03-08T10:13:47.963971Z",
     "start_time": "2025-03-08T10:13:46.483329Z"
    }
   },
   "cell_type": "code",
   "source": [
    "x = input(\"안뇽\")\n",
    "print(x)"
   ],
   "id": "59549189d3be185c",
   "outputs": [
    {
     "name": "stdout",
     "output_type": "stream",
     "text": [
      "1\n"
     ]
    }
   ],
   "execution_count": 25
  },
  {
   "metadata": {},
   "cell_type": "markdown",
   "source": [
    "## `True`와 `False`\n",
    "----------------------------------------\n",
    "\n",
    "### 부울 (Boolean)형 혹은 논리형 자료\n",
    "\n",
    "* ```True``` 혹은 ```False```로 구성된 자료형이다.\n",
    "* Boolean type의 변수는 프로그래밍에서 중요한 역할을 담당한다.\n",
    "  * 특히 조건에 따라 처리를 달리하는 프로그램을 작성할 때 유용하다."
   ],
   "id": "3df74ac734cb4b31"
  },
  {
   "metadata": {},
   "cell_type": "markdown",
   "source": "",
   "id": "3c91698cf1378b27"
  },
  {
   "metadata": {},
   "cell_type": "markdown",
   "source": [
    "### Boolean 연산 : `and`, `or`, `not`\n",
    "\n",
    "\n",
    "| `A` | `B` |  `A and B` | `A or B` | `not A` |\n",
    "|---|---|---------|--|---|\n",
    "True | True | True | True | False |\n",
    "True | False| False | True | False |\n",
    "False | True |  False | True | True |\n",
    "False | False |  False | False | True |"
   ],
   "id": "2b4e437b85d1a331"
  },
  {
   "metadata": {},
   "cell_type": "code",
   "outputs": [],
   "execution_count": null,
   "source": "",
   "id": "f0c7a678d2803d72"
  }
 ],
 "metadata": {
  "kernelspec": {
   "display_name": "Python 3",
   "language": "python",
   "name": "python3"
  },
  "language_info": {
   "codemirror_mode": {
    "name": "ipython",
    "version": 2
   },
   "file_extension": ".py",
   "mimetype": "text/x-python",
   "name": "python",
   "nbconvert_exporter": "python",
   "pygments_lexer": "ipython2",
   "version": "2.7.6"
  }
 },
 "nbformat": 4,
 "nbformat_minor": 5
}
